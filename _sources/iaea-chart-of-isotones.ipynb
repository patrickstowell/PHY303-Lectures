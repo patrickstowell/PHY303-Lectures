{
 "cells": [
  {
   "cell_type": "markdown",
   "id": "2987fc1e",
   "metadata": {},
   "source": [
    "## IAEA Chart of Isotones\n",
    "\n",
    "The IAEA chart of nuclides datasets offer detailed nuclear properties like half-lives, decay modes, and energy levels, invaluable for research and applications in nuclear physics, medicine, and energy due to their comprehensive coverage and well validated datasets."
   ]
  },
  {
   "cell_type": "code",
   "execution_count": 1,
   "id": "198076ce",
   "metadata": {
    "tags": [
     "remove-inputt",
     "remove-input",
     "hide_cell"
    ]
   },
   "outputs": [
    {
     "data": {
      "application/vnd.plotly.v1+json": {
       "config": {
        "plotlyServerURL": "https://plot.ly"
       },
       "data": [
        {
         "hovertemplate": "Odd Proton=False<br>Neutron Number [N]=1<br>Proton Number [Z]=%{x}<br>Deficit [MeV]=%{y}<extra></extra>",
         "legendgroup": "False",
         "marker": {
          "color": "#636efa",
          "symbol": "circle"
         },
         "mode": "markers",
         "name": "False",
         "orientation": "v",
         "showlegend": true,
         "type": "scatter",
         "x": [
          0,
          2
         ],
         "xaxis": "x",
         "y": [
          0,
          -7.71804132
         ],
         "yaxis": "y"
        },
        {
         "hovertemplate": "Odd Proton=True<br>Neutron Number [N]=1<br>Proton Number [Z]=%{x}<br>Deficit [MeV]=%{y}<extra></extra>",
         "legendgroup": "True",
         "marker": {
          "color": "#EF553B",
          "symbol": "circle"
         },
         "mode": "markers",
         "name": "True",
         "orientation": "v",
         "showlegend": true,
         "type": "scatter",
         "x": [
          1,
          3
         ],
         "xaxis": "x",
         "y": [
          -2.2245662000000004,
          -4.615041199999999
         ],
         "yaxis": "y"
        }
       ],
       "frames": [
        {
         "data": [
          {
           "hovertemplate": "Odd Proton=False<br>Neutron Number [N]=1<br>Proton Number [Z]=%{x}<br>Deficit [MeV]=%{y}<extra></extra>",
           "legendgroup": "False",
           "marker": {
            "color": "#636efa",
            "symbol": "circle"
           },
           "mode": "markers",
           "name": "False",
           "orientation": "v",
           "showlegend": true,
           "type": "scatter",
           "x": [
            0,
            2
           ],
           "xaxis": "x",
           "y": [
            0,
            -7.71804132
           ],
           "yaxis": "y"
          },
          {
           "hovertemplate": "Odd Proton=True<br>Neutron Number [N]=1<br>Proton Number [Z]=%{x}<br>Deficit [MeV]=%{y}<extra></extra>",
           "legendgroup": "True",
           "marker": {
            "color": "#EF553B",
            "symbol": "circle"
           },
           "mode": "markers",
           "name": "True",
           "orientation": "v",
           "showlegend": true,
           "type": "scatter",
           "x": [
            1,
            3
           ],
           "xaxis": "x",
           "y": [
            -2.2245662000000004,
            -4.615041199999999
           ],
           "yaxis": "y"
          }
         ],
         "name": "1"
        },
        {
         "data": [
          {
           "hovertemplate": "Odd Proton=False<br>Neutron Number [N]=4<br>Proton Number [Z]=%{x}<br>Deficit [MeV]=%{y}<extra></extra>",
           "legendgroup": "False",
           "marker": {
            "color": "#636efa",
            "symbol": "circle"
           },
           "mode": "markers",
           "name": "False",
           "orientation": "v",
           "showlegend": true,
           "type": "scatter",
           "x": [
            0,
            2,
            4,
            6,
            8
           ],
           "xaxis": "x",
           "y": [
            null,
            -29.271119400000003,
            -56.4994848,
            -60.320426,
            -58.58370599999999
           ],
           "yaxis": "y"
          },
          {
           "hovertemplate": "Odd Proton=True<br>Neutron Number [N]=4<br>Proton Number [Z]=%{x}<br>Deficit [MeV]=%{y}<extra></extra>",
           "legendgroup": "True",
           "marker": {
            "color": "#EF553B",
            "symbol": "circle"
           },
           "mode": "markers",
           "name": "True",
           "orientation": "v",
           "showlegend": true,
           "type": "scatter",
           "x": [
            1,
            3,
            5,
            7,
            9
           ],
           "xaxis": "x",
           "y": [
            -6.681796000000001,
            -39.245080699999995,
            -56.3136417,
            -58.9424253,
            -55.861
           ],
           "yaxis": "y"
          }
         ],
         "name": "4"
        },
        {
         "data": [
          {
           "hovertemplate": "Odd Proton=False<br>Neutron Number [N]=6<br>Proton Number [Z]=%{x}<br>Deficit [MeV]=%{y}<extra></extra>",
           "legendgroup": "False",
           "marker": {
            "color": "#636efa",
            "symbol": "circle"
           },
           "mode": "markers",
           "name": "False",
           "orientation": "v",
           "showlegend": true,
           "type": "scatter",
           "x": [
            0,
            2,
            4,
            6,
            8,
            10,
            12
           ],
           "xaxis": "x",
           "y": [
            null,
            -31.396168000000003,
            -64.97630600000001,
            -92.1617352,
            -98.73189620000001,
            -97.3308432,
            null
           ],
           "yaxis": "y"
          },
          {
           "hovertemplate": "Odd Proton=True<br>Neutron Number [N]=6<br>Proton Number [Z]=%{x}<br>Deficit [MeV]=%{y}<extra></extra>",
           "legendgroup": "True",
           "marker": {
            "color": "#EF553B",
            "symbol": "circle"
           },
           "mode": "markers",
           "name": "True",
           "orientation": "v",
           "showlegend": true,
           "type": "scatter",
           "x": [
            1,
            3,
            5,
            7,
            9,
            11
           ],
           "xaxis": "x",
           "y": [
            -6.58,
            -45.3399165,
            -76.2050553,
            -94.10522420000001,
            -97.4618955,
            -93.8870101
           ],
           "yaxis": "y"
          }
         ],
         "name": "6"
        },
        {
         "data": [
          {
           "hovertemplate": "Odd Proton=True<br>Neutron Number [N]=0<br>Proton Number [Z]=%{x}<br>Deficit [MeV]=%{y}<extra></extra>",
           "legendgroup": "True",
           "marker": {
            "color": "#EF553B",
            "symbol": "circle"
           },
           "mode": "markers",
           "name": "True",
           "orientation": "v",
           "showlegend": true,
           "type": "scatter",
           "x": [
            1
           ],
           "xaxis": "x",
           "y": [
            0
           ],
           "yaxis": "y"
          }
         ],
         "name": "0"
        },
        {
         "data": [
          {
           "hovertemplate": "Odd Proton=False<br>Neutron Number [N]=2<br>Proton Number [Z]=%{x}<br>Deficit [MeV]=%{y}<extra></extra>",
           "legendgroup": "False",
           "marker": {
            "color": "#636efa",
            "symbol": "circle"
           },
           "mode": "markers",
           "name": "False",
           "orientation": "v",
           "showlegend": true,
           "type": "scatter",
           "x": [
            2,
            4,
            6
           ],
           "xaxis": "x",
           "y": [
            -28.2956624,
            -26.923486800000003,
            -24.812193599999997
           ],
           "yaxis": "y"
          },
          {
           "hovertemplate": "Odd Proton=True<br>Neutron Number [N]=2<br>Proton Number [Z]=%{x}<br>Deficit [MeV]=%{y}<extra></extra>",
           "legendgroup": "True",
           "marker": {
            "color": "#EF553B",
            "symbol": "circle"
           },
           "mode": "markers",
           "name": "True",
           "orientation": "v",
           "showlegend": true,
           "type": "scatter",
           "x": [
            1,
            3,
            5
           ],
           "xaxis": "x",
           "y": [
            -8.481796200000002,
            -26.330662499999995,
            -24.9109385
           ],
           "yaxis": "y"
          }
         ],
         "name": "2"
        },
        {
         "data": [
          {
           "hovertemplate": "Odd Proton=False<br>Neutron Number [N]=3<br>Proton Number [Z]=%{x}<br>Deficit [MeV]=%{y}<extra></extra>",
           "legendgroup": "False",
           "marker": {
            "color": "#636efa",
            "symbol": "circle"
           },
           "mode": "markers",
           "name": "False",
           "orientation": "v",
           "showlegend": true,
           "type": "scatter",
           "x": [
            2,
            4,
            6,
            8
           ],
           "xaxis": "x",
           "y": [
            -27.5606625,
            -37.6008409,
            -39.0368097,
            -34.7868092
           ],
           "yaxis": "y"
          },
          {
           "hovertemplate": "Odd Proton=True<br>Neutron Number [N]=3<br>Proton Number [Z]=%{x}<br>Deficit [MeV]=%{y}<extra></extra>",
           "legendgroup": "True",
           "marker": {
            "color": "#EF553B",
            "symbol": "circle"
           },
           "mode": "markers",
           "name": "True",
           "orientation": "v",
           "showlegend": true,
           "type": "scatter",
           "x": [
            1,
            3,
            5,
            7
           ],
           "xaxis": "x",
           "y": [
            -6.8817964,
            -31.9939872,
            -37.7372408,
            -36.436724
           ],
           "yaxis": "y"
          }
         ],
         "name": "3"
        },
        {
         "data": [
          {
           "hovertemplate": "Odd Proton=False<br>Neutron Number [N]=5<br>Proton Number [Z]=%{x}<br>Deficit [MeV]=%{y}<extra></extra>",
           "legendgroup": "False",
           "marker": {
            "color": "#636efa",
            "symbol": "circle"
           },
           "mode": "markers",
           "name": "False",
           "orientation": "v",
           "showlegend": true,
           "type": "scatter",
           "x": [
            2,
            4,
            6,
            8,
            10
           ],
           "xaxis": "x",
           "y": [
            -28.8614046,
            -58.1640237,
            -73.4410193,
            -75.5529268,
            -73.0309275
           ],
           "yaxis": "y"
          },
          {
           "hovertemplate": "Odd Proton=True<br>Neutron Number [N]=5<br>Proton Number [Z]=%{x}<br>Deficit [MeV]=%{y}<extra></extra>",
           "legendgroup": "True",
           "marker": {
            "color": "#EF553B",
            "symbol": "circle"
           },
           "mode": "markers",
           "name": "True",
           "orientation": "v",
           "showlegend": true,
           "type": "scatter",
           "x": [
            1,
            3,
            5,
            7,
            9
           ],
           "xaxis": "x",
           "y": [
            -5.769837,
            -41.2776992,
            -64.750835,
            -74.04131999999998,
            -73.9929274
           ],
           "yaxis": "y"
          }
         ],
         "name": "5"
        },
        {
         "data": [
          {
           "hovertemplate": "Odd Proton=False<br>Neutron Number [N]=7<br>Proton Number [Z]=%{x}<br>Deficit [MeV]=%{y}<extra></extra>",
           "legendgroup": "False",
           "marker": {
            "color": "#636efa",
            "symbol": "circle"
           },
           "mode": "markers",
           "name": "False",
           "orientation": "v",
           "showlegend": true,
           "type": "scatter",
           "x": [
            2,
            4,
            6,
            8,
            10,
            12
           ],
           "xaxis": "x",
           "y": [
            -30.141342,
            -65.4779422,
            -97.10804350000001,
            -111.9553725,
            -112.8884847,
            -112.1284848
           ],
           "yaxis": "y"
          },
          {
           "hovertemplate": "Odd Proton=True<br>Neutron Number [N]=7<br>Proton Number [Z]=%{x}<br>Deficit [MeV]=%{y}<extra></extra>",
           "legendgroup": "True",
           "marker": {
            "color": "#EF553B",
            "symbol": "circle"
           },
           "mode": "markers",
           "name": "True",
           "orientation": "v",
           "showlegend": true,
           "type": "scatter",
           "x": [
            3,
            5,
            7,
            9,
            11
           ],
           "xaxis": "x",
           "y": [
            -45.313512,
            -79.5746844,
            -104.6586072,
            -111.424784,
            -111.6399168
           ],
           "yaxis": "y"
          }
         ],
         "name": "7"
        },
        {
         "data": [
          {
           "hovertemplate": "Odd Proton=False<br>Neutron Number [N]=8<br>Proton Number [Z]=%{x}<br>Deficit [MeV]=%{y}<extra></extra>",
           "legendgroup": "False",
           "marker": {
            "color": "#636efa",
            "symbol": "circle"
           },
           "mode": "markers",
           "name": "False",
           "orientation": "v",
           "showlegend": true,
           "type": "scatter",
           "x": [
            2,
            4,
            6,
            8,
            10,
            12,
            14
           ],
           "xaxis": "x",
           "y": [
            -29.951340000000002,
            -68.64866760000001,
            -105.2844772,
            -127.6193152,
            -132.1426386,
            -134.560504,
            -132.968
           ],
           "yaxis": "y"
          },
          {
           "hovertemplate": "Odd Proton=True<br>Neutron Number [N]=8<br>Proton Number [Z]=%{x}<br>Deficit [MeV]=%{y}<extra></extra>",
           "legendgroup": "True",
           "marker": {
            "color": "#EF553B",
            "symbol": "circle"
           },
           "mode": "markers",
           "name": "True",
           "orientation": "v",
           "showlegend": true,
           "type": "scatter",
           "x": [
            3,
            5,
            7,
            9,
            11,
            13
           ],
           "xaxis": "x",
           "y": [
            -45.709198699999995,
            -84.4534522,
            -115.4919045,
            -128.2195828,
            -131.8198416,
            -132.237
           ],
           "yaxis": "y"
          }
         ],
         "name": "8"
        },
        {
         "data": [
          {
           "hovertemplate": "Odd Proton=False<br>Neutron Number [N]=9<br>Proton Number [Z]=%{x}<br>Deficit [MeV]=%{y}<extra></extra>",
           "legendgroup": "False",
           "marker": {
            "color": "#636efa",
            "symbol": "circle"
           },
           "mode": "markers",
           "name": "False",
           "orientation": "v",
           "showlegend": true,
           "type": "scatter",
           "x": [
            4,
            6,
            8,
            10,
            12,
            14
           ],
           "xaxis": "x",
           "y": [
            -68.13866670000002,
            -106.502544,
            -131.7623947,
            -143.7795189,
            -149.2056657,
            -150.74200000000002
           ],
           "yaxis": "y"
          },
          {
           "hovertemplate": "Odd Proton=True<br>Neutron Number [N]=9<br>Proton Number [Z]=%{x}<br>Deficit [MeV]=%{y}<extra></extra>",
           "legendgroup": "True",
           "marker": {
            "color": "#EF553B",
            "symbol": "circle"
           },
           "mode": "markers",
           "name": "True",
           "orientation": "v",
           "showlegend": true,
           "type": "scatter",
           "x": [
            3,
            5,
            7,
            9,
            11,
            13
           ],
           "xaxis": "x",
           "y": [
            -45.4991988,
            -85.4230314,
            -117.9807536,
            -137.3694894,
            -145.970056,
            -149.204
           ],
           "yaxis": "y"
          }
         ],
         "name": "9"
        },
        {
         "data": [
          {
           "hovertemplate": "Odd Proton=False<br>Neutron Number [N]=10<br>Proton Number [Z]=%{x}<br>Deficit [MeV]=%{y}<extra></extra>",
           "legendgroup": "False",
           "marker": {
            "color": "#636efa",
            "symbol": "circle"
           },
           "mode": "markers",
           "name": "False",
           "orientation": "v",
           "showlegend": true,
           "type": "scatter",
           "x": [
            4,
            6,
            8,
            10,
            12,
            14,
            16
           ],
           "xaxis": "x",
           "y": [
            -69.91456219999999,
            -110.7528736,
            -139.8077658,
            -160.644824,
            -168.58081900000002,
            -172.0135896,
            -169.65
           ],
           "yaxis": "y"
          },
          {
           "hovertemplate": "Odd Proton=True<br>Neutron Number [N]=10<br>Proton Number [Z]=%{x}<br>Deficit [MeV]=%{y}<extra></extra>",
           "legendgroup": "True",
           "marker": {
            "color": "#EF553B",
            "symbol": "circle"
           },
           "mode": "markers",
           "name": "True",
           "orientation": "v",
           "showlegend": true,
           "type": "scatter",
           "x": [
            5,
            7,
            9,
            11,
            13,
            15
           ],
           "xaxis": "x",
           "y": [
            -88.200657,
            -123.8658998,
            -147.8013648,
            -163.0767201,
            -168.7217325,
            -169.85
           ],
           "yaxis": "y"
          }
         ],
         "name": "10"
        },
        {
         "data": [
          {
           "hovertemplate": "Odd Proton=False<br>Neutron Number [N]=11<br>Proton Number [Z]=%{x}<br>Deficit [MeV]=%{y}<extra></extra>",
           "legendgroup": "False",
           "marker": {
            "color": "#636efa",
            "symbol": "circle"
           },
           "mode": "markers",
           "name": "False",
           "orientation": "v",
           "showlegend": true,
           "type": "scatter",
           "x": [
            4,
            6,
            8,
            10,
            12,
            14,
            16
           ],
           "xaxis": "x",
           "y": [
            -68.114562,
            -111.48644540000001,
            -143.7634088,
            -167.4059856,
            -181.72582670000003,
            -187.0027725,
            -187.92
           ],
           "yaxis": "y"
          },
          {
           "hovertemplate": "Odd Proton=True<br>Neutron Number [N]=11<br>Proton Number [Z]=%{x}<br>Deficit [MeV]=%{y}<extra></extra>",
           "legendgroup": "True",
           "marker": {
            "color": "#EF553B",
            "symbol": "circle"
           },
           "mode": "markers",
           "name": "True",
           "orientation": "v",
           "showlegend": true,
           "type": "scatter",
           "x": [
            5,
            7,
            9,
            11,
            13,
            15
           ],
           "xaxis": "x",
           "y": [
            -88.117656,
            -126.69412860000001,
            -154.402702,
            -174.14457280000002,
            -183.5899344,
            -187.14800000000002
           ],
           "yaxis": "y"
          }
         ],
         "name": "11"
        },
        {
         "data": [
          {
           "hovertemplate": "Odd Proton=False<br>Neutron Number [N]=12<br>Proton Number [Z]=%{x}<br>Deficit [MeV]=%{y}<extra></extra>",
           "legendgroup": "False",
           "marker": {
            "color": "#636efa",
            "symbol": "circle"
           },
           "mode": "markers",
           "name": "False",
           "orientation": "v",
           "showlegend": true,
           "type": "scatter",
           "x": [
            4,
            6,
            8,
            10,
            12,
            14,
            16,
            18
           ],
           "xaxis": "x",
           "y": [
            -68.5645616,
            -115.67037780000001,
            -151.37141400000002,
            -177.7702432,
            -198.25704720000004,
            -206.0424158,
            -209.4061508,
            -205.98
           ],
           "yaxis": "y"
          },
          {
           "hovertemplate": "Odd Proton=True<br>Neutron Number [N]=12<br>Proton Number [Z]=%{x}<br>Deficit [MeV]=%{y}<extra></extra>",
           "legendgroup": "True",
           "marker": {
            "color": "#EF553B",
            "symbol": "circle"
           },
           "mode": "markers",
           "name": "True",
           "orientation": "v",
           "showlegend": true,
           "type": "scatter",
           "x": [
            5,
            7,
            9,
            11,
            13,
            15,
            17,
            19
           ],
           "xaxis": "x",
           "y": [
            -89.5843509,
            -132.0223588,
            -162.5041614,
            -186.5643528,
            -200.528415,
            -206.8494138,
            -206.74099999999999,
            -201.097
           ],
           "yaxis": "y"
          }
         ],
         "name": "12"
        },
        {
         "data": [
          {
           "hovertemplate": "Odd Proton=False<br>Neutron Number [N]=13<br>Proton Number [Z]=%{x}<br>Deficit [MeV]=%{y}<extra></extra>",
           "legendgroup": "False",
           "marker": {
            "color": "#636efa",
            "symbol": "circle"
           },
           "mode": "markers",
           "name": "False",
           "orientation": "v",
           "showlegend": true,
           "type": "scatter",
           "x": [
            6,
            8,
            10,
            12,
            14,
            16,
            18
           ],
           "xaxis": "x",
           "y": [
            -116.247206,
            -155.1768687,
            -182.9708903,
            -205.58757,
            -219.357234,
            -224.64509539999997,
            -224.81199999999998
           ],
           "yaxis": "y"
          },
          {
           "hovertemplate": "Odd Proton=True<br>Neutron Number [N]=13<br>Proton Number [Z]=%{x}<br>Deficit [MeV]=%{y}<extra></extra>",
           "legendgroup": "True",
           "marker": {
            "color": "#EF553B",
            "symbol": "circle"
           },
           "mode": "markers",
           "name": "True",
           "orientation": "v",
           "showlegend": true,
           "type": "scatter",
           "x": [
            5,
            7,
            9,
            11,
            13,
            15,
            17
           ],
           "xaxis": "x",
           "y": [
            -89.5793508,
            -134.183434,
            -167.7344988,
            -193.5237168,
            -211.89389780000002,
            -221.4095576,
            -224.16509399999998
           ],
           "yaxis": "y"
          }
         ],
         "name": "13"
        },
        {
         "data": [
          {
           "hovertemplate": "Odd Proton=False<br>Neutron Number [N]=14<br>Proton Number [Z]=%{x}<br>Deficit [MeV]=%{y}<extra></extra>",
           "legendgroup": "False",
           "marker": {
            "color": "#636efa",
            "symbol": "circle"
           },
           "mode": "markers",
           "name": "False",
           "orientation": "v",
           "showlegend": true,
           "type": "scatter",
           "x": [
            6,
            8,
            10,
            12,
            14,
            16,
            18,
            20
           ],
           "xaxis": "x",
           "y": [
            -119.228712,
            -162.0271884,
            -191.8398048,
            -216.68064859999998,
            -236.53684600000003,
            -243.68124300000002,
            -246.40028479999998,
            -243.882
           ],
           "yaxis": "y"
          },
          {
           "hovertemplate": "Odd Proton=True<br>Neutron Number [N]=14<br>Proton Number [Z]=%{x}<br>Deficit [MeV]=%{y}<extra></extra>",
           "legendgroup": "True",
           "marker": {
            "color": "#EF553B",
            "symbol": "circle"
           },
           "mode": "markers",
           "name": "True",
           "orientation": "v",
           "showlegend": true,
           "type": "scatter",
           "x": [
            5,
            7,
            9,
            11,
            13,
            15,
            17,
            19
           ],
           "xaxis": "x",
           "y": [
            -89.6730574,
            -138.7893339,
            -175.3139281,
            -202.53494750000002,
            -224.95193909999998,
            -239.28586720000004,
            -243.9455131,
            -243.936
           ],
           "yaxis": "y"
          }
         ],
         "name": "14"
        },
        {
         "data": [
          {
           "hovertemplate": "Odd Proton=False<br>Neutron Number [N]=15<br>Proton Number [Z]=%{x}<br>Deficit [MeV]=%{y}<extra></extra>",
           "legendgroup": "False",
           "marker": {
            "color": "#636efa",
            "symbol": "circle"
           },
           "mode": "markers",
           "name": "False",
           "orientation": "v",
           "showlegend": true,
           "type": "scatter",
           "x": [
            8,
            10,
            12,
            14,
            16,
            18,
            20
           ],
           "xaxis": "x",
           "y": [
            -164.7601688,
            -195.99498499999999,
            -223.1240175,
            -245.0104469,
            -256.7358403,
            -261.6555447,
            -261.66
           ],
           "yaxis": "y"
          },
          {
           "hovertemplate": "Odd Proton=True<br>Neutron Number [N]=15<br>Proton Number [Z]=%{x}<br>Deficit [MeV]=%{y}<extra></extra>",
           "legendgroup": "True",
           "marker": {
            "color": "#EF553B",
            "symbol": "circle"
           },
           "mode": "markers",
           "name": "True",
           "orientation": "v",
           "showlegend": true,
           "type": "scatter",
           "x": [
            5,
            7,
            9,
            11,
            13,
            15,
            17,
            19
           ],
           "xaxis": "x",
           "y": [
            -88.113058,
            -140.3277634,
            -179.1259944,
            -208.1092338,
            -232.6771132,
            -250.60519200000002,
            -258.3169856,
            -260.78
           ],
           "yaxis": "y"
          }
         ],
         "name": "15"
        },
        {
         "data": [
          {
           "hovertemplate": "Odd Proton=False<br>Neutron Number [N]=16<br>Proton Number [Z]=%{x}<br>Deficit [MeV]=%{y}<extra></extra>",
           "legendgroup": "False",
           "marker": {
            "color": "#636efa",
            "symbol": "circle"
           },
           "mode": "markers",
           "name": "False",
           "orientation": "v",
           "showlegend": true,
           "type": "scatter",
           "x": [
            6,
            8,
            10,
            12,
            14,
            16,
            18,
            20,
            22
           ],
           "xaxis": "x",
           "y": [
            -119.2637116,
            -168.952452,
            -201.549686,
            -231.6286868,
            -255.61964700000001,
            -271.7801632,
            -278.7208616,
            -281.3716764,
            -278.122
           ],
           "yaxis": "y"
          },
          {
           "hovertemplate": "Odd Proton=True<br>Neutron Number [N]=16<br>Proton Number [Z]=%{x}<br>Deficit [MeV]=%{y}<extra></extra>",
           "legendgroup": "True",
           "marker": {
            "color": "#EF553B",
            "symbol": "circle"
           },
           "mode": "markers",
           "name": "True",
           "orientation": "v",
           "showlegend": true,
           "type": "scatter",
           "x": [
            5,
            7,
            9,
            11,
            13,
            15,
            17,
            19
           ],
           "xaxis": "x",
           "y": [
            -87.20305649999999,
            -143.4434583,
            -183.40766250000001,
            -214.8375609,
            -242.10547630000002,
            -262.9161987,
            -274.05693809999997,
            -278.8044315
           ],
           "yaxis": "y"
          }
         ],
         "name": "16"
        },
        {
         "data": [
          {
           "hovertemplate": "Odd Proton=False<br>Neutron Number [N]=17<br>Proton Number [Z]=%{x}<br>Deficit [MeV]=%{y}<extra></extra>",
           "legendgroup": "False",
           "marker": {
            "color": "#636efa",
            "symbol": "circle"
           },
           "mode": "markers",
           "name": "False",
           "orientation": "v",
           "showlegend": true,
           "type": "scatter",
           "x": [
            8,
            10,
            12,
            14,
            16,
            18,
            20,
            22
           ],
           "xaxis": "x",
           "y": [
            -168.19514500000002,
            -203.0512077,
            -235.29241929999998,
            -262.20703960000003,
            -280.4218032,
            -291.4611735,
            -296.1278979,
            -295.074
           ],
           "yaxis": "y"
          },
          {
           "hovertemplate": "Odd Proton=True<br>Neutron Number [N]=17<br>Proton Number [Z]=%{x}<br>Deficit [MeV]=%{y}<extra></extra>",
           "legendgroup": "True",
           "marker": {
            "color": "#EF553B",
            "symbol": "circle"
           },
           "mode": "markers",
           "name": "True",
           "orientation": "v",
           "showlegend": true,
           "type": "scatter",
           "x": [
            7,
            9,
            11,
            13,
            15,
            17,
            19,
            21
           ],
           "xaxis": "x",
           "y": [
            -141.28799999999998,
            -184.1384922,
            -218.3794032,
            -247.833147,
            -270.85184960000004,
            -285.56500040000003,
            -293.1200388,
            -294.538
           ],
           "yaxis": "y"
          }
         ],
         "name": "17"
        },
        {
         "data": [
          {
           "hovertemplate": "Odd Proton=False<br>Neutron Number [N]=18<br>Proton Number [Z]=%{x}<br>Deficit [MeV]=%{y}<extra></extra>",
           "legendgroup": "False",
           "marker": {
            "color": "#636efa",
            "symbol": "circle"
           },
           "mode": "markers",
           "name": "False",
           "orientation": "v",
           "showlegend": true,
           "type": "scatter",
           "x": [
            8,
            10,
            12,
            14,
            16,
            18,
            20,
            22,
            24
           ],
           "xaxis": "x",
           "y": [
            -168.93445400000002,
            -206.8736964,
            -241.63275000000002,
            -271.40700799999996,
            -291.83895240000004,
            -306.7167456,
            -313.12164920000004,
            -314.634528,
            -313.15200000000004
           ],
           "yaxis": "y"
          },
          {
           "hovertemplate": "Odd Proton=True<br>Neutron Number [N]=18<br>Proton Number [Z]=%{x}<br>Deficit [MeV]=%{y}<extra></extra>",
           "legendgroup": "True",
           "marker": {
            "color": "#EF553B",
            "symbol": "circle"
           },
           "mode": "markers",
           "name": "True",
           "orientation": "v",
           "showlegend": true,
           "type": "scatter",
           "x": [
            9,
            11,
            13,
            15,
            17,
            19,
            21
           ],
           "xaxis": "x",
           "y": [
            -185.75098739999999,
            -222.78241380000003,
            -254.99105799999998,
            -280.9556409,
            -298.209765,
            -308.574376,
            -312.52484250000003
           ],
           "yaxis": "y"
          }
         ],
         "name": "18"
        },
        {
         "data": [
          {
           "hovertemplate": "Odd Proton=False<br>Neutron Number [N]=19<br>Proton Number [Z]=%{x}<br>Deficit [MeV]=%{y}<extra></extra>",
           "legendgroup": "False",
           "marker": {
            "color": "#636efa",
            "symbol": "circle"
           },
           "mode": "markers",
           "name": "False",
           "orientation": "v",
           "showlegend": true,
           "type": "scatter",
           "x": [
            10,
            12,
            14,
            16,
            18,
            20,
            22,
            24,
            26
           ],
           "xaxis": "x",
           "y": [
            -207.84495169999997,
            -243.9448466,
            -275.9149668,
            -298.82478849999995,
            -315.5042022,
            -326.41717289999997,
            -329.40994489999997,
            -330.24,
            -328.45500000000004
           ],
           "yaxis": "y"
          },
          {
           "hovertemplate": "Odd Proton=True<br>Neutron Number [N]=19<br>Proton Number [Z]=%{x}<br>Deficit [MeV]=%{y}<extra></extra>",
           "legendgroup": "True",
           "marker": {
            "color": "#EF553B",
            "symbol": "circle"
           },
           "mode": "markers",
           "name": "True",
           "orientation": "v",
           "showlegend": true,
           "type": "scatter",
           "x": [
            9,
            11,
            13,
            15,
            17,
            19,
            21,
            23,
            25
           ],
           "xaxis": "x",
           "y": [
            -185.55198760000002,
            -225.059055,
            -259.2110368,
            -287.2383104,
            -306.7895591999999,
            -320.64625340000003,
            -326.94678799999997,
            -328.608,
            -328.108
           ],
           "yaxis": "y"
          }
         ],
         "name": "19"
        },
        {
         "data": [
          {
           "hovertemplate": "Odd Proton=False<br>Neutron Number [N]=20<br>Proton Number [Z]=%{x}<br>Deficit [MeV]=%{y}<extra></extra>",
           "legendgroup": "False",
           "marker": {
            "color": "#636efa",
            "symbol": "circle"
           },
           "mode": "markers",
           "name": "False",
           "orientation": "v",
           "showlegend": true,
           "type": "scatter",
           "x": [
            10,
            12,
            14,
            16,
            18,
            20,
            22,
            24,
            26,
            28
           ],
           "xaxis": "x",
           "y": [
            -211.03595099999998,
            -249.7229152,
            -283.4636406,
            -308.71403999999995,
            -327.34266660000003,
            -342.052184,
            -346.88808,
            -349.783566,
            -349.738,
            -347.328
           ],
           "yaxis": "y"
          },
          {
           "hovertemplate": "Odd Proton=True<br>Neutron Number [N]=20<br>Proton Number [Z]=%{x}<br>Deficit [MeV]=%{y}<extra></extra>",
           "legendgroup": "True",
           "marker": {
            "color": "#EF553B",
            "symbol": "circle"
           },
           "mode": "markers",
           "name": "True",
           "orientation": "v",
           "showlegend": true,
           "type": "scatter",
           "x": [
            9,
            11,
            13,
            15,
            17,
            19,
            21,
            23,
            25
           ],
           "xaxis": "x",
           "y": [
            -186.8769106,
            -229.35901180000002,
            -264.6803676,
            -295.618736,
            -317.1004192,
            -333.7240062,
            -343.1371139,
            -346.9890547,
            -348.615
           ],
           "yaxis": "y"
          }
         ],
         "name": "20"
        },
        {
         "data": [
          {
           "hovertemplate": "Odd Proton=False<br>Neutron Number [N]=21<br>Proton Number [Z]=%{x}<br>Deficit [MeV]=%{y}<extra></extra>",
           "legendgroup": "False",
           "marker": {
            "color": "#636efa",
            "symbol": "circle"
           },
           "mode": "markers",
           "name": "False",
           "orientation": "v",
           "showlegend": true,
           "type": "scatter",
           "x": [
            10,
            12,
            14,
            16,
            18,
            20,
            22,
            24,
            26,
            28
           ],
           "xaxis": "x",
           "y": [
            -211.20579619999998,
            -252.00246059999998,
            -285.934754,
            -313.0176431,
            -333.9413532,
            -350.4150075,
            -359.1706322,
            -363.947787,
            -366.13,
            -365.05
           ],
           "yaxis": "y"
          },
          {
           "hovertemplate": "Odd Proton=True<br>Neutron Number [N]=21<br>Proton Number [Z]=%{x}<br>Deficit [MeV]=%{y}<extra></extra>",
           "legendgroup": "True",
           "marker": {
            "color": "#EF553B",
            "symbol": "circle"
           },
           "mode": "markers",
           "name": "True",
           "orientation": "v",
           "showlegend": true,
           "type": "scatter",
           "x": [
            9,
            11,
            13,
            15,
            17,
            19,
            21,
            23,
            25,
            27
           ],
           "xaxis": "x",
           "y": [
            -186.15,
            -231.03620800000002,
            -267.25192039999996,
            -299.08329119999996,
            -323.2083046,
            -341.52362800000003,
            -354.68707259999996,
            -360.9520948,
            -364.139703,
            -364.56
           ],
           "yaxis": "y"
          }
         ],
         "name": "21"
        },
        {
         "data": [
          {
           "hovertemplate": "Odd Proton=False<br>Neutron Number [N]=22<br>Proton Number [Z]=%{x}<br>Deficit [MeV]=%{y}<extra></extra>",
           "legendgroup": "False",
           "marker": {
            "color": "#636efa",
            "symbol": "circle"
           },
           "mode": "markers",
           "name": "False",
           "orientation": "v",
           "showlegend": true,
           "type": "scatter",
           "x": [
            10,
            12,
            14,
            16,
            18,
            20,
            22,
            24,
            26,
            28
           ],
           "xaxis": "x",
           "y": [
            -213.472,
            -256.71332459999996,
            -292.0507164,
            -321.05375019999997,
            -343.8103760000001,
            -361.8957132,
            -375.47494600000005,
            -381.9758718,
            -385.09081920000006,
            -385.1
           ],
           "yaxis": "y"
          },
          {
           "hovertemplate": "Odd Proton=True<br>Neutron Number [N]=22<br>Proton Number [Z]=%{x}<br>Deficit [MeV]=%{y}<extra></extra>",
           "legendgroup": "True",
           "marker": {
            "color": "#EF553B",
            "symbol": "circle"
           },
           "mode": "markers",
           "name": "True",
           "orientation": "v",
           "showlegend": true,
           "type": "scatter",
           "x": [
            9,
            11,
            13,
            15,
            17,
            19,
            21,
            23,
            25
           ],
           "xaxis": "x",
           "y": [
            -186.341,
            -233.9675646,
            -272.5493505,
            -305.8995757,
            -331.2817248,
            -351.6189971,
            -366.8255395,
            -377.101773,
            -382.3596499
           ],
           "yaxis": "y"
          }
         ],
         "name": "22"
        },
        {
         "data": [
          {
           "hovertemplate": "Odd Proton=False<br>Neutron Number [N]=23<br>Proton Number [Z]=%{x}<br>Deficit [MeV]=%{y}<extra></extra>",
           "legendgroup": "False",
           "marker": {
            "color": "#636efa",
            "symbol": "circle"
           },
           "mode": "markers",
           "name": "False",
           "orientation": "v",
           "showlegend": true,
           "type": "scatter",
           "x": [
            10,
            12,
            14,
            16,
            18,
            20,
            22,
            24,
            26,
            28
           ],
           "xaxis": "x",
           "y": [
            -212.388,
            -257.468183,
            -294.2574221,
            -325.42652219999997,
            -349.9093052999999,
            -369.82860790000007,
            -385.00794449999995,
            -395.1387149000001,
            -399.9042929,
            -401.37
           ],
           "yaxis": "y"
          },
          {
           "hovertemplate": "Odd Proton=True<br>Neutron Number [N]=23<br>Proton Number [Z]=%{x}<br>Deficit [MeV]=%{y}<extra></extra>",
           "legendgroup": "True",
           "marker": {
            "color": "#EF553B",
            "symbol": "circle"
           },
           "mode": "markers",
           "name": "True",
           "orientation": "v",
           "showlegend": true,
           "type": "scatter",
           "x": [
            11,
            13,
            15,
            17,
            19,
            21,
            23,
            25,
            27
           ],
           "xaxis": "x",
           "y": [
            -234.1388818,
            -274.4465544,
            -309.59644620000006,
            -337.11064,
            -359.1527982,
            -376.52474199999995,
            -390.36254579999996,
            -397.1612352,
            -400.031935
           ],
           "yaxis": "y"
          }
         ],
         "name": "23"
        },
        {
         "data": [
          {
           "hovertemplate": "Odd Proton=False<br>Neutron Number [N]=24<br>Proton Number [Z]=%{x}<br>Deficit [MeV]=%{y}<extra></extra>",
           "legendgroup": "False",
           "marker": {
            "color": "#636efa",
            "symbol": "circle"
           },
           "mode": "markers",
           "name": "False",
           "orientation": "v",
           "showlegend": true,
           "type": "scatter",
           "x": [
            10,
            12,
            14,
            16,
            18,
            20,
            22,
            24,
            26,
            28,
            30
           ],
           "xaxis": "x",
           "y": [
            -213.758,
            -260.7991272,
            -299.9275286,
            -333.17302000000007,
            -359.33579220000007,
            -380.95978360000004,
            -398.19726579999997,
            -411.4682544,
            -417.70133999999996,
            -420.3626804,
            -418.068
           ],
           "yaxis": "y"
          },
          {
           "hovertemplate": "Odd Proton=True<br>Neutron Number [N]=24<br>Proton Number [Z]=%{x}<br>Deficit [MeV]=%{y}<extra></extra>",
           "legendgroup": "True",
           "marker": {
            "color": "#EF553B",
            "symbol": "circle"
           },
           "mode": "markers",
           "name": "True",
           "orientation": "v",
           "showlegend": true,
           "type": "scatter",
           "x": [
            11,
            13,
            15,
            17,
            19,
            21,
            23,
            25,
            27,
            29
           ],
           "xaxis": "x",
           "y": [
            -236.07500000000002,
            -278.658692,
            -315.82083389999997,
            -344.9313313,
            -368.7774772,
            -387.85234500000007,
            -403.3650356,
            -413.55583500000006,
            -417.8559999,
            -418.223
           ],
           "yaxis": "y"
          }
         ],
         "name": "24"
        },
        {
         "data": [
          {
           "hovertemplate": "Odd Proton=False<br>Neutron Number [N]=25<br>Proton Number [Z]=%{x}<br>Deficit [MeV]=%{y}<extra></extra>",
           "legendgroup": "False",
           "marker": {
            "color": "#636efa",
            "symbol": "circle"
           },
           "mode": "markers",
           "name": "False",
           "orientation": "v",
           "showlegend": true,
           "type": "scatter",
           "x": [
            12,
            14,
            16,
            18,
            20,
            22,
            24,
            26,
            28,
            30
           ],
           "xaxis": "x",
           "y": [
            -261.0391255,
            -301.5081927,
            -337.41506780000003,
            -364.9942426,
            -388.3746015,
            -407.07792750000004,
            -422.0506073000001,
            -431.48538269999995,
            -435.5049697,
            -434.71999999999997
           ],
           "yaxis": "y"
          },
          {
           "hovertemplate": "Odd Proton=True<br>Neutron Number [N]=25<br>Proton Number [Z]=%{x}<br>Deficit [MeV]=%{y}<extra></extra>",
           "legendgroup": "True",
           "marker": {
            "color": "#EF553B",
            "symbol": "circle"
           },
           "mode": "markers",
           "name": "True",
           "orientation": "v",
           "showlegend": true,
           "type": "scatter",
           "x": [
            11,
            13,
            15,
            17,
            19,
            21,
            23,
            25,
            27,
            29
           ],
           "xaxis": "x",
           "y": [
            -236.05200000000002,
            -280.06,
            -319.256708,
            -350.5272288,
            -376.0549012000001,
            -396.612989,
            -413.9072928,
            -426.63411500000007,
            -432.92915120000004,
            -434.43
           ],
           "yaxis": "y"
          }
         ],
         "name": "25"
        },
        {
         "data": [
          {
           "hovertemplate": "Odd Proton=False<br>Neutron Number [N]=26<br>Proton Number [Z]=%{x}<br>Deficit [MeV]=%{y}<extra></extra>",
           "legendgroup": "False",
           "marker": {
            "color": "#636efa",
            "symbol": "circle"
           },
           "mode": "markers",
           "name": "False",
           "orientation": "v",
           "showlegend": true,
           "type": "scatter",
           "x": [
            12,
            14,
            16,
            18,
            20,
            22,
            24,
            26,
            28,
            30
           ],
           "xaxis": "x",
           "y": [
            -263.264,
            -306.232988,
            -344.11555500000003,
            -373.72900839999994,
            -398.7733008,
            -418.7045856,
            -435.05093999999997,
            -447.6996108,
            -453.2237712,
            -453.936
           ],
           "yaxis": "y"
          },
          {
           "hovertemplate": "Odd Proton=True<br>Neutron Number [N]=26<br>Proton Number [Z]=%{x}<br>Deficit [MeV]=%{y}<extra></extra>",
           "legendgroup": "True",
           "marker": {
            "color": "#EF553B",
            "symbol": "circle"
           },
           "mode": "markers",
           "name": "True",
           "orientation": "v",
           "showlegend": true,
           "type": "scatter",
           "x": [
            11,
            13,
            15,
            17,
            19,
            21,
            23,
            25,
            27,
            29
           ],
           "xaxis": "x",
           "y": [
            -236.91099999999997,
            -283.14,
            -324.16860330000003,
            -357.9262896,
            -384.9603615,
            -407.25950259999996,
            -425.4627615,
            -440.32177020000006,
            -449.31586340000007,
            -452.8698349999999
           ],
           "yaxis": "y"
          }
         ],
         "name": "26"
        },
        {
         "data": [
          {
           "hovertemplate": "Odd Proton=False<br>Neutron Number [N]=27<br>Proton Number [Z]=%{x}<br>Deficit [MeV]=%{y}<extra></extra>",
           "legendgroup": "False",
           "marker": {
            "color": "#636efa",
            "symbol": "circle"
           },
           "mode": "markers",
           "name": "False",
           "orientation": "v",
           "showlegend": true,
           "type": "scatter",
           "x": [
            12,
            14,
            16,
            18,
            20,
            22,
            24,
            26,
            28,
            30,
            32
           ],
           "xaxis": "x",
           "y": [
            -262.626,
            -306.762,
            -346.7445868,
            -378.897867,
            -406.0496756,
            -426.8469625,
            -444.3116073,
            -458.38632050000007,
            -467.35273750000005,
            -469.167,
            -467.516
           ],
           "yaxis": "y"
          },
          {
           "hovertemplate": "Odd Proton=True<br>Neutron Number [N]=27<br>Proton Number [Z]=%{x}<br>Deficit [MeV]=%{y}<extra></extra>",
           "legendgroup": "True",
           "marker": {
            "color": "#EF553B",
            "symbol": "circle"
           },
           "mode": "markers",
           "name": "True",
           "orientation": "v",
           "showlegend": true,
           "type": "scatter",
           "x": [
            13,
            15,
            17,
            19,
            21,
            23,
            25,
            27,
            29
           ],
           "xaxis": "x",
           "y": [
            -283.88,
            -326.1683124,
            -362.31706720000005,
            -391.8299688,
            -415.4980656,
            -434.79516,
            -450.86125239999996,
            -462.7378746,
            -467.9354792
           ],
           "yaxis": "y"
          }
         ],
         "name": "27"
        },
        {
         "data": [
          {
           "hovertemplate": "Odd Proton=False<br>Neutron Number [N]=28<br>Proton Number [Z]=%{x}<br>Deficit [MeV]=%{y}<extra></extra>",
           "legendgroup": "False",
           "marker": {
            "color": "#636efa",
            "symbol": "circle"
           },
           "mode": "markers",
           "name": "False",
           "orientation": "v",
           "showlegend": true,
           "type": "scatter",
           "x": [
            12,
            14,
            16,
            18,
            20,
            22,
            24,
            26,
            28,
            30,
            32
           ],
           "xaxis": "x",
           "y": [
            -263.92,
            -311.22,
            -351.82467760000003,
            -386.969641,
            -416.0011968,
            -437.786135,
            -456.35171920000005,
            -471.7647684,
            -483.99574160000003,
            -486.9649086,
            -486.78
           ],
           "yaxis": "y"
          },
          {
           "hovertemplate": "Odd Proton=True<br>Neutron Number [N]=28<br>Proton Number [Z]=%{x}<br>Deficit [MeV]=%{y}<extra></extra>",
           "legendgroup": "True",
           "marker": {
            "color": "#EF553B",
            "symbol": "circle"
           },
           "mode": "markers",
           "name": "True",
           "orientation": "v",
           "showlegend": true,
           "type": "scatter",
           "x": [
            13,
            15,
            17,
            19,
            21,
            23,
            25,
            27,
            29,
            31
           ],
           "xaxis": "x",
           "y": [
            -286.18,
            -330.283,
            -368.17195949999996,
            -400.19933649999996,
            -425.6277445,
            -445.8463452,
            -462.9115294,
            -476.829122,
            -484.6860822,
            -485.688
           ],
           "yaxis": "y"
          }
         ],
         "name": "28"
        },
        {
         "data": [
          {
           "hovertemplate": "Odd Proton=False<br>Neutron Number [N]=29<br>Proton Number [Z]=%{x}<br>Deficit [MeV]=%{y}<extra></extra>",
           "legendgroup": "False",
           "marker": {
            "color": "#636efa",
            "symbol": "circle"
           },
           "mode": "markers",
           "name": "False",
           "orientation": "v",
           "showlegend": true,
           "type": "scatter",
           "x": [
            14,
            16,
            18,
            20,
            22,
            24,
            26,
            28,
            30,
            32,
            34
           ],
           "xaxis": "x",
           "y": [
            -311.793,
            -354.015,
            -390.636975,
            -421.14765000000006,
            -444.1585512,
            -464.29114590000006,
            -481.06289549999997,
            -494.2433748,
            -499.9530317999999,
            -501.115,
            -498.771
           ],
           "yaxis": "y"
          },
          {
           "hovertemplate": "Odd Proton=True<br>Neutron Number [N]=29<br>Proton Number [Z]=%{x}<br>Deficit [MeV]=%{y}<extra></extra>",
           "legendgroup": "True",
           "marker": {
            "color": "#EF553B",
            "symbol": "circle"
           },
           "mode": "markers",
           "name": "True",
           "orientation": "v",
           "showlegend": true,
           "type": "scatter",
           "x": [
            13,
            15,
            17,
            19,
            21,
            23,
            25,
            27,
            29,
            31
           ],
           "xaxis": "x",
           "y": [
            -286.818,
            -332.288,
            -371.7156822,
            -404.84315520000007,
            -431.673735,
            -453.157588,
            -471.8507472,
            -486.91096159999995,
            -497.11623679999997,
            -499.62
           ],
           "yaxis": "y"
          }
         ],
         "name": "29"
        },
        {
         "data": [
          {
           "hovertemplate": "Odd Proton=False<br>Neutron Number [N]=30<br>Proton Number [Z]=%{x}<br>Deficit [MeV]=%{y}<extra></extra>",
           "legendgroup": "False",
           "marker": {
            "color": "#636efa",
            "symbol": "circle"
           },
           "mode": "markers",
           "name": "False",
           "orientation": "v",
           "showlegend": true,
           "type": "scatter",
           "x": [
            14,
            16,
            18,
            20,
            22,
            24,
            26,
            28,
            30,
            32,
            34
           ],
           "xaxis": "x",
           "y": [
            -314.864,
            -358.11,
            -395.6959488,
            -427.50819499999994,
            -451.9746035999999,
            -474.01022879999994,
            -492.25995279999995,
            -506.4596017999999,
            -514.983144,
            -517.514,
            -516.8
           ],
           "yaxis": "y"
          },
          {
           "hovertemplate": "Odd Proton=True<br>Neutron Number [N]=30<br>Proton Number [Z]=%{x}<br>Deficit [MeV]=%{y}<extra></extra>",
           "legendgroup": "True",
           "marker": {
            "color": "#EF553B",
            "symbol": "circle"
           },
           "mode": "markers",
           "name": "True",
           "orientation": "v",
           "showlegend": true,
           "type": "scatter",
           "x": [
            13,
            15,
            17,
            19,
            21,
            23,
            25,
            27,
            29,
            31,
            33
           ],
           "xaxis": "x",
           "y": [
            -288.616,
            -335.52000000000004,
            -375.624,
            -410.2414897,
            -438.45828629999994,
            -461.63755249999997,
            -482.07635849999997,
            -498.28741649999995,
            -509.87815929999994,
            -515.2323093,
            -516.159
           ],
           "yaxis": "y"
          }
         ],
         "name": "30"
        },
        {
         "data": [
          {
           "hovertemplate": "Odd Proton=False<br>Neutron Number [N]=31<br>Proton Number [Z]=%{x}<br>Deficit [MeV]=%{y}<extra></extra>",
           "legendgroup": "False",
           "marker": {
            "color": "#636efa",
            "symbol": "circle"
           },
           "mode": "markers",
           "name": "False",
           "orientation": "v",
           "showlegend": true,
           "type": "scatter",
           "x": [
            18,
            20,
            22,
            24,
            26,
            28,
            30,
            32,
            34,
            36
           ],
           "xaxis": "x",
           "y": [
            -398.46799999999996,
            -432.3225885,
            -457.44965679999996,
            -480.256491,
            -499.9061253,
            -515.4588808000001,
            -525.2288978,
            -530.3791521,
            -531.05,
            -528.161
           ],
           "yaxis": "y"
          },
          {
           "hovertemplate": "Odd Proton=True<br>Neutron Number [N]=31<br>Proton Number [Z]=%{x}<br>Deficit [MeV]=%{y}<extra></extra>",
           "legendgroup": "True",
           "marker": {
            "color": "#EF553B",
            "symbol": "circle"
           },
           "mode": "markers",
           "name": "True",
           "orientation": "v",
           "showlegend": true,
           "type": "scatter",
           "x": [
            15,
            17,
            19,
            21,
            23,
            25,
            27,
            29,
            31,
            33
           ],
           "xaxis": "x",
           "y": [
            -336.72,
            -378.384,
            -414.42916500000007,
            -443.802814,
            -467.7554628,
            -489.3468048000001,
            -506.86037020000003,
            -519.936282,
            -528.1559838,
            -530.304
           ],
           "yaxis": "y"
          }
         ],
         "name": "31"
        },
        {
         "data": [
          {
           "hovertemplate": "Odd Proton=False<br>Neutron Number [N]=32<br>Proton Number [Z]=%{x}<br>Deficit [MeV]=%{y}<extra></extra>",
           "legendgroup": "False",
           "marker": {
            "color": "#636efa",
            "symbol": "circle"
           },
           "mode": "markers",
           "name": "False",
           "orientation": "v",
           "showlegend": true,
           "type": "scatter",
           "x": [
            16,
            18,
            20,
            22,
            24,
            26,
            28,
            30,
            32,
            34,
            36
           ],
           "xaxis": "x",
           "y": [
            -362.496,
            -402.7,
            -438.32786920000007,
            -464.38335179999996,
            -488.5026104,
            -509.9506972,
            -526.846614,
            -538.1193962000001,
            -545.8447552,
            -547.8000000000001,
            -546.312
           ],
           "yaxis": "y"
          },
          {
           "hovertemplate": "Odd Proton=True<br>Neutron Number [N]=32<br>Proton Number [Z]=%{x}<br>Deficit [MeV]=%{y}<extra></extra>",
           "legendgroup": "True",
           "marker": {
            "color": "#EF553B",
            "symbol": "circle"
           },
           "mode": "markers",
           "name": "True",
           "orientation": "v",
           "showlegend": true,
           "type": "scatter",
           "x": [
            17,
            19,
            21,
            23,
            25,
            27,
            29,
            31,
            33,
            35
           ],
           "xaxis": "x",
           "y": [
            -381.46500000000003,
            -419.28808499999997,
            -450.12012250000004,
            -475.0536504999999,
            -497.9927322,
            -517.3142361,
            -531.6464028,
            -540.7873821,
            -545.7552815,
            -545.9159999999999
           ],
           "yaxis": "y"
          }
         ],
         "name": "32"
        },
        {
         "data": [
          {
           "hovertemplate": "Odd Proton=False<br>Neutron Number [N]=33<br>Proton Number [Z]=%{x}<br>Deficit [MeV]=%{y}<extra></extra>",
           "legendgroup": "False",
           "marker": {
            "color": "#636efa",
            "symbol": "circle"
           },
           "mode": "markers",
           "name": "False",
           "orientation": "v",
           "showlegend": true,
           "type": "scatter",
           "x": [
            18,
            20,
            22,
            24,
            26,
            28,
            30,
            32,
            34,
            36
           ],
           "xaxis": "x",
           "y": [
            -404.022,
            -441.5206233999999,
            -468.54332800000003,
            -493.81378859999995,
            -516.5317014000001,
            -534.6667141,
            -547.2360557999999,
            -556.078796,
            -560.7588048,
            -560.901
           ],
           "yaxis": "y"
          },
          {
           "hovertemplate": "Odd Proton=True<br>Neutron Number [N]=33<br>Proton Number [Z]=%{x}<br>Deficit [MeV]=%{y}<extra></extra>",
           "legendgroup": "True",
           "marker": {
            "color": "#EF553B",
            "symbol": "circle"
           },
           "mode": "markers",
           "name": "True",
           "orientation": "v",
           "showlegend": true,
           "type": "scatter",
           "x": [
            17,
            19,
            21,
            23,
            25,
            27,
            29,
            31,
            33,
            35
           ],
           "xaxis": "x",
           "y": [
            -382.55,
            -421.98157560000004,
            -453.85982099999995,
            -480.1832336,
            -504.4053404,
            -524.8061520000001,
            -540.5212018,
            -551.1444288,
            -558.9146244,
            -560.2520000000001
           ],
           "yaxis": "y"
          }
         ],
         "name": "33"
        },
        {
         "data": [
          {
           "hovertemplate": "Odd Proton=False<br>Neutron Number [N]=34<br>Proton Number [Z]=%{x}<br>Deficit [MeV]=%{y}<extra></extra>",
           "legendgroup": "False",
           "marker": {
            "color": "#636efa",
            "symbol": "circle"
           },
           "mode": "markers",
           "name": "False",
           "orientation": "v",
           "showlegend": true,
           "type": "scatter",
           "x": [
            18,
            20,
            22,
            24,
            26,
            28,
            30,
            32,
            34,
            36
           ],
           "xaxis": "x",
           "y": [
            -407.004,
            -445.36482179999996,
            -474.20517200000006,
            -501.3519246000001,
            -525.351234,
            -545.262441,
            -559.0979648,
            -569.2789277999999,
            -576.4392776,
            -577.9200000000001
           ],
           "yaxis": "y"
          },
          {
           "hovertemplate": "Odd Proton=True<br>Neutron Number [N]=34<br>Proton Number [Z]=%{x}<br>Deficit [MeV]=%{y}<extra></extra>",
           "legendgroup": "True",
           "marker": {
            "color": "#EF553B",
            "symbol": "circle"
           },
           "mode": "markers",
           "name": "True",
           "orientation": "v",
           "showlegend": true,
           "type": "scatter",
           "x": [
            17,
            19,
            21,
            23,
            25,
            27,
            29,
            31,
            33,
            35
           ],
           "xaxis": "x",
           "y": [
            -384.03000000000003,
            -425.2109864,
            -458.3353169999999,
            -486.50621190000004,
            -512.1744216,
            -534.1252109999999,
            -551.3848452,
            -563.0404065,
            -571.5480895,
            -575.7982794
           ],
           "yaxis": "y"
          }
         ],
         "name": "34"
        },
        {
         "data": [
          {
           "hovertemplate": "Odd Proton=False<br>Neutron Number [N]=35<br>Proton Number [Z]=%{x}<br>Deficit [MeV]=%{y}<extra></extra>",
           "legendgroup": "False",
           "marker": {
            "color": "#636efa",
            "symbol": "circle"
           },
           "mode": "markers",
           "name": "False",
           "orientation": "v",
           "showlegend": true,
           "type": "scatter",
           "x": [
            18,
            20,
            22,
            24,
            26,
            28,
            30,
            32,
            34,
            36,
            38
           ],
           "xaxis": "x",
           "y": [
            -406.881,
            -446.92593,
            -477.2553456,
            -505.54737049999994,
            -530.9298846,
            -552.1002165000001,
            -567.07729,
            -578.4169228,
            -586.7558657999999,
            -591.2263009999999,
            -591.446
           ],
           "yaxis": "y"
          },
          {
           "hovertemplate": "Odd Proton=True<br>Neutron Number [N]=35<br>Proton Number [Z]=%{x}<br>Deficit [MeV]=%{y}<extra></extra>",
           "legendgroup": "True",
           "marker": {
            "color": "#EF553B",
            "symbol": "circle"
           },
           "mode": "markers",
           "name": "True",
           "orientation": "v",
           "showlegend": true,
           "type": "scatter",
           "x": [
            17,
            19,
            21,
            23,
            25,
            27,
            29,
            31,
            33,
            35,
            37
           ],
           "xaxis": "x",
           "y": [
            -384.072,
            -426.114,
            -461.08037360000003,
            -490.57304800000003,
            -517.688352,
            -540.7227514,
            -559.3007104,
            -572.1779646,
            -581.9267076,
            -589.0357479999999,
            -590.544
           ],
           "yaxis": "y"
          }
         ],
         "name": "35"
        },
        {
         "data": [
          {
           "hovertemplate": "Odd Proton=False<br>Neutron Number [N]=36<br>Proton Number [Z]=%{x}<br>Deficit [MeV]=%{y}<extra></extra>",
           "legendgroup": "False",
           "marker": {
            "color": "#636efa",
            "symbol": "circle"
           },
           "mode": "markers",
           "name": "False",
           "orientation": "v",
           "showlegend": true,
           "type": "scatter",
           "x": [
            20,
            22,
            24,
            26,
            28,
            30,
            32,
            34,
            36,
            38
           ],
           "xaxis": "x",
           "y": [
            -449.85726239999997,
            -481.842482,
            -512.411256,
            -538.9587521999999,
            -561.7576768,
            -578.135811,
            -590.7933228,
            -600.322366,
            -606.9109896,
            -608.354
           ],
           "yaxis": "y"
          },
          {
           "hovertemplate": "Odd Proton=True<br>Neutron Number [N]=36<br>Proton Number [Z]=%{x}<br>Deficit [MeV]=%{y}<extra></extra>",
           "legendgroup": "True",
           "marker": {
            "color": "#EF553B",
            "symbol": "circle"
           },
           "mode": "markers",
           "name": "True",
           "orientation": "v",
           "showlegend": true,
           "type": "scatter",
           "x": [
            19,
            21,
            23,
            25,
            27,
            29,
            31,
            33,
            35,
            37
           ],
           "xaxis": "x",
           "y": [
            -428.56,
            -465.0154962,
            -495.82440060000005,
            -524.5338577,
            -549.2212236000001,
            -569.2112855,
            -583.404711,
            -594.2156766,
            -602.1838659,
            -606.2709933
           ],
           "yaxis": "y"
          }
         ],
         "name": "36"
        },
        {
         "data": [
          {
           "hovertemplate": "Odd Proton=False<br>Neutron Number [N]=37<br>Proton Number [Z]=%{x}<br>Deficit [MeV]=%{y}<extra></extra>",
           "legendgroup": "False",
           "marker": {
            "color": "#636efa",
            "symbol": "circle"
           },
           "mode": "markers",
           "name": "False",
           "orientation": "v",
           "showlegend": true,
           "type": "scatter",
           "x": [
            20,
            22,
            24,
            26,
            28,
            30,
            32,
            34,
            36,
            38,
            40
           ],
           "xaxis": "x",
           "y": [
            -450.984,
            -484.862,
            -516.0705774,
            -543.7876437,
            -567.8557559999999,
            -585.1882777999999,
            -598.9865159999999,
            -609.6103026000001,
            -617.5934831,
            -622.23837,
            -621.775
           ],
           "yaxis": "y"
          },
          {
           "hovertemplate": "Odd Proton=True<br>Neutron Number [N]=37<br>Proton Number [Z]=%{x}<br>Deficit [MeV]=%{y}<extra></extra>",
           "legendgroup": "True",
           "marker": {
            "color": "#EF553B",
            "symbol": "circle"
           },
           "mode": "markers",
           "name": "True",
           "orientation": "v",
           "showlegend": true,
           "type": "scatter",
           "x": [
            19,
            21,
            23,
            25,
            27,
            29,
            31,
            33,
            35,
            37,
            39
           ],
           "xaxis": "x",
           "y": [
            -429.12800000000004,
            -467.18672879999997,
            -499.37250599999993,
            -529.3870124,
            -555.2334272,
            -576.277218,
            -591.682926,
            -603.508787,
            -612.8145072,
            -620.2467101999999,
            -621.148
           ],
           "yaxis": "y"
          }
         ],
         "name": "37"
        },
        {
         "data": [
          {
           "hovertemplate": "Odd Proton=False<br>Neutron Number [N]=38<br>Proton Number [Z]=%{x}<br>Deficit [MeV]=%{y}<extra></extra>",
           "legendgroup": "False",
           "marker": {
            "color": "#636efa",
            "symbol": "circle"
           },
           "mode": "markers",
           "name": "False",
           "orientation": "v",
           "showlegend": true,
           "type": "scatter",
           "x": [
            20,
            22,
            24,
            26,
            28,
            30,
            32,
            34,
            36,
            38,
            40
           ],
           "xaxis": "x",
           "y": [
            -454.024,
            -489.167148,
            -522.4980002000001,
            -551.1928832000001,
            -576.8075676,
            -595.386376,
            -610.519196,
            -622.4032944,
            -631.444886,
            -637.9386344000001,
            -639.1320000000001
           ],
           "yaxis": "y"
          },
          {
           "hovertemplate": "Odd Proton=True<br>Neutron Number [N]=38<br>Proton Number [Z]=%{x}<br>Deficit [MeV]=%{y}<extra></extra>",
           "legendgroup": "True",
           "marker": {
            "color": "#EF553B",
            "symbol": "circle"
           },
           "mode": "markers",
           "name": "True",
           "orientation": "v",
           "showlegend": true,
           "type": "scatter",
           "x": [
            21,
            23,
            25,
            27,
            29,
            31,
            33,
            35,
            37,
            39
           ],
           "xaxis": "x",
           "y": [
            -470.6080307,
            -504.5335437,
            -535.8214260000001,
            -562.697512,
            -585.4097998999999,
            -601.9960061999999,
            -615.139385,
            -625.4698619,
            -633.620715,
            -637.4060000000001
           ],
           "yaxis": "y"
          }
         ],
         "name": "38"
        },
        {
         "data": [
          {
           "hovertemplate": "Odd Proton=False<br>Neutron Number [N]=40<br>Proton Number [Z]=%{x}<br>Deficit [MeV]=%{y}<extra></extra>",
           "legendgroup": "False",
           "marker": {
            "color": "#636efa",
            "symbol": "circle"
           },
           "mode": "markers",
           "name": "False",
           "orientation": "v",
           "showlegend": true,
           "type": "scatter",
           "x": [
            22,
            24,
            26,
            28,
            30,
            32,
            34,
            36,
            38,
            40,
            42
           ],
           "xaxis": "x",
           "y": [
            -495.38,
            -531.4280064,
            -562.433817,
            -590.4077356,
            -611.086602,
            -628.6857047999999,
            -642.890947,
            -654.2693852,
            -663.0075738000002,
            -669.2,
            -669.366
           ],
           "yaxis": "y"
          },
          {
           "hovertemplate": "Odd Proton=True<br>Neutron Number [N]=40<br>Proton Number [Z]=%{x}<br>Deficit [MeV]=%{y}<extra></extra>",
           "legendgroup": "True",
           "marker": {
            "color": "#EF553B",
            "symbol": "circle"
           },
           "mode": "markers",
           "name": "True",
           "orientation": "v",
           "showlegend": true,
           "type": "scatter",
           "x": [
            21,
            23,
            25,
            27,
            29,
            31,
            33,
            35,
            37,
            39,
            41
           ],
           "xaxis": "x",
           "y": [
            -475.43399999999997,
            -512.2391967,
            -546.0443429999999,
            -574.9767274000001,
            -599.9691035999999,
            -618.9499549999999,
            -634.3415226999999,
            -647.0737274999999,
            -657.3751491999999,
            -664.9255251999999,
            -668.088
           ],
           "yaxis": "y"
          }
         ],
         "name": "40"
        },
        {
         "data": [
          {
           "hovertemplate": "Odd Proton=False<br>Neutron Number [N]=39<br>Proton Number [Z]=%{x}<br>Deficit [MeV]=%{y}<extra></extra>",
           "legendgroup": "False",
           "marker": {
            "color": "#636efa",
            "symbol": "circle"
           },
           "mode": "markers",
           "name": "False",
           "orientation": "v",
           "showlegend": true,
           "type": "scatter",
           "x": [
            22,
            24,
            26,
            28,
            30,
            32,
            34,
            36,
            38,
            40,
            42
           ],
           "xaxis": "x",
           "y": [
            -491.538,
            -525.8950073999999,
            -555.5125549999999,
            -582.6152835,
            -601.8684459000001,
            -617.9351378,
            -630.8338143,
            -641.5079924999999,
            -649.5657476,
            -653.093,
            -652.374
           ],
           "yaxis": "y"
          },
          {
           "hovertemplate": "Odd Proton=True<br>Neutron Number [N]=39<br>Proton Number [Z]=%{x}<br>Deficit [MeV]=%{y}<extra></extra>",
           "legendgroup": "True",
           "marker": {
            "color": "#EF553B",
            "symbol": "circle"
           },
           "mode": "markers",
           "name": "True",
           "orientation": "v",
           "showlegend": true,
           "type": "scatter",
           "x": [
            23,
            25,
            27,
            29,
            31,
            33,
            35,
            37,
            39
           ],
           "xaxis": "x",
           "y": [
            -507.64090300000004,
            -539.9947199999999,
            -567.9921654,
            -591.7286084,
            -609.649656,
            -623.5472592,
            -635.183551,
            -644.9524236,
            -651.222
           ],
           "yaxis": "y"
          }
         ],
         "name": "39"
        },
        {
         "data": [
          {
           "hovertemplate": "Odd Proton=False<br>Neutron Number [N]=41<br>Proton Number [Z]=%{x}<br>Deficit [MeV]=%{y}<extra></extra>",
           "legendgroup": "False",
           "marker": {
            "color": "#636efa",
            "symbol": "circle"
           },
           "mode": "markers",
           "name": "False",
           "orientation": "v",
           "showlegend": true,
           "type": "scatter",
           "x": [
            22,
            24,
            26,
            28,
            30,
            32,
            34,
            36,
            38,
            40,
            42,
            44
           ],
           "xaxis": "x",
           "y": [
            -497.133,
            -534.17,
            -566.1457053,
            -594.9938862,
            -616.9219607,
            -635.46865,
            -650.9185425,
            -663.496449,
            -673.3846082,
            -680.0073039,
            -683.422,
            -682.295
           ],
           "yaxis": "y"
          },
          {
           "hovertemplate": "Odd Proton=True<br>Neutron Number [N]=41<br>Proton Number [Z]=%{x}<br>Deficit [MeV]=%{y}<extra></extra>",
           "legendgroup": "True",
           "marker": {
            "color": "#EF553B",
            "symbol": "circle"
           },
           "mode": "markers",
           "name": "True",
           "orientation": "v",
           "showlegend": true,
           "type": "scatter",
           "x": [
            23,
            25,
            27,
            29,
            31,
            33,
            35,
            37,
            39,
            41
           ],
           "xaxis": "x",
           "y": [
            -514.88,
            -549.8987076000001,
            -579.3688468,
            -605.2805850000001,
            -625.4704296,
            -642.320148,
            -656.327108,
            -667.5513935999999,
            -676.342072,
            -681.584
           ],
           "yaxis": "y"
          }
         ],
         "name": "41"
        },
        {
         "data": [
          {
           "hovertemplate": "Odd Proton=False<br>Neutron Number [N]=42<br>Proton Number [Z]=%{x}<br>Deficit [MeV]=%{y}<extra></extra>",
           "legendgroup": "False",
           "marker": {
            "color": "#636efa",
            "symbol": "circle"
           },
           "mode": "markers",
           "name": "False",
           "orientation": "v",
           "showlegend": true,
           "type": "scatter",
           "x": [
            22,
            24,
            26,
            28,
            30,
            32,
            34,
            36,
            38,
            40,
            42,
            44
           ],
           "xaxis": "x",
           "y": [
            -500.864,
            -539.088,
            -572.424,
            -602.3004189999999,
            -625.8099816,
            -645.6648814,
            -662.0723356000001,
            -675.576603,
            -686.287728,
            -694.1682612,
            -699.3,
            -699.4379999999999
           ],
           "yaxis": "y"
          },
          {
           "hovertemplate": "Odd Proton=True<br>Neutron Number [N]=42<br>Proton Number [Z]=%{x}<br>Deficit [MeV]=%{y}<extra></extra>",
           "legendgroup": "True",
           "marker": {
            "color": "#EF553B",
            "symbol": "circle"
           },
           "mode": "markers",
           "name": "True",
           "orientation": "v",
           "showlegend": true,
           "type": "scatter",
           "x": [
            23,
            25,
            27,
            29,
            31,
            33,
            35,
            37,
            39,
            41,
            43
           ],
           "xaxis": "x",
           "y": [
            -518.765,
            -554.827,
            -586.1830278,
            -613.0866543,
            -634.652802,
            -652.56561,
            -667.3441621000001,
            -679.4900679,
            -688.9781511,
            -695.4560786999999,
            -698.275
           ],
           "yaxis": "y"
          }
         ],
         "name": "42"
        },
        {
         "data": [
          {
           "hovertemplate": "Odd Proton=False<br>Neutron Number [N]=43<br>Proton Number [Z]=%{x}<br>Deficit [MeV]=%{y}<extra></extra>",
           "legendgroup": "False",
           "marker": {
            "color": "#636efa",
            "symbol": "circle"
           },
           "mode": "markers",
           "name": "False",
           "orientation": "v",
           "showlegend": true,
           "type": "scatter",
           "x": [
            24,
            26,
            28,
            30,
            32,
            34,
            36,
            38,
            40,
            42,
            44
           ],
           "xaxis": "x",
           "y": [
            -541.293,
            -575.8050000000001,
            -606.5641043999999,
            -631.3292215,
            -652.17072,
            -669.4911916,
            -683.9119269999999,
            -695.5757145,
            -704.5371751,
            -710.7132200000001,
            -713.4870000000001
           ],
           "yaxis": "y"
          },
          {
           "hovertemplate": "Odd Proton=True<br>Neutron Number [N]=43<br>Proton Number [Z]=%{x}<br>Deficit [MeV]=%{y}<extra></extra>",
           "legendgroup": "True",
           "marker": {
            "color": "#EF553B",
            "symbol": "circle"
           },
           "mode": "markers",
           "name": "True",
           "orientation": "v",
           "showlegend": true,
           "type": "scatter",
           "x": [
            23,
            25,
            27,
            29,
            31,
            33,
            35,
            37,
            39,
            41,
            43
           ],
           "xaxis": "x",
           "y": [
            -521.004,
            -558.212,
            -590.39386,
            -618.2298432000001,
            -641.0744024,
            -659.8941071999999,
            -675.6328331999999,
            -688.93408,
            -699.4006484,
            -707.1083292000001,
            -712.0799999999999
           ],
           "yaxis": "y"
          }
         ],
         "name": "43"
        },
        {
         "data": [
          {
           "hovertemplate": "Odd Proton=False<br>Neutron Number [N]=44<br>Proton Number [Z]=%{x}<br>Deficit [MeV]=%{y}<extra></extra>",
           "legendgroup": "False",
           "marker": {
            "color": "#636efa",
            "symbol": "circle"
           },
           "mode": "markers",
           "name": "False",
           "orientation": "v",
           "showlegend": true,
           "type": "scatter",
           "x": [
            24,
            26,
            28,
            30,
            32,
            34,
            36,
            38,
            40,
            42,
            44,
            46
           ],
           "xaxis": "x",
           "y": [
            -545.768,
            -581.56,
            -613.4552495999999,
            -639.5638478,
            -661.5979664,
            -679.9889615999999,
            -695.434408,
            -708.128958,
            -718.1185284,
            -725.3857050000001,
            -730.224,
            -730.17
           ],
           "yaxis": "y"
          },
          {
           "hovertemplate": "Odd Proton=True<br>Neutron Number [N]=44<br>Proton Number [Z]=%{x}<br>Deficit [MeV]=%{y}<extra></extra>",
           "legendgroup": "True",
           "marker": {
            "color": "#EF553B",
            "symbol": "circle"
           },
           "mode": "markers",
           "name": "True",
           "orientation": "v",
           "showlegend": true,
           "type": "scatter",
           "x": [
            23,
            25,
            27,
            29,
            31,
            33,
            35,
            37,
            39,
            41,
            43,
            45
           ],
           "xaxis": "x",
           "y": [
            -524.543,
            -562.6949999999999,
            -596.3101423999999,
            -625.5056027,
            -649.5567374999999,
            -669.5903753,
            -686.3200524,
            -700.2866259,
            -711.6135393,
            -720.2654944999999,
            -726.2538063000001,
            -728.821
           ],
           "yaxis": "y"
          }
         ],
         "name": "44"
        },
        {
         "data": [
          {
           "hovertemplate": "Odd Proton=False<br>Neutron Number [N]=45<br>Proton Number [Z]=%{x}<br>Deficit [MeV]=%{y}<extra></extra>",
           "legendgroup": "False",
           "marker": {
            "color": "#636efa",
            "symbol": "circle"
           },
           "mode": "markers",
           "name": "False",
           "orientation": "v",
           "showlegend": true,
           "type": "scatter",
           "x": [
            24,
            26,
            28,
            30,
            32,
            34,
            36,
            38,
            40,
            42,
            44,
            46
           ],
           "xaxis": "x",
           "y": [
            -547.791,
            -584.685,
            -617.4086616999999,
            -644.4373575,
            -667.6692561000001,
            -686.9517917,
            -703.3084686,
            -716.9878308000001,
            -727.943349,
            -736.2309141000001,
            -742.2934640000001,
            -744.653
           ],
           "yaxis": "y"
          },
          {
           "hovertemplate": "Odd Proton=True<br>Neutron Number [N]=45<br>Proton Number [Z]=%{x}<br>Deficit [MeV]=%{y}<extra></extra>",
           "legendgroup": "True",
           "marker": {
            "color": "#EF553B",
            "symbol": "circle"
           },
           "mode": "markers",
           "name": "True",
           "orientation": "v",
           "showlegend": true,
           "type": "scatter",
           "x": [
            25,
            27,
            29,
            31,
            33,
            35,
            37,
            39,
            41,
            43,
            45,
            47
           ],
           "xaxis": "x",
           "y": [
            -565.88,
            -600.3359999999999,
            -630.5956842,
            -655.4640672,
            -676.562328,
            -694.212328,
            -709.0890549999999,
            -721.3736208,
            -731.1911865999998,
            -738.3053744,
            -742.86,
            -743.36
           ],
           "yaxis": "y"
          }
         ],
         "name": "45"
        },
        {
         "data": [
          {
           "hovertemplate": "Odd Proton=False<br>Neutron Number [N]=46<br>Proton Number [Z]=%{x}<br>Deficit [MeV]=%{y}<extra></extra>",
           "legendgroup": "False",
           "marker": {
            "color": "#636efa",
            "symbol": "circle"
           },
           "mode": "markers",
           "name": "False",
           "orientation": "v",
           "showlegend": true,
           "type": "scatter",
           "x": [
            24,
            26,
            28,
            30,
            32,
            34,
            36,
            38,
            40,
            42,
            44,
            46,
            48
           ],
           "xaxis": "x",
           "y": [
            -551.88,
            -590.04,
            -624.042,
            -652.252786,
            -676.3897608000001,
            -696.8651360000001,
            -714.2753828,
            -728.9111088,
            -740.8084977999999,
            -750.1039656,
            -756.8791560000001,
            -761.352394,
            -761.5880000000001
           ],
           "yaxis": "y"
          },
          {
           "hovertemplate": "Odd Proton=True<br>Neutron Number [N]=46<br>Proton Number [Z]=%{x}<br>Deficit [MeV]=%{y}<extra></extra>",
           "legendgroup": "True",
           "marker": {
            "color": "#EF553B",
            "symbol": "circle"
           },
           "mode": "markers",
           "name": "True",
           "orientation": "v",
           "showlegend": true,
           "type": "scatter",
           "x": [
            27,
            29,
            31,
            33,
            35,
            37,
            39,
            41,
            43,
            45,
            47
           ],
           "xaxis": "x",
           "y": [
            -606.0459999999999,
            -637.1310074999999,
            -663.2310839,
            -685.4527588000001,
            -704.3716665,
            -720.0432019,
            -733.392631,
            -744.0029373,
            -752.1012462000001,
            -757.848,
            -760.2750000000001
           ],
           "yaxis": "y"
          }
         ],
         "name": "46"
        },
        {
         "data": [
          {
           "hovertemplate": "Odd Proton=False<br>Neutron Number [N]=47<br>Proton Number [Z]=%{x}<br>Deficit [MeV]=%{y}<extra></extra>",
           "legendgroup": "False",
           "marker": {
            "color": "#636efa",
            "symbol": "circle"
           },
           "mode": "markers",
           "name": "False",
           "orientation": "v",
           "showlegend": true,
           "type": "scatter",
           "x": [
            26,
            28,
            30,
            32,
            34,
            36,
            38,
            40,
            42,
            44,
            46,
            48
           ],
           "xaxis": "x",
           "y": [
            -592.8330000000001,
            -627.675,
            -656.8102848999999,
            -682.1262031,
            -703.5659837999999,
            -721.7455484999999,
            -737.4361405000001,
            -750.2579415,
            -760.5036739,
            -768.3065117,
            -773.6264241,
            -776.2449999999999
           ],
           "yaxis": "y"
          },
          {
           "hovertemplate": "Odd Proton=True<br>Neutron Number [N]=47<br>Proton Number [Z]=%{x}<br>Deficit [MeV]=%{y}<extra></extra>",
           "legendgroup": "True",
           "marker": {
            "color": "#EF553B",
            "symbol": "circle"
           },
           "mode": "markers",
           "name": "True",
           "orientation": "v",
           "showlegend": true,
           "type": "scatter",
           "x": [
            25,
            27,
            29,
            31,
            33,
            35,
            37,
            39,
            41,
            43,
            45,
            47,
            49
           ],
           "xaxis": "x",
           "y": [
            -572.76,
            -609.686,
            -641.7137368,
            -669.0141354,
            -692.102592,
            -711.9646146000001,
            -728.8028496,
            -742.9049198,
            -754.3713144,
            -763.5024000000001,
            -770.3547412,
            -774.372,
            -774.624
           ],
           "yaxis": "y"
          }
         ],
         "name": "47"
        },
        {
         "data": [
          {
           "hovertemplate": "Odd Proton=False<br>Neutron Number [N]=48<br>Proton Number [Z]=%{x}<br>Deficit [MeV]=%{y}<extra></extra>",
           "legendgroup": "False",
           "marker": {
            "color": "#636efa",
            "symbol": "circle"
           },
           "mode": "markers",
           "name": "False",
           "orientation": "v",
           "showlegend": true,
           "type": "scatter",
           "x": [
            26,
            28,
            30,
            32,
            34,
            36,
            38,
            40,
            42,
            44,
            46,
            48
           ],
           "xaxis": "x",
           "y": [
            -597.624,
            -633.688,
            -663.5756399999999,
            -690.205656,
            -712.8421786,
            -732.2655732,
            -748.9272675999999,
            -762.6109832000001,
            -773.732565,
            -782.4392079999999,
            -788.8182208,
            -792.864
           ],
           "yaxis": "y"
          },
          {
           "hovertemplate": "Odd Proton=True<br>Neutron Number [N]=48<br>Proton Number [Z]=%{x}<br>Deficit [MeV]=%{y}<extra></extra>",
           "legendgroup": "True",
           "marker": {
            "color": "#EF553B",
            "symbol": "circle"
           },
           "mode": "markers",
           "name": "True",
           "orientation": "v",
           "showlegend": true,
           "type": "scatter",
           "x": [
            25,
            27,
            29,
            31,
            33,
            35,
            37,
            39,
            41,
            43,
            45,
            47,
            49
           ],
           "xaxis": "x",
           "y": [
            -576.3349999999999,
            -614.775,
            -647.6662577,
            -675.9297275,
            -700.4926251,
            -721.5509716,
            -739.2825359999999,
            -754.7115237,
            -766.8968376,
            -776.8356778,
            -784.4387715,
            -789.925,
            -792.0049999999999
           ],
           "yaxis": "y"
          }
         ],
         "name": "48"
        },
        {
         "data": [
          {
           "hovertemplate": "Odd Proton=False<br>Neutron Number [N]=49<br>Proton Number [Z]=%{x}<br>Deficit [MeV]=%{y}<extra></extra>",
           "legendgroup": "False",
           "marker": {
            "color": "#636efa",
            "symbol": "circle"
           },
           "mode": "markers",
           "name": "False",
           "orientation": "v",
           "showlegend": true,
           "type": "scatter",
           "x": [
            26,
            28,
            30,
            32,
            34,
            36,
            38,
            40,
            42,
            44,
            46,
            48,
            50
           ],
           "xaxis": "x",
           "y": [
            -599.7,
            -636.9440000000001,
            -667.5960175000001,
            -695.0333547,
            -718.660148,
            -739.3778805,
            -757.3555581,
            -771.9313985000001,
            -783.8402026,
            -793.4260311,
            -800.7531665,
            -806.0992260999999,
            -807.939
           ],
           "yaxis": "y"
          },
          {
           "hovertemplate": "Odd Proton=True<br>Neutron Number [N]=49<br>Proton Number [Z]=%{x}<br>Deficit [MeV]=%{y}<extra></extra>",
           "legendgroup": "True",
           "marker": {
            "color": "#EF553B",
            "symbol": "circle"
           },
           "mode": "markers",
           "name": "True",
           "orientation": "v",
           "showlegend": true,
           "type": "scatter",
           "x": [
            27,
            29,
            31,
            33,
            35,
            37,
            39,
            41,
            43,
            45,
            47,
            49
           ],
           "xaxis": "x",
           "y": [
            -617.956,
            -651.664221,
            -680.6763599999999,
            -706.1360546000001,
            -728.3916696000001,
            -747.9335204,
            -764.0634848,
            -777.0039300000001,
            -787.846048,
            -796.4059102,
            -802.5878688,
            -806.5400000000001
           ],
           "yaxis": "y"
          }
         ],
         "name": "49"
        },
        {
         "data": [
          {
           "hovertemplate": "Odd Proton=False<br>Neutron Number [N]=50<br>Proton Number [Z]=%{x}<br>Deficit [MeV]=%{y}<extra></extra>",
           "legendgroup": "False",
           "marker": {
            "color": "#636efa",
            "symbol": "circle"
           },
           "mode": "markers",
           "name": "False",
           "orientation": "v",
           "showlegend": true,
           "type": "scatter",
           "x": [
            26,
            28,
            30,
            32,
            34,
            36,
            38,
            40,
            42,
            44,
            46,
            48,
            50
           ],
           "xaxis": "x",
           "y": [
            -603.668,
            -642.564,
            -673.883656,
            -702.2280494,
            -727.338654,
            -749.234537,
            -768.4684303999999,
            -783.8972910000001,
            -796.5112704000001,
            -806.864228,
            -815.0419871999999,
            -821.0729394,
            -825.1626
           ],
           "yaxis": "y"
          },
          {
           "hovertemplate": "Odd Proton=True<br>Neutron Number [N]=50<br>Proton Number [Z]=%{x}<br>Deficit [MeV]=%{y}<extra></extra>",
           "legendgroup": "True",
           "marker": {
            "color": "#EF553B",
            "symbol": "circle"
           },
           "mode": "markers",
           "name": "True",
           "orientation": "v",
           "showlegend": true,
           "type": "scatter",
           "x": [
            27,
            29,
            31,
            33,
            35,
            37,
            39,
            41,
            43,
            45,
            47,
            49
           ],
           "xaxis": "x",
           "y": [
            -622.3140000000001,
            -657.354102,
            -687.1519655999999,
            -713.771282,
            -737.255371,
            -757.8556341,
            -775.5469790000001,
            -789.0517453000001,
            -800.5977726,
            -809.9102164999999,
            -817.0515737000001,
            -822.096
           ],
           "yaxis": "y"
          }
         ],
         "name": "50"
        },
        {
         "data": [
          {
           "hovertemplate": "Odd Proton=False<br>Neutron Number [N]=51<br>Proton Number [Z]=%{x}<br>Deficit [MeV]=%{y}<extra></extra>",
           "legendgroup": "False",
           "marker": {
            "color": "#636efa",
            "symbol": "circle"
           },
           "mode": "markers",
           "name": "False",
           "orientation": "v",
           "showlegend": true,
           "type": "scatter",
           "x": [
            28,
            30,
            32,
            34,
            36,
            38,
            40,
            42,
            44,
            46,
            48,
            50
           ],
           "xaxis": "x",
           "y": [
            -643.85,
            -676.5060222,
            -705.8607346,
            -731.8758825,
            -754.7497079999999,
            -774.8271470000001,
            -791.0916558999999,
            -804.5810835,
            -815.8097070000001,
            -824.7357391,
            -831.4389666000001,
            -836.391403
           ],
           "yaxis": "y"
          },
          {
           "hovertemplate": "Odd Proton=True<br>Neutron Number [N]=51<br>Proton Number [Z]=%{x}<br>Deficit [MeV]=%{y}<extra></extra>",
           "legendgroup": "True",
           "marker": {
            "color": "#EF553B",
            "symbol": "circle"
           },
           "mode": "markers",
           "name": "True",
           "orientation": "v",
           "showlegend": true,
           "type": "scatter",
           "x": [
            27,
            29,
            31,
            33,
            35,
            37,
            39,
            41,
            43,
            45,
            47,
            49
           ],
           "xaxis": "x",
           "y": [
            -623.766,
            -659.6800000000001,
            -690.5260507999999,
            -718.026834,
            -742.3834674,
            -763.9381552000001,
            -782.404002,
            -796.9383252,
            -809.2213062000001,
            -819.328656,
            -827.2852868000001,
            -832.97495
           ],
           "yaxis": "y"
          }
         ],
         "name": "51"
        },
        {
         "data": [
          {
           "hovertemplate": "Odd Proton=False<br>Neutron Number [N]=52<br>Proton Number [Z]=%{x}<br>Deficit [MeV]=%{y}<extra></extra>",
           "legendgroup": "False",
           "marker": {
            "color": "#636efa",
            "symbol": "circle"
           },
           "mode": "markers",
           "name": "False",
           "orientation": "v",
           "showlegend": true,
           "type": "scatter",
           "x": [
            28,
            30,
            32,
            34,
            36,
            38,
            40,
            42,
            44,
            46,
            48,
            50,
            52
           ],
           "xaxis": "x",
           "y": [
            -647.04,
            -680.691635,
            -711.1040495999999,
            -738.0367263999999,
            -761.8027911999999,
            -782.640387,
            -799.7264035999999,
            -814.2594054000001,
            -826.503648,
            -836.3221902,
            -843.77375,
            -849.0919926,
            -848.3618624000001
           ],
           "yaxis": "y"
          },
          {
           "hovertemplate": "Odd Proton=True<br>Neutron Number [N]=52<br>Proton Number [Z]=%{x}<br>Deficit [MeV]=%{y}<extra></extra>",
           "legendgroup": "True",
           "marker": {
            "color": "#EF553B",
            "symbol": "circle"
           },
           "mode": "markers",
           "name": "True",
           "orientation": "v",
           "showlegend": true,
           "type": "scatter",
           "x": [
            29,
            31,
            33,
            35,
            37,
            39,
            41,
            43,
            45,
            47,
            49,
            51
           ],
           "xaxis": "x",
           "y": [
            -662.985,
            -694.9237747999999,
            -723.4337334999999,
            -748.7142135,
            -771.1128655000001,
            -790.3297311000001,
            -805.7691957000001,
            -819.1556545000001,
            -830.3098053,
            -839.0026655999999,
            -845.4130260000001,
            -848.102
           ],
           "yaxis": "y"
          }
         ],
         "name": "52"
        },
        {
         "data": [
          {
           "hovertemplate": "Odd Proton=False<br>Neutron Number [N]=53<br>Proton Number [Z]=%{x}<br>Deficit [MeV]=%{y}<extra></extra>",
           "legendgroup": "False",
           "marker": {
            "color": "#636efa",
            "symbol": "circle"
           },
           "mode": "markers",
           "name": "False",
           "orientation": "v",
           "showlegend": true,
           "type": "scatter",
           "x": [
            28,
            30,
            32,
            34,
            36,
            38,
            40,
            42,
            44,
            46,
            48,
            50,
            52
           ],
           "xaxis": "x",
           "y": [
            -648,
            -682.758,
            -714.1503564999999,
            -742.031004,
            -766.7186062000001,
            -788.4127068999999,
            -806.4607251,
            -821.6285140000001,
            -834.6151503,
            -845.2553868,
            -853.4869357000001,
            -859.329,
            -859.617864
           ],
           "yaxis": "y"
          },
          {
           "hovertemplate": "Odd Proton=True<br>Neutron Number [N]=53<br>Proton Number [Z]=%{x}<br>Deficit [MeV]=%{y}<extra></extra>",
           "legendgroup": "True",
           "marker": {
            "color": "#EF553B",
            "symbol": "circle"
           },
           "mode": "markers",
           "name": "True",
           "orientation": "v",
           "showlegend": true,
           "type": "scatter",
           "x": [
            29,
            31,
            33,
            35,
            37,
            39,
            41,
            43,
            45,
            47,
            49,
            51
           ],
           "xaxis": "x",
           "y": [
            -664.856,
            -697.8321,
            -727.278049,
            -753.6098152000001,
            -776.837358,
            -796.8662248,
            -812.9967316000001,
            -827.0272608,
            -838.9587724,
            -848.49947,
            -855.6343338,
            -858.8319999999999
           ],
           "yaxis": "y"
          }
         ],
         "name": "53"
        },
        {
         "data": [
          {
           "hovertemplate": "Odd Proton=False<br>Neutron Number [N]=54<br>Proton Number [Z]=%{x}<br>Deficit [MeV]=%{y}<extra></extra>",
           "legendgroup": "False",
           "marker": {
            "color": "#636efa",
            "symbol": "circle"
           },
           "mode": "markers",
           "name": "False",
           "orientation": "v",
           "showlegend": true,
           "type": "scatter",
           "x": [
            28,
            30,
            32,
            34,
            36,
            38,
            40,
            42,
            44,
            46,
            48,
            50,
            52,
            54
           ],
           "xaxis": "x",
           "y": [
            -650.67,
            -686.3639999999999,
            -718.4981799999998,
            -747.5603959999999,
            -773.2133909999999,
            -795.699444,
            -814.6793504000001,
            -830.7828480000001,
            -844.7907720000001,
            -856.3565199999999,
            -865.3814844,
            -871.9267856,
            -873.0974292000001,
            -872.0879688
           ],
           "yaxis": "y"
          },
          {
           "hovertemplate": "Odd Proton=True<br>Neutron Number [N]=54<br>Proton Number [Z]=%{x}<br>Deficit [MeV]=%{y}<extra></extra>",
           "legendgroup": "True",
           "marker": {
            "color": "#EF553B",
            "symbol": "circle"
           },
           "mode": "markers",
           "name": "True",
           "orientation": "v",
           "showlegend": true,
           "type": "scatter",
           "x": [
            29,
            31,
            33,
            35,
            37,
            39,
            41,
            43,
            45,
            47,
            49,
            51
           ],
           "xaxis": "x",
           "y": [
            -667.652,
            -701.5533395000001,
            -732.0051327,
            -759.2394377999999,
            -783.2881510999999,
            -804.3482022000001,
            -821.4852634999999,
            -836.5013637999999,
            -849.4393941000002,
            -859.7671965000001,
            -867.6431497,
            -871.6041915000001
           ],
           "yaxis": "y"
          }
         ],
         "name": "54"
        },
        {
         "data": [
          {
           "hovertemplate": "Odd Proton=False<br>Neutron Number [N]=55<br>Proton Number [Z]=%{x}<br>Deficit [MeV]=%{y}<extra></extra>",
           "legendgroup": "False",
           "marker": {
            "color": "#636efa",
            "symbol": "circle"
           },
           "mode": "markers",
           "name": "False",
           "orientation": "v",
           "showlegend": true,
           "type": "scatter",
           "x": [
            30,
            32,
            34,
            36,
            38,
            40,
            42,
            44,
            46,
            48,
            50,
            52,
            54
           ],
           "xaxis": "x",
           "y": [
            -687.65,
            -720.795,
            -750.7399111,
            -777.2994229,
            -800.9892375,
            -821.1412779999999,
            -837.6039822,
            -852.2626068000001,
            -864.6473043999999,
            -874.4447340999999,
            -881.709045,
            -883.6059999999999,
            -883.6964739
           ],
           "yaxis": "y"
          },
          {
           "hovertemplate": "Odd Proton=True<br>Neutron Number [N]=55<br>Proton Number [Z]=%{x}<br>Deficit [MeV]=%{y}<extra></extra>",
           "legendgroup": "True",
           "marker": {
            "color": "#EF553B",
            "symbol": "circle"
           },
           "mode": "markers",
           "name": "True",
           "orientation": "v",
           "showlegend": true,
           "type": "scatter",
           "x": [
            31,
            33,
            35,
            37,
            39,
            41,
            43,
            45,
            47,
            49,
            51,
            53
           ],
           "xaxis": "x",
           "y": [
            -703.652,
            -734.888,
            -763.036785,
            -788.38687,
            -810.5438392000001,
            -828.3731328,
            -843.7804606,
            -857.51732,
            -868.7508300000001,
            -877.264752,
            -882.1333144,
            -883.008
           ],
           "yaxis": "y"
          }
         ],
         "name": "55"
        },
        {
         "data": [
          {
           "hovertemplate": "Odd Proton=False<br>Neutron Number [N]=56<br>Proton Number [Z]=%{x}<br>Deficit [MeV]=%{y}<extra></extra>",
           "legendgroup": "False",
           "marker": {
            "color": "#636efa",
            "symbol": "circle"
           },
           "mode": "markers",
           "name": "False",
           "orientation": "v",
           "showlegend": true,
           "type": "scatter",
           "x": [
            32,
            34,
            36,
            38,
            40,
            42,
            44,
            46,
            48,
            50,
            52,
            54
           ],
           "xaxis": "x",
           "y": [
            -724.768,
            -755.619048,
            -783.1661,
            -807.8204336,
            -828.9915168,
            -846.2465717999999,
            -861.9359299999999,
            -875.1894473999998,
            -885.8328127999999,
            -893.7960598000001,
            -896.8019868000001,
            -897.5208880000001
           ],
           "yaxis": "y"
          },
          {
           "hovertemplate": "Odd Proton=True<br>Neutron Number [N]=56<br>Proton Number [Z]=%{x}<br>Deficit [MeV]=%{y}<extra></extra>",
           "legendgroup": "True",
           "marker": {
            "color": "#EF553B",
            "symbol": "circle"
           },
           "mode": "markers",
           "name": "True",
           "orientation": "v",
           "showlegend": true,
           "type": "scatter",
           "x": [
            31,
            33,
            35,
            37,
            39,
            41,
            43,
            45,
            47,
            49,
            51,
            53
           ],
           "xaxis": "x",
           "y": [
            -706.788,
            -739.056,
            -768.2151021999999,
            -794.3056437,
            -817.471618,
            -836.4444248,
            -852.7474395,
            -867.4099372,
            -879.378156,
            -888.7939725,
            -894.3845808,
            -895.9817876000001
           ],
           "yaxis": "y"
          }
         ],
         "name": "56"
        },
        {
         "data": [
          {
           "hovertemplate": "Odd Proton=False<br>Neutron Number [N]=57<br>Proton Number [Z]=%{x}<br>Deficit [MeV]=%{y}<extra></extra>",
           "legendgroup": "False",
           "marker": {
            "color": "#636efa",
            "symbol": "circle"
           },
           "mode": "markers",
           "name": "False",
           "orientation": "v",
           "showlegend": true,
           "type": "scatter",
           "x": [
            32,
            34,
            36,
            38,
            40,
            42,
            44,
            46,
            48,
            50,
            52,
            54
           ],
           "xaxis": "x",
           "y": [
            -726.329,
            -758.4702762000001,
            -786.6040905,
            -812.1633124999998,
            -834.5606654,
            -852.1720217999999,
            -868.737966,
            -882.8147819,
            -894.269586,
            -903.0259222,
            -906.8070244999999,
            -908.202
           ],
           "yaxis": "y"
          },
          {
           "hovertemplate": "Odd Proton=True<br>Neutron Number [N]=57<br>Proton Number [Z]=%{x}<br>Deficit [MeV]=%{y}<extra></extra>",
           "legendgroup": "True",
           "marker": {
            "color": "#EF553B",
            "symbol": "circle"
           },
           "mode": "markers",
           "name": "True",
           "orientation": "v",
           "showlegend": true,
           "type": "scatter",
           "x": [
            33,
            35,
            37,
            39,
            41,
            43,
            45,
            47,
            49,
            51,
            53,
            55
           ],
           "xaxis": "x",
           "y": [
            -741.6,
            -771.4119316,
            -798.3198536,
            -822.6649824,
            -842.4375568,
            -859.5118399999999,
            -874.8521436000001,
            -887.76324,
            -897.8328578,
            -904.2479928,
            -906.8484369999999,
            -907.424
           ],
           "yaxis": "y"
          }
         ],
         "name": "57"
        },
        {
         "data": [
          {
           "hovertemplate": "Odd Proton=False<br>Neutron Number [N]=58<br>Proton Number [Z]=%{x}<br>Deficit [MeV]=%{y}<extra></extra>",
           "legendgroup": "False",
           "marker": {
            "color": "#636efa",
            "symbol": "circle"
           },
           "mode": "markers",
           "name": "False",
           "orientation": "v",
           "showlegend": true,
           "type": "scatter",
           "x": [
            32,
            34,
            36,
            38,
            40,
            42,
            44,
            46,
            48,
            50,
            52,
            54,
            56
           ],
           "xaxis": "x",
           "y": [
            -729.81,
            -762.68,
            -791.8871892,
            -818.0355936000001,
            -840.9770431999999,
            -860.4662599999999,
            -877.9576050000001,
            -892.8242439999999,
            -905.1392151999999,
            -914.6549484000001,
            -919.3927600000001,
            -921.7672352000001,
            -922.2242609999998
           ],
           "yaxis": "y"
          },
          {
           "hovertemplate": "Odd Proton=True<br>Neutron Number [N]=58<br>Proton Number [Z]=%{x}<br>Deficit [MeV]=%{y}<extra></extra>",
           "legendgroup": "True",
           "marker": {
            "color": "#EF553B",
            "symbol": "circle"
           },
           "mode": "markers",
           "name": "True",
           "orientation": "v",
           "showlegend": true,
           "type": "scatter",
           "x": [
            33,
            35,
            37,
            39,
            41,
            43,
            45,
            47,
            49,
            51,
            53,
            55
           ],
           "xaxis": "x",
           "y": [
            -745.199,
            -776.1406697999998,
            -803.7186865000001,
            -828.5217752,
            -849.3196040999999,
            -867.9067965999999,
            -884.1718480999999,
            -897.7889340000002,
            -908.8626973000001,
            -916.1249548999999,
            -919.4057073000001,
            -920.7943989999999
           ],
           "yaxis": "y"
          }
         ],
         "name": "58"
        },
        {
         "data": [
          {
           "hovertemplate": "Odd Proton=False<br>Neutron Number [N]=59<br>Proton Number [Z]=%{x}<br>Deficit [MeV]=%{y}<extra></extra>",
           "legendgroup": "False",
           "marker": {
            "color": "#636efa",
            "symbol": "circle"
           },
           "mode": "markers",
           "name": "False",
           "orientation": "v",
           "showlegend": true,
           "type": "scatter",
           "x": [
            34,
            36,
            38,
            40,
            42,
            44,
            46,
            48,
            50,
            52,
            54,
            56
           ],
           "xaxis": "x",
           "y": [
            -764.925,
            -794.7696485000001,
            -821.7693433000002,
            -845.383275,
            -865.8645059,
            -884.1896568,
            -899.9183445,
            -913.0687068,
            -923.2864947,
            -928.8217484999999,
            -932.0158301,
            -933.3399999999999
           ],
           "yaxis": "y"
          },
          {
           "hovertemplate": "Odd Proton=True<br>Neutron Number [N]=59<br>Proton Number [Z]=%{x}<br>Deficit [MeV]=%{y}<extra></extra>",
           "legendgroup": "True",
           "marker": {
            "color": "#EF553B",
            "symbol": "circle"
           },
           "mode": "markers",
           "name": "True",
           "orientation": "v",
           "showlegend": true,
           "type": "scatter",
           "x": [
            33,
            35,
            37,
            39,
            41,
            43,
            45,
            47,
            49,
            51,
            53,
            55
           ],
           "xaxis": "x",
           "y": [
            -747.1320000000001,
            -778.9780000000001,
            -807.2540448,
            -832.7663875999999,
            -854.84683,
            -874.2064428000001,
            -891.1708104,
            -905.7318081999999,
            -917.4871727999999,
            -925.3950309999999,
            -929.5865712000001,
            -931.7871054
           ],
           "yaxis": "y"
          }
         ],
         "name": "59"
        },
        {
         "data": [
          {
           "hovertemplate": "Odd Proton=False<br>Neutron Number [N]=60<br>Proton Number [Z]=%{x}<br>Deficit [MeV]=%{y}<extra></extra>",
           "legendgroup": "False",
           "marker": {
            "color": "#636efa",
            "symbol": "circle"
           },
           "mode": "markers",
           "name": "False",
           "orientation": "v",
           "showlegend": true,
           "type": "scatter",
           "x": [
            34,
            36,
            38,
            40,
            42,
            44,
            46,
            48,
            50,
            52,
            54,
            56
           ],
           "xaxis": "x",
           "y": [
            -768.92,
            -799.7637216,
            -827.6823729999999,
            -852.2106599999998,
            -873.9767388,
            -893.0895792,
            -909.4793003999999,
            -923.4021167999999,
            -934.569625,
            -940.8731024,
            -944.9694156,
            -946.7920000000001
           ],
           "yaxis": "y"
          },
          {
           "hovertemplate": "Odd Proton=True<br>Neutron Number [N]=60<br>Proton Number [Z]=%{x}<br>Deficit [MeV]=%{y}<extra></extra>",
           "legendgroup": "True",
           "marker": {
            "color": "#EF553B",
            "symbol": "circle"
           },
           "mode": "markers",
           "name": "True",
           "orientation": "v",
           "showlegend": true,
           "type": "scatter",
           "x": [
            35,
            37,
            39,
            41,
            43,
            45,
            47,
            49,
            51,
            53,
            55,
            57
           ],
           "xaxis": "x",
           "y": [
            -783.275,
            -812.4901584,
            -839.1926861999999,
            -862.0183855,
            -882.3087634999999,
            -900.1340564999999,
            -915.2674284000001,
            -927.9281943,
            -936.8533533,
            -941.7140664000001,
            -944.8399999999999,
            -946.062
           ],
           "yaxis": "y"
          }
         ],
         "name": "60"
        },
        {
         "data": [
          {
           "hovertemplate": "Odd Proton=False<br>Neutron Number [N]=61<br>Proton Number [Z]=%{x}<br>Deficit [MeV]=%{y}<extra></extra>",
           "legendgroup": "False",
           "marker": {
            "color": "#636efa",
            "symbol": "circle"
           },
           "mode": "markers",
           "name": "False",
           "orientation": "v",
           "showlegend": true,
           "type": "scatter",
           "x": [
            34,
            36,
            38,
            40,
            42,
            44,
            46,
            48,
            50,
            52,
            54,
            56
           ],
           "xaxis": "x",
           "y": [
            -770.64,
            -802.1768564999999,
            -831.8498265,
            -857.0702339,
            -879.4415216,
            -898.9996679999999,
            -916.0157221999999,
            -930.7253414,
            -942.737541,
            -949.7239357999999,
            -954.6115960000001,
            -957.9906881999999
           ],
           "yaxis": "y"
          },
          {
           "hovertemplate": "Odd Proton=True<br>Neutron Number [N]=61<br>Proton Number [Z]=%{x}<br>Deficit [MeV]=%{y}<extra></extra>",
           "legendgroup": "True",
           "marker": {
            "color": "#EF553B",
            "symbol": "circle"
           },
           "mode": "markers",
           "name": "True",
           "orientation": "v",
           "showlegend": true,
           "type": "scatter",
           "x": [
            35,
            37,
            39,
            41,
            43,
            45,
            47,
            49,
            51,
            53,
            55
           ],
           "xaxis": "x",
           "y": [
            -785.664,
            -816.4114812000001,
            -843.94151,
            -867.496485,
            -888.275128,
            -906.7167602,
            -922.5388296000001,
            -935.9799569999999,
            -945.686896,
            -951.3048060000001,
            -955.26
           ],
           "yaxis": "y"
          }
         ],
         "name": "61"
        },
        {
         "data": [
          {
           "hovertemplate": "Odd Proton=False<br>Neutron Number [N]=62<br>Proton Number [Z]=%{x}<br>Deficit [MeV]=%{y}<extra></extra>",
           "legendgroup": "False",
           "marker": {
            "color": "#636efa",
            "symbol": "circle"
           },
           "mode": "markers",
           "name": "False",
           "orientation": "v",
           "showlegend": true,
           "type": "scatter",
           "x": [
            36,
            38,
            40,
            42,
            44,
            46,
            48,
            50,
            52,
            54,
            56
           ],
           "xaxis": "x",
           "y": [
            -806.932,
            -837.22012,
            -863.5619879999999,
            -886.9022552,
            -907.4597036,
            -925.2386028000001,
            -940.6403049999999,
            -953.5253167999999,
            -961.3378890000001,
            -967.0730339999999,
            -970.7860000000001
           ],
           "yaxis": "y"
          },
          {
           "hovertemplate": "Odd Proton=True<br>Neutron Number [N]=62<br>Proton Number [Z]=%{x}<br>Deficit [MeV]=%{y}<extra></extra>",
           "legendgroup": "True",
           "marker": {
            "color": "#EF553B",
            "symbol": "circle"
           },
           "mode": "markers",
           "name": "True",
           "orientation": "v",
           "showlegend": true,
           "type": "scatter",
           "x": [
            35,
            37,
            39,
            41,
            43,
            45,
            47,
            49,
            51,
            53,
            55,
            59
           ],
           "xaxis": "x",
           "y": [
            -789.58,
            -821.2347990000001,
            -849.7463805000001,
            -874.298196,
            -896.133777,
            -915.2891279999999,
            -931.7227894999999,
            -945.9733464,
            -956.5762106,
            -963.0749865,
            -967.8082284000001,
            -971.9929999999999
           ],
           "yaxis": "y"
          }
         ],
         "name": "62"
        },
        {
         "data": [
          {
           "hovertemplate": "Odd Proton=False<br>Neutron Number [N]=63<br>Proton Number [Z]=%{x}<br>Deficit [MeV]=%{y}<extra></extra>",
           "legendgroup": "False",
           "marker": {
            "color": "#636efa",
            "symbol": "circle"
           },
           "mode": "markers",
           "name": "False",
           "orientation": "v",
           "showlegend": true,
           "type": "scatter",
           "x": [
            36,
            38,
            40,
            42,
            44,
            46,
            48,
            50,
            52,
            54,
            56,
            58
           ],
           "xaxis": "x",
           "y": [
            -809.325,
            -840.7988510999999,
            -867.8608711,
            -891.9606149999998,
            -913.0703332,
            -931.3921925,
            -947.6158910999999,
            -961.2697221,
            -969.582296,
            -976.2828192,
            -981.2655153000001,
            -983.972
           ],
           "yaxis": "y"
          },
          {
           "hovertemplate": "Odd Proton=True<br>Neutron Number [N]=63<br>Proton Number [Z]=%{x}<br>Deficit [MeV]=%{y}<extra></extra>",
           "legendgroup": "True",
           "marker": {
            "color": "#EF553B",
            "symbol": "circle"
           },
           "mode": "markers",
           "name": "True",
           "orientation": "v",
           "showlegend": true,
           "type": "scatter",
           "x": [
            35,
            37,
            39,
            41,
            43,
            45,
            47,
            49,
            51,
            53,
            55,
            57
           ],
           "xaxis": "x",
           "y": [
            -791.6439999999999,
            -824.4508500000001,
            -853.9355544,
            -879.1518528000001,
            -901.6950420000001,
            -921.5278955999999,
            -938.5319789999999,
            -953.6427488,
            -964.7271774,
            -972.2291527999998,
            -977.7958254,
            -981.48
           ],
           "yaxis": "y"
          }
         ],
         "name": "63"
        },
        {
         "data": [
          {
           "hovertemplate": "Odd Proton=False<br>Neutron Number [N]=66<br>Proton Number [Z]=%{x}<br>Deficit [MeV]=%{y}<extra></extra>",
           "legendgroup": "False",
           "marker": {
            "color": "#636efa",
            "symbol": "circle"
           },
           "mode": "markers",
           "name": "False",
           "orientation": "v",
           "showlegend": true,
           "type": "scatter",
           "x": [
            36,
            38,
            40,
            42,
            44,
            46,
            48,
            50,
            52,
            54,
            56,
            58,
            60
           ],
           "xaxis": "x",
           "y": [
            null,
            -853.424,
            -882.98,
            -909.5930748000001,
            -933.4943529999999,
            -954.320696,
            -972.5925389999999,
            -988.6815256,
            -999.424246,
            -1008.4838639999999,
            -1015.4983174,
            -1020.396,
            -1023.372
           ],
           "yaxis": "y"
          },
          {
           "hovertemplate": "Odd Proton=True<br>Neutron Number [N]=66<br>Proton Number [Z]=%{x}<br>Deficit [MeV]=%{y}<extra></extra>",
           "legendgroup": "True",
           "marker": {
            "color": "#EF553B",
            "symbol": "circle"
           },
           "mode": "markers",
           "name": "True",
           "orientation": "v",
           "showlegend": true,
           "type": "scatter",
           "x": [
            35,
            37,
            39,
            41,
            43,
            45,
            47,
            49,
            51,
            53,
            55,
            57,
            59
           ],
           "xaxis": "x",
           "y": [
            null,
            -835.5360000000001,
            -867.51,
            -895.2786086000001,
            -920.4155764,
            -943.0145637,
            -962.315458,
            -979.4029280000002,
            -993.0840777000001,
            -1002.8001955999999,
            -1010.7027392,
            -1016.8409999999999,
            -1020.875
           ],
           "yaxis": "y"
          }
         ],
         "name": "66"
        },
        {
         "data": [
          {
           "hovertemplate": "Odd Proton=False<br>Neutron Number [N]=64<br>Proton Number [Z]=%{x}<br>Deficit [MeV]=%{y}<extra></extra>",
           "legendgroup": "False",
           "marker": {
            "color": "#636efa",
            "symbol": "circle"
           },
           "mode": "markers",
           "name": "False",
           "orientation": "v",
           "showlegend": true,
           "type": "scatter",
           "x": [
            36,
            38,
            40,
            42,
            44,
            46,
            48,
            50,
            52,
            54,
            56,
            58
           ],
           "xaxis": "x",
           "y": [
            -813.4000000000001,
            -845.7045726,
            -873.8408536,
            -898.8291412000001,
            -920.9404836,
            -940.1879300000002,
            -957.0098272000001,
            -971.5726493999999,
            -980.8546460000001,
            -988.2478642,
            -993.6353880000001,
            -997.228
           ],
           "yaxis": "y"
          },
          {
           "hovertemplate": "Odd Proton=True<br>Neutron Number [N]=64<br>Proton Number [Z]=%{x}<br>Deficit [MeV]=%{y}<extra></extra>",
           "legendgroup": "True",
           "marker": {
            "color": "#EF553B",
            "symbol": "circle"
           },
           "mode": "markers",
           "name": "True",
           "orientation": "v",
           "showlegend": true,
           "type": "scatter",
           "x": [
            37,
            39,
            41,
            43,
            45,
            47,
            49,
            51,
            53,
            55,
            57
           ],
           "xaxis": "x",
           "y": [
            -828.8237053,
            -859.2912607999999,
            -885.3277124999998,
            -908.7400753,
            -929.5673036,
            -947.3614458000001,
            -963.0910561000001,
            -975.3052939999999,
            -983.3183919,
            -989.7628293,
            -994.2570000000001
           ],
           "yaxis": "y"
          }
         ],
         "name": "64"
        },
        {
         "data": [
          {
           "hovertemplate": "Odd Proton=False<br>Neutron Number [N]=65<br>Proton Number [Z]=%{x}<br>Deficit [MeV]=%{y}<extra></extra>",
           "legendgroup": "False",
           "marker": {
            "color": "#636efa",
            "symbol": "circle"
           },
           "mode": "markers",
           "name": "False",
           "orientation": "v",
           "showlegend": true,
           "type": "scatter",
           "x": [
            36,
            38,
            40,
            42,
            44,
            46,
            48,
            50,
            52,
            54,
            56,
            58,
            60
           ],
           "xaxis": "x",
           "y": [
            -815.5749999999999,
            -848.926,
            -877.6527900000001,
            -903.3174329999999,
            -926.0888519999999,
            -945.9142278,
            -963.5495761999999,
            -979.1180730000001,
            -988.7576751,
            -997.034598,
            -1003.5629043,
            -1007.7389999999999,
            -1010
           ],
           "yaxis": "y"
          },
          {
           "hovertemplate": "Odd Proton=True<br>Neutron Number [N]=65<br>Proton Number [Z]=%{x}<br>Deficit [MeV]=%{y}<extra></extra>",
           "legendgroup": "True",
           "marker": {
            "color": "#EF553B",
            "symbol": "circle"
           },
           "mode": "markers",
           "name": "True",
           "orientation": "v",
           "showlegend": true,
           "type": "scatter",
           "x": [
            37,
            39,
            41,
            43,
            45,
            47,
            49,
            51,
            53,
            55,
            57,
            59
           ],
           "xaxis": "x",
           "y": [
            -831.5799186,
            -862.992,
            -889.6861642000001,
            -913.9842576,
            -935.468061,
            -953.8010383999999,
            -970.3650588000002,
            -983.1952127999999,
            -991.9221954000002,
            -999.4177320000001,
            -1004.67,
            -1007.8720000000001
           ],
           "yaxis": "y"
          }
         ],
         "name": "65"
        },
        {
         "data": [
          {
           "hovertemplate": "Odd Proton=False<br>Neutron Number [N]=67<br>Proton Number [Z]=%{x}<br>Deficit [MeV]=%{y}<extra></extra>",
           "legendgroup": "False",
           "marker": {
            "color": "#636efa",
            "symbol": "circle"
           },
           "mode": "markers",
           "name": "False",
           "orientation": "v",
           "showlegend": true,
           "type": "scatter",
           "x": [
            38,
            40,
            42,
            44,
            46,
            48,
            50,
            52,
            54,
            56,
            58,
            60,
            62
           ],
           "xaxis": "x",
           "y": [
            -855.9599999999999,
            -886.388,
            -913.5743767000001,
            -938.2783602,
            -959.6614834999999,
            -978.7333980000002,
            -995.6246039999999,
            -1006.9873415000001,
            -1016.8637445999999,
            -1024.6156578,
            -1030.25,
            -1034.0339999999999,
            -1034.9669999999999
           ],
           "yaxis": "y"
          },
          {
           "hovertemplate": "Odd Proton=True<br>Neutron Number [N]=67<br>Proton Number [Z]=%{x}<br>Deficit [MeV]=%{y}<extra></extra>",
           "legendgroup": "True",
           "marker": {
            "color": "#EF553B",
            "symbol": "circle"
           },
           "mode": "markers",
           "name": "True",
           "orientation": "v",
           "showlegend": true,
           "type": "scatter",
           "x": [
            37,
            39,
            41,
            43,
            45,
            47,
            49,
            51,
            53,
            55,
            57,
            59,
            61,
            63
           ],
           "xaxis": "x",
           "y": [
            -837.928,
            -870.79,
            -899.1713232000001,
            -925.238633,
            -948.5130592,
            -968.2907603999998,
            -986.1876532000001,
            -1000.5120408,
            -1010.8409399999998,
            -1019.816483,
            -1026.5082824,
            -1031.184,
            -1033.6,
            -1033.5
           ],
           "yaxis": "y"
          }
         ],
         "name": "67"
        },
        {
         "data": [
          {
           "hovertemplate": "Odd Proton=False<br>Neutron Number [N]=68<br>Proton Number [Z]=%{x}<br>Deficit [MeV]=%{y}<extra></extra>",
           "legendgroup": "False",
           "marker": {
            "color": "#636efa",
            "symbol": "circle"
           },
           "mode": "markers",
           "name": "False",
           "orientation": "v",
           "showlegend": true,
           "type": "scatter",
           "x": [
            38,
            40,
            42,
            44,
            46,
            48,
            50,
            52,
            54,
            56,
            58,
            60,
            62
           ],
           "xaxis": "x",
           "y": [
            -860.0840000000001,
            -891.3240000000001,
            -919.5222299999999,
            -945.1952272000001,
            -967.6326384000001,
            -987.4327276,
            -1004.9510238000001,
            -1017.2382839999998,
            -1027.8090568,
            -1036.1217916,
            -1042.4305206,
            -1046.656,
            -1048.45
           ],
           "yaxis": "y"
          },
          {
           "hovertemplate": "Odd Proton=True<br>Neutron Number [N]=68<br>Proton Number [Z]=%{x}<br>Deficit [MeV]=%{y}<extra></extra>",
           "legendgroup": "True",
           "marker": {
            "color": "#EF553B",
            "symbol": "circle"
           },
           "mode": "markers",
           "name": "True",
           "orientation": "v",
           "showlegend": true,
           "type": "scatter",
           "x": [
            37,
            39,
            41,
            43,
            45,
            47,
            49,
            51,
            53,
            55,
            57,
            59,
            61,
            63
           ],
           "xaxis": "x",
           "y": [
            null,
            -875.046,
            -904.3872463,
            -931.3000565999998,
            -955.6202645000001,
            -976.4138595000001,
            -994.9522400999999,
            -1010.0626942,
            -1021.4107431,
            -1030.7866907999999,
            -1038.080475,
            -1043.432,
            -1046.7060000000001,
            -1047.476
           ],
           "yaxis": "y"
          }
         ],
         "name": "68"
        },
        {
         "data": [
          {
           "hovertemplate": "Odd Proton=False<br>Neutron Number [N]=69<br>Proton Number [Z]=%{x}<br>Deficit [MeV]=%{y}<extra></extra>",
           "legendgroup": "False",
           "marker": {
            "color": "#636efa",
            "symbol": "circle"
           },
           "mode": "markers",
           "name": "False",
           "orientation": "v",
           "showlegend": true,
           "type": "scatter",
           "x": [
            38,
            40,
            42,
            44,
            46,
            48,
            50,
            52,
            54,
            56,
            58,
            60,
            62
           ],
           "xaxis": "x",
           "y": [
            -862.099,
            -894.2360000000001,
            -922.9975451999999,
            -949.5034840999999,
            -972.639433,
            -993.209958,
            -1011.4344785999999,
            -1024.4905561,
            -1035.7736397,
            -1044.7723,
            -1051.6606094,
            -1056.6390000000001,
            -1059.1350000000002
           ],
           "yaxis": "y"
          },
          {
           "hovertemplate": "Odd Proton=True<br>Neutron Number [N]=69<br>Proton Number [Z]=%{x}<br>Deficit [MeV]=%{y}<extra></extra>",
           "legendgroup": "True",
           "marker": {
            "color": "#EF553B",
            "symbol": "circle"
           },
           "mode": "markers",
           "name": "True",
           "orientation": "v",
           "showlegend": true,
           "type": "scatter",
           "x": [
            37,
            39,
            41,
            43,
            45,
            47,
            49,
            51,
            53,
            55,
            57,
            59,
            61,
            63
           ],
           "xaxis": "x",
           "y": [
            null,
            -877.9319999999999,
            -908.0786770000001,
            -935.6056304,
            -960.6349194000002,
            -982.0452468000002,
            -1001.3087059999999,
            -1017.0755999999999,
            -1029.3156958,
            -1039.5554136,
            -1047.3657767999998,
            -1053.3010048,
            -1057.03,
            -1058.3760000000002
           ],
           "yaxis": "y"
          }
         ],
         "name": "69"
        },
        {
         "data": [
          {
           "hovertemplate": "Odd Proton=False<br>Neutron Number [N]=70<br>Proton Number [Z]=%{x}<br>Deficit [MeV]=%{y}<extra></extra>",
           "legendgroup": "False",
           "marker": {
            "color": "#636efa",
            "symbol": "circle"
           },
           "mode": "markers",
           "name": "False",
           "orientation": "v",
           "showlegend": true,
           "type": "scatter",
           "x": [
            38,
            40,
            42,
            44,
            46,
            48,
            50,
            52,
            54,
            56,
            58,
            60,
            62,
            64
           ],
           "xaxis": "x",
           "y": [
            null,
            -898.81,
            -928.5920000000001,
            -955.9282014,
            -980.1159580000001,
            -1001.5645299999999,
            -1020.5385599999998,
            -1034.3320429999999,
            -1046.2641112,
            -1055.8445562,
            -1063.2865152,
            -1068.926768,
            -1072.104,
            -1073.072
           ],
           "yaxis": "y"
          },
          {
           "hovertemplate": "Odd Proton=True<br>Neutron Number [N]=70<br>Proton Number [Z]=%{x}<br>Deficit [MeV]=%{y}<extra></extra>",
           "legendgroup": "True",
           "marker": {
            "color": "#EF553B",
            "symbol": "circle"
           },
           "mode": "markers",
           "name": "True",
           "orientation": "v",
           "showlegend": true,
           "type": "scatter",
           "x": [
            39,
            41,
            43,
            45,
            47,
            49,
            51,
            53,
            55,
            57,
            59,
            61,
            65
           ],
           "xaxis": "x",
           "y": [
            -881.701,
            -912.753,
            -941.2295676000001,
            -967.225187,
            -989.7558254999998,
            -1009.8505053,
            -1026.3289454,
            -1039.2503208,
            -1049.9754125,
            -1058.3597324,
            -1064.8151232000002,
            -1069.353,
            -1071.765
           ],
           "yaxis": "y"
          }
         ],
         "name": "70"
        },
        {
         "data": [
          {
           "hovertemplate": "Odd Proton=False<br>Neutron Number [N]=71<br>Proton Number [Z]=%{x}<br>Deficit [MeV]=%{y}<extra></extra>",
           "legendgroup": "False",
           "marker": {
            "color": "#636efa",
            "symbol": "circle"
           },
           "mode": "markers",
           "name": "False",
           "orientation": "v",
           "showlegend": true,
           "type": "scatter",
           "x": [
            40,
            42,
            44,
            46,
            48,
            50,
            52,
            54,
            56,
            58,
            60,
            62,
            64
           ],
           "xaxis": "x",
           "y": [
            -901.0980000000001,
            -931.798,
            -959.88361,
            -984.7801431,
            -1006.9111338999999,
            -1026.7087644,
            -1041.261051,
            -1053.867375,
            -1064.063912,
            -1072.1114019000001,
            -1078.1698895000002,
            -1082.221,
            -1083.78
           ],
           "yaxis": "y"
          },
          {
           "hovertemplate": "Odd Proton=True<br>Neutron Number [N]=71<br>Proton Number [Z]=%{x}<br>Deficit [MeV]=%{y}<extra></extra>",
           "legendgroup": "True",
           "marker": {
            "color": "#EF553B",
            "symbol": "circle"
           },
           "mode": "markers",
           "name": "True",
           "orientation": "v",
           "showlegend": true,
           "type": "scatter",
           "x": [
            39,
            41,
            43,
            45,
            47,
            49,
            51,
            53,
            55,
            57,
            59,
            61,
            63
           ],
           "xaxis": "x",
           "y": [
            null,
            -915.9360000000001,
            -945.0896285999999,
            -971.8030268000001,
            -995.19902,
            -1015.9508999999999,
            -1033.1353084000002,
            -1046.7436068,
            -1058.3076798,
            -1067.1603711999999,
            -1074.288345,
            -1079.364,
            -1082.05
           ],
           "yaxis": "y"
          }
         ],
         "name": "71"
        },
        {
         "data": [
          {
           "hovertemplate": "Odd Proton=False<br>Neutron Number [N]=72<br>Proton Number [Z]=%{x}<br>Deficit [MeV]=%{y}<extra></extra>",
           "legendgroup": "False",
           "marker": {
            "color": "#636efa",
            "symbol": "circle"
           },
           "mode": "markers",
           "name": "False",
           "orientation": "v",
           "showlegend": true,
           "type": "scatter",
           "x": [
            40,
            42,
            44,
            46,
            48,
            50,
            52,
            54,
            56,
            58,
            60,
            62,
            64
           ],
           "xaxis": "x",
           "y": [
            -905.0719999999999,
            -936.9659999999999,
            -965.918544,
            -991.8159246,
            -1014.96288,
            -1035.5234096,
            -1050.685542,
            -1063.8857249999999,
            -1074.6864384,
            -1083.3181319999999,
            -1089.8989728000001,
            -1094.378,
            -1096.704
           ],
           "yaxis": "y"
          },
          {
           "hovertemplate": "Odd Proton=True<br>Neutron Number [N]=72<br>Proton Number [Z]=%{x}<br>Deficit [MeV]=%{y}<extra></extra>",
           "legendgroup": "True",
           "marker": {
            "color": "#EF553B",
            "symbol": "circle"
           },
           "mode": "markers",
           "name": "True",
           "orientation": "v",
           "showlegend": true,
           "type": "scatter",
           "x": [
            39,
            41,
            43,
            45,
            47,
            49,
            51,
            53,
            55,
            57,
            59,
            61,
            63
           ],
           "xaxis": "x",
           "y": [
            null,
            -920.1590000000001,
            -950.3599999999999,
            -978.0353621999999,
            -1002.3622994000001,
            -1024.1290807,
            -1042.0953108,
            -1056.2863875,
            -1068.2683359,
            -1077.9297921,
            -1085.4848508999999,
            -1091.1697853,
            -1094.445
           ],
           "yaxis": "y"
          }
         ],
         "name": "72"
        },
        {
         "data": [
          {
           "hovertemplate": "Odd Proton=False<br>Neutron Number [N]=73<br>Proton Number [Z]=%{x}<br>Deficit [MeV]=%{y}<extra></extra>",
           "legendgroup": "False",
           "marker": {
            "color": "#636efa",
            "symbol": "circle"
           },
           "mode": "markers",
           "name": "False",
           "orientation": "v",
           "showlegend": true,
           "type": "scatter",
           "x": [
            40,
            42,
            44,
            46,
            48,
            50,
            52,
            54,
            56,
            58,
            60,
            62,
            64,
            66
           ],
           "xaxis": "x",
           "y": [
            -907.0509999999999,
            -939.895,
            -969.4108124999999,
            -995.9061686,
            -1020.1506612000001,
            -1041.4694499,
            -1057.2545125,
            -1071.1315382,
            -1082.4494619,
            -1091.6749939000001,
            -1098.8768559999999,
            -1103.9796450000001,
            -1106.96,
            -1107.969
           ],
           "yaxis": "y"
          },
          {
           "hovertemplate": "Odd Proton=True<br>Neutron Number [N]=73<br>Proton Number [Z]=%{x}<br>Deficit [MeV]=%{y}<extra></extra>",
           "legendgroup": "True",
           "marker": {
            "color": "#EF553B",
            "symbol": "circle"
           },
           "mode": "markers",
           "name": "True",
           "orientation": "v",
           "showlegend": true,
           "type": "scatter",
           "x": [
            41,
            43,
            45,
            47,
            49,
            51,
            53,
            55,
            57,
            59,
            61,
            63,
            65,
            67
           ],
           "xaxis": "x",
           "y": [
            -923.058,
            -953.868,
            -982.0967602000001,
            -1007.439372,
            -1029.9371638000002,
            -1048.5628107999999,
            -1063.4321754,
            -1076.0313984000002,
            -1086.304947,
            -1094.4829764,
            -1100.5973554,
            -1104.592,
            -1106.622,
            -1106.84
           ],
           "yaxis": "y"
          }
         ],
         "name": "73"
        },
        {
         "data": [
          {
           "hovertemplate": "Odd Proton=False<br>Neutron Number [N]=74<br>Proton Number [Z]=%{x}<br>Deficit [MeV]=%{y}<extra></extra>",
           "legendgroup": "False",
           "marker": {
            "color": "#636efa",
            "symbol": "circle"
           },
           "mode": "markers",
           "name": "False",
           "orientation": "v",
           "showlegend": true,
           "type": "scatter",
           "x": [
            40,
            42,
            44,
            46,
            48,
            50,
            52,
            54,
            56,
            58,
            60,
            62,
            64,
            66
           ],
           "xaxis": "x",
           "y": [
            null,
            -944.5880000000001,
            -975.034,
            -1002.8498040000001,
            -1027.7605374,
            -1049.9575628,
            -1066.3682022,
            -1080.7425024000001,
            -1092.7166900000002,
            -1102.5065436,
            -1110.2622394,
            -1116.0046439999999,
            -1119.456,
            -1121.12
           ],
           "yaxis": "y"
          },
          {
           "hovertemplate": "Odd Proton=True<br>Neutron Number [N]=74<br>Proton Number [Z]=%{x}<br>Deficit [MeV]=%{y}<extra></extra>",
           "legendgroup": "True",
           "marker": {
            "color": "#EF553B",
            "symbol": "circle"
           },
           "mode": "markers",
           "name": "True",
           "orientation": "v",
           "showlegend": true,
           "type": "scatter",
           "x": [
            41,
            43,
            45,
            47,
            49,
            51,
            53,
            55,
            57,
            59,
            61,
            63,
            65,
            67
           ],
           "xaxis": "x",
           "y": [
            -927.015,
            -958.815,
            -988.1040407,
            -1014.2620026,
            -1037.8661525999999,
            -1057.27015,
            -1072.576214,
            -1085.6699985,
            -1096.5181556,
            -1105.2644204,
            -1111.9670955,
            -1116.6286106,
            -1119.2279999999998,
            -1119.963
           ],
           "yaxis": "y"
          }
         ],
         "name": "74"
        },
        {
         "data": [
          {
           "hovertemplate": "Odd Proton=False<br>Neutron Number [N]=75<br>Proton Number [Z]=%{x}<br>Deficit [MeV]=%{y}<extra></extra>",
           "legendgroup": "False",
           "marker": {
            "color": "#636efa",
            "symbol": "circle"
           },
           "mode": "markers",
           "name": "False",
           "orientation": "v",
           "showlegend": true,
           "type": "scatter",
           "x": [
            42,
            44,
            46,
            48,
            50,
            52,
            54,
            56,
            58,
            60,
            62,
            64,
            66,
            68
           ],
           "xaxis": "x",
           "y": [
            -947.232,
            -978.1800000000001,
            -1006.8238663999998,
            -1032.6336465000002,
            -1055.6910625,
            -1072.655843,
            -1087.6493616,
            -1100.2101941,
            -1110.5274032999998,
            -1118.9007359999998,
            -1125.2567199000002,
            -1129.514,
            -1131.8069999999998,
            -1132.131
           ],
           "yaxis": "y"
          },
          {
           "hovertemplate": "Odd Proton=True<br>Neutron Number [N]=75<br>Proton Number [Z]=%{x}<br>Deficit [MeV]=%{y}<extra></extra>",
           "legendgroup": "True",
           "marker": {
            "color": "#EF553B",
            "symbol": "circle"
           },
           "mode": "markers",
           "name": "True",
           "orientation": "v",
           "showlegend": true,
           "type": "scatter",
           "x": [
            41,
            43,
            45,
            47,
            49,
            51,
            53,
            55,
            57,
            59,
            61,
            63,
            65,
            67,
            69
           ],
           "xaxis": "x",
           "y": [
            -929.392,
            -962.0540000000001,
            -991.92,
            -1019.0366102,
            -1043.3762132000002,
            -1063.4795136,
            -1079.4023552,
            -1093.142024,
            -1104.5437788000002,
            -1113.9261478,
            -1121.1460152,
            -1126.3037118,
            -1129.614248,
            -1131.03,
            -1130.3999999999999
           ],
           "yaxis": "y"
          }
         ],
         "name": "75"
        },
        {
         "data": [
          {
           "hovertemplate": "Odd Proton=False<br>Neutron Number [N]=76<br>Proton Number [Z]=%{x}<br>Deficit [MeV]=%{y}<extra></extra>",
           "legendgroup": "False",
           "marker": {
            "color": "#636efa",
            "symbol": "circle"
           },
           "mode": "markers",
           "name": "False",
           "orientation": "v",
           "showlegend": true,
           "type": "scatter",
           "x": [
            42,
            44,
            46,
            48,
            50,
            52,
            54,
            56,
            58,
            60,
            62,
            64,
            66,
            68
           ],
           "xaxis": "x",
           "y": [
            -951.9060000000001,
            -983.88,
            -1013.329011,
            -1039.9902196,
            -1063.8838601999998,
            -1081.4404608,
            -1096.905082,
            -1110.0374604,
            -1121.0133944000002,
            -1129.9577272,
            -1136.8341468,
            -1141.696598,
            -1144.662,
            -1145.664
           ],
           "yaxis": "y"
          },
          {
           "hovertemplate": "Odd Proton=True<br>Neutron Number [N]=76<br>Proton Number [Z]=%{x}<br>Deficit [MeV]=%{y}<extra></extra>",
           "legendgroup": "True",
           "marker": {
            "color": "#EF553B",
            "symbol": "circle"
           },
           "mode": "markers",
           "name": "True",
           "orientation": "v",
           "showlegend": true,
           "type": "scatter",
           "x": [
            41,
            43,
            45,
            47,
            49,
            51,
            53,
            55,
            57,
            59,
            61,
            63,
            65,
            67,
            69
           ],
           "xaxis": "x",
           "y": [
            null,
            -966.9939999999999,
            -997.6740037000001,
            -1025.5703961,
            -1050.9920625,
            -1071.855997,
            -1088.2428131999998,
            -1102.3691527,
            -1114.3859195,
            -1124.405334,
            -1132.1202692,
            -1138.0233993000002,
            -1141.7441301,
            -1143.857,
            -1143.905
           ],
           "yaxis": "y"
          }
         ],
         "name": "76"
        },
        {
         "data": [
          {
           "hovertemplate": "Odd Proton=False<br>Neutron Number [N]=77<br>Proton Number [Z]=%{x}<br>Deficit [MeV]=%{y}<extra></extra>",
           "legendgroup": "False",
           "marker": {
            "color": "#636efa",
            "symbol": "circle"
           },
           "mode": "markers",
           "name": "False",
           "orientation": "v",
           "showlegend": true,
           "type": "scatter",
           "x": [
            42,
            44,
            46,
            48,
            50,
            52,
            54,
            56,
            58,
            60,
            62,
            64,
            66,
            68
           ],
           "xaxis": "x",
           "y": [
            -954.261,
            -986.8760000000001,
            -1017.2139114,
            -1044.7101875,
            -1069.4096213999999,
            -1087.5228642,
            -1103.5095076999999,
            -1117.2273847000001,
            -1128.8681235,
            -1138.4137203999999,
            -1145.7879254000002,
            -1151.209869,
            -1154.7325361,
            -1156.375
           ],
           "yaxis": "y"
          },
          {
           "hovertemplate": "Odd Proton=True<br>Neutron Number [N]=77<br>Proton Number [Z]=%{x}<br>Deficit [MeV]=%{y}<extra></extra>",
           "legendgroup": "True",
           "marker": {
            "color": "#EF553B",
            "symbol": "circle"
           },
           "mode": "markers",
           "name": "True",
           "orientation": "v",
           "showlegend": true,
           "type": "scatter",
           "x": [
            43,
            45,
            47,
            49,
            51,
            53,
            55,
            57,
            59,
            61,
            63,
            65,
            67,
            69
           ],
           "xaxis": "x",
           "y": [
            -969.96,
            -1001.376,
            -1030.3030792,
            -1056.4604442000002,
            -1077.8588672,
            -1094.743143,
            -1109.5375895999998,
            -1122.1814992,
            -1132.8812104,
            -1141.0331004,
            -1147.68262,
            -1151.8341360000002,
            -1154.4620688,
            -1155.444
           ],
           "yaxis": "y"
          }
         ],
         "name": "77"
        },
        {
         "data": [
          {
           "hovertemplate": "Odd Proton=False<br>Neutron Number [N]=78<br>Proton Number [Z]=%{x}<br>Deficit [MeV]=%{y}<extra></extra>",
           "legendgroup": "False",
           "marker": {
            "color": "#636efa",
            "symbol": "circle"
           },
           "mode": "markers",
           "name": "False",
           "orientation": "v",
           "showlegend": true,
           "type": "scatter",
           "x": [
            44,
            46,
            48,
            50,
            52,
            54,
            56,
            58,
            60,
            62,
            64,
            66,
            68
           ],
           "xaxis": "x",
           "y": [
            -992.1039999999999,
            -1023.248,
            -1051.6891518,
            -1077.3727872,
            -1095.942263,
            -1112.4462228000002,
            -1126.6951954,
            -1138.8316864,
            -1148.9182548,
            -1156.9349539999998,
            -1163.0164797999998,
            -1167.2049888,
            -1169.5348542
           ],
           "yaxis": "y"
          },
          {
           "hovertemplate": "Odd Proton=True<br>Neutron Number [N]=78<br>Proton Number [Z]=%{x}<br>Deficit [MeV]=%{y}<extra></extra>",
           "legendgroup": "True",
           "marker": {
            "color": "#EF553B",
            "symbol": "circle"
           },
           "mode": "markers",
           "name": "True",
           "orientation": "v",
           "showlegend": true,
           "type": "scatter",
           "x": [
            43,
            45,
            47,
            49,
            51,
            53,
            55,
            57,
            59,
            61,
            63,
            65,
            67,
            69,
            71
           ],
           "xaxis": "x",
           "y": [
            -974.534,
            -1006.7550000000001,
            -1036.6643875,
            -1063.6022924,
            -1085.9297142000003,
            -1103.3209987,
            -1118.5271538000002,
            -1131.6776220000002,
            -1142.8139138,
            -1151.6910747000002,
            -1158.6936273,
            -1163.7651168000002,
            -1167.0439840000001,
            -1168.4762166,
            null
           ],
           "yaxis": "y"
          }
         ],
         "name": "78"
        },
        {
         "data": [
          {
           "hovertemplate": "Odd Proton=False<br>Neutron Number [N]=79<br>Proton Number [Z]=%{x}<br>Deficit [MeV]=%{y}<extra></extra>",
           "legendgroup": "False",
           "marker": {
            "color": "#636efa",
            "symbol": "circle"
           },
           "mode": "markers",
           "name": "False",
           "orientation": "v",
           "showlegend": true,
           "type": "scatter",
           "x": [
            44,
            46,
            48,
            50,
            52,
            54,
            56,
            58,
            60,
            62,
            64,
            66,
            68,
            70,
            72
           ],
           "xaxis": "x",
           "y": [
            -994.947,
            -1026.875,
            -1056.2459317,
            -1082.6732768999998,
            -1101.8716408999999,
            -1118.8821440999998,
            -1133.6671574999998,
            -1146.3132089,
            -1156.9893238,
            -1165.4842859999999,
            -1172.3595884,
            -1176.948818,
            -1179.891972,
            -1181.123,
            null
           ],
           "yaxis": "y"
          },
          {
           "hovertemplate": "Odd Proton=True<br>Neutron Number [N]=79<br>Proton Number [Z]=%{x}<br>Deficit [MeV]=%{y}<extra></extra>",
           "legendgroup": "True",
           "marker": {
            "color": "#EF553B",
            "symbol": "circle"
           },
           "mode": "markers",
           "name": "True",
           "orientation": "v",
           "showlegend": true,
           "type": "scatter",
           "x": [
            43,
            45,
            47,
            49,
            51,
            53,
            55,
            57,
            59,
            61,
            63,
            65,
            67,
            69,
            71
           ],
           "xaxis": "x",
           "y": [
            -977.3419999999999,
            -1010.352,
            -1040.886,
            -1068.9838208,
            -1091.657333,
            -1109.6530896,
            -1125.418698,
            -1139.1429632,
            -1150.8122909999997,
            -1160.4734119999998,
            -1168.1482320000002,
            -1173.7854287999999,
            -1177.2334196,
            -1179.3381628,
            -1179.8999999999999
           ],
           "yaxis": "y"
          }
         ],
         "name": "79"
        },
        {
         "data": [
          {
           "hovertemplate": "Odd Proton=False<br>Neutron Number [N]=80<br>Proton Number [Z]=%{x}<br>Deficit [MeV]=%{y}<extra></extra>",
           "legendgroup": "False",
           "marker": {
            "color": "#636efa",
            "symbol": "circle"
           },
           "mode": "markers",
           "name": "False",
           "orientation": "v",
           "showlegend": true,
           "type": "scatter",
           "x": [
            44,
            46,
            48,
            50,
            52,
            54,
            56,
            58,
            60,
            62,
            64,
            66,
            68,
            70
           ],
           "xaxis": "x",
           "y": [
            -1000.06,
            -1032.822,
            -1062.8142976,
            -1090.2862099999998,
            -1109.9201388000001,
            -1127.4357195999999,
            -1142.7748976,
            -1156.0316304000003,
            -1167.30096,
            -1176.6035794,
            -1183.9591008,
            -1189.3324687999998,
            -1192.8344751999998,
            -1194.75
           ],
           "yaxis": "y"
          },
          {
           "hovertemplate": "Odd Proton=True<br>Neutron Number [N]=80<br>Proton Number [Z]=%{x}<br>Deficit [MeV]=%{y}<extra></extra>",
           "legendgroup": "True",
           "marker": {
            "color": "#EF553B",
            "symbol": "circle"
           },
           "mode": "markers",
           "name": "True",
           "orientation": "v",
           "showlegend": true,
           "type": "scatter",
           "x": [
            45,
            47,
            49,
            51,
            53,
            55,
            57,
            59,
            61,
            63,
            65,
            67,
            69,
            71
           ],
           "xaxis": "x",
           "y": [
            -1015.5000000000001,
            -1046.988,
            -1075.699911,
            -1099.4243774999998,
            -1117.8782069,
            -1134.1808055,
            -1148.3176559,
            -1160.5833912,
            -1170.8556105000002,
            -1179.1519311,
            -1185.8882565,
            -1189.8236007,
            -1192.596,
            -1193.504
           ],
           "yaxis": "y"
          }
         ],
         "name": "80"
        },
        {
         "data": [
          {
           "hovertemplate": "Odd Proton=False<br>Neutron Number [N]=81<br>Proton Number [Z]=%{x}<br>Deficit [MeV]=%{y}<extra></extra>",
           "legendgroup": "False",
           "marker": {
            "color": "#636efa",
            "symbol": "circle"
           },
           "mode": "markers",
           "name": "False",
           "orientation": "v",
           "showlegend": true,
           "type": "scatter",
           "x": [
            44,
            46,
            48,
            50,
            52,
            54,
            56,
            58,
            60,
            62,
            64,
            66,
            68,
            70,
            72
           ],
           "xaxis": "x",
           "y": [
            -1002.875,
            -1036.32,
            -1066.7695119,
            -1095.4898973,
            -1115.7403914999998,
            -1133.7945705000002,
            -1149.6805456,
            -1163.4948296,
            -1175.3065434000002,
            -1185.2100975000003,
            -1193.1975324999999,
            -1199.0448959999999,
            -1203.1684142,
            -1205.5470956000001,
            -1205.946
           ],
           "yaxis": "y"
          },
          {
           "hovertemplate": "Odd Proton=True<br>Neutron Number [N]=81<br>Proton Number [Z]=%{x}<br>Deficit [MeV]=%{y}<extra></extra>",
           "legendgroup": "True",
           "marker": {
            "color": "#EF553B",
            "symbol": "circle"
           },
           "mode": "markers",
           "name": "True",
           "orientation": "v",
           "showlegend": true,
           "type": "scatter",
           "x": [
            45,
            47,
            49,
            51,
            53,
            55,
            57,
            59,
            61,
            63,
            65,
            67,
            69,
            71
           ],
           "xaxis": "x",
           "y": [
            -1018.962,
            -1051.008,
            -1080.84288,
            -1105.1495664,
            -1124.1356748,
            -1141.0090328,
            -1155.7615230000001,
            -1168.512282,
            -1179.5455354,
            -1188.6011136,
            -1195.3235204,
            -1200.1289955999998,
            -1203.15,
            -1204.752
           ],
           "yaxis": "y"
          }
         ],
         "name": "81"
        },
        {
         "data": [
          {
           "hovertemplate": "Odd Proton=False<br>Neutron Number [N]=82<br>Proton Number [Z]=%{x}<br>Deficit [MeV]=%{y}<extra></extra>",
           "legendgroup": "False",
           "marker": {
            "color": "#636efa",
            "symbol": "circle"
           },
           "mode": "markers",
           "name": "False",
           "orientation": "v",
           "showlegend": true,
           "type": "scatter",
           "x": [
            46,
            48,
            50,
            52,
            54,
            56,
            58,
            60,
            62,
            64,
            66,
            68,
            70,
            72
           ],
           "xaxis": "x",
           "y": [
            -1041.536,
            -1072.836284,
            -1102.8431832,
            -1123.4083228000002,
            -1141.8816903999998,
            -1158.2922636000003,
            -1172.68263,
            -1185.136402,
            -1195.72992,
            -1204.4280512,
            -1210.7795640000002,
            -1215.32943,
            -1218.3464392,
            -1219.372
           ],
           "yaxis": "y"
          },
          {
           "hovertemplate": "Odd Proton=True<br>Neutron Number [N]=82<br>Proton Number [Z]=%{x}<br>Deficit [MeV]=%{y}<extra></extra>",
           "legendgroup": "True",
           "marker": {
            "color": "#EF553B",
            "symbol": "circle"
           },
           "mode": "markers",
           "name": "True",
           "orientation": "v",
           "showlegend": true,
           "type": "scatter",
           "x": [
            45,
            47,
            49,
            51,
            53,
            55,
            57,
            59,
            61,
            63,
            65,
            67,
            69,
            71,
            73
           ],
           "xaxis": "x",
           "y": [
            -1023.6200000000001,
            -1056.2520000000002,
            -1087.0320264,
            -1112.5091166,
            -1131.9427215,
            -1149.2872597,
            -1164.5418193,
            -1177.9119131999998,
            -1189.4359762999998,
            -1199.0447880000002,
            -1206.373875,
            -1211.854995,
            -1215.5586976000002,
            -1217.7404946,
            -1217.99
           ],
           "yaxis": "y"
          }
         ],
         "name": "82"
        },
        {
         "data": [
          {
           "hovertemplate": "Odd Proton=False<br>Neutron Number [N]=83<br>Proton Number [Z]=%{x}<br>Deficit [MeV]=%{y}<extra></extra>",
           "legendgroup": "False",
           "marker": {
            "color": "#636efa",
            "symbol": "circle"
           },
           "mode": "markers",
           "name": "False",
           "orientation": "v",
           "showlegend": true,
           "type": "scatter",
           "x": [
            46,
            48,
            50,
            52,
            54,
            56,
            58,
            60,
            62,
            64,
            66,
            68,
            70,
            72,
            74
           ],
           "xaxis": "x",
           "y": [
            -1043.094,
            -1075.0017724,
            -1105.241837,
            -1126.674684,
            -1145.9072505000001,
            -1163.0156965999997,
            -1178.1107796,
            -1191.2599699,
            -1202.4870155,
            -1211.7704802,
            -1218.6854827999998,
            -1223.8357173,
            -1227.366,
            -1228.9950000000001,
            -1228.996
           ],
           "yaxis": "y"
          },
          {
           "hovertemplate": "Odd Proton=True<br>Neutron Number [N]=83<br>Proton Number [Z]=%{x}<br>Deficit [MeV]=%{y}<extra></extra>",
           "legendgroup": "True",
           "marker": {
            "color": "#EF553B",
            "symbol": "circle"
           },
           "mode": "markers",
           "name": "True",
           "orientation": "v",
           "showlegend": true,
           "type": "scatter",
           "x": [
            45,
            47,
            49,
            51,
            53,
            55,
            57,
            59,
            61,
            63,
            65,
            67,
            69,
            71,
            73
           ],
           "xaxis": "x",
           "y": [
            -1025.28,
            -1058.46,
            -1089.4905384,
            -1115.6759332000001,
            -1135.7800911999998,
            -1153.6998306,
            -1169.7028139999998,
            -1183.7550544,
            -1195.9627536,
            -1206.2421742,
            -1214.2394636000001,
            -1220.226345,
            -1224.5786824,
            -1227.072,
            -1228.032
           ],
           "yaxis": "y"
          }
         ],
         "name": "83"
        },
        {
         "data": [
          {
           "hovertemplate": "Odd Proton=False<br>Neutron Number [N]=84<br>Proton Number [Z]=%{x}<br>Deficit [MeV]=%{y}<extra></extra>",
           "legendgroup": "False",
           "marker": {
            "color": "#636efa",
            "symbol": "circle"
           },
           "mode": "markers",
           "name": "False",
           "orientation": "v",
           "showlegend": true,
           "type": "scatter",
           "x": [
            46,
            48,
            50,
            52,
            54,
            56,
            58,
            60,
            62,
            64,
            66,
            68,
            70,
            72,
            74
           ],
           "xaxis": "x",
           "y": [
            -1045.98,
            -1078.3267572,
            -1108.8730346,
            -1131.4424936,
            -1151.5673994,
            -1169.4409999999998,
            -1185.28394,
            -1199.0770128,
            -1210.9032826,
            -1220.7542904,
            -1228.3724250000002,
            -1234.140972,
            -1238.1507908,
            -1240.6161456,
            -1241.0900000000001
           ],
           "yaxis": "y"
          },
          {
           "hovertemplate": "Odd Proton=True<br>Neutron Number [N]=84<br>Proton Number [Z]=%{x}<br>Deficit [MeV]=%{y}<extra></extra>",
           "legendgroup": "True",
           "marker": {
            "color": "#EF553B",
            "symbol": "circle"
           },
           "mode": "markers",
           "name": "True",
           "orientation": "v",
           "showlegend": true,
           "type": "scatter",
           "x": [
            47,
            49,
            51,
            53,
            55,
            57,
            59,
            61,
            63,
            65,
            67,
            69,
            71,
            73,
            75
           ],
           "xaxis": "x",
           "y": [
            -1061.362,
            -1092.861,
            -1119.418569,
            -1140.6624521,
            -1159.5852183,
            -1176.391905,
            -1191.1082040000001,
            -1203.8854534999998,
            -1214.7405123,
            -1223.2624797,
            -1229.9745317,
            -1234.9023363000001,
            -1238.0527195,
            -1239.6815456,
            -1239.405
           ],
           "yaxis": "y"
          }
         ],
         "name": "84"
        },
        {
         "data": [
          {
           "hovertemplate": "Odd Proton=False<br>Neutron Number [N]=85<br>Proton Number [Z]=%{x}<br>Deficit [MeV]=%{y}<extra></extra>",
           "legendgroup": "False",
           "marker": {
            "color": "#636efa",
            "symbol": "circle"
           },
           "mode": "markers",
           "name": "False",
           "orientation": "v",
           "showlegend": true,
           "type": "scatter",
           "x": [
            46,
            48,
            50,
            52,
            54,
            56,
            58,
            60,
            62,
            64,
            66,
            68,
            70,
            72,
            74,
            76
           ],
           "xaxis": "x",
           "y": [
            -1047.083,
            -1080.093,
            -1111.1428395,
            -1134.3922908999998,
            -1155.3110655999997,
            -1173.9769134,
            -1190.4287395,
            -1204.8323035,
            -1217.2442898,
            -1227.6833544,
            -1235.8865139,
            -1242.1787562000002,
            -1246.792627,
            -1249.72,
            -1250.853,
            -1250.165
           ],
           "yaxis": "y"
          },
          {
           "hovertemplate": "Odd Proton=True<br>Neutron Number [N]=85<br>Proton Number [Z]=%{x}<br>Deficit [MeV]=%{y}<extra></extra>",
           "legendgroup": "True",
           "marker": {
            "color": "#EF553B",
            "symbol": "circle"
           },
           "mode": "markers",
           "name": "True",
           "orientation": "v",
           "showlegend": true,
           "type": "scatter",
           "x": [
            47,
            49,
            51,
            53,
            55,
            57,
            59,
            61,
            63,
            65,
            67,
            69,
            71,
            73,
            75
           ],
           "xaxis": "x",
           "y": [
            -1062.996,
            -1095.182,
            -1122.3064488,
            -1144.3574099999998,
            -1164.005178,
            -1181.5573346,
            -1196.8619184000001,
            -1210.14363,
            -1221.564694,
            -1230.95094,
            -1238.0277336,
            -1243.4281859999999,
            -1247.2785312,
            -1249.306,
            -1249.6
           ],
           "yaxis": "y"
          }
         ],
         "name": "85"
        },
        {
         "data": [
          {
           "hovertemplate": "Odd Proton=False<br>Neutron Number [N]=86<br>Proton Number [Z]=%{x}<br>Deficit [MeV]=%{y}<extra></extra>",
           "legendgroup": "False",
           "marker": {
            "color": "#636efa",
            "symbol": "circle"
           },
           "mode": "markers",
           "name": "False",
           "orientation": "v",
           "showlegend": true,
           "type": "scatter",
           "x": [
            48,
            50,
            52,
            54,
            56,
            58,
            60,
            62,
            64,
            66,
            68,
            70,
            72,
            74,
            76
           ],
           "xaxis": "x",
           "y": [
            -1083.5240000000001,
            -1114.792,
            -1138.8558468,
            -1160.72425,
            -1180.1579955999998,
            -1197.3256128000003,
            -1212.3975342,
            -1225.3856248000002,
            -1236.3915450000002,
            -1245.3233992,
            -1252.3883526,
            -1257.6268691999999,
            -1261.0416711999999,
            -1262.8462880000002,
            -1262.628
           ],
           "yaxis": "y"
          },
          {
           "hovertemplate": "Odd Proton=True<br>Neutron Number [N]=86<br>Proton Number [Z]=%{x}<br>Deficit [MeV]=%{y}<extra></extra>",
           "legendgroup": "True",
           "marker": {
            "color": "#EF553B",
            "symbol": "circle"
           },
           "mode": "markers",
           "name": "True",
           "orientation": "v",
           "showlegend": true,
           "type": "scatter",
           "x": [
            49,
            51,
            53,
            55,
            57,
            59,
            61,
            63,
            65,
            67,
            69,
            71,
            73,
            75
           ],
           "xaxis": "x",
           "y": [
            -1098.36,
            -1125.9312668,
            -1148.9197900000001,
            -1169.5041114,
            -1187.7761753,
            -1203.8086325,
            -1217.8025664,
            -1229.779844,
            -1239.5400193,
            -1247.5064916000001,
            -1253.69828,
            -1258.0901096,
            -1260.6674022,
            -1261.6490012
           ],
           "yaxis": "y"
          }
         ],
         "name": "86"
        },
        {
         "data": [
          {
           "hovertemplate": "Odd Proton=False<br>Neutron Number [N]=87<br>Proton Number [Z]=%{x}<br>Deficit [MeV]=%{y}<extra></extra>",
           "legendgroup": "False",
           "marker": {
            "color": "#636efa",
            "symbol": "circle"
           },
           "mode": "markers",
           "name": "False",
           "orientation": "v",
           "showlegend": true,
           "type": "scatter",
           "x": [
            50,
            52,
            54,
            56,
            58,
            60,
            62,
            64,
            66,
            68,
            70,
            72,
            74,
            76,
            78
           ],
           "xaxis": "x",
           "y": [
            -1116.8239999999998,
            -1141.4362524,
            -1164.0064227,
            -1184.3242554,
            -1202.032049,
            -1217.6897292,
            -1231.2567767000003,
            -1242.8877346,
            -1252.4199642,
            -1260.0638820000001,
            -1265.8525507000002,
            -1269.863199,
            -1272.061,
            -1272.5410000000002,
            -1270.9950000000001
           ],
           "yaxis": "y"
          },
          {
           "hovertemplate": "Odd Proton=True<br>Neutron Number [N]=87<br>Proton Number [Z]=%{x}<br>Deficit [MeV]=%{y}<extra></extra>",
           "legendgroup": "True",
           "marker": {
            "color": "#EF553B",
            "symbol": "circle"
           },
           "mode": "markers",
           "name": "True",
           "orientation": "v",
           "showlegend": true,
           "type": "scatter",
           "x": [
            49,
            51,
            53,
            55,
            57,
            59,
            61,
            63,
            65,
            67,
            69,
            71,
            73,
            75,
            77
           ],
           "xaxis": "x",
           "y": [
            -1100.376,
            -1128.564,
            -1152.12636,
            -1173.6126334,
            -1192.5256752,
            -1208.9274500000001,
            -1223.6977884,
            -1236.202215,
            -1246.7050944,
            -1255.205105,
            -1261.9780991999999,
            -1266.933823,
            -1270.123264,
            -1271.376,
            -1271
           ],
           "yaxis": "y"
          }
         ],
         "name": "87"
        },
        {
         "data": [
          {
           "hovertemplate": "Odd Proton=False<br>Neutron Number [N]=88<br>Proton Number [Z]=%{x}<br>Deficit [MeV]=%{y}<extra></extra>",
           "legendgroup": "False",
           "marker": {
            "color": "#636efa",
            "symbol": "circle"
           },
           "mode": "markers",
           "name": "False",
           "orientation": "v",
           "showlegend": true,
           "type": "scatter",
           "x": [
            50,
            52,
            54,
            56,
            58,
            60,
            62,
            64,
            66,
            68,
            70,
            72,
            74,
            76,
            78
           ],
           "xaxis": "x",
           "y": [
            -1120.284,
            -1145.6699380000002,
            -1169.110069,
            -1190.2255056,
            -1208.6621826,
            -1225.0223144,
            -1239.2435249999999,
            -1251.4774384000002,
            -1261.7420969999998,
            -1270.1377104,
            -1276.5135841999997,
            -1281.0206560000001,
            -1283.6590668,
            -1284.6625119999999,
            -1283.6779999999999
           ],
           "yaxis": "y"
          },
          {
           "hovertemplate": "Odd Proton=True<br>Neutron Number [N]=88<br>Proton Number [Z]=%{x}<br>Deficit [MeV]=%{y}<extra></extra>",
           "legendgroup": "True",
           "marker": {
            "color": "#EF553B",
            "symbol": "circle"
           },
           "mode": "markers",
           "name": "True",
           "orientation": "v",
           "showlegend": true,
           "type": "scatter",
           "x": [
            49,
            51,
            53,
            55,
            57,
            59,
            61,
            63,
            65,
            67,
            69,
            71,
            73,
            75,
            77
           ],
           "xaxis": "x",
           "y": [
            -1103.2610000000002,
            -1132.016,
            -1156.5181241999999,
            -1178.8449101,
            -1198.5826584999998,
            -1215.76938,
            -1230.9676273,
            -1244.1342698,
            -1255.3727112,
            -1264.6768525,
            -1271.9242745000001,
            -1277.5015431000002,
            -1281.14945,
            -1282.9510765,
            -1283.04
           ],
           "yaxis": "y"
          }
         ],
         "name": "88"
        },
        {
         "data": [
          {
           "hovertemplate": "Odd Proton=False<br>Neutron Number [N]=89<br>Proton Number [Z]=%{x}<br>Deficit [MeV]=%{y}<extra></extra>",
           "legendgroup": "False",
           "marker": {
            "color": "#636efa",
            "symbol": "circle"
           },
           "mode": "markers",
           "name": "False",
           "orientation": "v",
           "showlegend": true,
           "type": "scatter",
           "x": [
            50,
            52,
            54,
            56,
            58,
            60,
            62,
            64,
            66,
            68,
            70,
            72,
            74,
            76,
            78
           ],
           "xaxis": "x",
           "y": [
            -1122.1470000000002,
            -1148.022,
            -1172.1546265000002,
            -1194.0458695,
            -1213.1215278000002,
            -1230.0611112999998,
            -1244.8399984999999,
            -1257.7243976999998,
            -1268.575335,
            -1277.4109849000001,
            -1284.4088052,
            -1289.4690445,
            -1292.6396009,
            -1294.095,
            -1293.582
           ],
           "yaxis": "y"
          },
          {
           "hovertemplate": "Odd Proton=True<br>Neutron Number [N]=89<br>Proton Number [Z]=%{x}<br>Deficit [MeV]=%{y}<extra></extra>",
           "legendgroup": "True",
           "marker": {
            "color": "#EF553B",
            "symbol": "circle"
           },
           "mode": "markers",
           "name": "True",
           "orientation": "v",
           "showlegend": true,
           "type": "scatter",
           "x": [
            51,
            53,
            55,
            57,
            59,
            61,
            63,
            65,
            67,
            69,
            71,
            73,
            75,
            77
           ],
           "xaxis": "x",
           "y": [
            -1134.42,
            -1159.4657414,
            -1182.5120736000001,
            -1203.0398248,
            -1220.9320532,
            -1236.571875,
            -1250.4409807999998,
            -1262.2871338000002,
            -1272.246768,
            -1279.9895052000002,
            -1286.134192,
            -1290.2235984,
            -1292.4925772000001,
            -1292.974
           ],
           "yaxis": "y"
          }
         ],
         "name": "89"
        },
        {
         "data": [
          {
           "hovertemplate": "Odd Proton=False<br>Neutron Number [N]=90<br>Proton Number [Z]=%{x}<br>Deficit [MeV]=%{y}<extra></extra>",
           "legendgroup": "False",
           "marker": {
            "color": "#636efa",
            "symbol": "circle"
           },
           "mode": "markers",
           "name": "False",
           "orientation": "v",
           "showlegend": true,
           "type": "scatter",
           "x": [
            50,
            52,
            54,
            56,
            58,
            60,
            62,
            64,
            66,
            68,
            70,
            72,
            74,
            76,
            78,
            80
           ],
           "xaxis": "x",
           "y": [
            -1125.32,
            -1152.0459999999998,
            -1176.895368,
            -1199.4672778,
            -1219.5773648,
            -1237.4368350000002,
            -1253.097804,
            -1266.6191384,
            -1278.0201096,
            -1287.3724659999998,
            -1294.809824,
            -1300.3929702,
            -1304.0380460000001,
            -1305.8119586,
            -1305.9684456,
            -1304.07
           ],
           "yaxis": "y"
          },
          {
           "hovertemplate": "Odd Proton=True<br>Neutron Number [N]=90<br>Proton Number [Z]=%{x}<br>Deficit [MeV]=%{y}<extra></extra>",
           "legendgroup": "True",
           "marker": {
            "color": "#EF553B",
            "symbol": "circle"
           },
           "mode": "markers",
           "name": "True",
           "orientation": "v",
           "showlegend": true,
           "type": "scatter",
           "x": [
            51,
            53,
            55,
            57,
            59,
            61,
            63,
            65,
            67,
            69,
            71,
            73,
            75,
            77
           ],
           "xaxis": "x",
           "y": [
            -1137.729,
            -1163.5910000000001,
            -1187.366459,
            -1208.5683792,
            -1227.507296,
            -1244.4321173,
            -1258.9912683,
            -1271.4521814999998,
            -1281.6125561000001,
            -1289.9280291,
            -1296.4979180999999,
            -1301.0481515000001,
            -1303.7508165,
            -1304.7418418
           ],
           "yaxis": "y"
          }
         ],
         "name": "90"
        },
        {
         "data": [
          {
           "hovertemplate": "Odd Proton=False<br>Neutron Number [N]=91<br>Proton Number [Z]=%{x}<br>Deficit [MeV]=%{y}<extra></extra>",
           "legendgroup": "False",
           "marker": {
            "color": "#636efa",
            "symbol": "circle"
           },
           "mode": "markers",
           "name": "False",
           "orientation": "v",
           "showlegend": true,
           "type": "scatter",
           "x": [
            52,
            54,
            56,
            58,
            60,
            62,
            64,
            66,
            68,
            70,
            72,
            74,
            76,
            78,
            80
           ],
           "xaxis": "x",
           "y": [
            -1154.01,
            -1179.5877165,
            -1202.9363535,
            -1223.9201806,
            -1242.7713891,
            -1258.9662068999999,
            -1273.0543855,
            -1284.9867059,
            -1294.7010978,
            -1302.5521621,
            -1308.5651736,
            -1312.735116,
            -1314.9506019,
            -1315.4959999999999,
            -1314.306
           ],
           "yaxis": "y"
          },
          {
           "hovertemplate": "Odd Proton=True<br>Neutron Number [N]=91<br>Proton Number [Z]=%{x}<br>Deficit [MeV]=%{y}<extra></extra>",
           "legendgroup": "True",
           "marker": {
            "color": "#EF553B",
            "symbol": "circle"
           },
           "mode": "markers",
           "name": "True",
           "orientation": "v",
           "showlegend": true,
           "type": "scatter",
           "x": [
            51,
            53,
            55,
            57,
            59,
            61,
            63,
            65,
            67,
            69,
            71,
            73,
            75,
            77,
            79
           ],
           "xaxis": "x",
           "y": [
            -1139.8339999999998,
            -1166.112,
            -1190.693729,
            -1212.6700420000002,
            -1232.83974,
            -1250.3716536,
            -1265.4334924,
            -1278.3640739999998,
            -1289.0384022,
            -1297.729984,
            -1304.8386552,
            -1309.8676392,
            -1313.0001072,
            -1314.4069512,
            -1314.1000000000001
           ],
           "yaxis": "y"
          }
         ],
         "name": "91"
        },
        {
         "data": [
          {
           "hovertemplate": "Odd Proton=False<br>Neutron Number [N]=92<br>Proton Number [Z]=%{x}<br>Deficit [MeV]=%{y}<extra></extra>",
           "legendgroup": "False",
           "marker": {
            "color": "#636efa",
            "symbol": "circle"
           },
           "mode": "markers",
           "name": "False",
           "orientation": "v",
           "showlegend": true,
           "type": "scatter",
           "x": [
            52,
            54,
            56,
            58,
            60,
            62,
            64,
            66,
            68,
            70,
            72,
            74,
            76,
            78,
            80
           ],
           "xaxis": "x",
           "y": [
            -1157.7599999999998,
            -1184.1206484,
            -1208.2885463999999,
            -1230.16845,
            -1250.0491855999999,
            -1266.9330366,
            -1281.5907468,
            -1294.0405084,
            -1304.2754719999998,
            -1312.6103945999998,
            -1319.1855288,
            -1323.8325866,
            -1326.5180544,
            -1327.400205,
            -1326.7403007999999
           ],
           "yaxis": "y"
          },
          {
           "hovertemplate": "Odd Proton=True<br>Neutron Number [N]=92<br>Proton Number [Z]=%{x}<br>Deficit [MeV]=%{y}<extra></extra>",
           "legendgroup": "True",
           "marker": {
            "color": "#EF553B",
            "symbol": "circle"
           },
           "mode": "markers",
           "name": "True",
           "orientation": "v",
           "showlegend": true,
           "type": "scatter",
           "x": [
            53,
            55,
            57,
            59,
            61,
            63,
            65,
            67,
            69,
            71,
            73,
            75,
            77,
            79
           ],
           "xaxis": "x",
           "y": [
            -1170.005,
            -1195.374747,
            -1218.2525335,
            -1239.3902424,
            -1257.8365007999998,
            -1273.58478,
            -1287.1082312000003,
            -1298.2519494,
            -1307.3989866,
            -1314.8696224000003,
            -1320.5040255,
            -1324.143,
            -1325.9054535999999,
            -1325.9522799
           ],
           "yaxis": "y"
          }
         ],
         "name": "92"
        },
        {
         "data": [
          {
           "hovertemplate": "Odd Proton=False<br>Neutron Number [N]=93<br>Proton Number [Z]=%{x}<br>Deficit [MeV]=%{y}<extra></extra>",
           "legendgroup": "False",
           "marker": {
            "color": "#636efa",
            "symbol": "circle"
           },
           "mode": "markers",
           "name": "False",
           "orientation": "v",
           "showlegend": true,
           "type": "scatter",
           "x": [
            52,
            54,
            56,
            58,
            60,
            62,
            64,
            66,
            68,
            70,
            72,
            74,
            76,
            78,
            80
           ],
           "xaxis": "x",
           "y": [
            -1159.71,
            -1186.5839999999998,
            -1211.6455755,
            -1234.6179629,
            -1255.3012295999997,
            -1272.739999,
            -1287.9506304000001,
            -1300.8718878,
            -1311.4839107999999,
            -1320.1544246999997,
            -1327.074012,
            -1332.1096515,
            -1335.3173677999998,
            -1336.6388907,
            -1336.425
           ],
           "yaxis": "y"
          },
          {
           "hovertemplate": "Odd Proton=True<br>Neutron Number [N]=93<br>Proton Number [Z]=%{x}<br>Deficit [MeV]=%{y}<extra></extra>",
           "legendgroup": "True",
           "marker": {
            "color": "#EF553B",
            "symbol": "circle"
           },
           "mode": "markers",
           "name": "True",
           "orientation": "v",
           "showlegend": true,
           "type": "scatter",
           "x": [
            53,
            55,
            57,
            59,
            61,
            63,
            65,
            67,
            69,
            71,
            73,
            75,
            77,
            79
           ],
           "xaxis": "x",
           "y": [
            -1172.526,
            -1198.4369412,
            -1222.415085,
            -1244.4399448,
            -1263.5264180000001,
            -1279.9205952,
            -1293.8865847999998,
            -1305.376064,
            -1315.0490616,
            -1322.7919052,
            -1328.8252524000002,
            -1333.1002944,
            -1335.01,
            -1335.7792964
           ],
           "yaxis": "y"
          }
         ],
         "name": "93"
        },
        {
         "data": [
          {
           "hovertemplate": "Odd Proton=False<br>Neutron Number [N]=94<br>Proton Number [Z]=%{x}<br>Deficit [MeV]=%{y}<extra></extra>",
           "legendgroup": "False",
           "marker": {
            "color": "#636efa",
            "symbol": "circle"
           },
           "mode": "markers",
           "name": "False",
           "orientation": "v",
           "showlegend": true,
           "type": "scatter",
           "x": [
            54,
            56,
            58,
            60,
            62,
            64,
            66,
            68,
            70,
            72,
            74,
            76,
            78,
            80
           ],
           "xaxis": "x",
           "y": [
            -1190.9560000000001,
            -1216.776075,
            -1240.472,
            -1261.6217614,
            -1279.9808423999998,
            -1295.8880182,
            -1309.448416,
            -1320.6881358,
            -1329.9440435999998,
            -1337.3688076,
            -1342.9806936,
            -1346.5913859999998,
            -1348.350312,
            -1348.4626074
           ],
           "yaxis": "y"
          },
          {
           "hovertemplate": "Odd Proton=True<br>Neutron Number [N]=94<br>Proton Number [Z]=%{x}<br>Deficit [MeV]=%{y}<extra></extra>",
           "legendgroup": "True",
           "marker": {
            "color": "#EF553B",
            "symbol": "circle"
           },
           "mode": "markers",
           "name": "True",
           "orientation": "v",
           "showlegend": true,
           "type": "scatter",
           "x": [
            53,
            55,
            57,
            59,
            61,
            63,
            65,
            67,
            69,
            71,
            73,
            75,
            77,
            79
           ],
           "xaxis": "x",
           "y": [
            -1176.147,
            -1202.877,
            -1227.4855836,
            -1250.3216762999998,
            -1270.2711434999999,
            -1287.3682075000002,
            -1302.0195975,
            -1314.2612574,
            -1324.3713162000001,
            -1332.66309,
            -1339.1498538,
            -1343.7859747000002,
            -1346.3667045,
            -1347.3646204000001
           ],
           "yaxis": "y"
          }
         ],
         "name": "94"
        },
        {
         "data": [
          {
           "hovertemplate": "Odd Proton=False<br>Neutron Number [N]=95<br>Proton Number [Z]=%{x}<br>Deficit [MeV]=%{y}<extra></extra>",
           "legendgroup": "False",
           "marker": {
            "color": "#636efa",
            "symbol": "circle"
           },
           "mode": "markers",
           "name": "False",
           "orientation": "v",
           "showlegend": true,
           "type": "scatter",
           "x": [
            54,
            56,
            58,
            60,
            62,
            64,
            66,
            68,
            70,
            72,
            74,
            76,
            78,
            80
           ],
           "xaxis": "x",
           "y": [
            -1193.3410000000001,
            -1219.929,
            -1244.502,
            -1266.397275,
            -1285.3690794,
            -1301.8312143,
            -1315.9027973,
            -1327.5926689,
            -1337.2985835,
            -1345.0488950000001,
            -1351.0769389,
            -1355.0342499,
            -1357.2517088,
            -1357.8623449999998
           ],
           "yaxis": "y"
          },
          {
           "hovertemplate": "Odd Proton=True<br>Neutron Number [N]=95<br>Proton Number [Z]=%{x}<br>Deficit [MeV]=%{y}<extra></extra>",
           "legendgroup": "True",
           "marker": {
            "color": "#EF553B",
            "symbol": "circle"
           },
           "mode": "markers",
           "name": "True",
           "orientation": "v",
           "showlegend": true,
           "type": "scatter",
           "x": [
            55,
            57,
            59,
            61,
            63,
            65,
            67,
            69,
            71,
            73,
            75,
            77,
            79,
            81
           ],
           "xaxis": "x",
           "y": [
            -1205.85,
            -1231.5040000000001,
            -1254.6841075999998,
            -1275.5693028,
            -1293.2508559999999,
            -1308.394816,
            -1321.1768412,
            -1331.6231576,
            -1340.3131496,
            -1347.2640216000002,
            -1352.35204,
            -1355.4053564,
            -1356.6779999999999,
            -1356.5971407999998
           ],
           "yaxis": "y"
          }
         ],
         "name": "95"
        },
        {
         "data": [
          {
           "hovertemplate": "Odd Proton=False<br>Neutron Number [N]=96<br>Proton Number [Z]=%{x}<br>Deficit [MeV]=%{y}<extra></extra>",
           "legendgroup": "False",
           "marker": {
            "color": "#636efa",
            "symbol": "circle"
           },
           "mode": "markers",
           "name": "False",
           "orientation": "v",
           "showlegend": true,
           "type": "scatter",
           "x": [
            54,
            56,
            58,
            60,
            62,
            64,
            66,
            68,
            70,
            72,
            74,
            76,
            78,
            80,
            82
           ],
           "xaxis": "x",
           "y": [
            -1197.45,
            -1224.664,
            -1249.864,
            -1272.386934,
            -1292.014585,
            -1309.282736,
            -1324.0997909999999,
            -1336.4391324,
            -1346.6682106,
            -1355.0130047999999,
            -1361.521194,
            -1366.0519672,
            -1368.7038882000002,
            -1369.748864,
            -1368.9687902
           ],
           "yaxis": "y"
          },
          {
           "hovertemplate": "Odd Proton=True<br>Neutron Number [N]=96<br>Proton Number [Z]=%{x}<br>Deficit [MeV]=%{y}<extra></extra>",
           "legendgroup": "True",
           "marker": {
            "color": "#EF553B",
            "symbol": "circle"
           },
           "mode": "markers",
           "name": "True",
           "orientation": "v",
           "showlegend": true,
           "type": "scatter",
           "x": [
            55,
            57,
            59,
            61,
            63,
            65,
            67,
            69,
            71,
            73,
            75,
            77,
            79,
            81
           ],
           "xaxis": "x",
           "y": [
            -1209.963,
            -1236.393,
            -1260.311169,
            -1281.7708906,
            -1300.0950933,
            -1316.0914248999998,
            -1329.585621,
            -1340.7155685,
            -1349.8897574,
            -1357.2318513,
            -1362.7696401,
            -1366.3657640000001,
            -1368.0789324999998,
            -1368.5932935
           ],
           "yaxis": "y"
          }
         ],
         "name": "96"
        },
        {
         "data": [
          {
           "hovertemplate": "Odd Proton=False<br>Neutron Number [N]=97<br>Proton Number [Z]=%{x}<br>Deficit [MeV]=%{y}<extra></extra>",
           "legendgroup": "False",
           "marker": {
            "color": "#636efa",
            "symbol": "circle"
           },
           "mode": "markers",
           "name": "False",
           "orientation": "v",
           "showlegend": true,
           "type": "scatter",
           "x": [
            56,
            58,
            60,
            62,
            64,
            66,
            68,
            70,
            72,
            74,
            76,
            78,
            80,
            82
           ],
           "xaxis": "x",
           "y": [
            -1227.519,
            -1253.485,
            -1276.7502347,
            -1297.0419117,
            -1314.9181374,
            -1330.370792,
            -1343.089242,
            -1353.7357339999999,
            -1362.4406678999999,
            -1369.3878017999998,
            -1374.3178993,
            -1377.16628,
            -1378.8113618999998,
            -1378.5618769999999
           ],
           "yaxis": "y"
          },
          {
           "hovertemplate": "Odd Proton=True<br>Neutron Number [N]=97<br>Proton Number [Z]=%{x}<br>Deficit [MeV]=%{y}<extra></extra>",
           "legendgroup": "True",
           "marker": {
            "color": "#EF553B",
            "symbol": "circle"
           },
           "mode": "markers",
           "name": "True",
           "orientation": "v",
           "showlegend": true,
           "type": "scatter",
           "x": [
            55,
            57,
            59,
            61,
            63,
            65,
            67,
            69,
            71,
            73,
            75,
            77,
            79,
            81
           ],
           "xaxis": "x",
           "y": [
            -1212.96,
            -1239.854,
            -1264.4164572,
            -1286.6512276,
            -1305.61648,
            -1322.5805226,
            -1336.2594376,
            -1347.7433262,
            -1357.5076368000002,
            -1365.150405,
            -1371.1575119999998,
            -1374.9545598,
            -1377.2675312000001,
            -1377.898
           ],
           "yaxis": "y"
          }
         ],
         "name": "97"
        },
        {
         "data": [
          {
           "hovertemplate": "Odd Proton=False<br>Neutron Number [N]=98<br>Proton Number [Z]=%{x}<br>Deficit [MeV]=%{y}<extra></extra>",
           "legendgroup": "False",
           "marker": {
            "color": "#636efa",
            "symbol": "circle"
           },
           "mode": "markers",
           "name": "False",
           "orientation": "v",
           "showlegend": true,
           "type": "scatter",
           "x": [
            56,
            58,
            60,
            62,
            64,
            66,
            68,
            70,
            72,
            74,
            76,
            78,
            80,
            82
           ],
           "xaxis": "x",
           "y": [
            -1232.154,
            -1258.608,
            -1282.1625582000001,
            -1303.138544,
            -1321.7640426,
            -1338.0289156000001,
            -1351.5633513999999,
            -1362.797016,
            -1372.0489539999999,
            -1379.4702203999998,
            -1384.9463532,
            -1388.4628384,
            -1390.4222046,
            -1390.625874
           ],
           "yaxis": "y"
          },
          {
           "hovertemplate": "Odd Proton=True<br>Neutron Number [N]=98<br>Proton Number [Z]=%{x}<br>Deficit [MeV]=%{y}<extra></extra>",
           "legendgroup": "True",
           "marker": {
            "color": "#EF553B",
            "symbol": "circle"
           },
           "mode": "markers",
           "name": "True",
           "orientation": "v",
           "showlegend": true,
           "type": "scatter",
           "x": [
            57,
            59,
            61,
            63,
            65,
            67,
            69,
            71,
            73,
            75,
            77,
            79,
            81
           ],
           "xaxis": "x",
           "y": [
            -1244.3400000000001,
            -1269.473269,
            -1292.1707559,
            -1311.985941,
            -1329.3680485999998,
            -1344.2482515,
            -1356.4712941999999,
            -1366.5886377,
            -1374.8043294000001,
            -1381.2158764,
            -1385.63446,
            -1388.3636271,
            -1389.6654618
           ],
           "yaxis": "y"
          }
         ],
         "name": "98"
        },
        {
         "data": [
          {
           "hovertemplate": "Odd Proton=False<br>Neutron Number [N]=99<br>Proton Number [Z]=%{x}<br>Deficit [MeV]=%{y}<extra></extra>",
           "legendgroup": "False",
           "marker": {
            "color": "#636efa",
            "symbol": "circle"
           },
           "mode": "markers",
           "name": "False",
           "orientation": "v",
           "showlegend": true,
           "type": "scatter",
           "x": [
            58,
            60,
            62,
            64,
            66,
            68,
            70,
            72,
            74,
            76,
            78,
            80,
            82
           ],
           "xaxis": "x",
           "y": [
            -1261.8090000000002,
            -1286.1227615999999,
            -1307.6487298,
            -1326.9432279999999,
            -1343.7448695,
            -1357.9997784,
            -1369.6639813999998,
            -1379.2977477000002,
            -1387.1717300999999,
            -1393.127645,
            -1396.9706592,
            -1399.1110949000001,
            -1399.8667423999998
           ],
           "yaxis": "y"
          },
          {
           "hovertemplate": "Odd Proton=True<br>Neutron Number [N]=99<br>Proton Number [Z]=%{x}<br>Deficit [MeV]=%{y}<extra></extra>",
           "legendgroup": "True",
           "marker": {
            "color": "#EF553B",
            "symbol": "circle"
           },
           "mode": "markers",
           "name": "True",
           "orientation": "v",
           "showlegend": true,
           "type": "scatter",
           "x": [
            57,
            59,
            61,
            63,
            65,
            67,
            69,
            71,
            73,
            75,
            77,
            79,
            81
           ],
           "xaxis": "x",
           "y": [
            -1247.532,
            -1273.322,
            -1296.5823679999999,
            -1316.9886066000001,
            -1334.9485856000001,
            -1350.4918878,
            -1363.3118688,
            -1373.8836620000002,
            -1382.4853632000002,
            -1389.4064256000001,
            -1394.1931872,
            -1397.1922387999998,
            -1398.8575799999999
           ],
           "yaxis": "y"
          }
         ],
         "name": "99"
        },
        {
         "data": [
          {
           "hovertemplate": "Odd Proton=False<br>Neutron Number [N]=100<br>Proton Number [Z]=%{x}<br>Deficit [MeV]=%{y}<extra></extra>",
           "legendgroup": "False",
           "marker": {
            "color": "#636efa",
            "symbol": "circle"
           },
           "mode": "markers",
           "name": "False",
           "orientation": "v",
           "showlegend": true,
           "type": "scatter",
           "x": [
            58,
            60,
            62,
            64,
            66,
            68,
            70,
            72,
            74,
            76,
            78,
            80,
            82
           ],
           "xaxis": "x",
           "y": [
            -1266.3700000000001,
            -1291.1945919999998,
            -1313.427069,
            -1333.3196392,
            -1350.7883637999998,
            -1365.7710696000001,
            -1378.123717,
            -1388.3399508,
            -1396.7427527999998,
            -1403.2247856,
            -1407.6690339999998,
            -1410.499998,
            -1411.6519872
           ],
           "yaxis": "y"
          },
          {
           "hovertemplate": "Odd Proton=True<br>Neutron Number [N]=100<br>Proton Number [Z]=%{x}<br>Deficit [MeV]=%{y}<extra></extra>",
           "legendgroup": "True",
           "marker": {
            "color": "#EF553B",
            "symbol": "circle"
           },
           "mode": "markers",
           "name": "True",
           "orientation": "v",
           "showlegend": true,
           "type": "scatter",
           "x": [
            57,
            59,
            61,
            63,
            65,
            67,
            69,
            71,
            73,
            75,
            77,
            79,
            81
           ],
           "xaxis": "x",
           "y": [
            -1251.604,
            -1277.883,
            -1301.8456297,
            -1322.9108036,
            -1341.5037734999999,
            -1357.7723244,
            -1371.3454637999998,
            -1382.4772191,
            -1391.623245,
            -1399.09294,
            -1404.4300056,
            -1407.9490945999999,
            -1410.3372123
           ],
           "yaxis": "y"
          }
         ],
         "name": "100"
        },
        {
         "data": [
          {
           "hovertemplate": "Odd Proton=False<br>Neutron Number [N]=101<br>Proton Number [Z]=%{x}<br>Deficit [MeV]=%{y}<extra></extra>",
           "legendgroup": "False",
           "marker": {
            "color": "#636efa",
            "symbol": "circle"
           },
           "mode": "markers",
           "name": "False",
           "orientation": "v",
           "showlegend": true,
           "type": "scatter",
           "x": [
            60,
            62,
            64,
            66,
            68,
            70,
            72,
            74,
            76,
            78,
            80,
            82
           ],
           "xaxis": "x",
           "y": [
            -1294.762,
            -1317.7189439,
            -1338.223062,
            -1356.1866594,
            -1371.7743182,
            -1384.7379246,
            -1395.4208372,
            -1404.219775,
            -1411.1213667000002,
            -1416.0109861,
            -1418.9819352,
            -1420.4787569999999
           ],
           "yaxis": "y"
          },
          {
           "hovertemplate": "Odd Proton=True<br>Neutron Number [N]=101<br>Proton Number [Z]=%{x}<br>Deficit [MeV]=%{y}<extra></extra>",
           "legendgroup": "True",
           "marker": {
            "color": "#EF553B",
            "symbol": "circle"
           },
           "mode": "markers",
           "name": "True",
           "orientation": "v",
           "showlegend": true,
           "type": "scatter",
           "x": [
            59,
            61,
            63,
            65,
            67,
            69,
            71,
            73,
            75,
            77,
            79,
            81,
            83
           ],
           "xaxis": "x",
           "y": [
            -1281.44,
            -1305.882,
            -1327.6404504000002,
            -1346.795018,
            -1363.6234248,
            -1377.9374480000001,
            -1389.4561448,
            -1399.0387872000001,
            -1406.9388432,
            -1412.708214,
            -1416.657492,
            -1418.9369922,
            -1419.008
           ],
           "yaxis": "y"
          }
         ],
         "name": "101"
        },
        {
         "data": [
          {
           "hovertemplate": "Odd Proton=False<br>Neutron Number [N]=102<br>Proton Number [Z]=%{x}<br>Deficit [MeV]=%{y}<extra></extra>",
           "legendgroup": "False",
           "marker": {
            "color": "#636efa",
            "symbol": "circle"
           },
           "mode": "markers",
           "name": "False",
           "orientation": "v",
           "showlegend": true,
           "type": "scatter",
           "x": [
            60,
            62,
            64,
            66,
            68,
            70,
            72,
            74,
            76,
            78,
            80,
            82,
            84
           ],
           "xaxis": "x",
           "y": [
            -1299.564,
            -1323.1159692,
            -1344.139516,
            -1362.9049224,
            -1379.031993,
            -1392.7578740000001,
            -1403.9249333999999,
            -1413.2999055999999,
            -1420.7804784,
            -1426.244058,
            -1429.9690132,
            -1432.0216576,
            -1431.4464768
           ],
           "yaxis": "y"
          },
          {
           "hovertemplate": "Odd Proton=True<br>Neutron Number [N]=102<br>Proton Number [Z]=%{x}<br>Deficit [MeV]=%{y}<extra></extra>",
           "legendgroup": "True",
           "marker": {
            "color": "#EF553B",
            "symbol": "circle"
           },
           "mode": "markers",
           "name": "True",
           "orientation": "v",
           "showlegend": true,
           "type": "scatter",
           "x": [
            59,
            61,
            63,
            65,
            67,
            69,
            71,
            73,
            75,
            77,
            79,
            81,
            83
           ],
           "xaxis": "x",
           "y": [
            -1285.7459999999999,
            -1310.846,
            -1333.2087285,
            -1352.940647,
            -1370.4315118,
            -1385.4237201,
            -1397.6723976000003,
            -1407.7779799999998,
            -1416.2164533,
            -1422.6069392,
            -1426.9742979,
            -1430.2683603,
            -1430.42
           ],
           "yaxis": "y"
          }
         ],
         "name": "102"
        },
        {
         "data": [
          {
           "hovertemplate": "Odd Proton=False<br>Neutron Number [N]=103<br>Proton Number [Z]=%{x}<br>Deficit [MeV]=%{y}<extra></extra>",
           "legendgroup": "False",
           "marker": {
            "color": "#636efa",
            "symbol": "circle"
           },
           "mode": "markers",
           "name": "False",
           "orientation": "v",
           "showlegend": true,
           "type": "scatter",
           "x": [
            60,
            62,
            64,
            66,
            68,
            70,
            72,
            74,
            76,
            78,
            80,
            82,
            84
           ],
           "xaxis": "x",
           "y": [
            -1302.696,
            -1326.765,
            -1348.6156476,
            -1368.0138654,
            -1384.7136083999999,
            -1399.1249748,
            -1410.6334375,
            -1420.4313543,
            -1428.3277076000002,
            -1434.2670051,
            -1438.2680954999998,
            -1440.582605,
            -1440.7955243
           ],
           "yaxis": "y"
          },
          {
           "hovertemplate": "Odd Proton=True<br>Neutron Number [N]=103<br>Proton Number [Z]=%{x}<br>Deficit [MeV]=%{y}<extra></extra>",
           "legendgroup": "True",
           "marker": {
            "color": "#EF553B",
            "symbol": "circle"
           },
           "mode": "markers",
           "name": "True",
           "orientation": "v",
           "showlegend": true,
           "type": "scatter",
           "x": [
            61,
            63,
            65,
            67,
            69,
            71,
            73,
            75,
            77,
            79,
            81,
            83
           ],
           "xaxis": "x",
           "y": [
            -1314.2959999999998,
            -1337.2959999999998,
            -1357.9100640000001,
            -1375.9443340000003,
            -1391.6583124,
            -1404.4329959999998,
            -1414.8060255999999,
            -1423.6720528,
            -1430.574066,
            -1435.4784444000002,
            -1438.6357768,
            -1439.475855
           ],
           "yaxis": "y"
          }
         ],
         "name": "103"
        },
        {
         "data": [
          {
           "hovertemplate": "Odd Proton=False<br>Neutron Number [N]=104<br>Proton Number [Z]=%{x}<br>Deficit [MeV]=%{y}<extra></extra>",
           "legendgroup": "False",
           "marker": {
            "color": "#636efa",
            "symbol": "circle"
           },
           "mode": "markers",
           "name": "False",
           "orientation": "v",
           "showlegend": true,
           "type": "scatter",
           "x": [
            62,
            64,
            66,
            68,
            70,
            72,
            74,
            76,
            78,
            80,
            82,
            84
           ],
           "xaxis": "x",
           "y": [
            -1331.818,
            -1354.0800000000002,
            -1374.28,
            -1391.5496944,
            -1406.5895694,
            -1418.7994304,
            -1429.2079952,
            -1437.735078,
            -1444.1252462,
            -1448.8795536,
            -1451.793612,
            -1452.2350272
           ],
           "yaxis": "y"
          },
          {
           "hovertemplate": "Odd Proton=True<br>Neutron Number [N]=104<br>Proton Number [Z]=%{x}<br>Deficit [MeV]=%{y}<extra></extra>",
           "legendgroup": "True",
           "marker": {
            "color": "#EF553B",
            "symbol": "circle"
           },
           "mode": "markers",
           "name": "True",
           "orientation": "v",
           "showlegend": true,
           "type": "scatter",
           "x": [
            61,
            63,
            65,
            67,
            69,
            71,
            73,
            75,
            77,
            79,
            81,
            83
           ],
           "xaxis": "x",
           "y": [
            -1318.68,
            -1342.346,
            -1363.661,
            -1382.2959591000001,
            -1398.6121509,
            -1412.0997100000002,
            -1423.2267153000003,
            -1432.6742214,
            -1440.1308801999999,
            -1445.4372852000001,
            -1449.581486,
            -1450.7849521
           ],
           "yaxis": "y"
          }
         ],
         "name": "104"
        },
        {
         "data": [
          {
           "hovertemplate": "Odd Proton=False<br>Neutron Number [N]=105<br>Proton Number [Z]=%{x}<br>Deficit [MeV]=%{y}<extra></extra>",
           "legendgroup": "False",
           "marker": {
            "color": "#636efa",
            "symbol": "circle"
           },
           "mode": "markers",
           "name": "False",
           "orientation": "v",
           "showlegend": true,
           "type": "scatter",
           "x": [
            62,
            64,
            66,
            68,
            70,
            72,
            74,
            76,
            78,
            80,
            82,
            84
           ],
           "xaxis": "x",
           "y": [
            -1334.664,
            -1357.915,
            -1378.6019999999999,
            -1396.802,
            -1412.4119275,
            -1425.1750605,
            -1436.1674959000002,
            -1445.0001602999998,
            -1451.8013298,
            -1456.7897335,
            -1460.170987,
            -1461.1839669
           ],
           "yaxis": "y"
          },
          {
           "hovertemplate": "Odd Proton=True<br>Neutron Number [N]=105<br>Proton Number [Z]=%{x}<br>Deficit [MeV]=%{y}<extra></extra>",
           "legendgroup": "True",
           "marker": {
            "color": "#EF553B",
            "symbol": "circle"
           },
           "mode": "markers",
           "name": "True",
           "orientation": "v",
           "showlegend": true,
           "type": "scatter",
           "x": [
            63,
            65,
            67,
            69,
            71,
            73,
            75,
            77,
            79,
            81,
            83
           ],
           "xaxis": "x",
           "y": [
            -1346.016,
            -1367.99,
            -1387.352,
            -1404.2919168,
            -1418.3876784,
            -1430.23,
            -1439.998596,
            -1447.7908536,
            -1453.6358248000001,
            -1457.7779946,
            -1459.6677952
           ],
           "yaxis": "y"
          }
         ],
         "name": "105"
        },
        {
         "data": [
          {
           "hovertemplate": "Odd Proton=False<br>Neutron Number [N]=106<br>Proton Number [Z]=%{x}<br>Deficit [MeV]=%{y}<extra></extra>",
           "legendgroup": "False",
           "marker": {
            "color": "#636efa",
            "symbol": "circle"
           },
           "mode": "markers",
           "name": "False",
           "orientation": "v",
           "showlegend": true,
           "type": "scatter",
           "x": [
            62,
            64,
            66,
            68,
            70,
            72,
            74,
            76,
            78,
            80,
            82,
            84
           ],
           "xaxis": "x",
           "y": [
            -1339.128,
            -1362.8899999999999,
            -1384.4279999999999,
            -1403.136,
            -1419.2790128000001,
            -1432.8009964,
            -1444.579812,
            -1454.1306233999999,
            -1461.4319416,
            -1467.216453,
            -1471.0663668,
            -1472.395994
           ],
           "yaxis": "y"
          },
          {
           "hovertemplate": "Odd Proton=True<br>Neutron Number [N]=106<br>Proton Number [Z]=%{x}<br>Deficit [MeV]=%{y}<extra></extra>",
           "legendgroup": "True",
           "marker": {
            "color": "#EF553B",
            "symbol": "circle"
           },
           "mode": "markers",
           "name": "True",
           "orientation": "v",
           "showlegend": true,
           "type": "scatter",
           "x": [
            63,
            65,
            67,
            69,
            71,
            73,
            75,
            77,
            79,
            81,
            83,
            85
           ],
           "xaxis": "x",
           "y": [
            -1350.479,
            -1373.1299999999999,
            -1393.342,
            -1410.8092775,
            -1425.4605614999998,
            -1438.0120551,
            -1448.7499554,
            -1457.0126208000001,
            -1463.246585,
            -1468.410955,
            -1470.6089811,
            -1471.2583503
           ],
           "yaxis": "y"
          }
         ],
         "name": "106"
        },
        {
         "data": [
          {
           "hovertemplate": "Odd Proton=False<br>Neutron Number [N]=107<br>Proton Number [Z]=%{x}<br>Deficit [MeV]=%{y}<extra></extra>",
           "legendgroup": "False",
           "marker": {
            "color": "#636efa",
            "symbol": "circle"
           },
           "mode": "markers",
           "name": "False",
           "orientation": "v",
           "showlegend": true,
           "type": "scatter",
           "x": [
            64,
            66,
            68,
            70,
            72,
            74,
            76,
            78,
            80,
            82,
            84,
            86
           ],
           "xaxis": "x",
           "y": [
            -1366.29,
            -1388.498,
            -1407.875,
            -1424.8454157,
            -1438.8999846000002,
            -1451.2488414000002,
            -1461.2565921,
            -1468.8589115,
            -1474.8672235,
            -1479.1706811000001,
            -1480.9733360999999,
            -1481.439629
           ],
           "yaxis": "y"
          },
          {
           "hovertemplate": "Odd Proton=True<br>Neutron Number [N]=107<br>Proton Number [Z]=%{x}<br>Deficit [MeV]=%{y}<extra></extra>",
           "legendgroup": "True",
           "marker": {
            "color": "#EF553B",
            "symbol": "circle"
           },
           "mode": "markers",
           "name": "True",
           "orientation": "v",
           "showlegend": true,
           "type": "scatter",
           "x": [
            65,
            67,
            69,
            71,
            73,
            75,
            77,
            79,
            81,
            83,
            85
           ],
           "xaxis": "x",
           "y": [
            -1377.0320000000002,
            -1397.9160000000002,
            -1415.9413663999999,
            -1431.4858612,
            -1444.659552,
            -1455.7500048,
            -1464.4926527999999,
            -1471.1746074,
            -1476.3740956000001,
            -1479.2115410000001,
            -1480.2678336
           ],
           "yaxis": "y"
          }
         ],
         "name": "107"
        },
        {
         "data": [
          {
           "hovertemplate": "Odd Proton=False<br>Neutron Number [N]=108<br>Proton Number [Z]=%{x}<br>Deficit [MeV]=%{y}<extra></extra>",
           "legendgroup": "False",
           "marker": {
            "color": "#636efa",
            "symbol": "circle"
           },
           "mode": "markers",
           "name": "False",
           "orientation": "v",
           "showlegend": true,
           "type": "scatter",
           "x": [
            64,
            66,
            68,
            70,
            72,
            74,
            76,
            78,
            80,
            82,
            84,
            86
           ],
           "xaxis": "x",
           "y": [
            -1371.184,
            -1393.9139999999998,
            -1413.9840000000002,
            -1431.6074707999999,
            -1446.287742,
            -1459.3323472,
            -1469.9167152,
            -1478.1065484,
            -1485.018392,
            -1489.814586,
            -1492.0424064,
            -1492.8292434
           ],
           "yaxis": "y"
          },
          {
           "hovertemplate": "Odd Proton=True<br>Neutron Number [N]=108<br>Proton Number [Z]=%{x}<br>Deficit [MeV]=%{y}<extra></extra>",
           "legendgroup": "True",
           "marker": {
            "color": "#EF553B",
            "symbol": "circle"
           },
           "mode": "markers",
           "name": "True",
           "orientation": "v",
           "showlegend": true,
           "type": "scatter",
           "x": [
            65,
            67,
            69,
            71,
            73,
            75,
            77,
            79,
            81,
            83,
            85
           ],
           "xaxis": "x",
           "y": [
            -1381.924,
            -1403.325,
            -1422.195,
            -1438.2783176000003,
            -1452.2363050000001,
            -1464.1848483,
            -1473.288681,
            -1480.5598401000002,
            -1486.7251056,
            -1489.9263083,
            -1491.3322107000001
           ],
           "yaxis": "y"
          }
         ],
         "name": "108"
        },
        {
         "data": [
          {
           "hovertemplate": "Odd Proton=False<br>Neutron Number [N]=109<br>Proton Number [Z]=%{x}<br>Deficit [MeV]=%{y}<extra></extra>",
           "legendgroup": "False",
           "marker": {
            "color": "#636efa",
            "symbol": "circle"
           },
           "mode": "markers",
           "name": "False",
           "orientation": "v",
           "showlegend": true,
           "type": "scatter",
           "x": [
            66,
            68,
            70,
            72,
            74,
            76,
            78,
            80,
            82,
            84,
            86
           ],
           "xaxis": "x",
           "y": [
            -1397.55,
            -1418.301,
            -1436.654,
            -1451.9825429999999,
            -1465.5231822,
            -1476.5413695,
            -1484.9987713,
            -1492.5177288,
            -1497.7605362000002,
            -1500.372543,
            -1501.5748995
           ],
           "yaxis": "y"
          },
          {
           "hovertemplate": "Odd Proton=True<br>Neutron Number [N]=109<br>Proton Number [Z]=%{x}<br>Deficit [MeV]=%{y}<extra></extra>",
           "legendgroup": "True",
           "marker": {
            "color": "#EF553B",
            "symbol": "circle"
           },
           "mode": "markers",
           "name": "True",
           "orientation": "v",
           "showlegend": true,
           "type": "scatter",
           "x": [
            65,
            67,
            69,
            71,
            73,
            75,
            77,
            79,
            81,
            83,
            85
           ],
           "xaxis": "x",
           "y": [
            -1385.5620000000001,
            -1407.472,
            -1427.0259999999998,
            -1443.9670919999999,
            -1458.2992424,
            -1470.6663128,
            -1480.1967978,
            -1487.9736956000002,
            -1494.546555,
            -1498.2928127999999,
            -1500.0526976
           ],
           "yaxis": "y"
          }
         ],
         "name": "109"
        },
        {
         "data": [
          {
           "hovertemplate": "Odd Proton=False<br>Neutron Number [N]=110<br>Proton Number [Z]=%{x}<br>Deficit [MeV]=%{y}<extra></extra>",
           "legendgroup": "False",
           "marker": {
            "color": "#636efa",
            "symbol": "circle"
           },
           "mode": "markers",
           "name": "False",
           "orientation": "v",
           "showlegend": true,
           "type": "scatter",
           "x": [
            66,
            68,
            70,
            72,
            74,
            76,
            78,
            80,
            82,
            84,
            86
           ],
           "xaxis": "x",
           "y": [
            -1402.544,
            -1423.822,
            -1442.88,
            -1458.7005342,
            -1472.9342967999999,
            -1484.8068264,
            -1494.2057075999999,
            -1502.333306,
            -1508.0924544,
            -1511.1231718000001,
            -1512.721336
           ],
           "yaxis": "y"
          },
          {
           "hovertemplate": "Odd Proton=True<br>Neutron Number [N]=110<br>Proton Number [Z]=%{x}<br>Deficit [MeV]=%{y}<extra></extra>",
           "legendgroup": "True",
           "marker": {
            "color": "#EF553B",
            "symbol": "circle"
           },
           "mode": "markers",
           "name": "True",
           "orientation": "v",
           "showlegend": true,
           "type": "scatter",
           "x": [
            67,
            69,
            71,
            73,
            75,
            77,
            79,
            81,
            83,
            85,
            87
           ],
           "xaxis": "x",
           "y": [
            -1412.46,
            -1432.716,
            -1450.1593480999998,
            -1465.23342,
            -1478.3368685,
            -1488.6451404,
            -1497.2556564000001,
            -1504.5345995,
            -1508.7141574,
            -1510.877823,
            -1511.731508
           ],
           "yaxis": "y"
          }
         ],
         "name": "110"
        },
        {
         "data": [
          {
           "hovertemplate": "Odd Proton=False<br>Neutron Number [N]=111<br>Proton Number [Z]=%{x}<br>Deficit [MeV]=%{y}<extra></extra>",
           "legendgroup": "False",
           "marker": {
            "color": "#636efa",
            "symbol": "circle"
           },
           "mode": "markers",
           "name": "False",
           "orientation": "v",
           "showlegend": true,
           "type": "scatter",
           "x": [
            68,
            70,
            72,
            74,
            76,
            78,
            80,
            82,
            84,
            86
           ],
           "xaxis": "x",
           "y": [
            -1427.704,
            -1447.276,
            -1464.0057645000002,
            -1478.6880355,
            -1491.0971218,
            -1500.9254505,
            -1509.6258382,
            -1515.8411842,
            -1519.3065225,
            -1521.257443
           ],
           "yaxis": "y"
          },
          {
           "hovertemplate": "Odd Proton=True<br>Neutron Number [N]=111<br>Proton Number [Z]=%{x}<br>Deficit [MeV]=%{y}<extra></extra>",
           "legendgroup": "True",
           "marker": {
            "color": "#EF553B",
            "symbol": "circle"
           },
           "mode": "markers",
           "name": "True",
           "orientation": "v",
           "showlegend": true,
           "type": "scatter",
           "x": [
            67,
            69,
            71,
            73,
            75,
            77,
            79,
            81,
            83,
            85,
            87
           ],
           "xaxis": "x",
           "y": [
            -1416.346,
            -1436.9399999999998,
            -1455.2720000000002,
            -1470.8506439999999,
            -1484.5164618000001,
            -1495.5120256,
            -1504.578555,
            -1512.1952064,
            -1516.923927,
            -1519.3920196,
            -1520.4790854
           ],
           "yaxis": "y"
          }
         ],
         "name": "111"
        },
        {
         "data": [
          {
           "hovertemplate": "Odd Proton=False<br>Neutron Number [N]=112<br>Proton Number [Z]=%{x}<br>Deficit [MeV]=%{y}<extra></extra>",
           "legendgroup": "False",
           "marker": {
            "color": "#636efa",
            "symbol": "circle"
           },
           "mode": "markers",
           "name": "False",
           "orientation": "v",
           "showlegend": true,
           "type": "scatter",
           "x": [
            68,
            70,
            72,
            74,
            76,
            78,
            80,
            82,
            84,
            86
           ],
           "xaxis": "x",
           "y": [
            -1432.8,
            -1453.088,
            -1470.2929952,
            -1485.8800836,
            -1499.0867328,
            -1509.833879,
            -1519.1167872,
            -1525.8911114,
            -1529.729922,
            -1532.069451
           ],
           "yaxis": "y"
          },
          {
           "hovertemplate": "Odd Proton=True<br>Neutron Number [N]=112<br>Proton Number [Z]=%{x}<br>Deficit [MeV]=%{y}<extra></extra>",
           "legendgroup": "True",
           "marker": {
            "color": "#EF553B",
            "symbol": "circle"
           },
           "mode": "markers",
           "name": "True",
           "orientation": "v",
           "showlegend": true,
           "type": "scatter",
           "x": [
            69,
            71,
            73,
            75,
            77,
            79,
            81,
            83,
            85,
            87
           ],
           "xaxis": "x",
           "y": [
            -1442.3890000000001,
            -1461.2206875000002,
            -1477.4768775,
            -1491.8770053,
            -1503.6880446,
            -1513.6142429,
            -1521.8714885000002,
            -1526.9977905,
            -1529.9054278,
            -1531.3567201
           ],
           "yaxis": "y"
          }
         ],
         "name": "112"
        },
        {
         "data": [
          {
           "hovertemplate": "Odd Proton=False<br>Neutron Number [N]=113<br>Proton Number [Z]=%{x}<br>Deficit [MeV]=%{y}<extra></extra>",
           "legendgroup": "False",
           "marker": {
            "color": "#636efa",
            "symbol": "circle"
           },
           "mode": "markers",
           "name": "False",
           "orientation": "v",
           "showlegend": true,
           "type": "scatter",
           "x": [
            70,
            72,
            74,
            76,
            78,
            80,
            82,
            84,
            86,
            88
           ],
           "xaxis": "x",
           "y": [
            -1457.229,
            -1475.1846535,
            -1491.3468415999998,
            -1505.0075481000001,
            -1516.2970289,
            -1526.238789,
            -1533.4926165,
            -1537.7255791999999,
            -1540.4703032,
            -1541.5515708
           ],
           "yaxis": "y"
          },
          {
           "hovertemplate": "Odd Proton=True<br>Neutron Number [N]=113<br>Proton Number [Z]=%{x}<br>Deficit [MeV]=%{y}<extra></extra>",
           "legendgroup": "True",
           "marker": {
            "color": "#EF553B",
            "symbol": "circle"
           },
           "mode": "markers",
           "name": "True",
           "orientation": "v",
           "showlegend": true,
           "type": "scatter",
           "x": [
            71,
            73,
            75,
            77,
            79,
            81,
            83,
            85,
            87
           ],
           "xaxis": "x",
           "y": [
            -1465.9279999999999,
            -1482.7614402,
            -1497.7486428,
            -1510.0633229999999,
            -1520.6598336,
            -1529.4030934,
            -1535.0525764,
            -1538.3302308,
            -1540.0658400000002
           ],
           "yaxis": "y"
          }
         ],
         "name": "113"
        },
        {
         "data": [
          {
           "hovertemplate": "Odd Proton=False<br>Neutron Number [N]=114<br>Proton Number [Z]=%{x}<br>Deficit [MeV]=%{y}<extra></extra>",
           "legendgroup": "False",
           "marker": {
            "color": "#636efa",
            "symbol": "circle"
           },
           "mode": "markers",
           "name": "False",
           "orientation": "v",
           "showlegend": true,
           "type": "scatter",
           "x": [
            70,
            72,
            74,
            76,
            78,
            80,
            82,
            84,
            86,
            88
           ],
           "xaxis": "x",
           "y": [
            -1462.984,
            -1481.3603952,
            -1498.1820016000001,
            -1512.799893,
            -1524.9585216,
            -1535.4318956,
            -1543.1741304000002,
            -1547.8770978,
            -1550.98222,
            -1552.4848168
           ],
           "yaxis": "y"
          },
          {
           "hovertemplate": "Odd Proton=True<br>Neutron Number [N]=114<br>Proton Number [Z]=%{x}<br>Deficit [MeV]=%{y}<extra></extra>",
           "legendgroup": "True",
           "marker": {
            "color": "#EF553B",
            "symbol": "circle"
           },
           "mode": "markers",
           "name": "True",
           "orientation": "v",
           "showlegend": true,
           "type": "scatter",
           "x": [
            71,
            73,
            75,
            77,
            79,
            81,
            83,
            85,
            87
           ],
           "xaxis": "x",
           "y": [
            -1471.675,
            -1489.1207001,
            -1504.7821844999999,
            -1518.0898504000002,
            -1529.3638064,
            -1538.6922135,
            -1544.8020556,
            -1548.5161717,
            -1550.6821767000001
           ],
           "yaxis": "y"
          }
         ],
         "name": "114"
        },
        {
         "data": [
          {
           "hovertemplate": "Odd Proton=False<br>Neutron Number [N]=115<br>Proton Number [Z]=%{x}<br>Deficit [MeV]=%{y}<extra></extra>",
           "legendgroup": "False",
           "marker": {
            "color": "#636efa",
            "symbol": "circle"
           },
           "mode": "markers",
           "name": "False",
           "orientation": "v",
           "showlegend": true,
           "type": "scatter",
           "x": [
            70,
            72,
            74,
            76,
            78,
            80,
            82,
            84,
            86,
            88
           ],
           "xaxis": "x",
           "y": [
            -1466.865,
            -1486.089,
            -1503.306,
            -1518.5586217,
            -1531.2209875,
            -1542.3326100000002,
            -1550.6425934,
            -1555.7139817999998,
            -1559.1604974,
            -1561.0297045
           ],
           "yaxis": "y"
          },
          {
           "hovertemplate": "Odd Proton=True<br>Neutron Number [N]=115<br>Proton Number [Z]=%{x}<br>Deficit [MeV]=%{y}<extra></extra>",
           "legendgroup": "True",
           "marker": {
            "color": "#EF553B",
            "symbol": "circle"
           },
           "mode": "markers",
           "name": "True",
           "orientation": "v",
           "showlegend": true,
           "type": "scatter",
           "x": [
            71,
            73,
            75,
            77,
            79,
            81,
            83,
            85,
            87
           ],
           "xaxis": "x",
           "y": [
            -1476.096,
            -1494.2240000000002,
            -1510.4574209999998,
            -1524.2879808,
            -1536.2422336,
            -1546.10484,
            -1552.5600354,
            -1556.7520200000001,
            -1559.240525
           ],
           "yaxis": "y"
          }
         ],
         "name": "115"
        },
        {
         "data": [
          {
           "hovertemplate": "Odd Proton=False<br>Neutron Number [N]=116<br>Proton Number [Z]=%{x}<br>Deficit [MeV]=%{y}<extra></extra>",
           "legendgroup": "False",
           "marker": {
            "color": "#636efa",
            "symbol": "circle"
           },
           "mode": "markers",
           "name": "False",
           "orientation": "v",
           "showlegend": true,
           "type": "scatter",
           "x": [
            72,
            74,
            76,
            78,
            80,
            82,
            84,
            86,
            88
           ],
           "xaxis": "x",
           "y": [
            -1491.968,
            -1510.0255889999999,
            -1526.116992,
            -1539.572748,
            -1551.21652,
            -1560.035961,
            -1565.4881400000002,
            -1569.3989636000001,
            -1571.6412552000002
           ],
           "yaxis": "y"
          },
          {
           "hovertemplate": "Odd Proton=True<br>Neutron Number [N]=116<br>Proton Number [Z]=%{x}<br>Deficit [MeV]=%{y}<extra></extra>",
           "legendgroup": "True",
           "marker": {
            "color": "#EF553B",
            "symbol": "circle"
           },
           "mode": "markers",
           "name": "True",
           "orientation": "v",
           "showlegend": true,
           "type": "scatter",
           "x": [
            71,
            73,
            75,
            77,
            79,
            81,
            83,
            85,
            87,
            89
           ],
           "xaxis": "x",
           "y": [
            -1481.601,
            -1500.282,
            -1517.2961308000001,
            -1532.0599778,
            -1544.6686710000001,
            -1555.0337825000001,
            -1562.0551168,
            -1566.6248736,
            -1569.5369676,
            -1570.8846395
           ],
           "yaxis": "y"
          }
         ],
         "name": "116"
        },
        {
         "data": [
          {
           "hovertemplate": "Odd Proton=False<br>Neutron Number [N]=117<br>Proton Number [Z]=%{x}<br>Deficit [MeV]=%{y}<extra></extra>",
           "legendgroup": "False",
           "marker": {
            "color": "#636efa",
            "symbol": "circle"
           },
           "mode": "markers",
           "name": "False",
           "orientation": "v",
           "showlegend": true,
           "type": "scatter",
           "x": [
            72,
            74,
            76,
            78,
            80,
            82,
            84,
            86,
            88,
            90
           ],
           "xaxis": "x",
           "y": [
            -1496.3129999999999,
            -1514.9042569,
            -1531.7004188,
            -1545.677835,
            -1558.0021193999999,
            -1567.2715834,
            -1573.1389419,
            -1577.3797711000002,
            -1579.969809,
            null
           ],
           "yaxis": "y"
          },
          {
           "hovertemplate": "Odd Proton=True<br>Neutron Number [N]=117<br>Proton Number [Z]=%{x}<br>Deficit [MeV]=%{y}<extra></extra>",
           "legendgroup": "True",
           "marker": {
            "color": "#EF553B",
            "symbol": "circle"
           },
           "mode": "markers",
           "name": "True",
           "orientation": "v",
           "showlegend": true,
           "type": "scatter",
           "x": [
            71,
            73,
            75,
            77,
            79,
            81,
            83,
            85,
            87,
            89
           ],
           "xaxis": "x",
           "y": [
            -1485.764,
            -1505.1799999999998,
            -1522.6058688,
            -1538.126769,
            -1551.3116388,
            -1562.2796177999999,
            -1569.69938,
            -1574.5018673999998,
            -1577.8773924,
            -1579.5778828
           ],
           "yaxis": "y"
          }
         ],
         "name": "117"
        },
        {
         "data": [
          {
           "hovertemplate": "Odd Proton=False<br>Neutron Number [N]=118<br>Proton Number [Z]=%{x}<br>Deficit [MeV]=%{y}<extra></extra>",
           "legendgroup": "False",
           "marker": {
            "color": "#636efa",
            "symbol": "circle"
           },
           "mode": "markers",
           "name": "False",
           "orientation": "v",
           "showlegend": true,
           "type": "scatter",
           "x": [
            72,
            74,
            76,
            78,
            80,
            82,
            84,
            86,
            88,
            90
           ],
           "xaxis": "x",
           "y": [
            -1501.95,
            -1521.4080000000001,
            -1538.8125008,
            -1553.5998212,
            -1566.4875336,
            -1576.36202,
            -1582.6306706,
            -1587.2371572000002,
            -1590.2793768,
            -1591.7348928
           ],
           "yaxis": "y"
          },
          {
           "hovertemplate": "Odd Proton=True<br>Neutron Number [N]=118<br>Proton Number [Z]=%{x}<br>Deficit [MeV]=%{y}<extra></extra>",
           "legendgroup": "True",
           "marker": {
            "color": "#EF553B",
            "symbol": "circle"
           },
           "mode": "markers",
           "name": "True",
           "orientation": "v",
           "showlegend": true,
           "type": "scatter",
           "x": [
            73,
            75,
            77,
            79,
            81,
            83,
            85,
            87,
            89
           ],
           "xaxis": "x",
           "y": [
            -1511.001,
            -1529.3199954,
            -1545.3586200000002,
            -1559.3839956000002,
            -1570.8815826999999,
            -1578.8291313,
            -1584.1406861,
            -1587.865835,
            -1589.9877207
           ],
           "yaxis": "y"
          }
         ],
         "name": "118"
        },
        {
         "data": [
          {
           "hovertemplate": "Odd Proton=False<br>Neutron Number [N]=119<br>Proton Number [Z]=%{x}<br>Deficit [MeV]=%{y}<extra></extra>",
           "legendgroup": "False",
           "marker": {
            "color": "#636efa",
            "symbol": "circle"
           },
           "mode": "markers",
           "name": "False",
           "orientation": "v",
           "showlegend": true,
           "type": "scatter",
           "x": [
            74,
            76,
            78,
            80,
            82,
            84,
            86,
            88,
            90
           ],
           "xaxis": "x",
           "y": [
            -1526.051,
            -1543.9602555,
            -1559.4463658,
            -1573.1506006000002,
            -1583.4535182000002,
            -1590.0712296,
            -1595.048133,
            -1598.4023121,
            -1600.104
           ],
           "yaxis": "y"
          },
          {
           "hovertemplate": "Odd Proton=True<br>Neutron Number [N]=119<br>Proton Number [Z]=%{x}<br>Deficit [MeV]=%{y}<extra></extra>",
           "legendgroup": "True",
           "marker": {
            "color": "#EF553B",
            "symbol": "circle"
           },
           "mode": "markers",
           "name": "True",
           "orientation": "v",
           "showlegend": true,
           "type": "scatter",
           "x": [
            73,
            75,
            77,
            79,
            81,
            83,
            85,
            87,
            89
           ],
           "xaxis": "x",
           "y": [
            -1515.6480000000001,
            -1534.346,
            -1551.1731452000001,
            -1565.896365,
            -1577.94074,
            -1586.2223113999999,
            -1591.9246488,
            -1595.8741925999998,
            -1598.4444112
           ],
           "yaxis": "y"
          }
         ],
         "name": "119"
        },
        {
         "data": [
          {
           "hovertemplate": "Odd Proton=False<br>Neutron Number [N]=120<br>Proton Number [Z]=%{x}<br>Deficit [MeV]=%{y}<extra></extra>",
           "legendgroup": "False",
           "marker": {
            "color": "#636efa",
            "symbol": "circle"
           },
           "mode": "markers",
           "name": "False",
           "orientation": "v",
           "showlegend": true,
           "type": "scatter",
           "x": [
            74,
            76,
            78,
            80,
            82,
            84,
            86,
            88,
            90
           ],
           "xaxis": "x",
           "y": [
            -1532.406,
            -1550.7970996,
            -1567.0019376,
            -1581.17912,
            -1592.194401,
            -1599.1727892000001,
            -1604.5425902,
            -1608.2596816,
            -1610.506044
           ],
           "yaxis": "y"
          },
          {
           "hovertemplate": "Odd Proton=True<br>Neutron Number [N]=120<br>Proton Number [Z]=%{x}<br>Deficit [MeV]=%{y}<extra></extra>",
           "legendgroup": "True",
           "marker": {
            "color": "#EF553B",
            "symbol": "circle"
           },
           "mode": "markers",
           "name": "True",
           "orientation": "v",
           "showlegend": true,
           "type": "scatter",
           "x": [
            73,
            75,
            77,
            79,
            81,
            83,
            85,
            87,
            89,
            91
           ],
           "xaxis": "x",
           "y": [
            -1521.419,
            -1540.695,
            -1558.0730591,
            -1573.4806421,
            -1586.1456117,
            -1595.0676686,
            -1601.105227,
            -1605.5476623,
            -1608.4317095000001,
            -1609.8023028
           ],
           "yaxis": "y"
          }
         ],
         "name": "120"
        },
        {
         "data": [
          {
           "hovertemplate": "Odd Proton=False<br>Neutron Number [N]=121<br>Proton Number [Z]=%{x}<br>Deficit [MeV]=%{y}<extra></extra>",
           "legendgroup": "False",
           "marker": {
            "color": "#636efa",
            "symbol": "circle"
           },
           "mode": "markers",
           "name": "False",
           "orientation": "v",
           "showlegend": true,
           "type": "scatter",
           "x": [
            74,
            76,
            78,
            80,
            82,
            84,
            86,
            88,
            90
           ],
           "xaxis": "x",
           "y": [
            -1536.795,
            -1555.709,
            -1572.5579189,
            -1587.4097007,
            -1599.111591,
            -1606.424444,
            -1612.1157309,
            -1616.2006993,
            -1618.7604766
           ],
           "yaxis": "y"
          },
          {
           "hovertemplate": "Odd Proton=True<br>Neutron Number [N]=121<br>Proton Number [Z]=%{x}<br>Deficit [MeV]=%{y}<extra></extra>",
           "legendgroup": "True",
           "marker": {
            "color": "#EF553B",
            "symbol": "circle"
           },
           "mode": "markers",
           "name": "True",
           "orientation": "v",
           "showlegend": true,
           "type": "scatter",
           "x": [
            73,
            75,
            77,
            79,
            81,
            83,
            85,
            87,
            89,
            91
           ],
           "xaxis": "x",
           "y": [
            -1525.81,
            -1545.656,
            -1563.606,
            -1579.6983,
            -1593.0165611999998,
            -1602.2600028,
            -1608.6314224,
            -1613.434888,
            -1616.5838220000003,
            -1618.3293268
           ],
           "yaxis": "y"
          }
         ],
         "name": "121"
        },
        {
         "data": [
          {
           "hovertemplate": "Odd Proton=False<br>Neutron Number [N]=122<br>Proton Number [Z]=%{x}<br>Deficit [MeV]=%{y}<extra></extra>",
           "legendgroup": "False",
           "marker": {
            "color": "#636efa",
            "symbol": "circle"
           },
           "mode": "markers",
           "name": "False",
           "orientation": "v",
           "showlegend": true,
           "type": "scatter",
           "x": [
            74,
            76,
            78,
            80,
            82,
            84,
            86,
            88,
            90,
            92
           ],
           "xaxis": "x",
           "y": [
            -1542.912,
            -1562.22,
            -1579.83972,
            -1595.163801,
            -1607.5062504,
            -1615.1630438000002,
            -1621.2077023999998,
            -1625.6874269999998,
            -1628.5973136,
            null
           ],
           "yaxis": "y"
          },
          {
           "hovertemplate": "Odd Proton=True<br>Neutron Number [N]=122<br>Proton Number [Z]=%{x}<br>Deficit [MeV]=%{y}<extra></extra>",
           "legendgroup": "True",
           "marker": {
            "color": "#EF553B",
            "symbol": "circle"
           },
           "mode": "markers",
           "name": "True",
           "orientation": "v",
           "showlegend": true,
           "type": "scatter",
           "x": [
            75,
            77,
            79,
            81,
            83,
            85,
            87,
            89,
            91
           ],
           "xaxis": "x",
           "y": [
            -1551.769,
            -1570.3501134,
            -1586.9302152,
            -1600.868759,
            -1610.750969,
            -1617.4908171,
            -1622.6234364999998,
            -1626.2757479999998,
            -1628.3429751
           ],
           "yaxis": "y"
          }
         ],
         "name": "122"
        },
        {
         "data": [
          {
           "hovertemplate": "Odd Proton=False<br>Neutron Number [N]=123<br>Proton Number [Z]=%{x}<br>Deficit [MeV]=%{y}<extra></extra>",
           "legendgroup": "False",
           "marker": {
            "color": "#636efa",
            "symbol": "circle"
           },
           "mode": "markers",
           "name": "False",
           "orientation": "v",
           "showlegend": true,
           "type": "scatter",
           "x": [
            74,
            76,
            78,
            80,
            82,
            84,
            86,
            88,
            90,
            92
           ],
           "xaxis": "x",
           "y": [
            -1547.041,
            -1566.926,
            -1585.0525737,
            -1601.1590084,
            -1614.2379165,
            -1622.1913938,
            -1628.5646795,
            -1633.3697157000001,
            -1636.659411,
            -1638.4681515000002
           ],
           "yaxis": "y"
          },
          {
           "hovertemplate": "Odd Proton=True<br>Neutron Number [N]=123<br>Proton Number [Z]=%{x}<br>Deficit [MeV]=%{y}<extra></extra>",
           "legendgroup": "True",
           "marker": {
            "color": "#EF553B",
            "symbol": "circle"
           },
           "mode": "markers",
           "name": "True",
           "orientation": "v",
           "showlegend": true,
           "type": "scatter",
           "x": [
            75,
            77,
            79,
            81,
            83,
            85,
            87,
            89,
            91
           ],
           "xaxis": "x",
           "y": [
            -1556.478,
            -1575.6,
            -1592.95382,
            -1607.5248552,
            -1617.7849294,
            -1624.8045632,
            -1630.2561030000002,
            -1634.1909548,
            -1636.6085918
           ],
           "yaxis": "y"
          }
         ],
         "name": "123"
        },
        {
         "data": [
          {
           "hovertemplate": "Odd Proton=False<br>Neutron Number [N]=124<br>Proton Number [Z]=%{x}<br>Deficit [MeV]=%{y}<extra></extra>",
           "legendgroup": "False",
           "marker": {
            "color": "#636efa",
            "symbol": "circle"
           },
           "mode": "markers",
           "name": "False",
           "orientation": "v",
           "showlegend": true,
           "type": "scatter",
           "x": [
            76,
            78,
            80,
            82,
            84,
            86,
            88,
            90,
            92
           ],
           "xaxis": "x",
           "y": [
            -1573.4,
            -1592.0753018,
            -1608.651282,
            -1622.324572,
            -1630.5862143999998,
            -1637.2997129999999,
            -1642.4716536,
            -1646.1559022,
            -1648.3623552000001
           ],
           "yaxis": "y"
          },
          {
           "hovertemplate": "Odd Proton=True<br>Neutron Number [N]=124<br>Proton Number [Z]=%{x}<br>Deficit [MeV]=%{y}<extra></extra>",
           "legendgroup": "True",
           "marker": {
            "color": "#EF553B",
            "symbol": "circle"
           },
           "mode": "markers",
           "name": "True",
           "orientation": "v",
           "showlegend": true,
           "type": "scatter",
           "x": [
            75,
            77,
            79,
            81,
            83,
            85,
            87,
            89,
            91
           ],
           "xaxis": "x",
           "y": [
            -1562.1499999999999,
            -1581.8700000000001,
            -1599.815595,
            -1615.070893,
            -1625.8825970999999,
            -1633.2897515,
            -1639.1242343,
            -1643.4208404,
            -1646.3352595000001
           ],
           "yaxis": "y"
          }
         ],
         "name": "124"
        },
        {
         "data": [
          {
           "hovertemplate": "Odd Proton=False<br>Neutron Number [N]=125<br>Proton Number [Z]=%{x}<br>Deficit [MeV]=%{y}<extra></extra>",
           "legendgroup": "False",
           "marker": {
            "color": "#636efa",
            "symbol": "circle"
           },
           "mode": "markers",
           "name": "False",
           "orientation": "v",
           "showlegend": true,
           "type": "scatter",
           "x": [
            76,
            78,
            80,
            82,
            84,
            86,
            88,
            90,
            92
           ],
           "xaxis": "x",
           "y": [
            -1577.6490000000001,
            -1597.001,
            -1614.3201625000002,
            -1629.0623448000001,
            -1637.5543337999998,
            -1644.5215931999999,
            -1649.9986638,
            -1654.0007190000001,
            -1656.578
           ],
           "yaxis": "y"
          },
          {
           "hovertemplate": "Odd Proton=True<br>Neutron Number [N]=125<br>Proton Number [Z]=%{x}<br>Deficit [MeV]=%{y}<extra></extra>",
           "legendgroup": "True",
           "marker": {
            "color": "#EF553B",
            "symbol": "circle"
           },
           "mode": "markers",
           "name": "True",
           "orientation": "v",
           "showlegend": true,
           "type": "scatter",
           "x": [
            77,
            79,
            81,
            83,
            85,
            87,
            89,
            91
           ],
           "xaxis": "x",
           "y": [
            -1586.71,
            -1605.0720000000001,
            -1621.5747114,
            -1632.7695072,
            -1640.449398,
            -1646.5712460000002,
            -1651.1999036,
            -1654.3873296
           ],
           "yaxis": "y"
          }
         ],
         "name": "125"
        },
        {
         "data": [
          {
           "hovertemplate": "Odd Proton=False<br>Neutron Number [N]=126<br>Proton Number [Z]=%{x}<br>Deficit [MeV]=%{y}<extra></extra>",
           "legendgroup": "False",
           "marker": {
            "color": "#636efa",
            "symbol": "circle"
           },
           "mode": "markers",
           "name": "False",
           "orientation": "v",
           "showlegend": true,
           "type": "scatter",
           "x": [
            76,
            78,
            80,
            82,
            84,
            86,
            88,
            90,
            92
           ],
           "xaxis": "x",
           "y": [
            -1583.478,
            -1603.236,
            -1621.0494938,
            -1636.430224,
            -1645.212702,
            -1652.4968156,
            -1658.3227866,
            -1662.6949272,
            -1665.6767638000001
           ],
           "yaxis": "y"
          },
          {
           "hovertemplate": "Odd Proton=True<br>Neutron Number [N]=126<br>Proton Number [Z]=%{x}<br>Deficit [MeV]=%{y}<extra></extra>",
           "legendgroup": "True",
           "marker": {
            "color": "#EF553B",
            "symbol": "circle"
           },
           "mode": "markers",
           "name": "True",
           "orientation": "v",
           "showlegend": true,
           "type": "scatter",
           "x": [
            77,
            79,
            81,
            83,
            85,
            87,
            89,
            91,
            93
           ],
           "xaxis": "x",
           "y": [
            -1592.5349999999999,
            -1611.3,
            -1628.4271653,
            -1640.2292621,
            -1648.1957995,
            -1654.6807659,
            -1659.6739455000002,
            -1663.2277046,
            -1665.4234308000002
           ],
           "yaxis": "y"
          }
         ],
         "name": "126"
        },
        {
         "data": [
          {
           "hovertemplate": "Odd Proton=False<br>Neutron Number [N]=127<br>Proton Number [Z]=%{x}<br>Deficit [MeV]=%{y}<extra></extra>",
           "legendgroup": "False",
           "marker": {
            "color": "#636efa",
            "symbol": "circle"
           },
           "mode": "markers",
           "name": "False",
           "orientation": "v",
           "showlegend": true,
           "type": "scatter",
           "x": [
            76,
            78,
            80,
            82,
            84,
            86,
            88,
            90,
            92
           ],
           "xaxis": "x",
           "y": [
            -1586.242,
            -1606.38,
            -1624.6625184000002,
            -1640.3675992,
            -1649.7634661999998,
            -1657.6048512,
            -1663.9548535,
            -1668.8590065,
            -1672.3467873
           ],
           "yaxis": "y"
          },
          {
           "hovertemplate": "Odd Proton=True<br>Neutron Number [N]=127<br>Proton Number [Z]=%{x}<br>Deficit [MeV]=%{y}<extra></extra>",
           "legendgroup": "True",
           "marker": {
            "color": "#EF553B",
            "symbol": "circle"
           },
           "mode": "markers",
           "name": "True",
           "orientation": "v",
           "showlegend": true,
           "type": "scatter",
           "x": [
            77,
            79,
            81,
            83,
            85,
            87,
            89,
            91,
            93
           ],
           "xaxis": "x",
           "y": [
            -1595.892,
            -1615.04,
            -1632.214168,
            -1644.833904,
            -1653.24808,
            -1660.1562102,
            -1665.6260903999998,
            -1669.704183,
            -1672.456676
           ],
           "yaxis": "y"
          }
         ],
         "name": "127"
        },
        {
         "data": [
          {
           "hovertemplate": "Odd Proton=False<br>Neutron Number [N]=128<br>Proton Number [Z]=%{x}<br>Deficit [MeV]=%{y}<extra></extra>",
           "legendgroup": "False",
           "marker": {
            "color": "#636efa",
            "symbol": "circle"
           },
           "mode": "markers",
           "name": "False",
           "orientation": "v",
           "showlegend": true,
           "type": "scatter",
           "x": [
            78,
            80,
            82,
            84,
            86,
            88,
            90
           ],
           "xaxis": "x",
           "y": [
            -1610.92,
            -1629.5118112,
            -1645.5527760000002,
            -1655.7716856,
            -1664.2998922,
            -1671.2666927999999,
            -1676.7693668000002
           ],
           "yaxis": "y"
          },
          {
           "hovertemplate": "Odd Proton=True<br>Neutron Number [N]=128<br>Proton Number [Z]=%{x}<br>Deficit [MeV]=%{y}<extra></extra>",
           "legendgroup": "True",
           "marker": {
            "color": "#EF553B",
            "symbol": "circle"
           },
           "mode": "markers",
           "name": "True",
           "orientation": "v",
           "showlegend": true,
           "type": "scatter",
           "x": [
            77,
            79,
            81,
            83,
            85,
            87,
            89,
            91,
            95
           ],
           "xaxis": "x",
           "y": [
            -1600.0249999999999,
            -1619.568,
            -1637.1801610999999,
            -1649.9724195000001,
            -1659.2707668,
            -1666.9510505,
            -1673.1448216,
            -1677.8418477,
            -1682.981
           ],
           "yaxis": "y"
          }
         ],
         "name": "128"
        },
        {
         "data": [
          {
           "hovertemplate": "Odd Proton=False<br>Neutron Number [N]=129<br>Proton Number [Z]=%{x}<br>Deficit [MeV]=%{y}<extra></extra>",
           "legendgroup": "False",
           "marker": {
            "color": "#636efa",
            "symbol": "circle"
           },
           "mode": "markers",
           "name": "False",
           "orientation": "v",
           "showlegend": true,
           "type": "scatter",
           "x": [
            78,
            80,
            82,
            84,
            86,
            88,
            90,
            92
           ],
           "xaxis": "x",
           "y": [
            -1613.979,
            -1632.917,
            -1649.3886668999999,
            -1660.1271120000001,
            -1669.2205259999998,
            -1676.7399474000001,
            -1682.7446445,
            -1687.2653629
           ],
           "yaxis": "y"
          },
          {
           "hovertemplate": "Odd Proton=True<br>Neutron Number [N]=129<br>Proton Number [Z]=%{x}<br>Deficit [MeV]=%{y}<extra></extra>",
           "legendgroup": "True",
           "marker": {
            "color": "#EF553B",
            "symbol": "circle"
           },
           "mode": "markers",
           "name": "True",
           "orientation": "v",
           "showlegend": true,
           "type": "scatter",
           "x": [
            79,
            81,
            83,
            85,
            87,
            89,
            91,
            93
           ],
           "xaxis": "x",
           "y": [
            -1623.024,
            -1640.8536900000001,
            -1654.302568,
            -1664.1417248,
            -1672.3694808,
            -1679.06761,
            -1684.218008,
            -1687.7996885999999
           ],
           "yaxis": "y"
          }
         ],
         "name": "129"
        },
        {
         "data": [
          {
           "hovertemplate": "Odd Proton=False<br>Neutron Number [N]=130<br>Proton Number [Z]=%{x}<br>Deficit [MeV]=%{y}<extra></extra>",
           "legendgroup": "False",
           "marker": {
            "color": "#636efa",
            "symbol": "circle"
           },
           "mode": "markers",
           "name": "False",
           "orientation": "v",
           "showlegend": true,
           "type": "scatter",
           "x": [
            78,
            80,
            82,
            84,
            86,
            88,
            90,
            92
           ],
           "xaxis": "x",
           "y": [
            -1618.24,
            -1637.7900000000002,
            -1654.5159036,
            -1666.0148881999999,
            -1675.8695448,
            -1684.0552538,
            -1690.5892079999999,
            -1695.5838522
           ],
           "yaxis": "y"
          },
          {
           "hovertemplate": "Odd Proton=True<br>Neutron Number [N]=130<br>Proton Number [Z]=%{x}<br>Deficit [MeV]=%{y}<extra></extra>",
           "legendgroup": "True",
           "marker": {
            "color": "#EF553B",
            "symbol": "circle"
           },
           "mode": "markers",
           "name": "True",
           "orientation": "v",
           "showlegend": true,
           "type": "scatter",
           "x": [
            79,
            81,
            83,
            85,
            87,
            89,
            91,
            93
           ],
           "xaxis": "x",
           "y": [
            -1627.274,
            -1645.7560065,
            -1659.4876221,
            -1670.0904804999998,
            -1679.097175,
            -1686.4202091,
            -1692.1927789,
            -1696.4870842
           ],
           "yaxis": "y"
          }
         ],
         "name": "130"
        },
        {
         "data": [
          {
           "hovertemplate": "Odd Proton=False<br>Neutron Number [N]=131<br>Proton Number [Z]=%{x}<br>Deficit [MeV]=%{y}<extra></extra>",
           "legendgroup": "False",
           "marker": {
            "color": "#636efa",
            "symbol": "circle"
           },
           "mode": "markers",
           "name": "False",
           "orientation": "v",
           "showlegend": true,
           "type": "scatter",
           "x": [
            80,
            82,
            84,
            86,
            88,
            90,
            92
           ],
           "xaxis": "x",
           "y": [
            -1640.9470000000001,
            -1658.2418916,
            -1670.158012,
            -1680.5356029,
            -1689.378264,
            -1696.410144,
            -1701.8827253
           ],
           "yaxis": "y"
          },
          {
           "hovertemplate": "Odd Proton=True<br>Neutron Number [N]=131<br>Proton Number [Z]=%{x}<br>Deficit [MeV]=%{y}<extra></extra>",
           "legendgroup": "True",
           "marker": {
            "color": "#EF553B",
            "symbol": "circle"
           },
           "mode": "markers",
           "name": "True",
           "orientation": "v",
           "showlegend": true,
           "type": "scatter",
           "x": [
            79,
            81,
            83,
            85,
            87,
            89,
            91,
            93
           ],
           "xaxis": "x",
           "y": [
            -1630.44,
            -1649.3600000000001,
            -1663.528037,
            -1674.6485184,
            -1684.4237173999998,
            -1692.31733,
            -1698.5746806,
            -1703.1847168000002
           ],
           "yaxis": "y"
          }
         ],
         "name": "131"
        },
        {
         "data": [
          {
           "hovertemplate": "Odd Proton=False<br>Neutron Number [N]=132<br>Proton Number [Z]=%{x}<br>Deficit [MeV]=%{y}<extra></extra>",
           "legendgroup": "False",
           "marker": {
            "color": "#636efa",
            "symbol": "circle"
           },
           "mode": "markers",
           "name": "False",
           "orientation": "v",
           "showlegend": true,
           "type": "scatter",
           "x": [
            80,
            82,
            84,
            86,
            88,
            90,
            92
           ],
           "xaxis": "x",
           "y": [
            -1645.5439999999999,
            -1663.292637,
            -1675.9052279999999,
            -1687.0480886,
            -1696.571338,
            -1704.2183424000002,
            -1710.2566208
           ],
           "yaxis": "y"
          },
          {
           "hovertemplate": "Odd Proton=True<br>Neutron Number [N]=132<br>Proton Number [Z]=%{x}<br>Deficit [MeV]=%{y}<extra></extra>",
           "legendgroup": "True",
           "marker": {
            "color": "#EF553B",
            "symbol": "circle"
           },
           "mode": "markers",
           "name": "True",
           "orientation": "v",
           "showlegend": true,
           "type": "scatter",
           "x": [
            81,
            83,
            85,
            87,
            89,
            91,
            93
           ],
           "xaxis": "x",
           "y": [
            -1654.0368243,
            -1668.7693055,
            -1680.5819324,
            -1690.9375221,
            -1699.6013618999998,
            -1706.3727411,
            -1711.6701975
           ],
           "yaxis": "y"
          }
         ],
         "name": "132"
        },
        {
         "data": [
          {
           "hovertemplate": "Odd Proton=False<br>Neutron Number [N]=133<br>Proton Number [Z]=%{x}<br>Deficit [MeV]=%{y}<extra></extra>",
           "legendgroup": "False",
           "marker": {
            "color": "#636efa",
            "symbol": "circle"
           },
           "mode": "markers",
           "name": "False",
           "orientation": "v",
           "showlegend": true,
           "type": "scatter",
           "x": [
            80,
            82,
            84,
            86,
            88,
            90,
            92
           ],
           "xaxis": "x",
           "y": [
            -1648.407,
            -1666.8386914999999,
            -1679.8754238,
            -1691.5074696000001,
            -1701.9508792,
            -1710.1072998,
            -1716.6986325
           ],
           "yaxis": "y"
          },
          {
           "hovertemplate": "Odd Proton=True<br>Neutron Number [N]=133<br>Proton Number [Z]=%{x}<br>Deficit [MeV]=%{y}<extra></extra>",
           "legendgroup": "True",
           "marker": {
            "color": "#EF553B",
            "symbol": "circle"
           },
           "mode": "markers",
           "name": "True",
           "orientation": "v",
           "showlegend": true,
           "type": "scatter",
           "x": [
            81,
            83,
            85,
            87,
            89,
            91,
            93
           ],
           "xaxis": "x",
           "y": [
            -1657.43,
            -1672.5959136,
            -1684.947615,
            -1696.14346,
            -1705.5819329999997,
            -1712.9193088,
            -1718.5427364
           ],
           "yaxis": "y"
          }
         ],
         "name": "133"
        },
        {
         "data": [
          {
           "hovertemplate": "Odd Proton=False<br>Neutron Number [N]=134<br>Proton Number [Z]=%{x}<br>Deficit [MeV]=%{y}<extra></extra>",
           "legendgroup": "False",
           "marker": {
            "color": "#636efa",
            "symbol": "circle"
           },
           "mode": "markers",
           "name": "False",
           "orientation": "v",
           "showlegend": true,
           "type": "scatter",
           "x": [
            80,
            82,
            84,
            86,
            88,
            90,
            92,
            94
           ],
           "xaxis": "x",
           "y": [
            -1652.9360000000001,
            -1671.8400000000001,
            -1685.47354,
            -1697.796144,
            -1708.6658682,
            -1717.5684288,
            -1724.8131515999999,
            -1730.6120892000001
           ],
           "yaxis": "y"
          },
          {
           "hovertemplate": "Odd Proton=True<br>Neutron Number [N]=134<br>Proton Number [Z]=%{x}<br>Deficit [MeV]=%{y}<extra></extra>",
           "legendgroup": "True",
           "marker": {
            "color": "#EF553B",
            "symbol": "circle"
           },
           "mode": "markers",
           "name": "True",
           "orientation": "v",
           "showlegend": true,
           "type": "scatter",
           "x": [
            81,
            83,
            85,
            87,
            89,
            91,
            93,
            95
           ],
           "xaxis": "x",
           "y": [
            -1661.95,
            -1677.8112547,
            -1690.723143,
            -1702.4198412,
            -1712.4499817,
            -1720.4963400000001,
            -1726.8519017,
            -1731.8284613
           ],
           "yaxis": "y"
          }
         ],
         "name": "134"
        },
        {
         "data": [
          {
           "hovertemplate": "Odd Proton=False<br>Neutron Number [N]=135<br>Proton Number [Z]=%{x}<br>Deficit [MeV]=%{y}<extra></extra>",
           "legendgroup": "False",
           "marker": {
            "color": "#636efa",
            "symbol": "circle"
           },
           "mode": "markers",
           "name": "False",
           "orientation": "v",
           "showlegend": true,
           "type": "scatter",
           "x": [
            80,
            82,
            84,
            86,
            88,
            90,
            92,
            94
           ],
           "xaxis": "x",
           "y": [
            -1655.715,
            -1675.0230000000001,
            -1689.2201459999999,
            -1702.0080961,
            -1713.8241523,
            -1723.3251524999998,
            -1731.1682386,
            -1737.3962986
           ],
           "yaxis": "y"
          },
          {
           "hovertemplate": "Odd Proton=True<br>Neutron Number [N]=135<br>Proton Number [Z]=%{x}<br>Deficit [MeV]=%{y}<extra></extra>",
           "legendgroup": "True",
           "marker": {
            "color": "#EF553B",
            "symbol": "circle"
           },
           "mode": "markers",
           "name": "True",
           "orientation": "v",
           "showlegend": true,
           "type": "scatter",
           "x": [
            81,
            83,
            85,
            87,
            89,
            91,
            93,
            95
           ],
           "xaxis": "x",
           "y": [
            -1665.144,
            -1681.396504,
            -1694.814726,
            -1707.3903228,
            -1718.1122112,
            -1726.8907018,
            -1733.712,
            -1739.26
           ],
           "yaxis": "y"
          }
         ],
         "name": "135"
        },
        {
         "data": [
          {
           "hovertemplate": "Odd Proton=False<br>Neutron Number [N]=136<br>Proton Number [Z]=%{x}<br>Deficit [MeV]=%{y}<extra></extra>",
           "legendgroup": "False",
           "marker": {
            "color": "#636efa",
            "symbol": "circle"
           },
           "mode": "markers",
           "name": "False",
           "orientation": "v",
           "showlegend": true,
           "type": "scatter",
           "x": [
            80,
            82,
            84,
            86,
            88,
            90,
            92,
            94
           ],
           "xaxis": "x",
           "y": [
            -1659.9599999999998,
            -1679.69,
            -1694.709368,
            -1708.1788002,
            -1720.3028864,
            -1730.5090069999999,
            -1739.0645964,
            -1745.9303679999998
           ],
           "yaxis": "y"
          },
          {
           "hovertemplate": "Odd Proton=True<br>Neutron Number [N]=136<br>Proton Number [Z]=%{x}<br>Deficit [MeV]=%{y}<extra></extra>",
           "legendgroup": "True",
           "marker": {
            "color": "#EF553B",
            "symbol": "circle"
           },
           "mode": "markers",
           "name": "True",
           "orientation": "v",
           "showlegend": true,
           "type": "scatter",
           "x": [
            81,
            83,
            85,
            87,
            89,
            91,
            93,
            97
           ],
           "xaxis": "x",
           "y": [
            -1669.3809999999999,
            -1686.3,
            -1700.4790634,
            -1713.4574065,
            -1724.7803849999998,
            -1734.1652514999998,
            -1741.7721909000002,
            -1751.9270000000001
           ],
           "yaxis": "y"
          }
         ],
         "name": "136"
        },
        {
         "data": [
          {
           "hovertemplate": "Odd Proton=False<br>Neutron Number [N]=137<br>Proton Number [Z]=%{x}<br>Deficit [MeV]=%{y}<extra></extra>",
           "legendgroup": "False",
           "marker": {
            "color": "#636efa",
            "symbol": "circle"
           },
           "mode": "markers",
           "name": "False",
           "orientation": "v",
           "showlegend": true,
           "type": "scatter",
           "x": [
            82,
            84,
            86,
            88,
            90,
            92,
            94,
            96
           ],
           "xaxis": "x",
           "y": [
            -1682.796,
            -1698.2703893999999,
            -1712.232356,
            -1725.206985,
            -1735.9732156999999,
            -1745.1452922,
            -1752.6252744,
            -1758.218466
           ],
           "yaxis": "y"
          },
          {
           "hovertemplate": "Odd Proton=True<br>Neutron Number [N]=137<br>Proton Number [Z]=%{x}<br>Deficit [MeV]=%{y}<extra></extra>",
           "legendgroup": "True",
           "marker": {
            "color": "#EF553B",
            "symbol": "circle"
           },
           "mode": "markers",
           "name": "True",
           "orientation": "v",
           "showlegend": true,
           "type": "scatter",
           "x": [
            83,
            85,
            87,
            89,
            91,
            93,
            95,
            97
           ],
           "xaxis": "x",
           "y": [
            -1689.82,
            -1704.3800916,
            -1718.162432,
            -1730.1797928,
            -1740.1433328,
            -1748.408273,
            -1754.848,
            -1759.4460000000001
           ],
           "yaxis": "y"
          }
         ],
         "name": "137"
        },
        {
         "data": [
          {
           "hovertemplate": "Odd Proton=False<br>Neutron Number [N]=138<br>Proton Number [Z]=%{x}<br>Deficit [MeV]=%{y}<extra></extra>",
           "legendgroup": "False",
           "marker": {
            "color": "#636efa",
            "symbol": "circle"
           },
           "mode": "markers",
           "name": "False",
           "orientation": "v",
           "showlegend": true,
           "type": "scatter",
           "x": [
            82,
            84,
            86,
            88,
            90,
            92,
            94,
            96,
            98
           ],
           "xaxis": "x",
           "y": [
            -1687.4,
            -1703.6291988,
            -1718.2483136,
            -1731.6037736,
            -1743.0783996,
            -1752.8122210000001,
            -1760.6442648000002,
            -1766.8607112,
            null
           ],
           "yaxis": "y"
          },
          {
           "hovertemplate": "Odd Proton=True<br>Neutron Number [N]=138<br>Proton Number [Z]=%{x}<br>Deficit [MeV]=%{y}<extra></extra>",
           "legendgroup": "True",
           "marker": {
            "color": "#EF553B",
            "symbol": "circle"
           },
           "mode": "markers",
           "name": "True",
           "orientation": "v",
           "showlegend": true,
           "type": "scatter",
           "x": [
            83,
            85,
            87,
            89,
            91,
            93,
            95
           ],
           "xaxis": "x",
           "y": [
            -1694.628,
            -1709.9764211,
            -1724.1617700000002,
            -1736.7108068,
            -1747.2414208000002,
            -1756.0925151,
            -1763.111
           ],
           "yaxis": "y"
          }
         ],
         "name": "138"
        },
        {
         "data": [
          {
           "hovertemplate": "Odd Proton=False<br>Neutron Number [N]=139<br>Proton Number [Z]=%{x}<br>Deficit [MeV]=%{y}<extra></extra>",
           "legendgroup": "False",
           "marker": {
            "color": "#636efa",
            "symbol": "circle"
           },
           "mode": "markers",
           "name": "False",
           "orientation": "v",
           "showlegend": true,
           "type": "scatter",
           "x": [
            84,
            86,
            88,
            90,
            92,
            94,
            96,
            98
           ],
           "xaxis": "x",
           "y": [
            -1707.065,
            -1722.2305725,
            -1736.1651896,
            -1748.335079,
            -1758.6926048999999,
            -1767.0246544,
            -1773.5449999999998,
            -1778.2941159000002
           ],
           "yaxis": "y"
          },
          {
           "hovertemplate": "Odd Proton=True<br>Neutron Number [N]=139<br>Proton Number [Z]=%{x}<br>Deficit [MeV]=%{y}<extra></extra>",
           "legendgroup": "True",
           "marker": {
            "color": "#EF553B",
            "symbol": "circle"
           },
           "mode": "markers",
           "name": "True",
           "orientation": "v",
           "showlegend": true,
           "type": "scatter",
           "x": [
            83,
            85,
            87,
            89,
            91,
            93,
            95,
            97
           ],
           "xaxis": "x",
           "y": [
            -1697.856,
            -1713.7647295999998,
            -1728.5331568000001,
            -1741.7369844,
            -1753.036034,
            -1762.5040000000001,
            -1769.976,
            -1775.4279999999999
           ],
           "yaxis": "y"
          }
         ],
         "name": "139"
        },
        {
         "data": [
          {
           "hovertemplate": "Odd Proton=False<br>Neutron Number [N]=140<br>Proton Number [Z]=%{x}<br>Deficit [MeV]=%{y}<extra></extra>",
           "legendgroup": "False",
           "marker": {
            "color": "#636efa",
            "symbol": "circle"
           },
           "mode": "markers",
           "name": "False",
           "orientation": "v",
           "showlegend": true,
           "type": "scatter",
           "x": [
            84,
            86,
            88,
            90,
            92,
            94,
            96,
            98
           ],
           "xaxis": "x",
           "y": [
            -1712.256,
            -1728.0888408,
            -1742.4737891999998,
            -1755.129402,
            -1765.9604288,
            -1774.7978274,
            -1781.872924,
            -1787.142
           ],
           "yaxis": "y"
          },
          {
           "hovertemplate": "Odd Proton=True<br>Neutron Number [N]=140<br>Proton Number [Z]=%{x}<br>Deficit [MeV]=%{y}<extra></extra>",
           "legendgroup": "True",
           "marker": {
            "color": "#EF553B",
            "symbol": "circle"
           },
           "mode": "markers",
           "name": "True",
           "orientation": "v",
           "showlegend": true,
           "type": "scatter",
           "x": [
            83,
            85,
            87,
            89,
            91,
            93,
            95
           ],
           "xaxis": "x",
           "y": [
            -1702.828,
            -1719.225,
            -1734.4425774,
            -1748.0130134,
            -1759.8565677,
            -1769.9103128,
            -1777.812177
           ],
           "yaxis": "y"
          }
         ],
         "name": "140"
        },
        {
         "data": [
          {
           "hovertemplate": "Odd Proton=False<br>Neutron Number [N]=141<br>Proton Number [Z]=%{x}<br>Deficit [MeV]=%{y}<extra></extra>",
           "legendgroup": "False",
           "marker": {
            "color": "#636efa",
            "symbol": "circle"
           },
           "mode": "markers",
           "name": "False",
           "orientation": "v",
           "showlegend": true,
           "type": "scatter",
           "x": [
            84,
            86,
            88,
            90,
            92,
            94,
            96,
            98,
            100
           ],
           "xaxis": "x",
           "y": [
            -1715.8500000000001,
            -1732.0215316000001,
            -1746.9233398000001,
            -1760.2474428,
            -1771.7220742000002,
            -1781.0367764999999,
            -1788.5499117,
            -1794.173,
            -1797.619
           ],
           "yaxis": "y"
          },
          {
           "hovertemplate": "Odd Proton=True<br>Neutron Number [N]=141<br>Proton Number [Z]=%{x}<br>Deficit [MeV]=%{y}<extra></extra>",
           "legendgroup": "True",
           "marker": {
            "color": "#EF553B",
            "symbol": "circle"
           },
           "mode": "markers",
           "name": "True",
           "orientation": "v",
           "showlegend": true,
           "type": "scatter",
           "x": [
            83,
            85,
            87,
            89,
            91,
            93,
            95,
            97,
            99
           ],
           "xaxis": "x",
           "y": [
            -1705.984,
            -1723.024,
            -1738.8121092000001,
            -1752.935892,
            -1765.4056704000002,
            -1775.9753388000001,
            -1784.396,
            -1790.95,
            -1795.44
           ],
           "yaxis": "y"
          }
         ],
         "name": "141"
        },
        {
         "data": [
          {
           "hovertemplate": "Odd Proton=False<br>Neutron Number [N]=142<br>Proton Number [Z]=%{x}<br>Deficit [MeV]=%{y}<extra></extra>",
           "legendgroup": "False",
           "marker": {
            "color": "#636efa",
            "symbol": "circle"
           },
           "mode": "markers",
           "name": "False",
           "orientation": "v",
           "showlegend": true,
           "type": "scatter",
           "x": [
            84,
            86,
            88,
            90,
            92,
            94,
            96,
            98,
            100
           ],
           "xaxis": "x",
           "y": [
            -1720.764,
            -1737.7352196,
            -1753.0403119999999,
            -1766.6878416,
            -1778.567544,
            -1788.3889312000001,
            -1796.4231908000002,
            -1802.4576,
            -1806.53
           ],
           "yaxis": "y"
          },
          {
           "hovertemplate": "Odd Proton=True<br>Neutron Number [N]=142<br>Proton Number [Z]=%{x}<br>Deficit [MeV]=%{y}<extra></extra>",
           "legendgroup": "True",
           "marker": {
            "color": "#EF553B",
            "symbol": "circle"
           },
           "mode": "markers",
           "name": "True",
           "orientation": "v",
           "showlegend": true,
           "type": "scatter",
           "x": [
            85,
            87,
            89,
            91,
            93,
            95,
            97,
            99
           ],
           "xaxis": "x",
           "y": [
            -1728.151,
            -1744.5994019999998,
            -1759.0827408,
            -1771.9341275,
            -1782.9584185,
            -1791.9569999999999,
            -1798.953,
            -1803.885
           ],
           "yaxis": "y"
          }
         ],
         "name": "142"
        },
        {
         "data": [
          {
           "hovertemplate": "Odd Proton=False<br>Neutron Number [N]=143<br>Proton Number [Z]=%{x}<br>Deficit [MeV]=%{y}<extra></extra>",
           "legendgroup": "False",
           "marker": {
            "color": "#636efa",
            "symbol": "circle"
           },
           "mode": "markers",
           "name": "False",
           "orientation": "v",
           "showlegend": true,
           "type": "scatter",
           "x": [
            84,
            86,
            88,
            90,
            92,
            94,
            96,
            98,
            100
           ],
           "xaxis": "x",
           "y": [
            -1724.292,
            -1741.6875983,
            -1757.4114558,
            -1771.4742320999999,
            -1783.8650485,
            -1794.2700963,
            -1802.7927501,
            -1809.187,
            -1813.7520000000002
           ],
           "yaxis": "y"
          },
          {
           "hovertemplate": "Odd Proton=True<br>Neutron Number [N]=143<br>Proton Number [Z]=%{x}<br>Deficit [MeV]=%{y}<extra></extra>",
           "legendgroup": "True",
           "marker": {
            "color": "#EF553B",
            "symbol": "circle"
           },
           "mode": "markers",
           "name": "True",
           "orientation": "v",
           "showlegend": true,
           "type": "scatter",
           "x": [
            85,
            87,
            89,
            91,
            93,
            95,
            97,
            99,
            101
           ],
           "xaxis": "x",
           "y": [
            -1731.888,
            -1748.852196,
            -1763.7624839999999,
            -1777.1559857999998,
            -1788.6946928,
            -1798.2293014,
            -1805.52,
            -1810.886,
            -1814.8719999999998
           ],
           "yaxis": "y"
          }
         ],
         "name": "143"
        },
        {
         "data": [
          {
           "hovertemplate": "Odd Proton=False<br>Neutron Number [N]=144<br>Proton Number [Z]=%{x}<br>Deficit [MeV]=%{y}<extra></extra>",
           "legendgroup": "False",
           "marker": {
            "color": "#636efa",
            "symbol": "circle"
           },
           "mode": "markers",
           "name": "False",
           "orientation": "v",
           "showlegend": true,
           "type": "scatter",
           "x": [
            86,
            88,
            90,
            92,
            94,
            96,
            98,
            100
           ],
           "xaxis": "x",
           "y": [
            -1746.85,
            -1763.2022967999999,
            -1777.6642338,
            -1790.4105544,
            -1801.2699418,
            -1810.286808,
            -1817.2019822,
            -1822.192
           ],
           "yaxis": "y"
          },
          {
           "hovertemplate": "Odd Proton=True<br>Neutron Number [N]=144<br>Proton Number [Z]=%{x}<br>Deficit [MeV]=%{y}<extra></extra>",
           "legendgroup": "True",
           "marker": {
            "color": "#EF553B",
            "symbol": "circle"
           },
           "mode": "markers",
           "name": "True",
           "orientation": "v",
           "showlegend": true,
           "type": "scatter",
           "x": [
            85,
            87,
            89,
            91,
            93,
            95,
            97,
            99,
            101
           ],
           "xaxis": "x",
           "y": [
            -1736.965,
            -1754.3297079,
            -1769.6801787,
            -1783.2772665,
            -1795.2725115,
            -1805.3316949,
            -1813.284,
            -1819.098,
            -1823.045
           ],
           "yaxis": "y"
          }
         ],
         "name": "144"
        },
        {
         "data": [
          {
           "hovertemplate": "Odd Proton=False<br>Neutron Number [N]=145<br>Proton Number [Z]=%{x}<br>Deficit [MeV]=%{y}<extra></extra>",
           "legendgroup": "False",
           "marker": {
            "color": "#636efa",
            "symbol": "circle"
           },
           "mode": "markers",
           "name": "False",
           "orientation": "v",
           "showlegend": true,
           "type": "scatter",
           "x": [
            86,
            88,
            90,
            92,
            94,
            96,
            98,
            100
           ],
           "xaxis": "x",
           "y": [
            -1750.749,
            -1767.4365052,
            -1782.330757,
            -1795.5363162,
            -1806.9161692999999,
            -1816.3805607999998,
            -1823.715,
            -1828.925
           ],
           "yaxis": "y"
          },
          {
           "hovertemplate": "Odd Proton=True<br>Neutron Number [N]=145<br>Proton Number [Z]=%{x}<br>Deficit [MeV]=%{y}<extra></extra>",
           "legendgroup": "True",
           "marker": {
            "color": "#EF553B",
            "symbol": "circle"
           },
           "mode": "markers",
           "name": "True",
           "orientation": "v",
           "showlegend": true,
           "type": "scatter",
           "x": [
            87,
            89,
            91,
            93,
            95,
            97,
            99,
            101
           ],
           "xaxis": "x",
           "y": [
            -1758.4087591999998,
            -1774.2183498000002,
            -1788.3035228,
            -1800.760836,
            -1811.2832640000001,
            -1819.598,
            -1825.8519999999999,
            -1830.4859999999999
           ],
           "yaxis": "y"
          }
         ],
         "name": "145"
        },
        {
         "data": [
          {
           "hovertemplate": "Odd Proton=False<br>Neutron Number [N]=146<br>Proton Number [Z]=%{x}<br>Deficit [MeV]=%{y}<extra></extra>",
           "legendgroup": "False",
           "marker": {
            "color": "#636efa",
            "symbol": "circle"
           },
           "mode": "markers",
           "name": "False",
           "orientation": "v",
           "showlegend": true,
           "type": "scatter",
           "x": [
            88,
            90,
            92,
            94,
            96,
            98,
            100,
            102
           ],
           "xaxis": "x",
           "y": [
            -1772.9112726,
            -1788.1646368,
            -1801.6900355999999,
            -1813.4503920000002,
            -1823.349968,
            -1831.2535012,
            -1837.1183568000001,
            -1841.152
           ],
           "yaxis": "y"
          },
          {
           "hovertemplate": "Odd Proton=True<br>Neutron Number [N]=146<br>Proton Number [Z]=%{x}<br>Deficit [MeV]=%{y}<extra></extra>",
           "legendgroup": "True",
           "marker": {
            "color": "#EF553B",
            "symbol": "circle"
           },
           "mode": "markers",
           "name": "True",
           "orientation": "v",
           "showlegend": true,
           "type": "scatter",
           "x": [
            87,
            89,
            91,
            93,
            95,
            97,
            99,
            101
           ],
           "xaxis": "x",
           "y": [
            -1763.6328734,
            -1779.7736985000001,
            -1794.1811739,
            -1806.975752,
            -1817.9303595,
            -1826.7530103,
            -1833.825,
            -1838.668
           ],
           "yaxis": "y"
          }
         ],
         "name": "146"
        },
        {
         "data": [
          {
           "hovertemplate": "Odd Proton=False<br>Neutron Number [N]=147<br>Proton Number [Z]=%{x}<br>Deficit [MeV]=%{y}<extra></extra>",
           "legendgroup": "False",
           "marker": {
            "color": "#636efa",
            "symbol": "circle"
           },
           "mode": "markers",
           "name": "False",
           "orientation": "v",
           "showlegend": true,
           "type": "scatter",
           "x": [
            90,
            92,
            94,
            96,
            98,
            100,
            102
           ],
           "xaxis": "x",
           "y": [
            -1792.5360621,
            -1806.4964135999999,
            -1818.6919195,
            -1829.0430423,
            -1837.4177779999998,
            -1843.6080000000002,
            -1848.078
           ],
           "yaxis": "y"
          },
          {
           "hovertemplate": "Odd Proton=True<br>Neutron Number [N]=147<br>Proton Number [Z]=%{x}<br>Deficit [MeV]=%{y}<extra></extra>",
           "legendgroup": "True",
           "marker": {
            "color": "#EF553B",
            "symbol": "circle"
           },
           "mode": "markers",
           "name": "True",
           "orientation": "v",
           "showlegend": true,
           "type": "scatter",
           "x": [
            89,
            91,
            93,
            95,
            97,
            99,
            101
           ],
           "xaxis": "x",
           "y": [
            -1783.9811828,
            -1798.8860862,
            -1812.041832,
            -1823.4679914,
            -1832.8001196000002,
            -1840.2730854,
            -1845.616
           ],
           "yaxis": "y"
          }
         ],
         "name": "147"
        },
        {
         "data": [
          {
           "hovertemplate": "Odd Proton=False<br>Neutron Number [N]=148<br>Proton Number [Z]=%{x}<br>Deficit [MeV]=%{y}<extra></extra>",
           "legendgroup": "False",
           "marker": {
            "color": "#636efa",
            "symbol": "circle"
           },
           "mode": "markers",
           "name": "False",
           "orientation": "v",
           "showlegend": true,
           "type": "scatter",
           "x": [
            90,
            92,
            94,
            96,
            98,
            100,
            102
           ],
           "xaxis": "x",
           "y": [
            -1798.09,
            -1812.42492,
            -1825.0014728,
            -1835.8444588,
            -1844.784012,
            -1851.5543848,
            -1856.5
           ],
           "yaxis": "y"
          },
          {
           "hovertemplate": "Odd Proton=True<br>Neutron Number [N]=148<br>Proton Number [Z]=%{x}<br>Deficit [MeV]=%{y}<extra></extra>",
           "legendgroup": "True",
           "marker": {
            "color": "#EF553B",
            "symbol": "circle"
           },
           "mode": "markers",
           "name": "True",
           "orientation": "v",
           "showlegend": true,
           "type": "scatter",
           "x": [
            91,
            93,
            95,
            97,
            99,
            101
           ],
           "xaxis": "x",
           "y": [
            -1804.45,
            -1818.1142666,
            -1829.8323306,
            -1839.7714929999997,
            -1847.5848234999999,
            -1853.5602081
           ],
           "yaxis": "y"
          }
         ],
         "name": "148"
        },
        {
         "data": [
          {
           "hovertemplate": "Odd Proton=False<br>Neutron Number [N]=149<br>Proton Number [Z]=%{x}<br>Deficit [MeV]=%{y}<extra></extra>",
           "legendgroup": "False",
           "marker": {
            "color": "#636efa",
            "symbol": "circle"
           },
           "mode": "markers",
           "name": "False",
           "orientation": "v",
           "showlegend": true,
           "type": "scatter",
           "x": [
            92,
            94,
            96,
            98,
            100,
            102,
            104
           ],
           "xaxis": "x",
           "y": [
            -1816.899,
            -1830.0351141,
            -1841.3630865,
            -1850.8361585999999,
            -1858.0043600999998,
            -1863.173,
            -1867.1399999999999
           ],
           "yaxis": "y"
          },
          {
           "hovertemplate": "Odd Proton=True<br>Neutron Number [N]=149<br>Proton Number [Z]=%{x}<br>Deficit [MeV]=%{y}<extra></extra>",
           "legendgroup": "True",
           "marker": {
            "color": "#EF553B",
            "symbol": "circle"
           },
           "mode": "markers",
           "name": "True",
           "orientation": "v",
           "showlegend": true,
           "type": "scatter",
           "x": [
            93,
            95,
            97,
            99,
            101,
            103
           ],
           "xaxis": "x",
           "y": [
            -1823.0838164,
            -1835.1995180000001,
            -1845.689661,
            -1854.048,
            -1860.413325,
            -1864.8000000000002
           ],
           "yaxis": "y"
          }
         ],
         "name": "149"
        },
        {
         "data": [
          {
           "hovertemplate": "Odd Proton=False<br>Neutron Number [N]=150<br>Proton Number [Z]=%{x}<br>Deficit [MeV]=%{y}<extra></extra>",
           "legendgroup": "False",
           "marker": {
            "color": "#636efa",
            "symbol": "circle"
           },
           "mode": "markers",
           "name": "False",
           "orientation": "v",
           "showlegend": true,
           "type": "scatter",
           "x": [
            92,
            94,
            96,
            98,
            100,
            102,
            104
           ],
           "xaxis": "x",
           "y": [
            -1822.744,
            -1836.0549576,
            -1847.8220136,
            -1857.778912,
            -1865.522625,
            -1871.3013984,
            -1875.536
           ],
           "yaxis": "y"
          },
          {
           "hovertemplate": "Odd Proton=True<br>Neutron Number [N]=150<br>Proton Number [Z]=%{x}<br>Deficit [MeV]=%{y}<extra></extra>",
           "legendgroup": "True",
           "marker": {
            "color": "#EF553B",
            "symbol": "circle"
           },
           "mode": "markers",
           "name": "True",
           "orientation": "v",
           "showlegend": true,
           "type": "scatter",
           "x": [
            93,
            95,
            97,
            99,
            101,
            103,
            105
           ],
           "xaxis": "x",
           "y": [
            -1828.818,
            -1841.2495534999998,
            -1852.2383776000001,
            -1861.026,
            -1867.9170255,
            -1872.938254,
            -1876.545
           ],
           "yaxis": "y"
          }
         ],
         "name": "150"
        },
        {
         "data": [
          {
           "hovertemplate": "Odd Proton=False<br>Neutron Number [N]=151<br>Proton Number [Z]=%{x}<br>Deficit [MeV]=%{y}<extra></extra>",
           "legendgroup": "False",
           "marker": {
            "color": "#636efa",
            "symbol": "circle"
           },
           "mode": "markers",
           "name": "False",
           "orientation": "v",
           "showlegend": true,
           "type": "scatter",
           "x": [
            92,
            94,
            96,
            98,
            100,
            102,
            104
           ],
           "xaxis": "x",
           "y": [
            -1826.874,
            -1840.754139,
            -1852.9771546000002,
            -1863.3654546,
            -1871.7073263,
            -1877.8853907,
            -1882.4099999999999
           ],
           "yaxis": "y"
          },
          {
           "hovertemplate": "Odd Proton=True<br>Neutron Number [N]=151<br>Proton Number [Z]=%{x}<br>Deficit [MeV]=%{y}<extra></extra>",
           "legendgroup": "True",
           "marker": {
            "color": "#EF553B",
            "symbol": "circle"
           },
           "mode": "markers",
           "name": "True",
           "orientation": "v",
           "showlegend": true,
           "type": "scatter",
           "x": [
            93,
            95,
            97,
            99,
            101,
            103,
            105
           ],
           "xaxis": "x",
           "y": [
            -1833.4160000000002,
            -1846.23,
            -1857.66818,
            -1867.25,
            -1874.4879888000003,
            -1879.8871724,
            -1883.904
           ],
           "yaxis": "y"
          }
         ],
         "name": "151"
        },
        {
         "data": [
          {
           "hovertemplate": "Odd Proton=False<br>Neutron Number [N]=152<br>Proton Number [Z]=%{x}<br>Deficit [MeV]=%{y}<extra></extra>",
           "legendgroup": "False",
           "marker": {
            "color": "#636efa",
            "symbol": "circle"
           },
           "mode": "markers",
           "name": "False",
           "orientation": "v",
           "showlegend": true,
           "type": "scatter",
           "x": [
            92,
            94,
            96,
            98,
            100,
            102,
            104,
            106
           ],
           "xaxis": "x",
           "y": [
            null,
            -1846.6088646,
            -1859.1888167999998,
            -1869.989175,
            -1878.9208452,
            -1885.5920886,
            -1890.6713344,
            -1894.2359999999999
           ],
           "yaxis": "y"
          },
          {
           "hovertemplate": "Odd Proton=True<br>Neutron Number [N]=152<br>Proton Number [Z]=%{x}<br>Deficit [MeV]=%{y}<extra></extra>",
           "legendgroup": "True",
           "marker": {
            "color": "#EF553B",
            "symbol": "circle"
           },
           "mode": "markers",
           "name": "True",
           "orientation": "v",
           "showlegend": true,
           "type": "scatter",
           "x": [
            95,
            97,
            99,
            101,
            103,
            105
           ],
           "xaxis": "x",
           "y": [
            -1852.253,
            -1864.0242090000002,
            -1873.9369342000002,
            -1881.8139999999999,
            -1887.6570585,
            -1892.0280119000001
           ],
           "yaxis": "y"
          }
         ],
         "name": "152"
        },
        {
         "data": [
          {
           "hovertemplate": "Odd Proton=False<br>Neutron Number [N]=153<br>Proton Number [Z]=%{x}<br>Deficit [MeV]=%{y}<extra></extra>",
           "legendgroup": "False",
           "marker": {
            "color": "#636efa",
            "symbol": "circle"
           },
           "mode": "markers",
           "name": "False",
           "orientation": "v",
           "showlegend": true,
           "type": "scatter",
           "x": [
            92,
            94,
            96,
            98,
            100,
            102,
            104,
            106
           ],
           "xaxis": "x",
           "y": [
            null,
            -1850.7710000000002,
            -1863.902199,
            -1875.0958514,
            -1884.4632136,
            -1891.5747765,
            -1897.0982620999998,
            -1901.06
           ],
           "yaxis": "y"
          },
          {
           "hovertemplate": "Odd Proton=True<br>Neutron Number [N]=153<br>Proton Number [Z]=%{x}<br>Deficit [MeV]=%{y}<extra></extra>",
           "legendgroup": "True",
           "marker": {
            "color": "#EF553B",
            "symbol": "circle"
           },
           "mode": "markers",
           "name": "True",
           "orientation": "v",
           "showlegend": true,
           "type": "scatter",
           "x": [
            95,
            97,
            99,
            101,
            103,
            105,
            107
           ],
           "xaxis": "x",
           "y": [
            -1856.776,
            -1868.98985,
            -1879.2251856,
            -1887.728,
            -1893.929088,
            -1898.7459174,
            -1901.64
           ],
           "yaxis": "y"
          }
         ],
         "name": "153"
        },
        {
         "data": [
          {
           "hovertemplate": "Odd Proton=False<br>Neutron Number [N]=154<br>Proton Number [Z]=%{x}<br>Deficit [MeV]=%{y}<extra></extra>",
           "legendgroup": "False",
           "marker": {
            "color": "#636efa",
            "symbol": "circle"
           },
           "mode": "markers",
           "name": "False",
           "orientation": "v",
           "showlegend": true,
           "type": "scatter",
           "x": [
            92,
            96,
            98,
            100,
            102,
            104,
            106
           ],
           "xaxis": "x",
           "y": [
            null,
            -1869.734625,
            -1881.2675448,
            -1890.9775743999999,
            -1898.6349824000001,
            -1904.6916306,
            -1909.0664319999998
           ],
           "yaxis": "y"
          },
          {
           "hovertemplate": "Odd Proton=True<br>Neutron Number [N]=154<br>Proton Number [Z]=%{x}<br>Deficit [MeV]=%{y}<extra></extra>",
           "legendgroup": "True",
           "marker": {
            "color": "#EF553B",
            "symbol": "circle"
           },
           "mode": "markers",
           "name": "True",
           "orientation": "v",
           "showlegend": true,
           "type": "scatter",
           "x": [
            97,
            99,
            101,
            103,
            105,
            107
           ],
           "xaxis": "x",
           "y": [
            -1874.7851887000002,
            -1885.5806386999998,
            -1894.3269915,
            -1901.029,
            -1906.3339134,
            -1909.8234693
           ],
           "yaxis": "y"
          }
         ],
         "name": "154"
        },
        {
         "data": [
          {
           "hovertemplate": "Odd Proton=False<br>Neutron Number [N]=155<br>Proton Number [Z]=%{x}<br>Deficit [MeV]=%{y}<extra></extra>",
           "legendgroup": "False",
           "marker": {
            "color": "#636efa",
            "symbol": "circle"
           },
           "mode": "markers",
           "name": "False",
           "orientation": "v",
           "showlegend": true,
           "type": "scatter",
           "x": [
            92,
            96,
            98,
            100,
            102,
            104,
            106,
            108
           ],
           "xaxis": "x",
           "y": [
            null,
            -1874.1475483,
            -1886.0719141000002,
            -1896.15093,
            -1904.2822858999998,
            -1910.643,
            -1915.680231,
            -1918.585
           ],
           "yaxis": "y"
          },
          {
           "hovertemplate": "Odd Proton=True<br>Neutron Number [N]=155<br>Proton Number [Z]=%{x}<br>Deficit [MeV]=%{y}<extra></extra>",
           "legendgroup": "True",
           "marker": {
            "color": "#EF553B",
            "symbol": "circle"
           },
           "mode": "markers",
           "name": "True",
           "orientation": "v",
           "showlegend": true,
           "type": "scatter",
           "x": [
            99,
            101,
            103,
            105,
            107
           ],
           "xaxis": "x",
           "y": [
            -1890.6682786,
            -1899.776,
            -1907.1360000000002,
            -1912.8200000000002,
            -1916.7220722
           ],
           "yaxis": "y"
          }
         ],
         "name": "155"
        },
        {
         "data": [
          {
           "hovertemplate": "Odd Proton=False<br>Neutron Number [N]=156<br>Proton Number [Z]=%{x}<br>Deficit [MeV]=%{y}<extra></extra>",
           "legendgroup": "False",
           "marker": {
            "color": "#636efa",
            "symbol": "circle"
           },
           "mode": "markers",
           "name": "False",
           "orientation": "v",
           "showlegend": true,
           "type": "scatter",
           "x": [
            92,
            98,
            100,
            102,
            104,
            106,
            108
           ],
           "xaxis": "x",
           "y": [
            null,
            -1892.1033786,
            -1902.5379328000001,
            -1911.006,
            -1918.02,
            -1923.3874832000001,
            -1926.7713168
           ],
           "yaxis": "y"
          },
          {
           "hovertemplate": "Odd Proton=True<br>Neutron Number [N]=156<br>Proton Number [Z]=%{x}<br>Deficit [MeV]=%{y}<extra></extra>",
           "legendgroup": "True",
           "marker": {
            "color": "#EF553B",
            "symbol": "circle"
           },
           "mode": "markers",
           "name": "True",
           "orientation": "v",
           "showlegend": true,
           "type": "scatter",
           "x": [
            97,
            99,
            101,
            103,
            105,
            107
           ],
           "xaxis": "x",
           "y": [
            -1885.1029999999998,
            -1896.644508,
            -1906.3192165,
            -1914.01,
            -1920.1770000000001,
            -1924.6339999999998
           ],
           "yaxis": "y"
          }
         ],
         "name": "156"
        },
        {
         "data": [
          {
           "hovertemplate": "Odd Proton=False<br>Neutron Number [N]=157<br>Proton Number [Z]=%{x}<br>Deficit [MeV]=%{y}<extra></extra>",
           "legendgroup": "False",
           "marker": {
            "color": "#636efa",
            "symbol": "circle"
           },
           "mode": "markers",
           "name": "False",
           "orientation": "v",
           "showlegend": true,
           "type": "scatter",
           "x": [
            92,
            98,
            100,
            102,
            104,
            106,
            108,
            110
           ],
           "xaxis": "x",
           "y": [
            null,
            -1896.6899999999998,
            -1907.5039093999999,
            -1916.5925926,
            -1923.9316938,
            -1929.6309999999999,
            -1933.5055610000002,
            -1935.2160000000001
           ],
           "yaxis": "y"
          },
          {
           "hovertemplate": "Odd Proton=True<br>Neutron Number [N]=157<br>Proton Number [Z]=%{x}<br>Deficit [MeV]=%{y}<extra></extra>",
           "legendgroup": "True",
           "marker": {
            "color": "#EF553B",
            "symbol": "circle"
           },
           "mode": "markers",
           "name": "True",
           "orientation": "v",
           "showlegend": true,
           "type": "scatter",
           "x": [
            99,
            101,
            103,
            105,
            107,
            109
           ],
           "xaxis": "x",
           "y": [
            -1901.568,
            -1911.692667,
            -1919.58,
            -1926.2240000000002,
            -1931.16,
            -1934.0221067999998
           ],
           "yaxis": "y"
          }
         ],
         "name": "157"
        },
        {
         "data": [
          {
           "hovertemplate": "Odd Proton=False<br>Neutron Number [N]=158<br>Proton Number [Z]=%{x}<br>Deficit [MeV]=%{y}<extra></extra>",
           "legendgroup": "False",
           "marker": {
            "color": "#636efa",
            "symbol": "circle"
           },
           "mode": "markers",
           "name": "False",
           "orientation": "v",
           "showlegend": true,
           "type": "scatter",
           "x": [
            92,
            98,
            100,
            102,
            104,
            106,
            108
           ],
           "xaxis": "x",
           "y": [
            null,
            -1902.592,
            -1913.844,
            -1923.22,
            -1930.94,
            -1937.232,
            -1941.3374525999998
           ],
           "yaxis": "y"
          },
          {
           "hovertemplate": "Odd Proton=True<br>Neutron Number [N]=158<br>Proton Number [Z]=%{x}<br>Deficit [MeV]=%{y}<extra></extra>",
           "legendgroup": "True",
           "marker": {
            "color": "#EF553B",
            "symbol": "circle"
           },
           "mode": "markers",
           "name": "True",
           "orientation": "v",
           "showlegend": true,
           "type": "scatter",
           "x": [
            99,
            101,
            103,
            105,
            107
           ],
           "xaxis": "x",
           "y": [
            -1907.454,
            -1917.895,
            -1926.441,
            -1933.576,
            -1938.74
           ],
           "yaxis": "y"
          }
         ],
         "name": "158"
        },
        {
         "data": [
          {
           "hovertemplate": "Odd Proton=False<br>Neutron Number [N]=159<br>Proton Number [Z]=%{x}<br>Deficit [MeV]=%{y}<extra></extra>",
           "legendgroup": "False",
           "marker": {
            "color": "#636efa",
            "symbol": "circle"
           },
           "mode": "markers",
           "name": "False",
           "orientation": "v",
           "showlegend": true,
           "type": "scatter",
           "x": [
            92,
            100,
            104,
            106,
            108,
            110
           ],
           "xaxis": "x",
           "y": [
            null,
            -1918.413,
            -1936.732,
            -1943.2450000000001,
            -1947.7649999999999,
            -1950.2917218999999
           ],
           "yaxis": "y"
          },
          {
           "hovertemplate": "Odd Proton=True<br>Neutron Number [N]=159<br>Proton Number [Z]=%{x}<br>Deficit [MeV]=%{y}<extra></extra>",
           "legendgroup": "True",
           "marker": {
            "color": "#EF553B",
            "symbol": "circle"
           },
           "mode": "markers",
           "name": "True",
           "orientation": "v",
           "showlegend": true,
           "type": "scatter",
           "x": [
            101,
            103,
            107,
            109
           ],
           "xaxis": "x",
           "y": [
            -1922.96,
            -1931.9879999999998,
            -1945.258,
            -1948.628
           ],
           "yaxis": "y"
          }
         ],
         "name": "159"
        },
        {
         "data": [
          {
           "hovertemplate": "Odd Proton=False<br>Neutron Number [N]=161<br>Proton Number [Z]=%{x}<br>Deficit [MeV]=%{y}<extra></extra>",
           "legendgroup": "False",
           "marker": {
            "color": "#636efa",
            "symbol": "circle"
           },
           "mode": "markers",
           "name": "False",
           "orientation": "v",
           "showlegend": true,
           "type": "scatter",
           "x": [
            92,
            104,
            106,
            108,
            110
           ],
           "xaxis": "x",
           "y": [
            null,
            -1948.81,
            -1956.309,
            -1962.0859999999998,
            -1965.292
           ],
           "yaxis": "y"
          },
          {
           "hovertemplate": "Odd Proton=True<br>Neutron Number [N]=161<br>Proton Number [Z]=%{x}<br>Deficit [MeV]=%{y}<extra></extra>",
           "legendgroup": "True",
           "marker": {
            "color": "#EF553B",
            "symbol": "circle"
           },
           "mode": "markers",
           "name": "True",
           "orientation": "v",
           "showlegend": true,
           "type": "scatter",
           "x": [
            103,
            105,
            109,
            111
           ],
           "xaxis": "x",
           "y": [
            -1943.832,
            -1952.1740000000002,
            -1963.17,
            -1965.7440000000001
           ],
           "yaxis": "y"
          }
         ],
         "name": "161"
        },
        {
         "data": [
          {
           "hovertemplate": "Odd Proton=False<br>Neutron Number [N]=162<br>Proton Number [Z]=%{x}<br>Deficit [MeV]=%{y}<extra></extra>",
           "legendgroup": "False",
           "marker": {
            "color": "#636efa",
            "symbol": "circle"
           },
           "mode": "markers",
           "name": "False",
           "orientation": "v",
           "showlegend": true,
           "type": "scatter",
           "x": [
            92,
            108
           ],
           "xaxis": "x",
           "y": [
            null,
            -1969.65
           ],
           "yaxis": "y"
          },
          {
           "hovertemplate": "Odd Proton=True<br>Neutron Number [N]=162<br>Proton Number [Z]=%{x}<br>Deficit [MeV]=%{y}<extra></extra>",
           "legendgroup": "True",
           "marker": {
            "color": "#EF553B",
            "symbol": "circle"
           },
           "mode": "markers",
           "name": "True",
           "orientation": "v",
           "showlegend": true,
           "type": "scatter",
           "x": [
            105
           ],
           "xaxis": "x",
           "y": [
            -1958.979
           ],
           "yaxis": "y"
          }
         ],
         "name": "162"
        },
        {
         "data": [
          {
           "hovertemplate": "Odd Proton=False<br>Neutron Number [N]=163<br>Proton Number [Z]=%{x}<br>Deficit [MeV]=%{y}<extra></extra>",
           "legendgroup": "False",
           "marker": {
            "color": "#636efa",
            "symbol": "circle"
           },
           "mode": "markers",
           "name": "False",
           "orientation": "v",
           "showlegend": true,
           "type": "scatter",
           "x": [
            92,
            104,
            106,
            108,
            110
           ],
           "xaxis": "x",
           "y": [
            null,
            -1960.3139999999999,
            -1968.542,
            -1975.048,
            -1979.25
           ],
           "yaxis": "y"
          },
          {
           "hovertemplate": "Odd Proton=True<br>Neutron Number [N]=163<br>Proton Number [Z]=%{x}<br>Deficit [MeV]=%{y}<extra></extra>",
           "legendgroup": "True",
           "marker": {
            "color": "#EF553B",
            "symbol": "circle"
           },
           "mode": "markers",
           "name": "True",
           "orientation": "v",
           "showlegend": true,
           "type": "scatter",
           "x": [
            103,
            105,
            107,
            111
           ],
           "xaxis": "x",
           "y": [
            -1954.834,
            -1963.904,
            -1971.27,
            -1980.198
           ],
           "yaxis": "y"
          }
         ],
         "name": "163"
        },
        {
         "data": [
          {
           "hovertemplate": "Odd Proton=False<br>Neutron Number [N]=160<br>Proton Number [Z]=%{x}<br>Deficit [MeV]=%{y}<extra></extra>",
           "legendgroup": "False",
           "marker": {
            "color": "#636efa",
            "symbol": "circle"
           },
           "mode": "markers",
           "name": "False",
           "orientation": "v",
           "showlegend": true,
           "type": "scatter",
           "x": [
            102,
            106,
            108,
            110
           ],
           "xaxis": "x",
           "y": [
            -1934.87,
            -1950.312,
            -1955.596,
            -1958.5161179999998
           ],
           "yaxis": "y"
          },
          {
           "hovertemplate": "Odd Proton=True<br>Neutron Number [N]=160<br>Proton Number [Z]=%{x}<br>Deficit [MeV]=%{y}<extra></extra>",
           "legendgroup": "True",
           "marker": {
            "color": "#EF553B",
            "symbol": "circle"
           },
           "mode": "markers",
           "name": "True",
           "orientation": "v",
           "showlegend": true,
           "type": "scatter",
           "x": [
            107
           ],
           "xaxis": "x",
           "y": [
            -1952.571
           ],
           "yaxis": "y"
          }
         ],
         "name": "160"
        },
        {
         "data": [
          {
           "hovertemplate": "Odd Proton=False<br>Neutron Number [N]=165<br>Proton Number [Z]=%{x}<br>Deficit [MeV]=%{y}<extra></extra>",
           "legendgroup": "False",
           "marker": {
            "color": "#636efa",
            "symbol": "circle"
           },
           "mode": "markers",
           "name": "False",
           "orientation": "v",
           "showlegend": true,
           "type": "scatter",
           "x": [
            106,
            108,
            112
           ],
           "xaxis": "x",
           "y": [
            -1979.655,
            -1987.167,
            -1995.785
           ],
           "yaxis": "y"
          },
          {
           "hovertemplate": "Odd Proton=True<br>Neutron Number [N]=165<br>Proton Number [Z]=%{x}<br>Deficit [MeV]=%{y}<extra></extra>",
           "legendgroup": "True",
           "marker": {
            "color": "#EF553B",
            "symbol": "circle"
           },
           "mode": "markers",
           "name": "True",
           "orientation": "v",
           "showlegend": true,
           "type": "scatter",
           "x": [
            105,
            107,
            109,
            113
           ],
           "xaxis": "x",
           "y": [
            -1974.78,
            -1982.88,
            -1988.9660000000001,
            -1996.318
           ],
           "yaxis": "y"
          }
         ],
         "name": "165"
        },
        {
         "data": [
          {
           "hovertemplate": "Odd Proton=True<br>Neutron Number [N]=164<br>Proton Number [Z]=%{x}<br>Deficit [MeV]=%{y}<extra></extra>",
           "legendgroup": "True",
           "marker": {
            "color": "#EF553B",
            "symbol": "circle"
           },
           "mode": "markers",
           "name": "True",
           "orientation": "v",
           "showlegend": true,
           "type": "scatter",
           "x": [
            107
           ],
           "xaxis": "x",
           "y": [
            -1977.758
           ],
           "yaxis": "y"
          }
         ],
         "name": "164"
        },
        {
         "data": [
          {
           "hovertemplate": "Odd Proton=False<br>Neutron Number [N]=167<br>Proton Number [Z]=%{x}<br>Deficit [MeV]=%{y}<extra></extra>",
           "legendgroup": "False",
           "marker": {
            "color": "#636efa",
            "symbol": "circle"
           },
           "mode": "markers",
           "name": "False",
           "orientation": "v",
           "showlegend": true,
           "type": "scatter",
           "x": [
            108,
            110
           ],
           "xaxis": "x",
           "y": [
            -1998.7,
            -2004.6490000000001
           ],
           "yaxis": "y"
          },
          {
           "hovertemplate": "Odd Proton=True<br>Neutron Number [N]=167<br>Proton Number [Z]=%{x}<br>Deficit [MeV]=%{y}<extra></extra>",
           "legendgroup": "True",
           "marker": {
            "color": "#EF553B",
            "symbol": "circle"
           },
           "mode": "markers",
           "name": "True",
           "orientation": "v",
           "showlegend": true,
           "type": "scatter",
           "x": [
            107,
            109,
            111
           ],
           "xaxis": "x",
           "y": [
            -1994.1719999999998,
            -2001,
            -2006.604
           ],
           "yaxis": "y"
          }
         ],
         "name": "167"
        },
        {
         "data": [
          {
           "hovertemplate": "Odd Proton=False<br>Neutron Number [N]=171<br>Proton Number [Z]=%{x}<br>Deficit [MeV]=%{y}<extra></extra>",
           "legendgroup": "False",
           "marker": {
            "color": "#636efa",
            "symbol": "circle"
           },
           "mode": "markers",
           "name": "False",
           "orientation": "v",
           "showlegend": true,
           "type": "scatter",
           "x": [
            110,
            112,
            114
           ],
           "xaxis": "x",
           "y": [
            -2028.82,
            -2035.336,
            -2040.315
           ],
           "yaxis": "y"
          },
          {
           "hovertemplate": "Odd Proton=True<br>Neutron Number [N]=171<br>Proton Number [Z]=%{x}<br>Deficit [MeV]=%{y}<extra></extra>",
           "legendgroup": "True",
           "marker": {
            "color": "#EF553B",
            "symbol": "circle"
           },
           "mode": "markers",
           "name": "True",
           "orientation": "v",
           "showlegend": true,
           "type": "scatter",
           "x": [
            107,
            111,
            113
           ],
           "xaxis": "x",
           "y": [
            -2015.778,
            -2031.528,
            -2037.132
           ],
           "yaxis": "y"
          }
         ],
         "name": "171"
        },
        {
         "data": [
          {
           "hovertemplate": "Odd Proton=False<br>Neutron Number [N]=169<br>Proton Number [Z]=%{x}<br>Deficit [MeV]=%{y}<extra></extra>",
           "legendgroup": "False",
           "marker": {
            "color": "#636efa",
            "symbol": "circle"
           },
           "mode": "markers",
           "name": "False",
           "orientation": "v",
           "showlegend": true,
           "type": "scatter",
           "x": [
            108,
            110,
            112
           ],
           "xaxis": "x",
           "y": [
            -2009.912,
            -2016.891,
            -2022.357
           ],
           "yaxis": "y"
          },
          {
           "hovertemplate": "Odd Proton=True<br>Neutron Number [N]=169<br>Proton Number [Z]=%{x}<br>Deficit [MeV]=%{y}<extra></extra>",
           "legendgroup": "True",
           "marker": {
            "color": "#EF553B",
            "symbol": "circle"
           },
           "mode": "markers",
           "name": "True",
           "orientation": "v",
           "showlegend": true,
           "type": "scatter",
           "x": [
            109,
            111,
            113
           ],
           "xaxis": "x",
           "y": [
            -2012.72,
            -2019.36,
            -2023.914
           ],
           "yaxis": "y"
          }
         ],
         "name": "169"
        },
        {
         "data": [
          {
           "hovertemplate": "Odd Proton=False<br>Neutron Number [N]=170<br>Proton Number [Z]=%{x}<br>Deficit [MeV]=%{y}<extra></extra>",
           "legendgroup": "False",
           "marker": {
            "color": "#636efa",
            "symbol": "circle"
           },
           "mode": "markers",
           "name": "False",
           "orientation": "v",
           "showlegend": true,
           "type": "scatter",
           "x": [
            108,
            110,
            112,
            114
           ],
           "xaxis": "x",
           "y": [
            -2016.056,
            -2023.5600000000002,
            -2029.554,
            -2034.2920000000001
           ],
           "yaxis": "y"
          },
          {
           "hovertemplate": "Odd Proton=True<br>Neutron Number [N]=170<br>Proton Number [Z]=%{x}<br>Deficit [MeV]=%{y}<extra></extra>",
           "legendgroup": "True",
           "marker": {
            "color": "#EF553B",
            "symbol": "circle"
           },
           "mode": "markers",
           "name": "True",
           "orientation": "v",
           "showlegend": true,
           "type": "scatter",
           "x": [
            111,
            113
           ],
           "xaxis": "x",
           "y": [
            -2025.7289999999998,
            -2031.091
           ],
           "yaxis": "y"
          }
         ],
         "name": "170"
        },
        {
         "data": [
          {
           "hovertemplate": "Odd Proton=True<br>Neutron Number [N]=166<br>Proton Number [Z]=%{x}<br>Deficit [MeV]=%{y}<extra></extra>",
           "legendgroup": "True",
           "marker": {
            "color": "#EF553B",
            "symbol": "circle"
           },
           "mode": "markers",
           "name": "True",
           "orientation": "v",
           "showlegend": true,
           "type": "scatter",
           "x": [
            109
           ],
           "xaxis": "x",
           "y": [
            -1995.675
           ],
           "yaxis": "y"
          }
         ],
         "name": "166"
        },
        {
         "data": [
          {
           "hovertemplate": "Odd Proton=True<br>Neutron Number [N]=168<br>Proton Number [Z]=%{x}<br>Deficit [MeV]=%{y}<extra></extra>",
           "legendgroup": "True",
           "marker": {
            "color": "#EF553B",
            "symbol": "circle"
           },
           "mode": "markers",
           "name": "True",
           "orientation": "v",
           "showlegend": true,
           "type": "scatter",
           "x": [
            109,
            111
           ],
           "xaxis": "x",
           "y": [
            -2007.4189999999999,
            -2013.2640000000001
           ],
           "yaxis": "y"
          }
         ],
         "name": "168"
        },
        {
         "data": [
          {
           "hovertemplate": "Odd Proton=False<br>Neutron Number [N]=173<br>Proton Number [Z]=%{x}<br>Deficit [MeV]=%{y}<extra></extra>",
           "legendgroup": "False",
           "marker": {
            "color": "#636efa",
            "symbol": "circle"
           },
           "mode": "markers",
           "name": "False",
           "orientation": "v",
           "showlegend": true,
           "type": "scatter",
           "x": [
            112,
            114
           ],
           "xaxis": "x",
           "y": [
            -2047.725,
            -2053.485
           ],
           "yaxis": "y"
          },
          {
           "hovertemplate": "Odd Proton=True<br>Neutron Number [N]=173<br>Proton Number [Z]=%{x}<br>Deficit [MeV]=%{y}<extra></extra>",
           "legendgroup": "True",
           "marker": {
            "color": "#EF553B",
            "symbol": "circle"
           },
           "mode": "markers",
           "name": "True",
           "orientation": "v",
           "showlegend": true,
           "type": "scatter",
           "x": [
            109,
            113,
            115
           ],
           "xaxis": "x",
           "y": [
            -2035.4759999999999,
            -2050.0480000000002,
            -2054.88
           ],
           "yaxis": "y"
          }
         ],
         "name": "173"
        },
        {
         "data": [
          {
           "hovertemplate": "Odd Proton=False<br>Neutron Number [N]=172<br>Proton Number [Z]=%{x}<br>Deficit [MeV]=%{y}<extra></extra>",
           "legendgroup": "False",
           "marker": {
            "color": "#636efa",
            "symbol": "circle"
           },
           "mode": "markers",
           "name": "False",
           "orientation": "v",
           "showlegend": true,
           "type": "scatter",
           "x": [
            110,
            112,
            114
           ],
           "xaxis": "x",
           "y": [
            -2035.194,
            -2042.244,
            -2047.474
           ],
           "yaxis": "y"
          },
          {
           "hovertemplate": "Odd Proton=True<br>Neutron Number [N]=172<br>Proton Number [Z]=%{x}<br>Deficit [MeV]=%{y}<extra></extra>",
           "legendgroup": "True",
           "marker": {
            "color": "#EF553B",
            "symbol": "circle"
           },
           "mode": "markers",
           "name": "True",
           "orientation": "v",
           "showlegend": true,
           "type": "scatter",
           "x": [
            113,
            115
           ],
           "xaxis": "x",
           "y": [
            -2044.02,
            -2048.893
           ],
           "yaxis": "y"
          }
         ],
         "name": "172"
        },
        {
         "data": [
          {
           "hovertemplate": "Odd Proton=False<br>Neutron Number [N]=175<br>Proton Number [Z]=%{x}<br>Deficit [MeV]=%{y}<extra></extra>",
           "legendgroup": "False",
           "marker": {
            "color": "#636efa",
            "symbol": "circle"
           },
           "mode": "markers",
           "name": "False",
           "orientation": "v",
           "showlegend": true,
           "type": "scatter",
           "x": [
            114,
            116
           ],
           "xaxis": "x",
           "y": [
            -2066.061,
            -2070.756
           ],
           "yaxis": "y"
          },
          {
           "hovertemplate": "Odd Proton=True<br>Neutron Number [N]=175<br>Proton Number [Z]=%{x}<br>Deficit [MeV]=%{y}<extra></extra>",
           "legendgroup": "True",
           "marker": {
            "color": "#EF553B",
            "symbol": "circle"
           },
           "mode": "markers",
           "name": "True",
           "orientation": "v",
           "showlegend": true,
           "type": "scatter",
           "x": [
            111,
            115
           ],
           "xaxis": "x",
           "y": [
            -2054.91,
            -2067.9900000000002
           ],
           "yaxis": "y"
          }
         ],
         "name": "175"
        },
        {
         "data": [
          {
           "hovertemplate": "Odd Proton=False<br>Neutron Number [N]=174<br>Proton Number [Z]=%{x}<br>Deficit [MeV]=%{y}<extra></extra>",
           "legendgroup": "False",
           "marker": {
            "color": "#636efa",
            "symbol": "circle"
           },
           "mode": "markers",
           "name": "False",
           "orientation": "v",
           "showlegend": true,
           "type": "scatter",
           "x": [
            112,
            114,
            116
           ],
           "xaxis": "x",
           "y": [
            -2054.3379999999997,
            -2060.352,
            -2064.8
           ],
           "yaxis": "y"
          },
          {
           "hovertemplate": "Odd Proton=True<br>Neutron Number [N]=174<br>Proton Number [Z]=%{x}<br>Deficit [MeV]=%{y}<extra></extra>",
           "legendgroup": "True",
           "marker": {
            "color": "#EF553B",
            "symbol": "circle"
           },
           "mode": "markers",
           "name": "True",
           "orientation": "v",
           "showlegend": true,
           "type": "scatter",
           "x": [
            115
           ],
           "xaxis": "x",
           "y": [
            -2062.015
           ],
           "yaxis": "y"
          }
         ],
         "name": "174"
        },
        {
         "data": [
          {
           "hovertemplate": "Odd Proton=False<br>Neutron Number [N]=177<br>Proton Number [Z]=%{x}<br>Deficit [MeV]=%{y}<extra></extra>",
           "legendgroup": "False",
           "marker": {
            "color": "#636efa",
            "symbol": "circle"
           },
           "mode": "markers",
           "name": "False",
           "orientation": "v",
           "showlegend": true,
           "type": "scatter",
           "x": [
            116
           ],
           "xaxis": "x",
           "y": [
            -2083.523
           ],
           "yaxis": "y"
          },
          {
           "hovertemplate": "Odd Proton=True<br>Neutron Number [N]=177<br>Proton Number [Z]=%{x}<br>Deficit [MeV]=%{y}<extra></extra>",
           "legendgroup": "True",
           "marker": {
            "color": "#EF553B",
            "symbol": "circle"
           },
           "mode": "markers",
           "name": "True",
           "orientation": "v",
           "showlegend": true,
           "type": "scatter",
           "x": [
            113,
            117
           ],
           "xaxis": "x",
           "y": [
            -2074.08,
            -2085.048
           ],
           "yaxis": "y"
          }
         ],
         "name": "177"
        },
        {
         "data": [
          {
           "hovertemplate": "Odd Proton=False<br>Neutron Number [N]=176<br>Proton Number [Z]=%{x}<br>Deficit [MeV]=%{y}<extra></extra>",
           "legendgroup": "False",
           "marker": {
            "color": "#636efa",
            "symbol": "circle"
           },
           "mode": "markers",
           "name": "False",
           "orientation": "v",
           "showlegend": true,
           "type": "scatter",
           "x": [
            114,
            116,
            118
           ],
           "xaxis": "x",
           "y": [
            -2072.63,
            -2077.872,
            -2081.226
           ],
           "yaxis": "y"
          },
          {
           "hovertemplate": "Odd Proton=True<br>Neutron Number [N]=176<br>Proton Number [Z]=%{x}<br>Deficit [MeV]=%{y}<extra></extra>",
           "legendgroup": "True",
           "marker": {
            "color": "#EF553B",
            "symbol": "circle"
           },
           "mode": "markers",
           "name": "True",
           "orientation": "v",
           "showlegend": true,
           "type": "scatter",
           "x": [
            117
           ],
           "xaxis": "x",
           "y": [
            -2078.835
           ],
           "yaxis": "y"
          }
         ],
         "name": "176"
        },
        {
         "data": [
          {
           "hovertemplate": "Odd Proton=False<br>Neutron Number [N]=178<br>Proton Number [Z]=%{x}<br>Deficit [MeV]=%{y}<extra></extra>",
           "legendgroup": "False",
           "marker": {
            "color": "#636efa",
            "symbol": "circle"
           },
           "mode": "markers",
           "name": "False",
           "orientation": "v",
           "showlegend": true,
           "type": "scatter",
           "x": [
            116
           ],
           "xaxis": "x",
           "y": [
            null
           ],
           "yaxis": "y"
          }
         ],
         "name": "178"
        }
       ],
       "layout": {
        "legend": {
         "title": {
          "text": "Odd Proton"
         },
         "tracegroupgap": 0
        },
        "margin": {
         "t": 60
        },
        "sliders": [
         {
          "active": 0,
          "currentvalue": {
           "prefix": "Neutron Number [N]="
          },
          "len": 0.9,
          "pad": {
           "b": 10,
           "t": 60
          },
          "steps": [
           {
            "args": [
             [
              "1"
             ],
             {
              "frame": {
               "duration": 0,
               "redraw": false
              },
              "fromcurrent": true,
              "mode": "immediate",
              "transition": {
               "duration": 0,
               "easing": "linear"
              }
             }
            ],
            "label": "1",
            "method": "animate"
           },
           {
            "args": [
             [
              "4"
             ],
             {
              "frame": {
               "duration": 0,
               "redraw": false
              },
              "fromcurrent": true,
              "mode": "immediate",
              "transition": {
               "duration": 0,
               "easing": "linear"
              }
             }
            ],
            "label": "4",
            "method": "animate"
           },
           {
            "args": [
             [
              "6"
             ],
             {
              "frame": {
               "duration": 0,
               "redraw": false
              },
              "fromcurrent": true,
              "mode": "immediate",
              "transition": {
               "duration": 0,
               "easing": "linear"
              }
             }
            ],
            "label": "6",
            "method": "animate"
           },
           {
            "args": [
             [
              "0"
             ],
             {
              "frame": {
               "duration": 0,
               "redraw": false
              },
              "fromcurrent": true,
              "mode": "immediate",
              "transition": {
               "duration": 0,
               "easing": "linear"
              }
             }
            ],
            "label": "0",
            "method": "animate"
           },
           {
            "args": [
             [
              "2"
             ],
             {
              "frame": {
               "duration": 0,
               "redraw": false
              },
              "fromcurrent": true,
              "mode": "immediate",
              "transition": {
               "duration": 0,
               "easing": "linear"
              }
             }
            ],
            "label": "2",
            "method": "animate"
           },
           {
            "args": [
             [
              "3"
             ],
             {
              "frame": {
               "duration": 0,
               "redraw": false
              },
              "fromcurrent": true,
              "mode": "immediate",
              "transition": {
               "duration": 0,
               "easing": "linear"
              }
             }
            ],
            "label": "3",
            "method": "animate"
           },
           {
            "args": [
             [
              "5"
             ],
             {
              "frame": {
               "duration": 0,
               "redraw": false
              },
              "fromcurrent": true,
              "mode": "immediate",
              "transition": {
               "duration": 0,
               "easing": "linear"
              }
             }
            ],
            "label": "5",
            "method": "animate"
           },
           {
            "args": [
             [
              "7"
             ],
             {
              "frame": {
               "duration": 0,
               "redraw": false
              },
              "fromcurrent": true,
              "mode": "immediate",
              "transition": {
               "duration": 0,
               "easing": "linear"
              }
             }
            ],
            "label": "7",
            "method": "animate"
           },
           {
            "args": [
             [
              "8"
             ],
             {
              "frame": {
               "duration": 0,
               "redraw": false
              },
              "fromcurrent": true,
              "mode": "immediate",
              "transition": {
               "duration": 0,
               "easing": "linear"
              }
             }
            ],
            "label": "8",
            "method": "animate"
           },
           {
            "args": [
             [
              "9"
             ],
             {
              "frame": {
               "duration": 0,
               "redraw": false
              },
              "fromcurrent": true,
              "mode": "immediate",
              "transition": {
               "duration": 0,
               "easing": "linear"
              }
             }
            ],
            "label": "9",
            "method": "animate"
           },
           {
            "args": [
             [
              "10"
             ],
             {
              "frame": {
               "duration": 0,
               "redraw": false
              },
              "fromcurrent": true,
              "mode": "immediate",
              "transition": {
               "duration": 0,
               "easing": "linear"
              }
             }
            ],
            "label": "10",
            "method": "animate"
           },
           {
            "args": [
             [
              "11"
             ],
             {
              "frame": {
               "duration": 0,
               "redraw": false
              },
              "fromcurrent": true,
              "mode": "immediate",
              "transition": {
               "duration": 0,
               "easing": "linear"
              }
             }
            ],
            "label": "11",
            "method": "animate"
           },
           {
            "args": [
             [
              "12"
             ],
             {
              "frame": {
               "duration": 0,
               "redraw": false
              },
              "fromcurrent": true,
              "mode": "immediate",
              "transition": {
               "duration": 0,
               "easing": "linear"
              }
             }
            ],
            "label": "12",
            "method": "animate"
           },
           {
            "args": [
             [
              "13"
             ],
             {
              "frame": {
               "duration": 0,
               "redraw": false
              },
              "fromcurrent": true,
              "mode": "immediate",
              "transition": {
               "duration": 0,
               "easing": "linear"
              }
             }
            ],
            "label": "13",
            "method": "animate"
           },
           {
            "args": [
             [
              "14"
             ],
             {
              "frame": {
               "duration": 0,
               "redraw": false
              },
              "fromcurrent": true,
              "mode": "immediate",
              "transition": {
               "duration": 0,
               "easing": "linear"
              }
             }
            ],
            "label": "14",
            "method": "animate"
           },
           {
            "args": [
             [
              "15"
             ],
             {
              "frame": {
               "duration": 0,
               "redraw": false
              },
              "fromcurrent": true,
              "mode": "immediate",
              "transition": {
               "duration": 0,
               "easing": "linear"
              }
             }
            ],
            "label": "15",
            "method": "animate"
           },
           {
            "args": [
             [
              "16"
             ],
             {
              "frame": {
               "duration": 0,
               "redraw": false
              },
              "fromcurrent": true,
              "mode": "immediate",
              "transition": {
               "duration": 0,
               "easing": "linear"
              }
             }
            ],
            "label": "16",
            "method": "animate"
           },
           {
            "args": [
             [
              "17"
             ],
             {
              "frame": {
               "duration": 0,
               "redraw": false
              },
              "fromcurrent": true,
              "mode": "immediate",
              "transition": {
               "duration": 0,
               "easing": "linear"
              }
             }
            ],
            "label": "17",
            "method": "animate"
           },
           {
            "args": [
             [
              "18"
             ],
             {
              "frame": {
               "duration": 0,
               "redraw": false
              },
              "fromcurrent": true,
              "mode": "immediate",
              "transition": {
               "duration": 0,
               "easing": "linear"
              }
             }
            ],
            "label": "18",
            "method": "animate"
           },
           {
            "args": [
             [
              "19"
             ],
             {
              "frame": {
               "duration": 0,
               "redraw": false
              },
              "fromcurrent": true,
              "mode": "immediate",
              "transition": {
               "duration": 0,
               "easing": "linear"
              }
             }
            ],
            "label": "19",
            "method": "animate"
           },
           {
            "args": [
             [
              "20"
             ],
             {
              "frame": {
               "duration": 0,
               "redraw": false
              },
              "fromcurrent": true,
              "mode": "immediate",
              "transition": {
               "duration": 0,
               "easing": "linear"
              }
             }
            ],
            "label": "20",
            "method": "animate"
           },
           {
            "args": [
             [
              "21"
             ],
             {
              "frame": {
               "duration": 0,
               "redraw": false
              },
              "fromcurrent": true,
              "mode": "immediate",
              "transition": {
               "duration": 0,
               "easing": "linear"
              }
             }
            ],
            "label": "21",
            "method": "animate"
           },
           {
            "args": [
             [
              "22"
             ],
             {
              "frame": {
               "duration": 0,
               "redraw": false
              },
              "fromcurrent": true,
              "mode": "immediate",
              "transition": {
               "duration": 0,
               "easing": "linear"
              }
             }
            ],
            "label": "22",
            "method": "animate"
           },
           {
            "args": [
             [
              "23"
             ],
             {
              "frame": {
               "duration": 0,
               "redraw": false
              },
              "fromcurrent": true,
              "mode": "immediate",
              "transition": {
               "duration": 0,
               "easing": "linear"
              }
             }
            ],
            "label": "23",
            "method": "animate"
           },
           {
            "args": [
             [
              "24"
             ],
             {
              "frame": {
               "duration": 0,
               "redraw": false
              },
              "fromcurrent": true,
              "mode": "immediate",
              "transition": {
               "duration": 0,
               "easing": "linear"
              }
             }
            ],
            "label": "24",
            "method": "animate"
           },
           {
            "args": [
             [
              "25"
             ],
             {
              "frame": {
               "duration": 0,
               "redraw": false
              },
              "fromcurrent": true,
              "mode": "immediate",
              "transition": {
               "duration": 0,
               "easing": "linear"
              }
             }
            ],
            "label": "25",
            "method": "animate"
           },
           {
            "args": [
             [
              "26"
             ],
             {
              "frame": {
               "duration": 0,
               "redraw": false
              },
              "fromcurrent": true,
              "mode": "immediate",
              "transition": {
               "duration": 0,
               "easing": "linear"
              }
             }
            ],
            "label": "26",
            "method": "animate"
           },
           {
            "args": [
             [
              "27"
             ],
             {
              "frame": {
               "duration": 0,
               "redraw": false
              },
              "fromcurrent": true,
              "mode": "immediate",
              "transition": {
               "duration": 0,
               "easing": "linear"
              }
             }
            ],
            "label": "27",
            "method": "animate"
           },
           {
            "args": [
             [
              "28"
             ],
             {
              "frame": {
               "duration": 0,
               "redraw": false
              },
              "fromcurrent": true,
              "mode": "immediate",
              "transition": {
               "duration": 0,
               "easing": "linear"
              }
             }
            ],
            "label": "28",
            "method": "animate"
           },
           {
            "args": [
             [
              "29"
             ],
             {
              "frame": {
               "duration": 0,
               "redraw": false
              },
              "fromcurrent": true,
              "mode": "immediate",
              "transition": {
               "duration": 0,
               "easing": "linear"
              }
             }
            ],
            "label": "29",
            "method": "animate"
           },
           {
            "args": [
             [
              "30"
             ],
             {
              "frame": {
               "duration": 0,
               "redraw": false
              },
              "fromcurrent": true,
              "mode": "immediate",
              "transition": {
               "duration": 0,
               "easing": "linear"
              }
             }
            ],
            "label": "30",
            "method": "animate"
           },
           {
            "args": [
             [
              "31"
             ],
             {
              "frame": {
               "duration": 0,
               "redraw": false
              },
              "fromcurrent": true,
              "mode": "immediate",
              "transition": {
               "duration": 0,
               "easing": "linear"
              }
             }
            ],
            "label": "31",
            "method": "animate"
           },
           {
            "args": [
             [
              "32"
             ],
             {
              "frame": {
               "duration": 0,
               "redraw": false
              },
              "fromcurrent": true,
              "mode": "immediate",
              "transition": {
               "duration": 0,
               "easing": "linear"
              }
             }
            ],
            "label": "32",
            "method": "animate"
           },
           {
            "args": [
             [
              "33"
             ],
             {
              "frame": {
               "duration": 0,
               "redraw": false
              },
              "fromcurrent": true,
              "mode": "immediate",
              "transition": {
               "duration": 0,
               "easing": "linear"
              }
             }
            ],
            "label": "33",
            "method": "animate"
           },
           {
            "args": [
             [
              "34"
             ],
             {
              "frame": {
               "duration": 0,
               "redraw": false
              },
              "fromcurrent": true,
              "mode": "immediate",
              "transition": {
               "duration": 0,
               "easing": "linear"
              }
             }
            ],
            "label": "34",
            "method": "animate"
           },
           {
            "args": [
             [
              "35"
             ],
             {
              "frame": {
               "duration": 0,
               "redraw": false
              },
              "fromcurrent": true,
              "mode": "immediate",
              "transition": {
               "duration": 0,
               "easing": "linear"
              }
             }
            ],
            "label": "35",
            "method": "animate"
           },
           {
            "args": [
             [
              "36"
             ],
             {
              "frame": {
               "duration": 0,
               "redraw": false
              },
              "fromcurrent": true,
              "mode": "immediate",
              "transition": {
               "duration": 0,
               "easing": "linear"
              }
             }
            ],
            "label": "36",
            "method": "animate"
           },
           {
            "args": [
             [
              "37"
             ],
             {
              "frame": {
               "duration": 0,
               "redraw": false
              },
              "fromcurrent": true,
              "mode": "immediate",
              "transition": {
               "duration": 0,
               "easing": "linear"
              }
             }
            ],
            "label": "37",
            "method": "animate"
           },
           {
            "args": [
             [
              "38"
             ],
             {
              "frame": {
               "duration": 0,
               "redraw": false
              },
              "fromcurrent": true,
              "mode": "immediate",
              "transition": {
               "duration": 0,
               "easing": "linear"
              }
             }
            ],
            "label": "38",
            "method": "animate"
           },
           {
            "args": [
             [
              "40"
             ],
             {
              "frame": {
               "duration": 0,
               "redraw": false
              },
              "fromcurrent": true,
              "mode": "immediate",
              "transition": {
               "duration": 0,
               "easing": "linear"
              }
             }
            ],
            "label": "40",
            "method": "animate"
           },
           {
            "args": [
             [
              "39"
             ],
             {
              "frame": {
               "duration": 0,
               "redraw": false
              },
              "fromcurrent": true,
              "mode": "immediate",
              "transition": {
               "duration": 0,
               "easing": "linear"
              }
             }
            ],
            "label": "39",
            "method": "animate"
           },
           {
            "args": [
             [
              "41"
             ],
             {
              "frame": {
               "duration": 0,
               "redraw": false
              },
              "fromcurrent": true,
              "mode": "immediate",
              "transition": {
               "duration": 0,
               "easing": "linear"
              }
             }
            ],
            "label": "41",
            "method": "animate"
           },
           {
            "args": [
             [
              "42"
             ],
             {
              "frame": {
               "duration": 0,
               "redraw": false
              },
              "fromcurrent": true,
              "mode": "immediate",
              "transition": {
               "duration": 0,
               "easing": "linear"
              }
             }
            ],
            "label": "42",
            "method": "animate"
           },
           {
            "args": [
             [
              "43"
             ],
             {
              "frame": {
               "duration": 0,
               "redraw": false
              },
              "fromcurrent": true,
              "mode": "immediate",
              "transition": {
               "duration": 0,
               "easing": "linear"
              }
             }
            ],
            "label": "43",
            "method": "animate"
           },
           {
            "args": [
             [
              "44"
             ],
             {
              "frame": {
               "duration": 0,
               "redraw": false
              },
              "fromcurrent": true,
              "mode": "immediate",
              "transition": {
               "duration": 0,
               "easing": "linear"
              }
             }
            ],
            "label": "44",
            "method": "animate"
           },
           {
            "args": [
             [
              "45"
             ],
             {
              "frame": {
               "duration": 0,
               "redraw": false
              },
              "fromcurrent": true,
              "mode": "immediate",
              "transition": {
               "duration": 0,
               "easing": "linear"
              }
             }
            ],
            "label": "45",
            "method": "animate"
           },
           {
            "args": [
             [
              "46"
             ],
             {
              "frame": {
               "duration": 0,
               "redraw": false
              },
              "fromcurrent": true,
              "mode": "immediate",
              "transition": {
               "duration": 0,
               "easing": "linear"
              }
             }
            ],
            "label": "46",
            "method": "animate"
           },
           {
            "args": [
             [
              "47"
             ],
             {
              "frame": {
               "duration": 0,
               "redraw": false
              },
              "fromcurrent": true,
              "mode": "immediate",
              "transition": {
               "duration": 0,
               "easing": "linear"
              }
             }
            ],
            "label": "47",
            "method": "animate"
           },
           {
            "args": [
             [
              "48"
             ],
             {
              "frame": {
               "duration": 0,
               "redraw": false
              },
              "fromcurrent": true,
              "mode": "immediate",
              "transition": {
               "duration": 0,
               "easing": "linear"
              }
             }
            ],
            "label": "48",
            "method": "animate"
           },
           {
            "args": [
             [
              "49"
             ],
             {
              "frame": {
               "duration": 0,
               "redraw": false
              },
              "fromcurrent": true,
              "mode": "immediate",
              "transition": {
               "duration": 0,
               "easing": "linear"
              }
             }
            ],
            "label": "49",
            "method": "animate"
           },
           {
            "args": [
             [
              "50"
             ],
             {
              "frame": {
               "duration": 0,
               "redraw": false
              },
              "fromcurrent": true,
              "mode": "immediate",
              "transition": {
               "duration": 0,
               "easing": "linear"
              }
             }
            ],
            "label": "50",
            "method": "animate"
           },
           {
            "args": [
             [
              "51"
             ],
             {
              "frame": {
               "duration": 0,
               "redraw": false
              },
              "fromcurrent": true,
              "mode": "immediate",
              "transition": {
               "duration": 0,
               "easing": "linear"
              }
             }
            ],
            "label": "51",
            "method": "animate"
           },
           {
            "args": [
             [
              "52"
             ],
             {
              "frame": {
               "duration": 0,
               "redraw": false
              },
              "fromcurrent": true,
              "mode": "immediate",
              "transition": {
               "duration": 0,
               "easing": "linear"
              }
             }
            ],
            "label": "52",
            "method": "animate"
           },
           {
            "args": [
             [
              "53"
             ],
             {
              "frame": {
               "duration": 0,
               "redraw": false
              },
              "fromcurrent": true,
              "mode": "immediate",
              "transition": {
               "duration": 0,
               "easing": "linear"
              }
             }
            ],
            "label": "53",
            "method": "animate"
           },
           {
            "args": [
             [
              "54"
             ],
             {
              "frame": {
               "duration": 0,
               "redraw": false
              },
              "fromcurrent": true,
              "mode": "immediate",
              "transition": {
               "duration": 0,
               "easing": "linear"
              }
             }
            ],
            "label": "54",
            "method": "animate"
           },
           {
            "args": [
             [
              "55"
             ],
             {
              "frame": {
               "duration": 0,
               "redraw": false
              },
              "fromcurrent": true,
              "mode": "immediate",
              "transition": {
               "duration": 0,
               "easing": "linear"
              }
             }
            ],
            "label": "55",
            "method": "animate"
           },
           {
            "args": [
             [
              "56"
             ],
             {
              "frame": {
               "duration": 0,
               "redraw": false
              },
              "fromcurrent": true,
              "mode": "immediate",
              "transition": {
               "duration": 0,
               "easing": "linear"
              }
             }
            ],
            "label": "56",
            "method": "animate"
           },
           {
            "args": [
             [
              "57"
             ],
             {
              "frame": {
               "duration": 0,
               "redraw": false
              },
              "fromcurrent": true,
              "mode": "immediate",
              "transition": {
               "duration": 0,
               "easing": "linear"
              }
             }
            ],
            "label": "57",
            "method": "animate"
           },
           {
            "args": [
             [
              "58"
             ],
             {
              "frame": {
               "duration": 0,
               "redraw": false
              },
              "fromcurrent": true,
              "mode": "immediate",
              "transition": {
               "duration": 0,
               "easing": "linear"
              }
             }
            ],
            "label": "58",
            "method": "animate"
           },
           {
            "args": [
             [
              "59"
             ],
             {
              "frame": {
               "duration": 0,
               "redraw": false
              },
              "fromcurrent": true,
              "mode": "immediate",
              "transition": {
               "duration": 0,
               "easing": "linear"
              }
             }
            ],
            "label": "59",
            "method": "animate"
           },
           {
            "args": [
             [
              "60"
             ],
             {
              "frame": {
               "duration": 0,
               "redraw": false
              },
              "fromcurrent": true,
              "mode": "immediate",
              "transition": {
               "duration": 0,
               "easing": "linear"
              }
             }
            ],
            "label": "60",
            "method": "animate"
           },
           {
            "args": [
             [
              "61"
             ],
             {
              "frame": {
               "duration": 0,
               "redraw": false
              },
              "fromcurrent": true,
              "mode": "immediate",
              "transition": {
               "duration": 0,
               "easing": "linear"
              }
             }
            ],
            "label": "61",
            "method": "animate"
           },
           {
            "args": [
             [
              "62"
             ],
             {
              "frame": {
               "duration": 0,
               "redraw": false
              },
              "fromcurrent": true,
              "mode": "immediate",
              "transition": {
               "duration": 0,
               "easing": "linear"
              }
             }
            ],
            "label": "62",
            "method": "animate"
           },
           {
            "args": [
             [
              "63"
             ],
             {
              "frame": {
               "duration": 0,
               "redraw": false
              },
              "fromcurrent": true,
              "mode": "immediate",
              "transition": {
               "duration": 0,
               "easing": "linear"
              }
             }
            ],
            "label": "63",
            "method": "animate"
           },
           {
            "args": [
             [
              "66"
             ],
             {
              "frame": {
               "duration": 0,
               "redraw": false
              },
              "fromcurrent": true,
              "mode": "immediate",
              "transition": {
               "duration": 0,
               "easing": "linear"
              }
             }
            ],
            "label": "66",
            "method": "animate"
           },
           {
            "args": [
             [
              "64"
             ],
             {
              "frame": {
               "duration": 0,
               "redraw": false
              },
              "fromcurrent": true,
              "mode": "immediate",
              "transition": {
               "duration": 0,
               "easing": "linear"
              }
             }
            ],
            "label": "64",
            "method": "animate"
           },
           {
            "args": [
             [
              "65"
             ],
             {
              "frame": {
               "duration": 0,
               "redraw": false
              },
              "fromcurrent": true,
              "mode": "immediate",
              "transition": {
               "duration": 0,
               "easing": "linear"
              }
             }
            ],
            "label": "65",
            "method": "animate"
           },
           {
            "args": [
             [
              "67"
             ],
             {
              "frame": {
               "duration": 0,
               "redraw": false
              },
              "fromcurrent": true,
              "mode": "immediate",
              "transition": {
               "duration": 0,
               "easing": "linear"
              }
             }
            ],
            "label": "67",
            "method": "animate"
           },
           {
            "args": [
             [
              "68"
             ],
             {
              "frame": {
               "duration": 0,
               "redraw": false
              },
              "fromcurrent": true,
              "mode": "immediate",
              "transition": {
               "duration": 0,
               "easing": "linear"
              }
             }
            ],
            "label": "68",
            "method": "animate"
           },
           {
            "args": [
             [
              "69"
             ],
             {
              "frame": {
               "duration": 0,
               "redraw": false
              },
              "fromcurrent": true,
              "mode": "immediate",
              "transition": {
               "duration": 0,
               "easing": "linear"
              }
             }
            ],
            "label": "69",
            "method": "animate"
           },
           {
            "args": [
             [
              "70"
             ],
             {
              "frame": {
               "duration": 0,
               "redraw": false
              },
              "fromcurrent": true,
              "mode": "immediate",
              "transition": {
               "duration": 0,
               "easing": "linear"
              }
             }
            ],
            "label": "70",
            "method": "animate"
           },
           {
            "args": [
             [
              "71"
             ],
             {
              "frame": {
               "duration": 0,
               "redraw": false
              },
              "fromcurrent": true,
              "mode": "immediate",
              "transition": {
               "duration": 0,
               "easing": "linear"
              }
             }
            ],
            "label": "71",
            "method": "animate"
           },
           {
            "args": [
             [
              "72"
             ],
             {
              "frame": {
               "duration": 0,
               "redraw": false
              },
              "fromcurrent": true,
              "mode": "immediate",
              "transition": {
               "duration": 0,
               "easing": "linear"
              }
             }
            ],
            "label": "72",
            "method": "animate"
           },
           {
            "args": [
             [
              "73"
             ],
             {
              "frame": {
               "duration": 0,
               "redraw": false
              },
              "fromcurrent": true,
              "mode": "immediate",
              "transition": {
               "duration": 0,
               "easing": "linear"
              }
             }
            ],
            "label": "73",
            "method": "animate"
           },
           {
            "args": [
             [
              "74"
             ],
             {
              "frame": {
               "duration": 0,
               "redraw": false
              },
              "fromcurrent": true,
              "mode": "immediate",
              "transition": {
               "duration": 0,
               "easing": "linear"
              }
             }
            ],
            "label": "74",
            "method": "animate"
           },
           {
            "args": [
             [
              "75"
             ],
             {
              "frame": {
               "duration": 0,
               "redraw": false
              },
              "fromcurrent": true,
              "mode": "immediate",
              "transition": {
               "duration": 0,
               "easing": "linear"
              }
             }
            ],
            "label": "75",
            "method": "animate"
           },
           {
            "args": [
             [
              "76"
             ],
             {
              "frame": {
               "duration": 0,
               "redraw": false
              },
              "fromcurrent": true,
              "mode": "immediate",
              "transition": {
               "duration": 0,
               "easing": "linear"
              }
             }
            ],
            "label": "76",
            "method": "animate"
           },
           {
            "args": [
             [
              "77"
             ],
             {
              "frame": {
               "duration": 0,
               "redraw": false
              },
              "fromcurrent": true,
              "mode": "immediate",
              "transition": {
               "duration": 0,
               "easing": "linear"
              }
             }
            ],
            "label": "77",
            "method": "animate"
           },
           {
            "args": [
             [
              "78"
             ],
             {
              "frame": {
               "duration": 0,
               "redraw": false
              },
              "fromcurrent": true,
              "mode": "immediate",
              "transition": {
               "duration": 0,
               "easing": "linear"
              }
             }
            ],
            "label": "78",
            "method": "animate"
           },
           {
            "args": [
             [
              "79"
             ],
             {
              "frame": {
               "duration": 0,
               "redraw": false
              },
              "fromcurrent": true,
              "mode": "immediate",
              "transition": {
               "duration": 0,
               "easing": "linear"
              }
             }
            ],
            "label": "79",
            "method": "animate"
           },
           {
            "args": [
             [
              "80"
             ],
             {
              "frame": {
               "duration": 0,
               "redraw": false
              },
              "fromcurrent": true,
              "mode": "immediate",
              "transition": {
               "duration": 0,
               "easing": "linear"
              }
             }
            ],
            "label": "80",
            "method": "animate"
           },
           {
            "args": [
             [
              "81"
             ],
             {
              "frame": {
               "duration": 0,
               "redraw": false
              },
              "fromcurrent": true,
              "mode": "immediate",
              "transition": {
               "duration": 0,
               "easing": "linear"
              }
             }
            ],
            "label": "81",
            "method": "animate"
           },
           {
            "args": [
             [
              "82"
             ],
             {
              "frame": {
               "duration": 0,
               "redraw": false
              },
              "fromcurrent": true,
              "mode": "immediate",
              "transition": {
               "duration": 0,
               "easing": "linear"
              }
             }
            ],
            "label": "82",
            "method": "animate"
           },
           {
            "args": [
             [
              "83"
             ],
             {
              "frame": {
               "duration": 0,
               "redraw": false
              },
              "fromcurrent": true,
              "mode": "immediate",
              "transition": {
               "duration": 0,
               "easing": "linear"
              }
             }
            ],
            "label": "83",
            "method": "animate"
           },
           {
            "args": [
             [
              "84"
             ],
             {
              "frame": {
               "duration": 0,
               "redraw": false
              },
              "fromcurrent": true,
              "mode": "immediate",
              "transition": {
               "duration": 0,
               "easing": "linear"
              }
             }
            ],
            "label": "84",
            "method": "animate"
           },
           {
            "args": [
             [
              "85"
             ],
             {
              "frame": {
               "duration": 0,
               "redraw": false
              },
              "fromcurrent": true,
              "mode": "immediate",
              "transition": {
               "duration": 0,
               "easing": "linear"
              }
             }
            ],
            "label": "85",
            "method": "animate"
           },
           {
            "args": [
             [
              "86"
             ],
             {
              "frame": {
               "duration": 0,
               "redraw": false
              },
              "fromcurrent": true,
              "mode": "immediate",
              "transition": {
               "duration": 0,
               "easing": "linear"
              }
             }
            ],
            "label": "86",
            "method": "animate"
           },
           {
            "args": [
             [
              "87"
             ],
             {
              "frame": {
               "duration": 0,
               "redraw": false
              },
              "fromcurrent": true,
              "mode": "immediate",
              "transition": {
               "duration": 0,
               "easing": "linear"
              }
             }
            ],
            "label": "87",
            "method": "animate"
           },
           {
            "args": [
             [
              "88"
             ],
             {
              "frame": {
               "duration": 0,
               "redraw": false
              },
              "fromcurrent": true,
              "mode": "immediate",
              "transition": {
               "duration": 0,
               "easing": "linear"
              }
             }
            ],
            "label": "88",
            "method": "animate"
           },
           {
            "args": [
             [
              "89"
             ],
             {
              "frame": {
               "duration": 0,
               "redraw": false
              },
              "fromcurrent": true,
              "mode": "immediate",
              "transition": {
               "duration": 0,
               "easing": "linear"
              }
             }
            ],
            "label": "89",
            "method": "animate"
           },
           {
            "args": [
             [
              "90"
             ],
             {
              "frame": {
               "duration": 0,
               "redraw": false
              },
              "fromcurrent": true,
              "mode": "immediate",
              "transition": {
               "duration": 0,
               "easing": "linear"
              }
             }
            ],
            "label": "90",
            "method": "animate"
           },
           {
            "args": [
             [
              "91"
             ],
             {
              "frame": {
               "duration": 0,
               "redraw": false
              },
              "fromcurrent": true,
              "mode": "immediate",
              "transition": {
               "duration": 0,
               "easing": "linear"
              }
             }
            ],
            "label": "91",
            "method": "animate"
           },
           {
            "args": [
             [
              "92"
             ],
             {
              "frame": {
               "duration": 0,
               "redraw": false
              },
              "fromcurrent": true,
              "mode": "immediate",
              "transition": {
               "duration": 0,
               "easing": "linear"
              }
             }
            ],
            "label": "92",
            "method": "animate"
           },
           {
            "args": [
             [
              "93"
             ],
             {
              "frame": {
               "duration": 0,
               "redraw": false
              },
              "fromcurrent": true,
              "mode": "immediate",
              "transition": {
               "duration": 0,
               "easing": "linear"
              }
             }
            ],
            "label": "93",
            "method": "animate"
           },
           {
            "args": [
             [
              "94"
             ],
             {
              "frame": {
               "duration": 0,
               "redraw": false
              },
              "fromcurrent": true,
              "mode": "immediate",
              "transition": {
               "duration": 0,
               "easing": "linear"
              }
             }
            ],
            "label": "94",
            "method": "animate"
           },
           {
            "args": [
             [
              "95"
             ],
             {
              "frame": {
               "duration": 0,
               "redraw": false
              },
              "fromcurrent": true,
              "mode": "immediate",
              "transition": {
               "duration": 0,
               "easing": "linear"
              }
             }
            ],
            "label": "95",
            "method": "animate"
           },
           {
            "args": [
             [
              "96"
             ],
             {
              "frame": {
               "duration": 0,
               "redraw": false
              },
              "fromcurrent": true,
              "mode": "immediate",
              "transition": {
               "duration": 0,
               "easing": "linear"
              }
             }
            ],
            "label": "96",
            "method": "animate"
           },
           {
            "args": [
             [
              "97"
             ],
             {
              "frame": {
               "duration": 0,
               "redraw": false
              },
              "fromcurrent": true,
              "mode": "immediate",
              "transition": {
               "duration": 0,
               "easing": "linear"
              }
             }
            ],
            "label": "97",
            "method": "animate"
           },
           {
            "args": [
             [
              "98"
             ],
             {
              "frame": {
               "duration": 0,
               "redraw": false
              },
              "fromcurrent": true,
              "mode": "immediate",
              "transition": {
               "duration": 0,
               "easing": "linear"
              }
             }
            ],
            "label": "98",
            "method": "animate"
           },
           {
            "args": [
             [
              "99"
             ],
             {
              "frame": {
               "duration": 0,
               "redraw": false
              },
              "fromcurrent": true,
              "mode": "immediate",
              "transition": {
               "duration": 0,
               "easing": "linear"
              }
             }
            ],
            "label": "99",
            "method": "animate"
           },
           {
            "args": [
             [
              "100"
             ],
             {
              "frame": {
               "duration": 0,
               "redraw": false
              },
              "fromcurrent": true,
              "mode": "immediate",
              "transition": {
               "duration": 0,
               "easing": "linear"
              }
             }
            ],
            "label": "100",
            "method": "animate"
           },
           {
            "args": [
             [
              "101"
             ],
             {
              "frame": {
               "duration": 0,
               "redraw": false
              },
              "fromcurrent": true,
              "mode": "immediate",
              "transition": {
               "duration": 0,
               "easing": "linear"
              }
             }
            ],
            "label": "101",
            "method": "animate"
           },
           {
            "args": [
             [
              "102"
             ],
             {
              "frame": {
               "duration": 0,
               "redraw": false
              },
              "fromcurrent": true,
              "mode": "immediate",
              "transition": {
               "duration": 0,
               "easing": "linear"
              }
             }
            ],
            "label": "102",
            "method": "animate"
           },
           {
            "args": [
             [
              "103"
             ],
             {
              "frame": {
               "duration": 0,
               "redraw": false
              },
              "fromcurrent": true,
              "mode": "immediate",
              "transition": {
               "duration": 0,
               "easing": "linear"
              }
             }
            ],
            "label": "103",
            "method": "animate"
           },
           {
            "args": [
             [
              "104"
             ],
             {
              "frame": {
               "duration": 0,
               "redraw": false
              },
              "fromcurrent": true,
              "mode": "immediate",
              "transition": {
               "duration": 0,
               "easing": "linear"
              }
             }
            ],
            "label": "104",
            "method": "animate"
           },
           {
            "args": [
             [
              "105"
             ],
             {
              "frame": {
               "duration": 0,
               "redraw": false
              },
              "fromcurrent": true,
              "mode": "immediate",
              "transition": {
               "duration": 0,
               "easing": "linear"
              }
             }
            ],
            "label": "105",
            "method": "animate"
           },
           {
            "args": [
             [
              "106"
             ],
             {
              "frame": {
               "duration": 0,
               "redraw": false
              },
              "fromcurrent": true,
              "mode": "immediate",
              "transition": {
               "duration": 0,
               "easing": "linear"
              }
             }
            ],
            "label": "106",
            "method": "animate"
           },
           {
            "args": [
             [
              "107"
             ],
             {
              "frame": {
               "duration": 0,
               "redraw": false
              },
              "fromcurrent": true,
              "mode": "immediate",
              "transition": {
               "duration": 0,
               "easing": "linear"
              }
             }
            ],
            "label": "107",
            "method": "animate"
           },
           {
            "args": [
             [
              "108"
             ],
             {
              "frame": {
               "duration": 0,
               "redraw": false
              },
              "fromcurrent": true,
              "mode": "immediate",
              "transition": {
               "duration": 0,
               "easing": "linear"
              }
             }
            ],
            "label": "108",
            "method": "animate"
           },
           {
            "args": [
             [
              "109"
             ],
             {
              "frame": {
               "duration": 0,
               "redraw": false
              },
              "fromcurrent": true,
              "mode": "immediate",
              "transition": {
               "duration": 0,
               "easing": "linear"
              }
             }
            ],
            "label": "109",
            "method": "animate"
           },
           {
            "args": [
             [
              "110"
             ],
             {
              "frame": {
               "duration": 0,
               "redraw": false
              },
              "fromcurrent": true,
              "mode": "immediate",
              "transition": {
               "duration": 0,
               "easing": "linear"
              }
             }
            ],
            "label": "110",
            "method": "animate"
           },
           {
            "args": [
             [
              "111"
             ],
             {
              "frame": {
               "duration": 0,
               "redraw": false
              },
              "fromcurrent": true,
              "mode": "immediate",
              "transition": {
               "duration": 0,
               "easing": "linear"
              }
             }
            ],
            "label": "111",
            "method": "animate"
           },
           {
            "args": [
             [
              "112"
             ],
             {
              "frame": {
               "duration": 0,
               "redraw": false
              },
              "fromcurrent": true,
              "mode": "immediate",
              "transition": {
               "duration": 0,
               "easing": "linear"
              }
             }
            ],
            "label": "112",
            "method": "animate"
           },
           {
            "args": [
             [
              "113"
             ],
             {
              "frame": {
               "duration": 0,
               "redraw": false
              },
              "fromcurrent": true,
              "mode": "immediate",
              "transition": {
               "duration": 0,
               "easing": "linear"
              }
             }
            ],
            "label": "113",
            "method": "animate"
           },
           {
            "args": [
             [
              "114"
             ],
             {
              "frame": {
               "duration": 0,
               "redraw": false
              },
              "fromcurrent": true,
              "mode": "immediate",
              "transition": {
               "duration": 0,
               "easing": "linear"
              }
             }
            ],
            "label": "114",
            "method": "animate"
           },
           {
            "args": [
             [
              "115"
             ],
             {
              "frame": {
               "duration": 0,
               "redraw": false
              },
              "fromcurrent": true,
              "mode": "immediate",
              "transition": {
               "duration": 0,
               "easing": "linear"
              }
             }
            ],
            "label": "115",
            "method": "animate"
           },
           {
            "args": [
             [
              "116"
             ],
             {
              "frame": {
               "duration": 0,
               "redraw": false
              },
              "fromcurrent": true,
              "mode": "immediate",
              "transition": {
               "duration": 0,
               "easing": "linear"
              }
             }
            ],
            "label": "116",
            "method": "animate"
           },
           {
            "args": [
             [
              "117"
             ],
             {
              "frame": {
               "duration": 0,
               "redraw": false
              },
              "fromcurrent": true,
              "mode": "immediate",
              "transition": {
               "duration": 0,
               "easing": "linear"
              }
             }
            ],
            "label": "117",
            "method": "animate"
           },
           {
            "args": [
             [
              "118"
             ],
             {
              "frame": {
               "duration": 0,
               "redraw": false
              },
              "fromcurrent": true,
              "mode": "immediate",
              "transition": {
               "duration": 0,
               "easing": "linear"
              }
             }
            ],
            "label": "118",
            "method": "animate"
           },
           {
            "args": [
             [
              "119"
             ],
             {
              "frame": {
               "duration": 0,
               "redraw": false
              },
              "fromcurrent": true,
              "mode": "immediate",
              "transition": {
               "duration": 0,
               "easing": "linear"
              }
             }
            ],
            "label": "119",
            "method": "animate"
           },
           {
            "args": [
             [
              "120"
             ],
             {
              "frame": {
               "duration": 0,
               "redraw": false
              },
              "fromcurrent": true,
              "mode": "immediate",
              "transition": {
               "duration": 0,
               "easing": "linear"
              }
             }
            ],
            "label": "120",
            "method": "animate"
           },
           {
            "args": [
             [
              "121"
             ],
             {
              "frame": {
               "duration": 0,
               "redraw": false
              },
              "fromcurrent": true,
              "mode": "immediate",
              "transition": {
               "duration": 0,
               "easing": "linear"
              }
             }
            ],
            "label": "121",
            "method": "animate"
           },
           {
            "args": [
             [
              "122"
             ],
             {
              "frame": {
               "duration": 0,
               "redraw": false
              },
              "fromcurrent": true,
              "mode": "immediate",
              "transition": {
               "duration": 0,
               "easing": "linear"
              }
             }
            ],
            "label": "122",
            "method": "animate"
           },
           {
            "args": [
             [
              "123"
             ],
             {
              "frame": {
               "duration": 0,
               "redraw": false
              },
              "fromcurrent": true,
              "mode": "immediate",
              "transition": {
               "duration": 0,
               "easing": "linear"
              }
             }
            ],
            "label": "123",
            "method": "animate"
           },
           {
            "args": [
             [
              "124"
             ],
             {
              "frame": {
               "duration": 0,
               "redraw": false
              },
              "fromcurrent": true,
              "mode": "immediate",
              "transition": {
               "duration": 0,
               "easing": "linear"
              }
             }
            ],
            "label": "124",
            "method": "animate"
           },
           {
            "args": [
             [
              "125"
             ],
             {
              "frame": {
               "duration": 0,
               "redraw": false
              },
              "fromcurrent": true,
              "mode": "immediate",
              "transition": {
               "duration": 0,
               "easing": "linear"
              }
             }
            ],
            "label": "125",
            "method": "animate"
           },
           {
            "args": [
             [
              "126"
             ],
             {
              "frame": {
               "duration": 0,
               "redraw": false
              },
              "fromcurrent": true,
              "mode": "immediate",
              "transition": {
               "duration": 0,
               "easing": "linear"
              }
             }
            ],
            "label": "126",
            "method": "animate"
           },
           {
            "args": [
             [
              "127"
             ],
             {
              "frame": {
               "duration": 0,
               "redraw": false
              },
              "fromcurrent": true,
              "mode": "immediate",
              "transition": {
               "duration": 0,
               "easing": "linear"
              }
             }
            ],
            "label": "127",
            "method": "animate"
           },
           {
            "args": [
             [
              "128"
             ],
             {
              "frame": {
               "duration": 0,
               "redraw": false
              },
              "fromcurrent": true,
              "mode": "immediate",
              "transition": {
               "duration": 0,
               "easing": "linear"
              }
             }
            ],
            "label": "128",
            "method": "animate"
           },
           {
            "args": [
             [
              "129"
             ],
             {
              "frame": {
               "duration": 0,
               "redraw": false
              },
              "fromcurrent": true,
              "mode": "immediate",
              "transition": {
               "duration": 0,
               "easing": "linear"
              }
             }
            ],
            "label": "129",
            "method": "animate"
           },
           {
            "args": [
             [
              "130"
             ],
             {
              "frame": {
               "duration": 0,
               "redraw": false
              },
              "fromcurrent": true,
              "mode": "immediate",
              "transition": {
               "duration": 0,
               "easing": "linear"
              }
             }
            ],
            "label": "130",
            "method": "animate"
           },
           {
            "args": [
             [
              "131"
             ],
             {
              "frame": {
               "duration": 0,
               "redraw": false
              },
              "fromcurrent": true,
              "mode": "immediate",
              "transition": {
               "duration": 0,
               "easing": "linear"
              }
             }
            ],
            "label": "131",
            "method": "animate"
           },
           {
            "args": [
             [
              "132"
             ],
             {
              "frame": {
               "duration": 0,
               "redraw": false
              },
              "fromcurrent": true,
              "mode": "immediate",
              "transition": {
               "duration": 0,
               "easing": "linear"
              }
             }
            ],
            "label": "132",
            "method": "animate"
           },
           {
            "args": [
             [
              "133"
             ],
             {
              "frame": {
               "duration": 0,
               "redraw": false
              },
              "fromcurrent": true,
              "mode": "immediate",
              "transition": {
               "duration": 0,
               "easing": "linear"
              }
             }
            ],
            "label": "133",
            "method": "animate"
           },
           {
            "args": [
             [
              "134"
             ],
             {
              "frame": {
               "duration": 0,
               "redraw": false
              },
              "fromcurrent": true,
              "mode": "immediate",
              "transition": {
               "duration": 0,
               "easing": "linear"
              }
             }
            ],
            "label": "134",
            "method": "animate"
           },
           {
            "args": [
             [
              "135"
             ],
             {
              "frame": {
               "duration": 0,
               "redraw": false
              },
              "fromcurrent": true,
              "mode": "immediate",
              "transition": {
               "duration": 0,
               "easing": "linear"
              }
             }
            ],
            "label": "135",
            "method": "animate"
           },
           {
            "args": [
             [
              "136"
             ],
             {
              "frame": {
               "duration": 0,
               "redraw": false
              },
              "fromcurrent": true,
              "mode": "immediate",
              "transition": {
               "duration": 0,
               "easing": "linear"
              }
             }
            ],
            "label": "136",
            "method": "animate"
           },
           {
            "args": [
             [
              "137"
             ],
             {
              "frame": {
               "duration": 0,
               "redraw": false
              },
              "fromcurrent": true,
              "mode": "immediate",
              "transition": {
               "duration": 0,
               "easing": "linear"
              }
             }
            ],
            "label": "137",
            "method": "animate"
           },
           {
            "args": [
             [
              "138"
             ],
             {
              "frame": {
               "duration": 0,
               "redraw": false
              },
              "fromcurrent": true,
              "mode": "immediate",
              "transition": {
               "duration": 0,
               "easing": "linear"
              }
             }
            ],
            "label": "138",
            "method": "animate"
           },
           {
            "args": [
             [
              "139"
             ],
             {
              "frame": {
               "duration": 0,
               "redraw": false
              },
              "fromcurrent": true,
              "mode": "immediate",
              "transition": {
               "duration": 0,
               "easing": "linear"
              }
             }
            ],
            "label": "139",
            "method": "animate"
           },
           {
            "args": [
             [
              "140"
             ],
             {
              "frame": {
               "duration": 0,
               "redraw": false
              },
              "fromcurrent": true,
              "mode": "immediate",
              "transition": {
               "duration": 0,
               "easing": "linear"
              }
             }
            ],
            "label": "140",
            "method": "animate"
           },
           {
            "args": [
             [
              "141"
             ],
             {
              "frame": {
               "duration": 0,
               "redraw": false
              },
              "fromcurrent": true,
              "mode": "immediate",
              "transition": {
               "duration": 0,
               "easing": "linear"
              }
             }
            ],
            "label": "141",
            "method": "animate"
           },
           {
            "args": [
             [
              "142"
             ],
             {
              "frame": {
               "duration": 0,
               "redraw": false
              },
              "fromcurrent": true,
              "mode": "immediate",
              "transition": {
               "duration": 0,
               "easing": "linear"
              }
             }
            ],
            "label": "142",
            "method": "animate"
           },
           {
            "args": [
             [
              "143"
             ],
             {
              "frame": {
               "duration": 0,
               "redraw": false
              },
              "fromcurrent": true,
              "mode": "immediate",
              "transition": {
               "duration": 0,
               "easing": "linear"
              }
             }
            ],
            "label": "143",
            "method": "animate"
           },
           {
            "args": [
             [
              "144"
             ],
             {
              "frame": {
               "duration": 0,
               "redraw": false
              },
              "fromcurrent": true,
              "mode": "immediate",
              "transition": {
               "duration": 0,
               "easing": "linear"
              }
             }
            ],
            "label": "144",
            "method": "animate"
           },
           {
            "args": [
             [
              "145"
             ],
             {
              "frame": {
               "duration": 0,
               "redraw": false
              },
              "fromcurrent": true,
              "mode": "immediate",
              "transition": {
               "duration": 0,
               "easing": "linear"
              }
             }
            ],
            "label": "145",
            "method": "animate"
           },
           {
            "args": [
             [
              "146"
             ],
             {
              "frame": {
               "duration": 0,
               "redraw": false
              },
              "fromcurrent": true,
              "mode": "immediate",
              "transition": {
               "duration": 0,
               "easing": "linear"
              }
             }
            ],
            "label": "146",
            "method": "animate"
           },
           {
            "args": [
             [
              "147"
             ],
             {
              "frame": {
               "duration": 0,
               "redraw": false
              },
              "fromcurrent": true,
              "mode": "immediate",
              "transition": {
               "duration": 0,
               "easing": "linear"
              }
             }
            ],
            "label": "147",
            "method": "animate"
           },
           {
            "args": [
             [
              "148"
             ],
             {
              "frame": {
               "duration": 0,
               "redraw": false
              },
              "fromcurrent": true,
              "mode": "immediate",
              "transition": {
               "duration": 0,
               "easing": "linear"
              }
             }
            ],
            "label": "148",
            "method": "animate"
           },
           {
            "args": [
             [
              "149"
             ],
             {
              "frame": {
               "duration": 0,
               "redraw": false
              },
              "fromcurrent": true,
              "mode": "immediate",
              "transition": {
               "duration": 0,
               "easing": "linear"
              }
             }
            ],
            "label": "149",
            "method": "animate"
           },
           {
            "args": [
             [
              "150"
             ],
             {
              "frame": {
               "duration": 0,
               "redraw": false
              },
              "fromcurrent": true,
              "mode": "immediate",
              "transition": {
               "duration": 0,
               "easing": "linear"
              }
             }
            ],
            "label": "150",
            "method": "animate"
           },
           {
            "args": [
             [
              "151"
             ],
             {
              "frame": {
               "duration": 0,
               "redraw": false
              },
              "fromcurrent": true,
              "mode": "immediate",
              "transition": {
               "duration": 0,
               "easing": "linear"
              }
             }
            ],
            "label": "151",
            "method": "animate"
           },
           {
            "args": [
             [
              "152"
             ],
             {
              "frame": {
               "duration": 0,
               "redraw": false
              },
              "fromcurrent": true,
              "mode": "immediate",
              "transition": {
               "duration": 0,
               "easing": "linear"
              }
             }
            ],
            "label": "152",
            "method": "animate"
           },
           {
            "args": [
             [
              "153"
             ],
             {
              "frame": {
               "duration": 0,
               "redraw": false
              },
              "fromcurrent": true,
              "mode": "immediate",
              "transition": {
               "duration": 0,
               "easing": "linear"
              }
             }
            ],
            "label": "153",
            "method": "animate"
           },
           {
            "args": [
             [
              "154"
             ],
             {
              "frame": {
               "duration": 0,
               "redraw": false
              },
              "fromcurrent": true,
              "mode": "immediate",
              "transition": {
               "duration": 0,
               "easing": "linear"
              }
             }
            ],
            "label": "154",
            "method": "animate"
           },
           {
            "args": [
             [
              "155"
             ],
             {
              "frame": {
               "duration": 0,
               "redraw": false
              },
              "fromcurrent": true,
              "mode": "immediate",
              "transition": {
               "duration": 0,
               "easing": "linear"
              }
             }
            ],
            "label": "155",
            "method": "animate"
           },
           {
            "args": [
             [
              "156"
             ],
             {
              "frame": {
               "duration": 0,
               "redraw": false
              },
              "fromcurrent": true,
              "mode": "immediate",
              "transition": {
               "duration": 0,
               "easing": "linear"
              }
             }
            ],
            "label": "156",
            "method": "animate"
           },
           {
            "args": [
             [
              "157"
             ],
             {
              "frame": {
               "duration": 0,
               "redraw": false
              },
              "fromcurrent": true,
              "mode": "immediate",
              "transition": {
               "duration": 0,
               "easing": "linear"
              }
             }
            ],
            "label": "157",
            "method": "animate"
           },
           {
            "args": [
             [
              "158"
             ],
             {
              "frame": {
               "duration": 0,
               "redraw": false
              },
              "fromcurrent": true,
              "mode": "immediate",
              "transition": {
               "duration": 0,
               "easing": "linear"
              }
             }
            ],
            "label": "158",
            "method": "animate"
           },
           {
            "args": [
             [
              "159"
             ],
             {
              "frame": {
               "duration": 0,
               "redraw": false
              },
              "fromcurrent": true,
              "mode": "immediate",
              "transition": {
               "duration": 0,
               "easing": "linear"
              }
             }
            ],
            "label": "159",
            "method": "animate"
           },
           {
            "args": [
             [
              "161"
             ],
             {
              "frame": {
               "duration": 0,
               "redraw": false
              },
              "fromcurrent": true,
              "mode": "immediate",
              "transition": {
               "duration": 0,
               "easing": "linear"
              }
             }
            ],
            "label": "161",
            "method": "animate"
           },
           {
            "args": [
             [
              "162"
             ],
             {
              "frame": {
               "duration": 0,
               "redraw": false
              },
              "fromcurrent": true,
              "mode": "immediate",
              "transition": {
               "duration": 0,
               "easing": "linear"
              }
             }
            ],
            "label": "162",
            "method": "animate"
           },
           {
            "args": [
             [
              "163"
             ],
             {
              "frame": {
               "duration": 0,
               "redraw": false
              },
              "fromcurrent": true,
              "mode": "immediate",
              "transition": {
               "duration": 0,
               "easing": "linear"
              }
             }
            ],
            "label": "163",
            "method": "animate"
           },
           {
            "args": [
             [
              "160"
             ],
             {
              "frame": {
               "duration": 0,
               "redraw": false
              },
              "fromcurrent": true,
              "mode": "immediate",
              "transition": {
               "duration": 0,
               "easing": "linear"
              }
             }
            ],
            "label": "160",
            "method": "animate"
           },
           {
            "args": [
             [
              "165"
             ],
             {
              "frame": {
               "duration": 0,
               "redraw": false
              },
              "fromcurrent": true,
              "mode": "immediate",
              "transition": {
               "duration": 0,
               "easing": "linear"
              }
             }
            ],
            "label": "165",
            "method": "animate"
           },
           {
            "args": [
             [
              "164"
             ],
             {
              "frame": {
               "duration": 0,
               "redraw": false
              },
              "fromcurrent": true,
              "mode": "immediate",
              "transition": {
               "duration": 0,
               "easing": "linear"
              }
             }
            ],
            "label": "164",
            "method": "animate"
           },
           {
            "args": [
             [
              "167"
             ],
             {
              "frame": {
               "duration": 0,
               "redraw": false
              },
              "fromcurrent": true,
              "mode": "immediate",
              "transition": {
               "duration": 0,
               "easing": "linear"
              }
             }
            ],
            "label": "167",
            "method": "animate"
           },
           {
            "args": [
             [
              "171"
             ],
             {
              "frame": {
               "duration": 0,
               "redraw": false
              },
              "fromcurrent": true,
              "mode": "immediate",
              "transition": {
               "duration": 0,
               "easing": "linear"
              }
             }
            ],
            "label": "171",
            "method": "animate"
           },
           {
            "args": [
             [
              "169"
             ],
             {
              "frame": {
               "duration": 0,
               "redraw": false
              },
              "fromcurrent": true,
              "mode": "immediate",
              "transition": {
               "duration": 0,
               "easing": "linear"
              }
             }
            ],
            "label": "169",
            "method": "animate"
           },
           {
            "args": [
             [
              "170"
             ],
             {
              "frame": {
               "duration": 0,
               "redraw": false
              },
              "fromcurrent": true,
              "mode": "immediate",
              "transition": {
               "duration": 0,
               "easing": "linear"
              }
             }
            ],
            "label": "170",
            "method": "animate"
           },
           {
            "args": [
             [
              "166"
             ],
             {
              "frame": {
               "duration": 0,
               "redraw": false
              },
              "fromcurrent": true,
              "mode": "immediate",
              "transition": {
               "duration": 0,
               "easing": "linear"
              }
             }
            ],
            "label": "166",
            "method": "animate"
           },
           {
            "args": [
             [
              "168"
             ],
             {
              "frame": {
               "duration": 0,
               "redraw": false
              },
              "fromcurrent": true,
              "mode": "immediate",
              "transition": {
               "duration": 0,
               "easing": "linear"
              }
             }
            ],
            "label": "168",
            "method": "animate"
           },
           {
            "args": [
             [
              "173"
             ],
             {
              "frame": {
               "duration": 0,
               "redraw": false
              },
              "fromcurrent": true,
              "mode": "immediate",
              "transition": {
               "duration": 0,
               "easing": "linear"
              }
             }
            ],
            "label": "173",
            "method": "animate"
           },
           {
            "args": [
             [
              "172"
             ],
             {
              "frame": {
               "duration": 0,
               "redraw": false
              },
              "fromcurrent": true,
              "mode": "immediate",
              "transition": {
               "duration": 0,
               "easing": "linear"
              }
             }
            ],
            "label": "172",
            "method": "animate"
           },
           {
            "args": [
             [
              "175"
             ],
             {
              "frame": {
               "duration": 0,
               "redraw": false
              },
              "fromcurrent": true,
              "mode": "immediate",
              "transition": {
               "duration": 0,
               "easing": "linear"
              }
             }
            ],
            "label": "175",
            "method": "animate"
           },
           {
            "args": [
             [
              "174"
             ],
             {
              "frame": {
               "duration": 0,
               "redraw": false
              },
              "fromcurrent": true,
              "mode": "immediate",
              "transition": {
               "duration": 0,
               "easing": "linear"
              }
             }
            ],
            "label": "174",
            "method": "animate"
           },
           {
            "args": [
             [
              "177"
             ],
             {
              "frame": {
               "duration": 0,
               "redraw": false
              },
              "fromcurrent": true,
              "mode": "immediate",
              "transition": {
               "duration": 0,
               "easing": "linear"
              }
             }
            ],
            "label": "177",
            "method": "animate"
           },
           {
            "args": [
             [
              "176"
             ],
             {
              "frame": {
               "duration": 0,
               "redraw": false
              },
              "fromcurrent": true,
              "mode": "immediate",
              "transition": {
               "duration": 0,
               "easing": "linear"
              }
             }
            ],
            "label": "176",
            "method": "animate"
           },
           {
            "args": [
             [
              "178"
             ],
             {
              "frame": {
               "duration": 0,
               "redraw": false
              },
              "fromcurrent": true,
              "mode": "immediate",
              "transition": {
               "duration": 0,
               "easing": "linear"
              }
             }
            ],
            "label": "178",
            "method": "animate"
           }
          ],
          "x": 0.1,
          "xanchor": "left",
          "y": 0,
          "yanchor": "top"
         }
        ],
        "template": {
         "data": {
          "bar": [
           {
            "error_x": {
             "color": "#2a3f5f"
            },
            "error_y": {
             "color": "#2a3f5f"
            },
            "marker": {
             "line": {
              "color": "#E5ECF6",
              "width": 0.5
             },
             "pattern": {
              "fillmode": "overlay",
              "size": 10,
              "solidity": 0.2
             }
            },
            "type": "bar"
           }
          ],
          "barpolar": [
           {
            "marker": {
             "line": {
              "color": "#E5ECF6",
              "width": 0.5
             },
             "pattern": {
              "fillmode": "overlay",
              "size": 10,
              "solidity": 0.2
             }
            },
            "type": "barpolar"
           }
          ],
          "carpet": [
           {
            "aaxis": {
             "endlinecolor": "#2a3f5f",
             "gridcolor": "white",
             "linecolor": "white",
             "minorgridcolor": "white",
             "startlinecolor": "#2a3f5f"
            },
            "baxis": {
             "endlinecolor": "#2a3f5f",
             "gridcolor": "white",
             "linecolor": "white",
             "minorgridcolor": "white",
             "startlinecolor": "#2a3f5f"
            },
            "type": "carpet"
           }
          ],
          "choropleth": [
           {
            "colorbar": {
             "outlinewidth": 0,
             "ticks": ""
            },
            "type": "choropleth"
           }
          ],
          "contour": [
           {
            "colorbar": {
             "outlinewidth": 0,
             "ticks": ""
            },
            "colorscale": [
             [
              0,
              "#0d0887"
             ],
             [
              0.1111111111111111,
              "#46039f"
             ],
             [
              0.2222222222222222,
              "#7201a8"
             ],
             [
              0.3333333333333333,
              "#9c179e"
             ],
             [
              0.4444444444444444,
              "#bd3786"
             ],
             [
              0.5555555555555556,
              "#d8576b"
             ],
             [
              0.6666666666666666,
              "#ed7953"
             ],
             [
              0.7777777777777778,
              "#fb9f3a"
             ],
             [
              0.8888888888888888,
              "#fdca26"
             ],
             [
              1,
              "#f0f921"
             ]
            ],
            "type": "contour"
           }
          ],
          "contourcarpet": [
           {
            "colorbar": {
             "outlinewidth": 0,
             "ticks": ""
            },
            "type": "contourcarpet"
           }
          ],
          "heatmap": [
           {
            "colorbar": {
             "outlinewidth": 0,
             "ticks": ""
            },
            "colorscale": [
             [
              0,
              "#0d0887"
             ],
             [
              0.1111111111111111,
              "#46039f"
             ],
             [
              0.2222222222222222,
              "#7201a8"
             ],
             [
              0.3333333333333333,
              "#9c179e"
             ],
             [
              0.4444444444444444,
              "#bd3786"
             ],
             [
              0.5555555555555556,
              "#d8576b"
             ],
             [
              0.6666666666666666,
              "#ed7953"
             ],
             [
              0.7777777777777778,
              "#fb9f3a"
             ],
             [
              0.8888888888888888,
              "#fdca26"
             ],
             [
              1,
              "#f0f921"
             ]
            ],
            "type": "heatmap"
           }
          ],
          "heatmapgl": [
           {
            "colorbar": {
             "outlinewidth": 0,
             "ticks": ""
            },
            "colorscale": [
             [
              0,
              "#0d0887"
             ],
             [
              0.1111111111111111,
              "#46039f"
             ],
             [
              0.2222222222222222,
              "#7201a8"
             ],
             [
              0.3333333333333333,
              "#9c179e"
             ],
             [
              0.4444444444444444,
              "#bd3786"
             ],
             [
              0.5555555555555556,
              "#d8576b"
             ],
             [
              0.6666666666666666,
              "#ed7953"
             ],
             [
              0.7777777777777778,
              "#fb9f3a"
             ],
             [
              0.8888888888888888,
              "#fdca26"
             ],
             [
              1,
              "#f0f921"
             ]
            ],
            "type": "heatmapgl"
           }
          ],
          "histogram": [
           {
            "marker": {
             "pattern": {
              "fillmode": "overlay",
              "size": 10,
              "solidity": 0.2
             }
            },
            "type": "histogram"
           }
          ],
          "histogram2d": [
           {
            "colorbar": {
             "outlinewidth": 0,
             "ticks": ""
            },
            "colorscale": [
             [
              0,
              "#0d0887"
             ],
             [
              0.1111111111111111,
              "#46039f"
             ],
             [
              0.2222222222222222,
              "#7201a8"
             ],
             [
              0.3333333333333333,
              "#9c179e"
             ],
             [
              0.4444444444444444,
              "#bd3786"
             ],
             [
              0.5555555555555556,
              "#d8576b"
             ],
             [
              0.6666666666666666,
              "#ed7953"
             ],
             [
              0.7777777777777778,
              "#fb9f3a"
             ],
             [
              0.8888888888888888,
              "#fdca26"
             ],
             [
              1,
              "#f0f921"
             ]
            ],
            "type": "histogram2d"
           }
          ],
          "histogram2dcontour": [
           {
            "colorbar": {
             "outlinewidth": 0,
             "ticks": ""
            },
            "colorscale": [
             [
              0,
              "#0d0887"
             ],
             [
              0.1111111111111111,
              "#46039f"
             ],
             [
              0.2222222222222222,
              "#7201a8"
             ],
             [
              0.3333333333333333,
              "#9c179e"
             ],
             [
              0.4444444444444444,
              "#bd3786"
             ],
             [
              0.5555555555555556,
              "#d8576b"
             ],
             [
              0.6666666666666666,
              "#ed7953"
             ],
             [
              0.7777777777777778,
              "#fb9f3a"
             ],
             [
              0.8888888888888888,
              "#fdca26"
             ],
             [
              1,
              "#f0f921"
             ]
            ],
            "type": "histogram2dcontour"
           }
          ],
          "mesh3d": [
           {
            "colorbar": {
             "outlinewidth": 0,
             "ticks": ""
            },
            "type": "mesh3d"
           }
          ],
          "parcoords": [
           {
            "line": {
             "colorbar": {
              "outlinewidth": 0,
              "ticks": ""
             }
            },
            "type": "parcoords"
           }
          ],
          "pie": [
           {
            "automargin": true,
            "type": "pie"
           }
          ],
          "scatter": [
           {
            "fillpattern": {
             "fillmode": "overlay",
             "size": 10,
             "solidity": 0.2
            },
            "type": "scatter"
           }
          ],
          "scatter3d": [
           {
            "line": {
             "colorbar": {
              "outlinewidth": 0,
              "ticks": ""
             }
            },
            "marker": {
             "colorbar": {
              "outlinewidth": 0,
              "ticks": ""
             }
            },
            "type": "scatter3d"
           }
          ],
          "scattercarpet": [
           {
            "marker": {
             "colorbar": {
              "outlinewidth": 0,
              "ticks": ""
             }
            },
            "type": "scattercarpet"
           }
          ],
          "scattergeo": [
           {
            "marker": {
             "colorbar": {
              "outlinewidth": 0,
              "ticks": ""
             }
            },
            "type": "scattergeo"
           }
          ],
          "scattergl": [
           {
            "marker": {
             "colorbar": {
              "outlinewidth": 0,
              "ticks": ""
             }
            },
            "type": "scattergl"
           }
          ],
          "scattermapbox": [
           {
            "marker": {
             "colorbar": {
              "outlinewidth": 0,
              "ticks": ""
             }
            },
            "type": "scattermapbox"
           }
          ],
          "scatterpolar": [
           {
            "marker": {
             "colorbar": {
              "outlinewidth": 0,
              "ticks": ""
             }
            },
            "type": "scatterpolar"
           }
          ],
          "scatterpolargl": [
           {
            "marker": {
             "colorbar": {
              "outlinewidth": 0,
              "ticks": ""
             }
            },
            "type": "scatterpolargl"
           }
          ],
          "scatterternary": [
           {
            "marker": {
             "colorbar": {
              "outlinewidth": 0,
              "ticks": ""
             }
            },
            "type": "scatterternary"
           }
          ],
          "surface": [
           {
            "colorbar": {
             "outlinewidth": 0,
             "ticks": ""
            },
            "colorscale": [
             [
              0,
              "#0d0887"
             ],
             [
              0.1111111111111111,
              "#46039f"
             ],
             [
              0.2222222222222222,
              "#7201a8"
             ],
             [
              0.3333333333333333,
              "#9c179e"
             ],
             [
              0.4444444444444444,
              "#bd3786"
             ],
             [
              0.5555555555555556,
              "#d8576b"
             ],
             [
              0.6666666666666666,
              "#ed7953"
             ],
             [
              0.7777777777777778,
              "#fb9f3a"
             ],
             [
              0.8888888888888888,
              "#fdca26"
             ],
             [
              1,
              "#f0f921"
             ]
            ],
            "type": "surface"
           }
          ],
          "table": [
           {
            "cells": {
             "fill": {
              "color": "#EBF0F8"
             },
             "line": {
              "color": "white"
             }
            },
            "header": {
             "fill": {
              "color": "#C8D4E3"
             },
             "line": {
              "color": "white"
             }
            },
            "type": "table"
           }
          ]
         },
         "layout": {
          "annotationdefaults": {
           "arrowcolor": "#2a3f5f",
           "arrowhead": 0,
           "arrowwidth": 1
          },
          "autotypenumbers": "strict",
          "coloraxis": {
           "colorbar": {
            "outlinewidth": 0,
            "ticks": ""
           }
          },
          "colorscale": {
           "diverging": [
            [
             0,
             "#8e0152"
            ],
            [
             0.1,
             "#c51b7d"
            ],
            [
             0.2,
             "#de77ae"
            ],
            [
             0.3,
             "#f1b6da"
            ],
            [
             0.4,
             "#fde0ef"
            ],
            [
             0.5,
             "#f7f7f7"
            ],
            [
             0.6,
             "#e6f5d0"
            ],
            [
             0.7,
             "#b8e186"
            ],
            [
             0.8,
             "#7fbc41"
            ],
            [
             0.9,
             "#4d9221"
            ],
            [
             1,
             "#276419"
            ]
           ],
           "sequential": [
            [
             0,
             "#0d0887"
            ],
            [
             0.1111111111111111,
             "#46039f"
            ],
            [
             0.2222222222222222,
             "#7201a8"
            ],
            [
             0.3333333333333333,
             "#9c179e"
            ],
            [
             0.4444444444444444,
             "#bd3786"
            ],
            [
             0.5555555555555556,
             "#d8576b"
            ],
            [
             0.6666666666666666,
             "#ed7953"
            ],
            [
             0.7777777777777778,
             "#fb9f3a"
            ],
            [
             0.8888888888888888,
             "#fdca26"
            ],
            [
             1,
             "#f0f921"
            ]
           ],
           "sequentialminus": [
            [
             0,
             "#0d0887"
            ],
            [
             0.1111111111111111,
             "#46039f"
            ],
            [
             0.2222222222222222,
             "#7201a8"
            ],
            [
             0.3333333333333333,
             "#9c179e"
            ],
            [
             0.4444444444444444,
             "#bd3786"
            ],
            [
             0.5555555555555556,
             "#d8576b"
            ],
            [
             0.6666666666666666,
             "#ed7953"
            ],
            [
             0.7777777777777778,
             "#fb9f3a"
            ],
            [
             0.8888888888888888,
             "#fdca26"
            ],
            [
             1,
             "#f0f921"
            ]
           ]
          },
          "colorway": [
           "#636efa",
           "#EF553B",
           "#00cc96",
           "#ab63fa",
           "#FFA15A",
           "#19d3f3",
           "#FF6692",
           "#B6E880",
           "#FF97FF",
           "#FECB52"
          ],
          "font": {
           "color": "#2a3f5f"
          },
          "geo": {
           "bgcolor": "white",
           "lakecolor": "white",
           "landcolor": "#E5ECF6",
           "showlakes": true,
           "showland": true,
           "subunitcolor": "white"
          },
          "hoverlabel": {
           "align": "left"
          },
          "hovermode": "closest",
          "mapbox": {
           "style": "light"
          },
          "paper_bgcolor": "white",
          "plot_bgcolor": "#E5ECF6",
          "polar": {
           "angularaxis": {
            "gridcolor": "white",
            "linecolor": "white",
            "ticks": ""
           },
           "bgcolor": "#E5ECF6",
           "radialaxis": {
            "gridcolor": "white",
            "linecolor": "white",
            "ticks": ""
           }
          },
          "scene": {
           "xaxis": {
            "backgroundcolor": "#E5ECF6",
            "gridcolor": "white",
            "gridwidth": 2,
            "linecolor": "white",
            "showbackground": true,
            "ticks": "",
            "zerolinecolor": "white"
           },
           "yaxis": {
            "backgroundcolor": "#E5ECF6",
            "gridcolor": "white",
            "gridwidth": 2,
            "linecolor": "white",
            "showbackground": true,
            "ticks": "",
            "zerolinecolor": "white"
           },
           "zaxis": {
            "backgroundcolor": "#E5ECF6",
            "gridcolor": "white",
            "gridwidth": 2,
            "linecolor": "white",
            "showbackground": true,
            "ticks": "",
            "zerolinecolor": "white"
           }
          },
          "shapedefaults": {
           "line": {
            "color": "#2a3f5f"
           }
          },
          "ternary": {
           "aaxis": {
            "gridcolor": "white",
            "linecolor": "white",
            "ticks": ""
           },
           "baxis": {
            "gridcolor": "white",
            "linecolor": "white",
            "ticks": ""
           },
           "bgcolor": "#E5ECF6",
           "caxis": {
            "gridcolor": "white",
            "linecolor": "white",
            "ticks": ""
           }
          },
          "title": {
           "x": 0.05
          },
          "xaxis": {
           "automargin": true,
           "gridcolor": "white",
           "linecolor": "white",
           "ticks": "",
           "title": {
            "standoff": 15
           },
           "zerolinecolor": "white",
           "zerolinewidth": 2
          },
          "yaxis": {
           "automargin": true,
           "gridcolor": "white",
           "linecolor": "white",
           "ticks": "",
           "title": {
            "standoff": 15
           },
           "zerolinecolor": "white",
           "zerolinewidth": 2
          }
         }
        },
        "updatemenus": [
         {
          "buttons": [
           {
            "args": [
             null,
             {
              "frame": {
               "duration": 500,
               "redraw": false
              },
              "fromcurrent": true,
              "mode": "immediate",
              "transition": {
               "duration": 500,
               "easing": "linear"
              }
             }
            ],
            "label": "&#9654;",
            "method": "animate"
           },
           {
            "args": [
             [
              null
             ],
             {
              "frame": {
               "duration": 0,
               "redraw": false
              },
              "fromcurrent": true,
              "mode": "immediate",
              "transition": {
               "duration": 0,
               "easing": "linear"
              }
             }
            ],
            "label": "&#9724;",
            "method": "animate"
           }
          ],
          "direction": "left",
          "pad": {
           "r": 10,
           "t": 70
          },
          "showactive": false,
          "type": "buttons",
          "x": 0.1,
          "xanchor": "right",
          "y": 0,
          "yanchor": "top"
         }
        ],
        "xaxis": {
         "anchor": "y",
         "domain": [
          0,
          1
         ],
         "range": [
          0,
          200
         ],
         "title": {
          "text": "Proton Number [Z]"
         }
        },
        "yaxis": {
         "anchor": "x",
         "domain": [
          0,
          1
         ],
         "range": [
          -10,
          0
         ],
         "title": {
          "text": "Deficit [MeV]"
         }
        }
       }
      }
     },
     "metadata": {},
     "output_type": "display_data"
    }
   ],
   "source": [
    "import matplotlib.pyplot as plt\n",
    "import numpy as np\n",
    "import pandas as pd\n",
    "import plotly.express as px\n",
    "import plotly.graph_objects as go\n",
    "# the service URL\n",
    "livechart = \"https://nds.iaea.org/relnsd/v0/data?\"\n",
    "import urllib.request\n",
    "def lc_pd_dataframe(url):\n",
    "    req = urllib.request.Request(url)\n",
    "    req.add_header('User-Agent', 'Mozilla/5.0 (X11; Ubuntu; Linux x86_64; rv:77.0) Gecko/20100101 Firefox/77.0')\n",
    "    return pd.read_csv(urllib.request.urlopen(req))\n",
    "df = lc_pd_dataframe(livechart + \"fields=ground_states&nuclides=all\")\n",
    "df[\"a\"]=df[\"z\"] + df[\"n\"]\n",
    "df[\"b_over_a\"] = df[\"binding\"]\n",
    "\n",
    "import plotly.express as px\n",
    "\n",
    "df[\"Proton Number [Z]\"] = df[\"z\"]\n",
    "df[\"Neutron Number [N]\"] = df[\"n\"]\n",
    "df[\"Deficit [MeV]\"] = (-df[\"binding\"]/1000.0)*df[\"a\"]\n",
    "df[\"Odd Proton\"] = df[\"z\"] % 2 == 1\n",
    "fig = px.scatter(\n",
    "    df,\n",
    "    x=\"Proton Number [Z]\",\n",
    "    y=\"Deficit [MeV]\", range_x=[0.0,200.0],\n",
    "    color='Odd Proton',\n",
    "    animation_frame=\"Neutron Number [N]\", # Use animation_frame to specify which variable to measure for change\n",
    ")\n",
    "\n",
    "# fig.add_traces(\n",
    "    # list(px.line(df, x=\"Proton Number [Z]\", y=\"Deficit [MeV]\", animation_frame=\"Neutron Number [N]\" ).select_traces())\n",
    "# )\n",
    "\n",
    "fig.show()\n",
    "\n",
    "\n"
   ]
  }
 ],
 "metadata": {
  "kernelspec": {
   "display_name": "Python 3 (ipykernel)",
   "language": "python",
   "name": "python3"
  },
  "language_info": {
   "codemirror_mode": {
    "name": "ipython",
    "version": 3
   },
   "file_extension": ".py",
   "mimetype": "text/x-python",
   "name": "python",
   "nbconvert_exporter": "python",
   "pygments_lexer": "ipython3",
   "version": "3.11.7"
  }
 },
 "nbformat": 4,
 "nbformat_minor": 5
}
