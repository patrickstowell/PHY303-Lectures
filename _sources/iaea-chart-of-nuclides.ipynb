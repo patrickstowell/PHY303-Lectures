{
 "cells": [
  {
   "cell_type": "markdown",
   "id": "2987fc1e",
   "metadata": {},
   "source": [
    "## IAEA Chart of Nuclides \n",
    "<span>\n",
    "The IAEA chart of nuclides datasets offer detailed nuclear properties like half-lives, decay modes, and energy levels, invaluable for research and applications in nuclear physics, medicine, and energy due to their comprehensive coverage and well validated datasets."
   ]
  },
  {
   "cell_type": "code",
   "execution_count": 77,
   "id": "198076ce",
   "metadata": {
    "tags": [
     "hide_cell",
     "remove-input"
    ]
   },
   "outputs": [
    {
     "data": {
      "text/html": [
       "<style>.container { width:100% !important; }</style>"
      ],
      "text/plain": [
       "<IPython.core.display.HTML object>"
      ]
     },
     "metadata": {},
     "output_type": "display_data"
    },
    {
     "ename": "NameError",
     "evalue": "A name conflict was encountered for argument 'symbol'. A column or index with name 'symbol' is ambiguous.",
     "output_type": "error",
     "traceback": [
      "\u001b[0;31m---------------------------------------------------------------------------\u001b[0m",
      "\u001b[0;31mNameError\u001b[0m                                 Traceback (most recent call last)",
      "\u001b[1;32m/Users/stowell/PHY303-Nuclear/PHY303-Lectures/iaea-chart-of-nuclides.ipynb Cell 2\u001b[0m line \u001b[0;36m2\n\u001b[1;32m     <a href='vscode-notebook-cell:/Users/stowell/PHY303-Nuclear/PHY303-Lectures/iaea-chart-of-nuclides.ipynb#W6sZmlsZQ%3D%3D?line=19'>20</a>\u001b[0m df[\u001b[39m\"\u001b[39m\u001b[39msymbol\u001b[39m\u001b[39m\"\u001b[39m] \u001b[39m=\u001b[39m \u001b[39m3\u001b[39m\n\u001b[1;32m     <a href='vscode-notebook-cell:/Users/stowell/PHY303-Nuclear/PHY303-Lectures/iaea-chart-of-nuclides.ipynb#W6sZmlsZQ%3D%3D?line=20'>21</a>\u001b[0m df\u001b[39m.\u001b[39mloc[np\u001b[39m.\u001b[39minvert((df[\u001b[39m\"\u001b[39m\u001b[39mdecay_1\u001b[39m\u001b[39m\"\u001b[39m])\u001b[39m.\u001b[39mnotna()), \u001b[39m\"\u001b[39m\u001b[39mdecay_1\u001b[39m\u001b[39m\"\u001b[39m] \u001b[39m=\u001b[39m \u001b[39m\"\u001b[39m\u001b[39mSTABLE\u001b[39m\u001b[39m\"\u001b[39m\n\u001b[0;32m---> <a href='vscode-notebook-cell:/Users/stowell/PHY303-Nuclear/PHY303-Lectures/iaea-chart-of-nuclides.ipynb#W6sZmlsZQ%3D%3D?line=21'>22</a>\u001b[0m fig \u001b[39m=\u001b[39m px\u001b[39m.\u001b[39;49mscatter(df, x\u001b[39m=\u001b[39;49m\u001b[39m\"\u001b[39;49m\u001b[39mn\u001b[39;49m\u001b[39m\"\u001b[39;49m,y\u001b[39m=\u001b[39;49m\u001b[39m\"\u001b[39;49m\u001b[39mz\u001b[39;49m\u001b[39m\"\u001b[39;49m, color\u001b[39m=\u001b[39;49m\u001b[39m\"\u001b[39;49m\u001b[39mdecay_1\u001b[39;49m\u001b[39m\"\u001b[39;49m, hover_data\u001b[39m=\u001b[39;49m[\u001b[39m\"\u001b[39;49m\u001b[39msymbol\u001b[39;49m\u001b[39m\"\u001b[39;49m,\u001b[39m\"\u001b[39;49m\u001b[39mn\u001b[39;49m\u001b[39m\"\u001b[39;49m,\u001b[39m\"\u001b[39;49m\u001b[39mz\u001b[39;49m\u001b[39m\"\u001b[39;49m,\u001b[39m\"\u001b[39;49m\u001b[39mbinding\u001b[39;49m\u001b[39m\"\u001b[39;49m, \u001b[39m\"\u001b[39;49m\u001b[39mdecay_1\u001b[39;49m\u001b[39m\"\u001b[39;49m], symbol\u001b[39m=\u001b[39;49m{\u001b[39m\"\u001b[39;49m\u001b[39msymbol\u001b[39;49m\u001b[39m\"\u001b[39;49m:\u001b[39m\"\u001b[39;49m\u001b[39msquare\u001b[39;49m\u001b[39m\"\u001b[39;49m})\n\u001b[1;32m     <a href='vscode-notebook-cell:/Users/stowell/PHY303-Nuclear/PHY303-Lectures/iaea-chart-of-nuclides.ipynb#W6sZmlsZQ%3D%3D?line=22'>23</a>\u001b[0m fig\u001b[39m.\u001b[39mshow()\n",
      "File \u001b[0;32m/usr/local/lib/python3.11/site-packages/plotly/express/_chart_types.py:66\u001b[0m, in \u001b[0;36mscatter\u001b[0;34m(data_frame, x, y, color, symbol, size, hover_name, hover_data, custom_data, text, facet_row, facet_col, facet_col_wrap, facet_row_spacing, facet_col_spacing, error_x, error_x_minus, error_y, error_y_minus, animation_frame, animation_group, category_orders, labels, orientation, color_discrete_sequence, color_discrete_map, color_continuous_scale, range_color, color_continuous_midpoint, symbol_sequence, symbol_map, opacity, size_max, marginal_x, marginal_y, trendline, trendline_options, trendline_color_override, trendline_scope, log_x, log_y, range_x, range_y, render_mode, title, template, width, height)\u001b[0m\n\u001b[1;32m     12\u001b[0m \u001b[39mdef\u001b[39;00m \u001b[39mscatter\u001b[39m(\n\u001b[1;32m     13\u001b[0m     data_frame\u001b[39m=\u001b[39m\u001b[39mNone\u001b[39;00m,\n\u001b[1;32m     14\u001b[0m     x\u001b[39m=\u001b[39m\u001b[39mNone\u001b[39;00m,\n\u001b[0;32m   (...)\u001b[0m\n\u001b[1;32m     60\u001b[0m     height\u001b[39m=\u001b[39m\u001b[39mNone\u001b[39;00m,\n\u001b[1;32m     61\u001b[0m ) \u001b[39m-\u001b[39m\u001b[39m>\u001b[39m go\u001b[39m.\u001b[39mFigure:\n\u001b[1;32m     62\u001b[0m \u001b[39m    \u001b[39m\u001b[39m\"\"\"\u001b[39;00m\n\u001b[1;32m     63\u001b[0m \u001b[39m    In a scatter plot, each row of `data_frame` is represented by a symbol\u001b[39;00m\n\u001b[1;32m     64\u001b[0m \u001b[39m    mark in 2D space.\u001b[39;00m\n\u001b[1;32m     65\u001b[0m \u001b[39m    \"\"\"\u001b[39;00m\n\u001b[0;32m---> 66\u001b[0m     \u001b[39mreturn\u001b[39;00m make_figure(args\u001b[39m=\u001b[39;49m\u001b[39mlocals\u001b[39;49m(), constructor\u001b[39m=\u001b[39;49mgo\u001b[39m.\u001b[39;49mScatter)\n",
      "File \u001b[0;32m/usr/local/lib/python3.11/site-packages/plotly/express/_core.py:2076\u001b[0m, in \u001b[0;36mmake_figure\u001b[0;34m(args, constructor, trace_patch, layout_patch)\u001b[0m\n\u001b[1;32m   2073\u001b[0m layout_patch \u001b[39m=\u001b[39m layout_patch \u001b[39mor\u001b[39;00m {}\n\u001b[1;32m   2074\u001b[0m apply_default_cascade(args)\n\u001b[0;32m-> 2076\u001b[0m args \u001b[39m=\u001b[39m build_dataframe(args, constructor)\n\u001b[1;32m   2077\u001b[0m \u001b[39mif\u001b[39;00m constructor \u001b[39min\u001b[39;00m [go\u001b[39m.\u001b[39mTreemap, go\u001b[39m.\u001b[39mSunburst, go\u001b[39m.\u001b[39mIcicle] \u001b[39mand\u001b[39;00m args[\u001b[39m\"\u001b[39m\u001b[39mpath\u001b[39m\u001b[39m\"\u001b[39m] \u001b[39mis\u001b[39;00m \u001b[39mnot\u001b[39;00m \u001b[39mNone\u001b[39;00m:\n\u001b[1;32m   2078\u001b[0m     args \u001b[39m=\u001b[39m process_dataframe_hierarchy(args)\n",
      "File \u001b[0;32m/usr/local/lib/python3.11/site-packages/plotly/express/_core.py:1485\u001b[0m, in \u001b[0;36mbuild_dataframe\u001b[0;34m(args, constructor)\u001b[0m\n\u001b[1;32m   1482\u001b[0m     args[\u001b[39m\"\u001b[39m\u001b[39mcolor\u001b[39m\u001b[39m\"\u001b[39m] \u001b[39m=\u001b[39m \u001b[39mNone\u001b[39;00m\n\u001b[1;32m   1483\u001b[0m \u001b[39m# now that things have been prepped, we do the systematic rewriting of `args`\u001b[39;00m\n\u001b[0;32m-> 1485\u001b[0m df_output, wide_id_vars \u001b[39m=\u001b[39m process_args_into_dataframe(\n\u001b[1;32m   1486\u001b[0m     args, wide_mode, var_name, value_name\n\u001b[1;32m   1487\u001b[0m )\n\u001b[1;32m   1489\u001b[0m \u001b[39m# now that `df_output` exists and `args` contains only references, we complete\u001b[39;00m\n\u001b[1;32m   1490\u001b[0m \u001b[39m# the special-case and wide-mode handling by further rewriting args and/or mutating\u001b[39;00m\n\u001b[1;32m   1491\u001b[0m \u001b[39m# df_output\u001b[39;00m\n\u001b[1;32m   1493\u001b[0m count_name \u001b[39m=\u001b[39m _escape_col_name(df_output, \u001b[39m\"\u001b[39m\u001b[39mcount\u001b[39m\u001b[39m\"\u001b[39m, [var_name, value_name])\n",
      "File \u001b[0;32m/usr/local/lib/python3.11/site-packages/plotly/express/_core.py:1247\u001b[0m, in \u001b[0;36mprocess_args_into_dataframe\u001b[0;34m(args, wide_mode, var_name, value_name)\u001b[0m\n\u001b[1;32m   1245\u001b[0m             col_name \u001b[39m=\u001b[39m argument\u001b[39m.\u001b[39mname\n\u001b[1;32m   1246\u001b[0m \u001b[39mif\u001b[39;00m col_name \u001b[39mis\u001b[39;00m \u001b[39mNone\u001b[39;00m:  \u001b[39m# numpy array, list...\u001b[39;00m\n\u001b[0;32m-> 1247\u001b[0m     col_name \u001b[39m=\u001b[39m _check_name_not_reserved(field, reserved_names)\n\u001b[1;32m   1249\u001b[0m \u001b[39mif\u001b[39;00m length \u001b[39mand\u001b[39;00m \u001b[39mlen\u001b[39m(argument) \u001b[39m!=\u001b[39m length:\n\u001b[1;32m   1250\u001b[0m     \u001b[39mraise\u001b[39;00m \u001b[39mValueError\u001b[39;00m(\n\u001b[1;32m   1251\u001b[0m         \u001b[39m\"\u001b[39m\u001b[39mAll arguments should have the same length. \u001b[39m\u001b[39m\"\u001b[39m\n\u001b[1;32m   1252\u001b[0m         \u001b[39m\"\u001b[39m\u001b[39mThe length of argument `\u001b[39m\u001b[39m%s\u001b[39;00m\u001b[39m` is \u001b[39m\u001b[39m%d\u001b[39;00m\u001b[39m, whereas the \u001b[39m\u001b[39m\"\u001b[39m\n\u001b[1;32m   1253\u001b[0m         \u001b[39m\"\u001b[39m\u001b[39mlength of  previously-processed arguments \u001b[39m\u001b[39m%s\u001b[39;00m\u001b[39m is \u001b[39m\u001b[39m%d\u001b[39;00m\u001b[39m\"\u001b[39m\n\u001b[1;32m   1254\u001b[0m         \u001b[39m%\u001b[39m (field, \u001b[39mlen\u001b[39m(argument), \u001b[39mstr\u001b[39m(\u001b[39mlist\u001b[39m(df_output\u001b[39m.\u001b[39mkeys())), length)\n\u001b[1;32m   1255\u001b[0m     )\n",
      "File \u001b[0;32m/usr/local/lib/python3.11/site-packages/plotly/express/_core.py:982\u001b[0m, in \u001b[0;36m_check_name_not_reserved\u001b[0;34m(field_name, reserved_names)\u001b[0m\n\u001b[1;32m    980\u001b[0m     \u001b[39mreturn\u001b[39;00m field_name\n\u001b[1;32m    981\u001b[0m \u001b[39melse\u001b[39;00m:\n\u001b[0;32m--> 982\u001b[0m     \u001b[39mraise\u001b[39;00m \u001b[39mNameError\u001b[39;00m(\n\u001b[1;32m    983\u001b[0m         \u001b[39m\"\u001b[39m\u001b[39mA name conflict was encountered for argument \u001b[39m\u001b[39m'\u001b[39m\u001b[39m%s\u001b[39;00m\u001b[39m'\u001b[39m\u001b[39m. \u001b[39m\u001b[39m\"\u001b[39m\n\u001b[1;32m    984\u001b[0m         \u001b[39m\"\u001b[39m\u001b[39mA column or index with name \u001b[39m\u001b[39m'\u001b[39m\u001b[39m%s\u001b[39;00m\u001b[39m'\u001b[39m\u001b[39m is ambiguous.\u001b[39m\u001b[39m\"\u001b[39m \u001b[39m%\u001b[39m (field_name, field_name)\n\u001b[1;32m    985\u001b[0m     )\n",
      "\u001b[0;31mNameError\u001b[0m: A name conflict was encountered for argument 'symbol'. A column or index with name 'symbol' is ambiguous."
     ]
    }
   ],
   "source": [
    "import matplotlib.pyplot as plt\n",
    "import numpy as np\n",
    "import pandas as pd\n",
    "import plotly.express as px\n",
    "import plotly.graph_objects as go\n",
    "from IPython.display import display, HTML\n",
    "display(HTML(\"<style>.container { width:100% !important; }</style>\"))\n",
    "# the service URL\n",
    "livechart = \"https://nds.iaea.org/relnsd/v0/data?\"\n",
    "import urllib.request\n",
    "def lc_pd_dataframe(url):\n",
    "    req = urllib.request.Request(url)\n",
    "    req.add_header('User-Agent', 'Mozilla/5.0 (X11; Ubuntu; Linux x86_64; rv:77.0) Gecko/20100101 Firefox/77.0')\n",
    "    return pd.read_csv(urllib.request.urlopen(req))\n",
    "df = lc_pd_dataframe(livechart + \"fields=ground_states&nuclides=all\")\n",
    "df[\"a\"]=df[\"z\"] + df[\"n\"]\n",
    "df[\"b_over_a\"] = df[\"binding\"]\n",
    "\n",
    "import plotly.express as px\n",
    "df[\"symbol\"] = 3\n",
    "df.loc[np.invert((df[\"decay_1\"]).notna()), \"decay_1\"] = \"STABLE\"\n",
    "fig = px.scatter(df, x=\"n\",y=\"z\", color=\"decay_1\", hover_data=[\"symbol\",\"n\",\"z\",\"binding\", \"decay_1\"])\n",
    "fig.show()\n"
   ]
  },
  {
   "cell_type": "markdown",
   "id": "42f8165a",
   "metadata": {},
   "source": [
    "<span>"
   ]
  }
 ],
 "metadata": {
  "kernelspec": {
   "display_name": "Python 3 (ipykernel)",
   "language": "python",
   "name": "python3"
  },
  "language_info": {
   "codemirror_mode": {
    "name": "ipython",
    "version": 3
   },
   "file_extension": ".py",
   "mimetype": "text/x-python",
   "name": "python",
   "nbconvert_exporter": "python",
   "pygments_lexer": "ipython3",
   "version": "3.11.7"
  }
 },
 "nbformat": 4,
 "nbformat_minor": 5
}
