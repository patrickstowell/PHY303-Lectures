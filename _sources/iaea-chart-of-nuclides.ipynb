{
 "cells": [
  {
   "cell_type": "markdown",
   "id": "2987fc1e",
   "metadata": {},
   "source": [
    "## IAEA Chart of Nuclides \n",
    "<span>\n",
    "The IAEA chart of nuclides datasets offer detailed nuclear properties like half-lives, decay modes, and energy levels, invaluable for research and applications in nuclear physics, medicine, and energy due to their comprehensive coverage and well validated datasets."
   ]
  },
  {
   "cell_type": "code",
   "execution_count": 16,
   "id": "198076ce",
   "metadata": {
    "tags": [
     "hide_cell",
     "remove-input"
    ]
   },
   "outputs": [
    {
     "data": {
      "text/html": [
       "<style>.container { width:100% !important; }</style>"
      ],
      "text/plain": [
       "<IPython.core.display.HTML object>"
      ]
     },
     "metadata": {},
     "output_type": "display_data"
    },
    {
     "name": "stdout",
     "output_type": "stream",
     "text": [
      "Index(['z', 'n', 'symbol', 'radius', 'unc_r', 'abundance', 'unc_a',\n",
      "       'energy_shift', 'energy', 'unc_e', 'ripl_shift', 'jp', 'half_life',\n",
      "       'operator_hl', 'unc_hl', 'unit_hl', 'half_life_sec', 'unc_hls',\n",
      "       'decay_1', 'decay_1_%', 'unc_1', 'decay_2', 'decay_2_%', 'unc_2',\n",
      "       'decay_3', 'decay_3_%', 'unc_3', 'isospin', 'magnetic_dipole', 'unc_md',\n",
      "       'electric_quadrupole', 'unc_eq', 'qbm', 'unc_qb', 'qbm_n', 'unc_qbmn',\n",
      "       'qa', 'unc_qa', 'qec', 'unc_qec', 'sn', 'unc_sn', 'sp', 'unc_sp',\n",
      "       'binding', 'unc_ba', 'atomic_mass', 'unc_am', 'massexcess', 'unc_me',\n",
      "       'me_systematics', 'discovery', 'ENSDFpublicationcut-off',\n",
      "       'ENSDFauthors', 'Extraction_date', 'a', 'b_over_a'],\n",
      "      dtype='object')\n",
      "     symbol   a   z   n        amu Half Life Half Life Unit\n",
      "535       3  48  27  21  48.001857       NaN            NaN\n",
      "536       3  50  27  23  49.981117      38.8             ms\n",
      "537       3  51  27  24  50.970647      68.8             ms\n",
      "538       3  52  27  25  51.963130       104             ms\n",
      "539       3  53  27  26  52.954203       240             ms\n",
      "540       3  54  27  27  53.948459    193.28             ms\n",
      "541       3  55  27  28  54.941996     17.53              h\n",
      "542       3  56  27  29  55.939838    77.236              d\n",
      "543       3  57  27  30  56.936290    271.74              d\n",
      "544       3  58  27  31  57.935751     70.86              d\n",
      "545       3  59  27  32  58.933194    STABLE            NaN\n",
      "546       3  60  27  33  59.933816   1925.28              d\n",
      "547       3  61  27  34  60.932476     1.649              h\n",
      "548       3  62  27  35  61.934058      1.54              m\n",
      "549       3  63  27  36  62.933600      27.4              s\n",
      "550       3  64  27  37  63.935810      0.30              s\n",
      "551       3  65  27  38  64.936462      1.16              s\n",
      "552       3  66  27  39  65.939443      0.20              s\n",
      "553       3  67  27  40  66.940610     0.425              s\n",
      "554       3  68  27  41  67.944559      0.20              s\n",
      "555       3  69  27  42  68.945909       227             ms\n",
      "556       3  70  27  43  69.950053       112             ms\n",
      "557       3  71  27  44  70.952367        80             ms\n",
      "558       3  72  27  45  71.956736      59.9             ms\n",
      "559       3  73  27  46  72.959238      40.7             ms\n",
      "560       3  74  27  47  73.963993      31.3             ms\n",
      "561       3  75  27  48  74.967192        30             ms\n",
      "562       3  76  27  49  75.972453      21.7             ms\n",
      "563       3  77  27  50  76.976479      13.0             ms\n",
      "564       3  78  27  51  77.983553       NaN            NaN\n"
     ]
    },
    {
     "ename": "ValueError",
     "evalue": "Value of 'x' is not the name of a column in 'data_frame'. Expected one of ['symbol', 'a', 'z', 'n', 'amu', 'Half Life', 'Half Life Unit'] but received: Neutron Number [N]",
     "output_type": "error",
     "traceback": [
      "\u001b[0;31m---------------------------------------------------------------------------\u001b[0m",
      "\u001b[0;31mValueError\u001b[0m                                Traceback (most recent call last)",
      "\u001b[1;32m/Users/stowell/PHY303-Nuclear/PHY303-Lectures/iaea-chart-of-nuclides.ipynb Cell 2\u001b[0m line \u001b[0;36m5\n\u001b[1;32m     <a href='vscode-notebook-cell:/Users/stowell/PHY303-Nuclear/PHY303-Lectures/iaea-chart-of-nuclides.ipynb#W1sZmlsZQ%3D%3D?line=48'>49</a>\u001b[0m df \u001b[39m=\u001b[39m df[ [\u001b[39m\"\u001b[39m\u001b[39msymbol\u001b[39m\u001b[39m\"\u001b[39m, \u001b[39m\"\u001b[39m\u001b[39ma\u001b[39m\u001b[39m\"\u001b[39m, \u001b[39m\"\u001b[39m\u001b[39mz\u001b[39m\u001b[39m\"\u001b[39m, \u001b[39m\"\u001b[39m\u001b[39mn\u001b[39m\u001b[39m\"\u001b[39m, \u001b[39m\"\u001b[39m\u001b[39mamu\u001b[39m\u001b[39m\"\u001b[39m, \u001b[39m\"\u001b[39m\u001b[39mHalf Life\u001b[39m\u001b[39m\"\u001b[39m, \u001b[39m\"\u001b[39m\u001b[39mHalf Life Unit\u001b[39m\u001b[39m\"\u001b[39m]]\n\u001b[1;32m     <a href='vscode-notebook-cell:/Users/stowell/PHY303-Nuclear/PHY303-Lectures/iaea-chart-of-nuclides.ipynb#W1sZmlsZQ%3D%3D?line=49'>50</a>\u001b[0m \u001b[39mprint\u001b[39m(df)\n\u001b[0;32m---> <a href='vscode-notebook-cell:/Users/stowell/PHY303-Nuclear/PHY303-Lectures/iaea-chart-of-nuclides.ipynb#W1sZmlsZQ%3D%3D?line=55'>56</a>\u001b[0m fig \u001b[39m=\u001b[39m px\u001b[39m.\u001b[39;49mscatter(df, x\u001b[39m=\u001b[39;49m\u001b[39m\"\u001b[39;49m\u001b[39mNeutron Number [N]\u001b[39;49m\u001b[39m\"\u001b[39;49m,y\u001b[39m=\u001b[39;49m\u001b[39m\"\u001b[39;49m\u001b[39mProton Number [Z]\u001b[39;49m\u001b[39m\"\u001b[39;49m, color\u001b[39m=\u001b[39;49m\u001b[39m\"\u001b[39;49m\u001b[39mDominant Decay\u001b[39;49m\u001b[39m\"\u001b[39;49m, \n\u001b[1;32m     <a href='vscode-notebook-cell:/Users/stowell/PHY303-Nuclear/PHY303-Lectures/iaea-chart-of-nuclides.ipynb#W1sZmlsZQ%3D%3D?line=56'>57</a>\u001b[0m                  hover_data\u001b[39m=\u001b[39;49m[\u001b[39m\"\u001b[39;49m\u001b[39msymbol\u001b[39;49m\u001b[39m\"\u001b[39;49m, \u001b[39m\"\u001b[39;49m\u001b[39mSymbol\u001b[39;49m\u001b[39m\"\u001b[39;49m,\u001b[39m\"\u001b[39;49m\u001b[39mNeutron Number [N]\u001b[39;49m\u001b[39m\"\u001b[39;49m,\u001b[39m\"\u001b[39;49m\u001b[39mProton Number [Z]\u001b[39;49m\u001b[39m\"\u001b[39;49m,\n\u001b[1;32m     <a href='vscode-notebook-cell:/Users/stowell/PHY303-Nuclear/PHY303-Lectures/iaea-chart-of-nuclides.ipynb#W1sZmlsZQ%3D%3D?line=57'>58</a>\u001b[0m                              \u001b[39m\"\u001b[39;49m\u001b[39mBinding Energy [MeV]\u001b[39;49m\u001b[39m\"\u001b[39;49m, \u001b[39m\"\u001b[39;49m\u001b[39mDominant Decay\u001b[39;49m\u001b[39m\"\u001b[39;49m,\n\u001b[1;32m     <a href='vscode-notebook-cell:/Users/stowell/PHY303-Nuclear/PHY303-Lectures/iaea-chart-of-nuclides.ipynb#W1sZmlsZQ%3D%3D?line=58'>59</a>\u001b[0m                              \u001b[39m\"\u001b[39;49m\u001b[39mNeutron Seperation\u001b[39;49m\u001b[39m\"\u001b[39;49m, \u001b[39m\"\u001b[39;49m\u001b[39mProton Seperation\u001b[39;49m\u001b[39m\"\u001b[39;49m,\n\u001b[1;32m     <a href='vscode-notebook-cell:/Users/stowell/PHY303-Nuclear/PHY303-Lectures/iaea-chart-of-nuclides.ipynb#W1sZmlsZQ%3D%3D?line=59'>60</a>\u001b[0m                              \u001b[39m\"\u001b[39;49m\u001b[39mIsospin\u001b[39;49m\u001b[39m\"\u001b[39;49m,\u001b[39m\"\u001b[39;49m\u001b[39mMagnetic Dipole\u001b[39;49m\u001b[39m\"\u001b[39;49m,\n\u001b[1;32m     <a href='vscode-notebook-cell:/Users/stowell/PHY303-Nuclear/PHY303-Lectures/iaea-chart-of-nuclides.ipynb#W1sZmlsZQ%3D%3D?line=60'>61</a>\u001b[0m                              \u001b[39m\"\u001b[39;49m\u001b[39mElectric Quadrupole\u001b[39;49m\u001b[39m\"\u001b[39;49m, \u001b[39m\"\u001b[39;49m\u001b[39mMass Excess\u001b[39;49m\u001b[39m\"\u001b[39;49m,\n\u001b[1;32m     <a href='vscode-notebook-cell:/Users/stowell/PHY303-Nuclear/PHY303-Lectures/iaea-chart-of-nuclides.ipynb#W1sZmlsZQ%3D%3D?line=61'>62</a>\u001b[0m                              \u001b[39m\"\u001b[39;49m\u001b[39mAtomic Mass\u001b[39;49m\u001b[39m\"\u001b[39;49m, \u001b[39m\"\u001b[39;49m\u001b[39mHalf Life\u001b[39;49m\u001b[39m\"\u001b[39;49m])\n\u001b[1;32m     <a href='vscode-notebook-cell:/Users/stowell/PHY303-Nuclear/PHY303-Lectures/iaea-chart-of-nuclides.ipynb#W1sZmlsZQ%3D%3D?line=62'>63</a>\u001b[0m fig\u001b[39m.\u001b[39mshow()\n",
      "File \u001b[0;32m/usr/local/lib/python3.11/site-packages/plotly/express/_chart_types.py:66\u001b[0m, in \u001b[0;36mscatter\u001b[0;34m(data_frame, x, y, color, symbol, size, hover_name, hover_data, custom_data, text, facet_row, facet_col, facet_col_wrap, facet_row_spacing, facet_col_spacing, error_x, error_x_minus, error_y, error_y_minus, animation_frame, animation_group, category_orders, labels, orientation, color_discrete_sequence, color_discrete_map, color_continuous_scale, range_color, color_continuous_midpoint, symbol_sequence, symbol_map, opacity, size_max, marginal_x, marginal_y, trendline, trendline_options, trendline_color_override, trendline_scope, log_x, log_y, range_x, range_y, render_mode, title, template, width, height)\u001b[0m\n\u001b[1;32m     12\u001b[0m \u001b[39mdef\u001b[39;00m \u001b[39mscatter\u001b[39m(\n\u001b[1;32m     13\u001b[0m     data_frame\u001b[39m=\u001b[39m\u001b[39mNone\u001b[39;00m,\n\u001b[1;32m     14\u001b[0m     x\u001b[39m=\u001b[39m\u001b[39mNone\u001b[39;00m,\n\u001b[0;32m   (...)\u001b[0m\n\u001b[1;32m     60\u001b[0m     height\u001b[39m=\u001b[39m\u001b[39mNone\u001b[39;00m,\n\u001b[1;32m     61\u001b[0m ) \u001b[39m-\u001b[39m\u001b[39m>\u001b[39m go\u001b[39m.\u001b[39mFigure:\n\u001b[1;32m     62\u001b[0m \u001b[39m    \u001b[39m\u001b[39m\"\"\"\u001b[39;00m\n\u001b[1;32m     63\u001b[0m \u001b[39m    In a scatter plot, each row of `data_frame` is represented by a symbol\u001b[39;00m\n\u001b[1;32m     64\u001b[0m \u001b[39m    mark in 2D space.\u001b[39;00m\n\u001b[1;32m     65\u001b[0m \u001b[39m    \"\"\"\u001b[39;00m\n\u001b[0;32m---> 66\u001b[0m     \u001b[39mreturn\u001b[39;00m make_figure(args\u001b[39m=\u001b[39;49m\u001b[39mlocals\u001b[39;49m(), constructor\u001b[39m=\u001b[39;49mgo\u001b[39m.\u001b[39;49mScatter)\n",
      "File \u001b[0;32m/usr/local/lib/python3.11/site-packages/plotly/express/_core.py:2076\u001b[0m, in \u001b[0;36mmake_figure\u001b[0;34m(args, constructor, trace_patch, layout_patch)\u001b[0m\n\u001b[1;32m   2073\u001b[0m layout_patch \u001b[39m=\u001b[39m layout_patch \u001b[39mor\u001b[39;00m {}\n\u001b[1;32m   2074\u001b[0m apply_default_cascade(args)\n\u001b[0;32m-> 2076\u001b[0m args \u001b[39m=\u001b[39m build_dataframe(args, constructor)\n\u001b[1;32m   2077\u001b[0m \u001b[39mif\u001b[39;00m constructor \u001b[39min\u001b[39;00m [go\u001b[39m.\u001b[39mTreemap, go\u001b[39m.\u001b[39mSunburst, go\u001b[39m.\u001b[39mIcicle] \u001b[39mand\u001b[39;00m args[\u001b[39m\"\u001b[39m\u001b[39mpath\u001b[39m\u001b[39m\"\u001b[39m] \u001b[39mis\u001b[39;00m \u001b[39mnot\u001b[39;00m \u001b[39mNone\u001b[39;00m:\n\u001b[1;32m   2078\u001b[0m     args \u001b[39m=\u001b[39m process_dataframe_hierarchy(args)\n",
      "File \u001b[0;32m/usr/local/lib/python3.11/site-packages/plotly/express/_core.py:1485\u001b[0m, in \u001b[0;36mbuild_dataframe\u001b[0;34m(args, constructor)\u001b[0m\n\u001b[1;32m   1482\u001b[0m     args[\u001b[39m\"\u001b[39m\u001b[39mcolor\u001b[39m\u001b[39m\"\u001b[39m] \u001b[39m=\u001b[39m \u001b[39mNone\u001b[39;00m\n\u001b[1;32m   1483\u001b[0m \u001b[39m# now that things have been prepped, we do the systematic rewriting of `args`\u001b[39;00m\n\u001b[0;32m-> 1485\u001b[0m df_output, wide_id_vars \u001b[39m=\u001b[39m process_args_into_dataframe(\n\u001b[1;32m   1486\u001b[0m     args, wide_mode, var_name, value_name\n\u001b[1;32m   1487\u001b[0m )\n\u001b[1;32m   1489\u001b[0m \u001b[39m# now that `df_output` exists and `args` contains only references, we complete\u001b[39;00m\n\u001b[1;32m   1490\u001b[0m \u001b[39m# the special-case and wide-mode handling by further rewriting args and/or mutating\u001b[39;00m\n\u001b[1;32m   1491\u001b[0m \u001b[39m# df_output\u001b[39;00m\n\u001b[1;32m   1493\u001b[0m count_name \u001b[39m=\u001b[39m _escape_col_name(df_output, \u001b[39m\"\u001b[39m\u001b[39mcount\u001b[39m\u001b[39m\"\u001b[39m, [var_name, value_name])\n",
      "File \u001b[0;32m/usr/local/lib/python3.11/site-packages/plotly/express/_core.py:1210\u001b[0m, in \u001b[0;36mprocess_args_into_dataframe\u001b[0;34m(args, wide_mode, var_name, value_name)\u001b[0m\n\u001b[1;32m   1208\u001b[0m         \u001b[39mif\u001b[39;00m argument \u001b[39m==\u001b[39m \u001b[39m\"\u001b[39m\u001b[39mindex\u001b[39m\u001b[39m\"\u001b[39m:\n\u001b[1;32m   1209\u001b[0m             err_msg \u001b[39m+\u001b[39m\u001b[39m=\u001b[39m \u001b[39m\"\u001b[39m\u001b[39m\\n\u001b[39;00m\u001b[39m To use the index, pass it in directly as `df.index`.\u001b[39m\u001b[39m\"\u001b[39m\n\u001b[0;32m-> 1210\u001b[0m         \u001b[39mraise\u001b[39;00m \u001b[39mValueError\u001b[39;00m(err_msg)\n\u001b[1;32m   1211\u001b[0m \u001b[39melif\u001b[39;00m length \u001b[39mand\u001b[39;00m \u001b[39mlen\u001b[39m(df_input[argument]) \u001b[39m!=\u001b[39m length:\n\u001b[1;32m   1212\u001b[0m     \u001b[39mraise\u001b[39;00m \u001b[39mValueError\u001b[39;00m(\n\u001b[1;32m   1213\u001b[0m         \u001b[39m\"\u001b[39m\u001b[39mAll arguments should have the same length. \u001b[39m\u001b[39m\"\u001b[39m\n\u001b[1;32m   1214\u001b[0m         \u001b[39m\"\u001b[39m\u001b[39mThe length of column argument `df[\u001b[39m\u001b[39m%s\u001b[39;00m\u001b[39m]` is \u001b[39m\u001b[39m%d\u001b[39;00m\u001b[39m, whereas the \u001b[39m\u001b[39m\"\u001b[39m\n\u001b[0;32m   (...)\u001b[0m\n\u001b[1;32m   1221\u001b[0m         )\n\u001b[1;32m   1222\u001b[0m     )\n",
      "\u001b[0;31mValueError\u001b[0m: Value of 'x' is not the name of a column in 'data_frame'. Expected one of ['symbol', 'a', 'z', 'n', 'amu', 'Half Life', 'Half Life Unit'] but received: Neutron Number [N]"
     ]
    }
   ],
   "source": [
    "import matplotlib.pyplot as plt\n",
    "import numpy as np\n",
    "import pandas as pd\n",
    "import plotly.express as px\n",
    "import plotly.graph_objects as go\n",
    "from IPython.display import display, HTML\n",
    "display(HTML(\"<style>.container { width:100% !important; }</style>\"))\n",
    "# the service URL\n",
    "livechart = \"https://nds.iaea.org/relnsd/v0/data?\"\n",
    "import urllib.request\n",
    "def lc_pd_dataframe(url):\n",
    "    req = urllib.request.Request(url)\n",
    "    req.add_header('User-Agent', 'Mozilla/5.0 (X11; Ubuntu; Linux x86_64; rv:77.0) Gecko/20100101 Firefox/77.0')\n",
    "    return pd.read_csv(urllib.request.urlopen(req))\n",
    "df = lc_pd_dataframe(livechart + \"fields=ground_states&nuclides=all\")\n",
    "df[\"a\"]=df[\"z\"] + df[\"n\"]\n",
    "df[\"b_over_a\"] = df[\"binding\"]\n",
    "\n",
    "print(df.columns)\n",
    "\n",
    "import plotly.express as px\n",
    "df[\"symbol\"] = 3\n",
    "\n",
    "df[\"Proton Number [Z]\"] = df[\"z\"]\n",
    "df[\"Neutron Number [N]\"] = df[\"n\"]\n",
    "df[\"Deficit [MeV]\"] = -df[\"binding\"]/1000.0\n",
    "df[\"Odd Neutron\"] = df[\"n\"] % 2 == 1\n",
    "df.loc[np.invert((df[\"decay_1\"]).notna()), \"decay_1\"] = \"STABLE\"\n",
    "\n",
    "df[\"Atomic Number [A]\"] = df[\"z\"]  + df[\"n\"]\n",
    "df[\"Proton Number [Z]\"] = df[\"z\"]\n",
    "df[\"Neutron Number [N]\"] = df[\"n\"]\n",
    "df[\"Binding Energy [MeV]\"] = df[\"binding\"] / 1000.0\n",
    "df[\"Symbol\"] = df[\"symbol\"] \n",
    "df[\"Dominant Decay\"] = df[\"decay_1\"] \n",
    "df[\"Neutron Seperation\"] = df[\"sn\"]\n",
    "df[\"Proton Seperation\"] = df[\"sp\"]\n",
    "df[\"Isospin\"] = df[\"isospin\"]\n",
    "df[\"Magnetic Dipole\"] = df[\"magnetic_dipole\"]\n",
    "df[\"Electric Quadrupole\"] = df[\"electric_quadrupole\"]\n",
    "df[\"Mass Excess\"] = df[\"massexcess\"]/1000.0\n",
    "df[\"Atomic Mass\"] = df[\"atomic_mass\"]/1000.0\n",
    "df[\"Half Life\"] = df[\"half_life\"]\n",
    "df[\"Half Life Unit\"] = df[\"unit_hl\"]\n",
    "\n",
    "\n",
    "df = df[df.z==27]\n",
    "df[\"amu\"] = df[\"atomic_mass\"] / 1E6\n",
    "df = df[ [\"symbol\", \"a\", \"z\", \"n\", \"amu\", \"Half Life\", \"Half Life Unit\"]]\n",
    "print(df)\n",
    "\n",
    "\n",
    "\n",
    "\n",
    "\n",
    "fig = px.scatter(df, x=\"Neutron Number [N]\",y=\"Proton Number [Z]\", color=\"Dominant Decay\", \n",
    "                 hover_data=[\"symbol\", \"Symbol\",\"Neutron Number [N]\",\"Proton Number [Z]\",\n",
    "                             \"Binding Energy [MeV]\", \"Dominant Decay\",\n",
    "                             \"Neutron Seperation\", \"Proton Seperation\",\n",
    "                             \"Isospin\",\"Magnetic Dipole\",\n",
    "                             \"Electric Quadrupole\", \"Mass Excess\",\n",
    "                             \"Atomic Mass\", \"Half Life\"])\n",
    "fig.show()\n"
   ]
  },
  {
   "cell_type": "markdown",
   "id": "42f8165a",
   "metadata": {},
   "source": [
    "<span>"
   ]
  }
 ],
 "metadata": {
  "kernelspec": {
   "display_name": "Python 3 (ipykernel)",
   "language": "python",
   "name": "python3"
  },
  "language_info": {
   "codemirror_mode": {
    "name": "ipython",
    "version": 3
   },
   "file_extension": ".py",
   "mimetype": "text/x-python",
   "name": "python",
   "nbconvert_exporter": "python",
   "pygments_lexer": "ipython3",
   "version": "3.11.7"
  }
 },
 "nbformat": 4,
 "nbformat_minor": 5
}
